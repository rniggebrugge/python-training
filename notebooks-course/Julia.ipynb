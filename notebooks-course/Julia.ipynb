{
 "cells": [
  {
   "cell_type": "code",
   "execution_count": 1,
   "id": "fc9eebb3-99fd-410b-a41d-439d2776221c",
   "metadata": {},
   "outputs": [
    {
     "data": {
      "text/plain": [
       "3"
      ]
     },
     "execution_count": 1,
     "metadata": {},
     "output_type": "execute_result"
    }
   ],
   "source": [
    "1+2"
   ]
  },
  {
   "cell_type": "code",
   "execution_count": 2,
   "id": "00f0ae3d-3242-42dc-9f38-4d484f6c92b7",
   "metadata": {},
   "outputs": [],
   "source": [
    "using Pkg"
   ]
  },
  {
   "cell_type": "code",
   "execution_count": 3,
   "id": "d26a1a4c-27d2-404e-b801-3a88d60b0e39",
   "metadata": {},
   "outputs": [
    {
     "name": "stderr",
     "output_type": "stream",
     "text": [
      "\u001b[32m\u001b[1m    Updating\u001b[22m\u001b[39m registry at `~/.julia/registries/General.toml`\n",
      "\u001b[32m\u001b[1m   Resolving\u001b[22m\u001b[39m package versions...\n"
     ]
    },
    {
     "ename": "LoadError",
     "evalue": "Unsatisfiable requirements detected for package \u001b[38;5;2mSortingAlgorithms [a2af1166]\u001b[39m:\n \u001b[38;5;2mSortingAlgorithms [a2af1166]\u001b[39m log:\n ├─possible versions are: \u001b[38;5;2m0.3.0 - 1.2.1\u001b[39m or uninstalled\n ├─restricted by julia compatibility requirements to versions: \u001b[38;5;2m1.1.0 - 1.2.1\u001b[39m or uninstalled\n └─restricted by compatibility requirements with \u001b[38;5;4mDataFrames [a93c6f00]\u001b[39m to versions: \u001b[38;5;2m0.3.0 - 0.3.2\u001b[39m — no versions left\n   └─\u001b[38;5;4mDataFrames [a93c6f00]\u001b[39m log:\n     ├─possible versions are: \u001b[38;5;4m0.11.7 - 1.7.0\u001b[39m or uninstalled\n     └─restricted by compatibility requirements with \u001b[38;5;11mYahooFinance [71b753c1]\u001b[39m to versions: \u001b[38;5;4m0.19.0 - 0.20.2\u001b[39m\n       └─\u001b[38;5;11mYahooFinance [71b753c1]\u001b[39m log:\n         ├─possible versions are: \u001b[38;5;11m0.1.0 - 0.2.2\u001b[39m or uninstalled\n         └─restricted to versions \u001b[38;5;11m*\u001b[39m by an explicit requirement, leaving only versions: \u001b[38;5;11m0.1.0 - 0.2.2\u001b[39m",
     "output_type": "error",
     "traceback": [
      "Unsatisfiable requirements detected for package \u001b[38;5;2mSortingAlgorithms [a2af1166]\u001b[39m:\n \u001b[38;5;2mSortingAlgorithms [a2af1166]\u001b[39m log:\n ├─possible versions are: \u001b[38;5;2m0.3.0 - 1.2.1\u001b[39m or uninstalled\n ├─restricted by julia compatibility requirements to versions: \u001b[38;5;2m1.1.0 - 1.2.1\u001b[39m or uninstalled\n └─restricted by compatibility requirements with \u001b[38;5;4mDataFrames [a93c6f00]\u001b[39m to versions: \u001b[38;5;2m0.3.0 - 0.3.2\u001b[39m — no versions left\n   └─\u001b[38;5;4mDataFrames [a93c6f00]\u001b[39m log:\n     ├─possible versions are: \u001b[38;5;4m0.11.7 - 1.7.0\u001b[39m or uninstalled\n     └─restricted by compatibility requirements with \u001b[38;5;11mYahooFinance [71b753c1]\u001b[39m to versions: \u001b[38;5;4m0.19.0 - 0.20.2\u001b[39m\n       └─\u001b[38;5;11mYahooFinance [71b753c1]\u001b[39m log:\n         ├─possible versions are: \u001b[38;5;11m0.1.0 - 0.2.2\u001b[39m or uninstalled\n         └─restricted to versions \u001b[38;5;11m*\u001b[39m by an explicit requirement, leaving only versions: \u001b[38;5;11m0.1.0 - 0.2.2\u001b[39m",
      "",
      "Stacktrace:",
      "  [1] propagate_constraints!(graph::Pkg.Resolve.Graph, sources::Set{Int64}; log_events::Bool)",
      "    @ Pkg.Resolve ~/.julia/juliaup/julia-1.11.1+0.x64.linux.gnu/share/julia/stdlib/v1.11/Pkg/src/Resolve/graphtype.jl:1072",
      "  [2] propagate_constraints! (repeats 2 times)",
      "    @ ~/.julia/juliaup/julia-1.11.1+0.x64.linux.gnu/share/julia/stdlib/v1.11/Pkg/src/Resolve/graphtype.jl:1008 [inlined]",
      "  [3] simplify_graph!(graph::Pkg.Resolve.Graph, sources::Set{Int64}; clean_graph::Bool)",
      "    @ Pkg.Resolve ~/.julia/juliaup/julia-1.11.1+0.x64.linux.gnu/share/julia/stdlib/v1.11/Pkg/src/Resolve/graphtype.jl:1533",
      "  [4] simplify_graph! (repeats 2 times)",
      "    @ ~/.julia/juliaup/julia-1.11.1+0.x64.linux.gnu/share/julia/stdlib/v1.11/Pkg/src/Resolve/graphtype.jl:1532 [inlined]",
      "  [5] resolve_versions!(env::Pkg.Types.EnvCache, registries::Vector{Pkg.Registry.RegistryInstance}, pkgs::Vector{Pkg.Types.PackageSpec}, julia_version::VersionNumber, installed_only::Bool)",
      "    @ Pkg.Operations ~/.julia/juliaup/julia-1.11.1+0.x64.linux.gnu/share/julia/stdlib/v1.11/Pkg/src/Operations.jl:423",
      "  [6] targeted_resolve(env::Pkg.Types.EnvCache, registries::Vector{Pkg.Registry.RegistryInstance}, pkgs::Vector{Pkg.Types.PackageSpec}, preserve::Pkg.Types.PreserveLevel, julia_version::VersionNumber)",
      "    @ Pkg.Operations ~/.julia/juliaup/julia-1.11.1+0.x64.linux.gnu/share/julia/stdlib/v1.11/Pkg/src/Operations.jl:1384",
      "  [7] tiered_resolve(env::Pkg.Types.EnvCache, registries::Vector{Pkg.Registry.RegistryInstance}, pkgs::Vector{Pkg.Types.PackageSpec}, julia_version::VersionNumber, try_all_installed::Bool)",
      "    @ Pkg.Operations ~/.julia/juliaup/julia-1.11.1+0.x64.linux.gnu/share/julia/stdlib/v1.11/Pkg/src/Operations.jl:1373",
      "  [8] _resolve(io::IOContext{IO}, env::Pkg.Types.EnvCache, registries::Vector{Pkg.Registry.RegistryInstance}, pkgs::Vector{Pkg.Types.PackageSpec}, preserve::Pkg.Types.PreserveLevel, julia_version::VersionNumber)",
      "    @ Pkg.Operations ~/.julia/juliaup/julia-1.11.1+0.x64.linux.gnu/share/julia/stdlib/v1.11/Pkg/src/Operations.jl:1394",
      "  [9] add(ctx::Pkg.Types.Context, pkgs::Vector{Pkg.Types.PackageSpec}, new_git::Set{Base.UUID}; allow_autoprecomp::Bool, preserve::Pkg.Types.PreserveLevel, platform::Base.BinaryPlatforms.Platform, target::Symbol)",
      "    @ Pkg.Operations ~/.julia/juliaup/julia-1.11.1+0.x64.linux.gnu/share/julia/stdlib/v1.11/Pkg/src/Operations.jl:1428",
      " [10] add",
      "    @ ~/.julia/juliaup/julia-1.11.1+0.x64.linux.gnu/share/julia/stdlib/v1.11/Pkg/src/Operations.jl:1400 [inlined]",
      " [11] add(ctx::Pkg.Types.Context, pkgs::Vector{Pkg.Types.PackageSpec}; preserve::Pkg.Types.PreserveLevel, platform::Base.BinaryPlatforms.Platform, target::Symbol, allow_autoprecomp::Bool, kwargs::@Kwargs{io::IOContext{IO}})",
      "    @ Pkg.API ~/.julia/juliaup/julia-1.11.1+0.x64.linux.gnu/share/julia/stdlib/v1.11/Pkg/src/API.jl:306",
      " [12] add(pkgs::Vector{Pkg.Types.PackageSpec}; io::IOContext{IO}, kwargs::@Kwargs{})",
      "    @ Pkg.API ~/.julia/juliaup/julia-1.11.1+0.x64.linux.gnu/share/julia/stdlib/v1.11/Pkg/src/API.jl:159",
      " [13] add(pkgs::Vector{Pkg.Types.PackageSpec})",
      "    @ Pkg.API ~/.julia/juliaup/julia-1.11.1+0.x64.linux.gnu/share/julia/stdlib/v1.11/Pkg/src/API.jl:148",
      " [14] add",
      "    @ ~/.julia/juliaup/julia-1.11.1+0.x64.linux.gnu/share/julia/stdlib/v1.11/Pkg/src/API.jl:147 [inlined]",
      " [15] add(pkg::String)",
      "    @ Pkg.API ~/.julia/juliaup/julia-1.11.1+0.x64.linux.gnu/share/julia/stdlib/v1.11/Pkg/src/API.jl:146",
      " [16] top-level scope",
      "    @ In[3]:1"
     ]
    }
   ],
   "source": [
    "Pkg.add(\"YahooFinance\")"
   ]
  },
  {
   "cell_type": "code",
   "execution_count": null,
   "id": "b1dbcc53-db5c-4f88-aace-0a7f0ba6514c",
   "metadata": {},
   "outputs": [],
   "source": []
  }
 ],
 "metadata": {
  "kernelspec": {
   "display_name": "Julia 1.11.1",
   "language": "julia",
   "name": "julia-1.11"
  },
  "language_info": {
   "file_extension": ".jl",
   "mimetype": "application/julia",
   "name": "julia",
   "version": "1.11.1"
  }
 },
 "nbformat": 4,
 "nbformat_minor": 5
}
