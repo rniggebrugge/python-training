{
 "cells": [
  {
   "cell_type": "markdown",
   "id": "19042295-3a3e-4e14-afc4-201c9e34e999",
   "metadata": {},
   "source": [
    "# Machine Learning Regression Model"
   ]
  },
  {
   "cell_type": "code",
   "execution_count": 1,
   "id": "12490862",
   "metadata": {},
   "outputs": [],
   "source": [
    "import numpy as np"
   ]
  },
  {
   "cell_type": "markdown",
   "id": "0a9e3021",
   "metadata": {},
   "source": [
    "Classification Model | Regression Model\n",
    "-|-\n",
    "![](src/pred_classification.png) | ![](src/pred_regression.png)"
   ]
  },
  {
   "cell_type": "markdown",
   "id": "726ed1f5-8f2e-4e72-9e96-643fec7ca11a",
   "metadata": {},
   "source": [
    "## [ ] Load the data"
   ]
  },
  {
   "cell_type": "code",
   "execution_count": 2,
   "id": "9f9d6220-8756-4c2b-9b36-834614882376",
   "metadata": {},
   "outputs": [
    {
     "data": {
      "text/html": [
       "<div>\n",
       "<style scoped>\n",
       "    .dataframe tbody tr th:only-of-type {\n",
       "        vertical-align: middle;\n",
       "    }\n",
       "\n",
       "    .dataframe tbody tr th {\n",
       "        vertical-align: top;\n",
       "    }\n",
       "\n",
       "    .dataframe thead th {\n",
       "        text-align: right;\n",
       "    }\n",
       "</style>\n",
       "<table border=\"1\" class=\"dataframe\">\n",
       "  <thead>\n",
       "    <tr style=\"text-align: right;\">\n",
       "      <th></th>\n",
       "      <th>Close</th>\n",
       "      <th>High</th>\n",
       "      <th>Low</th>\n",
       "      <th>Open</th>\n",
       "      <th>Volume</th>\n",
       "      <th>change_tomorrow</th>\n",
       "      <th>change_tomorrow_direction</th>\n",
       "    </tr>\n",
       "    <tr>\n",
       "      <th>Price</th>\n",
       "      <th></th>\n",
       "      <th></th>\n",
       "      <th></th>\n",
       "      <th></th>\n",
       "      <th></th>\n",
       "      <th></th>\n",
       "      <th></th>\n",
       "    </tr>\n",
       "  </thead>\n",
       "  <tbody>\n",
       "    <tr>\n",
       "      <th>2016-12-01 00:00:00</th>\n",
       "      <td>59.200001</td>\n",
       "      <td>60.150002</td>\n",
       "      <td>58.939999</td>\n",
       "      <td>60.110001</td>\n",
       "      <td>34542100</td>\n",
       "      <td>0.084387</td>\n",
       "      <td>UP</td>\n",
       "    </tr>\n",
       "    <tr>\n",
       "      <th>2016-12-02 00:00:00</th>\n",
       "      <td>59.250000</td>\n",
       "      <td>59.470001</td>\n",
       "      <td>58.799999</td>\n",
       "      <td>59.080002</td>\n",
       "      <td>25515700</td>\n",
       "      <td>1.610763</td>\n",
       "      <td>UP</td>\n",
       "    </tr>\n",
       "    <tr>\n",
       "      <th>2016-12-05 00:00:00</th>\n",
       "      <td>60.220001</td>\n",
       "      <td>60.590000</td>\n",
       "      <td>59.560001</td>\n",
       "      <td>59.700001</td>\n",
       "      <td>23552700</td>\n",
       "      <td>-0.450376</td>\n",
       "      <td>DOWN</td>\n",
       "    </tr>\n",
       "    <tr>\n",
       "      <th>2016-12-06 00:00:00</th>\n",
       "      <td>59.950001</td>\n",
       "      <td>60.459999</td>\n",
       "      <td>59.799999</td>\n",
       "      <td>60.430000</td>\n",
       "      <td>19907000</td>\n",
       "      <td>2.313831</td>\n",
       "      <td>UP</td>\n",
       "    </tr>\n",
       "    <tr>\n",
       "      <th>2016-12-07 00:00:00</th>\n",
       "      <td>61.369999</td>\n",
       "      <td>61.380001</td>\n",
       "      <td>59.799999</td>\n",
       "      <td>60.009998</td>\n",
       "      <td>30809000</td>\n",
       "      <td>-0.590068</td>\n",
       "      <td>DOWN</td>\n",
       "    </tr>\n",
       "    <tr>\n",
       "      <th>...</th>\n",
       "      <td>...</td>\n",
       "      <td>...</td>\n",
       "      <td>...</td>\n",
       "      <td>...</td>\n",
       "      <td>...</td>\n",
       "      <td>...</td>\n",
       "      <td>...</td>\n",
       "    </tr>\n",
       "    <tr>\n",
       "      <th>2024-11-04 00:00:00</th>\n",
       "      <td>408.459991</td>\n",
       "      <td>410.420013</td>\n",
       "      <td>405.570007</td>\n",
       "      <td>409.799988</td>\n",
       "      <td>19672300</td>\n",
       "      <td>0.729111</td>\n",
       "      <td>UP</td>\n",
       "    </tr>\n",
       "    <tr>\n",
       "      <th>2024-11-05 00:00:00</th>\n",
       "      <td>411.459991</td>\n",
       "      <td>414.899994</td>\n",
       "      <td>408.079987</td>\n",
       "      <td>408.369995</td>\n",
       "      <td>17626000</td>\n",
       "      <td>2.075301</td>\n",
       "      <td>UP</td>\n",
       "    </tr>\n",
       "    <tr>\n",
       "      <th>2024-11-06 00:00:00</th>\n",
       "      <td>420.179993</td>\n",
       "      <td>420.450012</td>\n",
       "      <td>410.519989</td>\n",
       "      <td>412.420013</td>\n",
       "      <td>26681800</td>\n",
       "      <td>1.234046</td>\n",
       "      <td>UP</td>\n",
       "    </tr>\n",
       "    <tr>\n",
       "      <th>2024-11-07 00:00:00</th>\n",
       "      <td>425.429993</td>\n",
       "      <td>426.850006</td>\n",
       "      <td>419.880005</td>\n",
       "      <td>421.279999</td>\n",
       "      <td>19901800</td>\n",
       "      <td>-0.683955</td>\n",
       "      <td>DOWN</td>\n",
       "    </tr>\n",
       "    <tr>\n",
       "      <th>2024-11-08 00:00:00</th>\n",
       "      <td>422.540009</td>\n",
       "      <td>426.500000</td>\n",
       "      <td>421.779999</td>\n",
       "      <td>425.320007</td>\n",
       "      <td>16875500</td>\n",
       "      <td>-0.888284</td>\n",
       "      <td>DOWN</td>\n",
       "    </tr>\n",
       "  </tbody>\n",
       "</table>\n",
       "<p>1998 rows × 7 columns</p>\n",
       "</div>"
      ],
      "text/plain": [
       "                          Close        High         Low        Open    Volume  \\\n",
       "Price                                                                           \n",
       "2016-12-01 00:00:00   59.200001   60.150002   58.939999   60.110001  34542100   \n",
       "2016-12-02 00:00:00   59.250000   59.470001   58.799999   59.080002  25515700   \n",
       "2016-12-05 00:00:00   60.220001   60.590000   59.560001   59.700001  23552700   \n",
       "2016-12-06 00:00:00   59.950001   60.459999   59.799999   60.430000  19907000   \n",
       "2016-12-07 00:00:00   61.369999   61.380001   59.799999   60.009998  30809000   \n",
       "...                         ...         ...         ...         ...       ...   \n",
       "2024-11-04 00:00:00  408.459991  410.420013  405.570007  409.799988  19672300   \n",
       "2024-11-05 00:00:00  411.459991  414.899994  408.079987  408.369995  17626000   \n",
       "2024-11-06 00:00:00  420.179993  420.450012  410.519989  412.420013  26681800   \n",
       "2024-11-07 00:00:00  425.429993  426.850006  419.880005  421.279999  19901800   \n",
       "2024-11-08 00:00:00  422.540009  426.500000  421.779999  425.320007  16875500   \n",
       "\n",
       "                     change_tomorrow change_tomorrow_direction  \n",
       "Price                                                           \n",
       "2016-12-01 00:00:00         0.084387                        UP  \n",
       "2016-12-02 00:00:00         1.610763                        UP  \n",
       "2016-12-05 00:00:00        -0.450376                      DOWN  \n",
       "2016-12-06 00:00:00         2.313831                        UP  \n",
       "2016-12-07 00:00:00        -0.590068                      DOWN  \n",
       "...                              ...                       ...  \n",
       "2024-11-04 00:00:00         0.729111                        UP  \n",
       "2024-11-05 00:00:00         2.075301                        UP  \n",
       "2024-11-06 00:00:00         1.234046                        UP  \n",
       "2024-11-07 00:00:00        -0.683955                      DOWN  \n",
       "2024-11-08 00:00:00        -0.888284                      DOWN  \n",
       "\n",
       "[1998 rows x 7 columns]"
      ]
     },
     "execution_count": 2,
     "metadata": {},
     "output_type": "execute_result"
    }
   ],
   "source": [
    "import pandas as pd\n",
    "\n",
    "df = pd.read_excel('data/microsoft-linkedin-processed.xlsx' , index_col=0)\n",
    "df"
   ]
  },
  {
   "cell_type": "markdown",
   "id": "71e77503-0b0d-4041-895b-f0a07a595b81",
   "metadata": {},
   "source": [
    "## Machine Learning Model"
   ]
  },
  {
   "cell_type": "markdown",
   "id": "bf95e298-19ea-4094-b3c5-bc755e69fdc3",
   "metadata": {},
   "source": [
    "### Separate the data\n",
    "\n",
    "1. Target: which variable do you want to predict?\n",
    "2. Explanatory: which variables will you use to calculate the prediction?"
   ]
  },
  {
   "cell_type": "code",
   "execution_count": 3,
   "id": "2276993f-9b26-40a9-a639-3736682f641c",
   "metadata": {},
   "outputs": [],
   "source": [
    "target = df.change_tomorrow\n",
    "explanatory = df[['Open','High','Low','Close','Volume']]"
   ]
  },
  {
   "cell_type": "code",
   "execution_count": 4,
   "id": "c23942f9",
   "metadata": {},
   "outputs": [],
   "source": [
    "from sklearn.tree import DecisionTreeRegressor"
   ]
  },
  {
   "cell_type": "code",
   "execution_count": 5,
   "id": "2160b3a8",
   "metadata": {},
   "outputs": [
    {
     "data": {
      "text/html": [
       "<style>#sk-container-id-1 {color: black;}#sk-container-id-1 pre{padding: 0;}#sk-container-id-1 div.sk-toggleable {background-color: white;}#sk-container-id-1 label.sk-toggleable__label {cursor: pointer;display: block;width: 100%;margin-bottom: 0;padding: 0.3em;box-sizing: border-box;text-align: center;}#sk-container-id-1 label.sk-toggleable__label-arrow:before {content: \"▸\";float: left;margin-right: 0.25em;color: #696969;}#sk-container-id-1 label.sk-toggleable__label-arrow:hover:before {color: black;}#sk-container-id-1 div.sk-estimator:hover label.sk-toggleable__label-arrow:before {color: black;}#sk-container-id-1 div.sk-toggleable__content {max-height: 0;max-width: 0;overflow: hidden;text-align: left;background-color: #f0f8ff;}#sk-container-id-1 div.sk-toggleable__content pre {margin: 0.2em;color: black;border-radius: 0.25em;background-color: #f0f8ff;}#sk-container-id-1 input.sk-toggleable__control:checked~div.sk-toggleable__content {max-height: 200px;max-width: 100%;overflow: auto;}#sk-container-id-1 input.sk-toggleable__control:checked~label.sk-toggleable__label-arrow:before {content: \"▾\";}#sk-container-id-1 div.sk-estimator input.sk-toggleable__control:checked~label.sk-toggleable__label {background-color: #d4ebff;}#sk-container-id-1 div.sk-label input.sk-toggleable__control:checked~label.sk-toggleable__label {background-color: #d4ebff;}#sk-container-id-1 input.sk-hidden--visually {border: 0;clip: rect(1px 1px 1px 1px);clip: rect(1px, 1px, 1px, 1px);height: 1px;margin: -1px;overflow: hidden;padding: 0;position: absolute;width: 1px;}#sk-container-id-1 div.sk-estimator {font-family: monospace;background-color: #f0f8ff;border: 1px dotted black;border-radius: 0.25em;box-sizing: border-box;margin-bottom: 0.5em;}#sk-container-id-1 div.sk-estimator:hover {background-color: #d4ebff;}#sk-container-id-1 div.sk-parallel-item::after {content: \"\";width: 100%;border-bottom: 1px solid gray;flex-grow: 1;}#sk-container-id-1 div.sk-label:hover label.sk-toggleable__label {background-color: #d4ebff;}#sk-container-id-1 div.sk-serial::before {content: \"\";position: absolute;border-left: 1px solid gray;box-sizing: border-box;top: 0;bottom: 0;left: 50%;z-index: 0;}#sk-container-id-1 div.sk-serial {display: flex;flex-direction: column;align-items: center;background-color: white;padding-right: 0.2em;padding-left: 0.2em;position: relative;}#sk-container-id-1 div.sk-item {position: relative;z-index: 1;}#sk-container-id-1 div.sk-parallel {display: flex;align-items: stretch;justify-content: center;background-color: white;position: relative;}#sk-container-id-1 div.sk-item::before, #sk-container-id-1 div.sk-parallel-item::before {content: \"\";position: absolute;border-left: 1px solid gray;box-sizing: border-box;top: 0;bottom: 0;left: 50%;z-index: -1;}#sk-container-id-1 div.sk-parallel-item {display: flex;flex-direction: column;z-index: 1;position: relative;background-color: white;}#sk-container-id-1 div.sk-parallel-item:first-child::after {align-self: flex-end;width: 50%;}#sk-container-id-1 div.sk-parallel-item:last-child::after {align-self: flex-start;width: 50%;}#sk-container-id-1 div.sk-parallel-item:only-child::after {width: 0;}#sk-container-id-1 div.sk-dashed-wrapped {border: 1px dashed gray;margin: 0 0.4em 0.5em 0.4em;box-sizing: border-box;padding-bottom: 0.4em;background-color: white;}#sk-container-id-1 div.sk-label label {font-family: monospace;font-weight: bold;display: inline-block;line-height: 1.2em;}#sk-container-id-1 div.sk-label-container {text-align: center;}#sk-container-id-1 div.sk-container {/* jupyter's `normalize.less` sets `[hidden] { display: none; }` but bootstrap.min.css set `[hidden] { display: none !important; }` so we also need the `!important` here to be able to override the default hidden behavior on the sphinx rendered scikit-learn.org. See: https://github.com/scikit-learn/scikit-learn/issues/21755 */display: inline-block !important;position: relative;}#sk-container-id-1 div.sk-text-repr-fallback {display: none;}</style><div id=\"sk-container-id-1\" class=\"sk-top-container\"><div class=\"sk-text-repr-fallback\"><pre>DecisionTreeRegressor(max_depth=15)</pre><b>In a Jupyter environment, please rerun this cell to show the HTML representation or trust the notebook. <br />On GitHub, the HTML representation is unable to render, please try loading this page with nbviewer.org.</b></div><div class=\"sk-container\" hidden><div class=\"sk-item\"><div class=\"sk-estimator sk-toggleable\"><input class=\"sk-toggleable__control sk-hidden--visually\" id=\"sk-estimator-id-1\" type=\"checkbox\" checked><label for=\"sk-estimator-id-1\" class=\"sk-toggleable__label sk-toggleable__label-arrow\">DecisionTreeRegressor</label><div class=\"sk-toggleable__content\"><pre>DecisionTreeRegressor(max_depth=15)</pre></div></div></div></div></div>"
      ],
      "text/plain": [
       "DecisionTreeRegressor(max_depth=15)"
      ]
     },
     "execution_count": 5,
     "metadata": {},
     "output_type": "execute_result"
    }
   ],
   "source": [
    "model_dt = DecisionTreeRegressor(max_depth=15)\n",
    "model_dt.fit(X=explanatory, y=target)"
   ]
  },
  {
   "cell_type": "code",
   "execution_count": 6,
   "id": "37f9114d",
   "metadata": {},
   "outputs": [],
   "source": [
    "from sklearn.tree import plot_tree\n",
    "# plot_tree(decision_tree=model_dt, feature_names=model_dt.feature_names_in_);"
   ]
  },
  {
   "cell_type": "markdown",
   "id": "9fc0cfb0-881f-464c-bcde-10bf38b12e19",
   "metadata": {},
   "source": [
    "### Compute the model\n",
    "\n",
    "The following model will predict the **numerical increase** of the stock for the following day.\n",
    "\n",
    "As the variable we predict is numerical, we talk about regression models. In the previous tutorial, we used a classification model since the variable we predicted was categorical (UP or DOWN)."
   ]
  },
  {
   "cell_type": "code",
   "execution_count": null,
   "id": "421351bb-20a4-47e9-aaef-74602350bb46",
   "metadata": {},
   "outputs": [],
   "source": []
  },
  {
   "cell_type": "markdown",
   "id": "2400ea55-6f2d-4901-af7b-fea9e9c1c8ac",
   "metadata": {},
   "source": [
    "### Calculate the predictions"
   ]
  },
  {
   "cell_type": "code",
   "execution_count": 7,
   "id": "60150484-4d5f-4fdd-b22a-81e3494e9026",
   "metadata": {},
   "outputs": [
    {
     "data": {
      "text/html": [
       "<div>\n",
       "<style scoped>\n",
       "    .dataframe tbody tr th:only-of-type {\n",
       "        vertical-align: middle;\n",
       "    }\n",
       "\n",
       "    .dataframe tbody tr th {\n",
       "        vertical-align: top;\n",
       "    }\n",
       "\n",
       "    .dataframe thead th {\n",
       "        text-align: right;\n",
       "    }\n",
       "</style>\n",
       "<table border=\"1\" class=\"dataframe\">\n",
       "  <thead>\n",
       "    <tr style=\"text-align: right;\">\n",
       "      <th></th>\n",
       "      <th>change_tomorrow</th>\n",
       "      <th>predictions</th>\n",
       "    </tr>\n",
       "    <tr>\n",
       "      <th>Price</th>\n",
       "      <th></th>\n",
       "      <th></th>\n",
       "    </tr>\n",
       "  </thead>\n",
       "  <tbody>\n",
       "    <tr>\n",
       "      <th>2016-12-01 00:00:00</th>\n",
       "      <td>0.084387</td>\n",
       "      <td>0.420736</td>\n",
       "    </tr>\n",
       "    <tr>\n",
       "      <th>2016-12-02 00:00:00</th>\n",
       "      <td>1.610763</td>\n",
       "      <td>1.610763</td>\n",
       "    </tr>\n",
       "    <tr>\n",
       "      <th>2016-12-05 00:00:00</th>\n",
       "      <td>-0.450376</td>\n",
       "      <td>0.068427</td>\n",
       "    </tr>\n",
       "    <tr>\n",
       "      <th>2016-12-06 00:00:00</th>\n",
       "      <td>2.313831</td>\n",
       "      <td>2.313831</td>\n",
       "    </tr>\n",
       "    <tr>\n",
       "      <th>2016-12-07 00:00:00</th>\n",
       "      <td>-0.590068</td>\n",
       "      <td>0.139121</td>\n",
       "    </tr>\n",
       "    <tr>\n",
       "      <th>...</th>\n",
       "      <td>...</td>\n",
       "      <td>...</td>\n",
       "    </tr>\n",
       "    <tr>\n",
       "      <th>2024-11-04 00:00:00</th>\n",
       "      <td>0.729111</td>\n",
       "      <td>0.050543</td>\n",
       "    </tr>\n",
       "    <tr>\n",
       "      <th>2024-11-05 00:00:00</th>\n",
       "      <td>2.075301</td>\n",
       "      <td>0.050543</td>\n",
       "    </tr>\n",
       "    <tr>\n",
       "      <th>2024-11-06 00:00:00</th>\n",
       "      <td>1.234046</td>\n",
       "      <td>0.372271</td>\n",
       "    </tr>\n",
       "    <tr>\n",
       "      <th>2024-11-07 00:00:00</th>\n",
       "      <td>-0.683955</td>\n",
       "      <td>0.050543</td>\n",
       "    </tr>\n",
       "    <tr>\n",
       "      <th>2024-11-08 00:00:00</th>\n",
       "      <td>-0.888284</td>\n",
       "      <td>0.050543</td>\n",
       "    </tr>\n",
       "  </tbody>\n",
       "</table>\n",
       "<p>1998 rows × 2 columns</p>\n",
       "</div>"
      ],
      "text/plain": [
       "                     change_tomorrow  predictions\n",
       "Price                                            \n",
       "2016-12-01 00:00:00         0.084387     0.420736\n",
       "2016-12-02 00:00:00         1.610763     1.610763\n",
       "2016-12-05 00:00:00        -0.450376     0.068427\n",
       "2016-12-06 00:00:00         2.313831     2.313831\n",
       "2016-12-07 00:00:00        -0.590068     0.139121\n",
       "...                              ...          ...\n",
       "2024-11-04 00:00:00         0.729111     0.050543\n",
       "2024-11-05 00:00:00         2.075301     0.050543\n",
       "2024-11-06 00:00:00         1.234046     0.372271\n",
       "2024-11-07 00:00:00        -0.683955     0.050543\n",
       "2024-11-08 00:00:00        -0.888284     0.050543\n",
       "\n",
       "[1998 rows x 2 columns]"
      ]
     },
     "execution_count": 7,
     "metadata": {},
     "output_type": "execute_result"
    }
   ],
   "source": [
    "y_pred = model_dt.predict(X=explanatory)\n",
    "df_predictions = df[[\"change_tomorrow\"]].copy()\n",
    "df_predictions[\"predictions\"]=y_pred\n",
    "df_predictions"
   ]
  },
  {
   "cell_type": "markdown",
   "id": "c9283287-67e8-4f24-a051-9a02d6324372",
   "metadata": {},
   "source": [
    "### Evaluate the model: compare predictions with the reality"
   ]
  },
  {
   "cell_type": "code",
   "execution_count": 8,
   "id": "409fa80a-1952-456d-bc3f-4840069af6df",
   "metadata": {},
   "outputs": [
    {
     "data": {
      "text/plain": [
       "0.4624806226780538"
      ]
     },
     "execution_count": 8,
     "metadata": {},
     "output_type": "execute_result"
    }
   ],
   "source": [
    "model_dt.score(X=explanatory, y=target)"
   ]
  },
  {
   "cell_type": "markdown",
   "id": "23dac8f3",
   "metadata": {},
   "source": [
    "## [ ] How to interpret the error?"
   ]
  },
  {
   "cell_type": "code",
   "execution_count": 9,
   "id": "3a863c73-32e9-4a6d-bc51-b2acf178a3bd",
   "metadata": {},
   "outputs": [
    {
     "data": {
      "text/html": [
       "<div>\n",
       "<style scoped>\n",
       "    .dataframe tbody tr th:only-of-type {\n",
       "        vertical-align: middle;\n",
       "    }\n",
       "\n",
       "    .dataframe tbody tr th {\n",
       "        vertical-align: top;\n",
       "    }\n",
       "\n",
       "    .dataframe thead th {\n",
       "        text-align: right;\n",
       "    }\n",
       "</style>\n",
       "<table border=\"1\" class=\"dataframe\">\n",
       "  <thead>\n",
       "    <tr style=\"text-align: right;\">\n",
       "      <th></th>\n",
       "      <th>change_tomorrow</th>\n",
       "      <th>prediction</th>\n",
       "    </tr>\n",
       "    <tr>\n",
       "      <th>Price</th>\n",
       "      <th></th>\n",
       "      <th></th>\n",
       "    </tr>\n",
       "  </thead>\n",
       "  <tbody>\n",
       "    <tr>\n",
       "      <th>2016-12-01 00:00:00</th>\n",
       "      <td>0.084387</td>\n",
       "      <td>0.420736</td>\n",
       "    </tr>\n",
       "    <tr>\n",
       "      <th>2016-12-02 00:00:00</th>\n",
       "      <td>1.610763</td>\n",
       "      <td>1.610763</td>\n",
       "    </tr>\n",
       "    <tr>\n",
       "      <th>2016-12-05 00:00:00</th>\n",
       "      <td>-0.450376</td>\n",
       "      <td>0.068427</td>\n",
       "    </tr>\n",
       "    <tr>\n",
       "      <th>2016-12-06 00:00:00</th>\n",
       "      <td>2.313831</td>\n",
       "      <td>2.313831</td>\n",
       "    </tr>\n",
       "    <tr>\n",
       "      <th>2016-12-07 00:00:00</th>\n",
       "      <td>-0.590068</td>\n",
       "      <td>0.139121</td>\n",
       "    </tr>\n",
       "    <tr>\n",
       "      <th>...</th>\n",
       "      <td>...</td>\n",
       "      <td>...</td>\n",
       "    </tr>\n",
       "    <tr>\n",
       "      <th>2024-11-04 00:00:00</th>\n",
       "      <td>0.729111</td>\n",
       "      <td>0.050543</td>\n",
       "    </tr>\n",
       "    <tr>\n",
       "      <th>2024-11-05 00:00:00</th>\n",
       "      <td>2.075301</td>\n",
       "      <td>0.050543</td>\n",
       "    </tr>\n",
       "    <tr>\n",
       "      <th>2024-11-06 00:00:00</th>\n",
       "      <td>1.234046</td>\n",
       "      <td>0.372271</td>\n",
       "    </tr>\n",
       "    <tr>\n",
       "      <th>2024-11-07 00:00:00</th>\n",
       "      <td>-0.683955</td>\n",
       "      <td>0.050543</td>\n",
       "    </tr>\n",
       "    <tr>\n",
       "      <th>2024-11-08 00:00:00</th>\n",
       "      <td>-0.888284</td>\n",
       "      <td>0.050543</td>\n",
       "    </tr>\n",
       "  </tbody>\n",
       "</table>\n",
       "<p>1998 rows × 2 columns</p>\n",
       "</div>"
      ],
      "text/plain": [
       "                     change_tomorrow  prediction\n",
       "Price                                           \n",
       "2016-12-01 00:00:00         0.084387    0.420736\n",
       "2016-12-02 00:00:00         1.610763    1.610763\n",
       "2016-12-05 00:00:00        -0.450376    0.068427\n",
       "2016-12-06 00:00:00         2.313831    2.313831\n",
       "2016-12-07 00:00:00        -0.590068    0.139121\n",
       "...                              ...         ...\n",
       "2024-11-04 00:00:00         0.729111    0.050543\n",
       "2024-11-05 00:00:00         2.075301    0.050543\n",
       "2024-11-06 00:00:00         1.234046    0.372271\n",
       "2024-11-07 00:00:00        -0.683955    0.050543\n",
       "2024-11-08 00:00:00        -0.888284    0.050543\n",
       "\n",
       "[1998 rows x 2 columns]"
      ]
     },
     "execution_count": 9,
     "metadata": {},
     "output_type": "execute_result"
    }
   ],
   "source": [
    "df_predictions = df[['change_tomorrow']].copy()\n",
    "\n",
    "df_predictions['prediction'] = y_pred\n",
    "df_predictions"
   ]
  },
  {
   "cell_type": "code",
   "execution_count": 10,
   "id": "8cecc500",
   "metadata": {},
   "outputs": [
    {
     "data": {
      "text/plain": [
       "1.2755691698368854"
      ]
     },
     "execution_count": 10,
     "metadata": {},
     "output_type": "execute_result"
    }
   ],
   "source": [
    "import math\n",
    "df_predictions[\"error\"]=df_predictions.prediction - df_predictions.change_tomorrow\n",
    "df_predictions[\"se\"] = df_predictions[\"error\"]*df_predictions[\"error\"]\n",
    "mse = df_predictions[\"se\"].mean()\n",
    "rmse = math.sqrt(mse)\n",
    "rmse"
   ]
  },
  {
   "cell_type": "code",
   "execution_count": 11,
   "id": "dba86ccb-477b-46d6-990f-7bcadac1c7c9",
   "metadata": {},
   "outputs": [
    {
     "data": {
      "text/plain": [
       "<Axes: >"
      ]
     },
     "execution_count": 11,
     "metadata": {},
     "output_type": "execute_result"
    },
    {
     "data": {
      "image/png": "[encoded data removed]",
      "text/plain": [
       "<Figure size 640x480 with 1 Axes>"
      ]
     },
     "metadata": {},
     "output_type": "display_data"
    }
   ],
   "source": [
    "df_predictions.error.hist(bins=40)"
   ]
  },
  {
   "cell_type": "markdown",
   "id": "dbcfb411",
   "metadata": {},
   "source": [
    "The Standard Deviation of the Error|The Normal Distribution\n",
    "-|-\n",
    "![](src/std.png) | ![](src/std_normal.png)\n",
    "\n",
    "source: wikipedia"
   ]
  },
  {
   "cell_type": "markdown",
   "id": "cf7b5699-2309-44b1-8b26-039ab54fc1e3",
   "metadata": {},
   "source": [
    "## Save the model into a file\n",
    "\n",
    "- We'll write the numbers of the Decision Tree's mathematical equation into a file."
   ]
  },
  {
   "cell_type": "code",
   "execution_count": 12,
   "id": "47d6620b-6c85-49b3-acfe-d5ad5b202cfa",
   "metadata": {},
   "outputs": [],
   "source": [
    "import pickle"
   ]
  },
  {
   "cell_type": "code",
   "execution_count": 13,
   "id": "20db632c-098e-4c62-ad4b-53a0a9019161",
   "metadata": {},
   "outputs": [],
   "source": [
    "with open('models/my_regression.pkl', 'wb') as f:\n",
    "    pickle.dump(model_dt, f)"
   ]
  },
  {
   "cell_type": "code",
   "execution_count": null,
   "id": "1cb3601f",
   "metadata": {},
   "outputs": [],
   "source": []
  },
  {
   "cell_type": "code",
   "execution_count": null,
   "id": "f2cd58c8",
   "metadata": {},
   "outputs": [],
   "source": []
  },
  {
   "cell_type": "code",
   "execution_count": null,
   "id": "9cdbef1b",
   "metadata": {},
   "outputs": [],
   "source": []
  }
 ],
 "metadata": {
  "kernelspec": {
   "display_name": "venv",
   "language": "python",
   "name": "python3"
  },
  "language_info": {
   "codemirror_mode": {
    "name": "ipython",
    "version": 3
   },
   "file_extension": ".py",
   "mimetype": "text/x-python",
   "name": "python",
   "nbconvert_exporter": "python",
   "pygments_lexer": "ipython3",
   "version": "3.8.10"
  }
 },
 "nbformat": 4,
 "nbformat_minor": 5
}
