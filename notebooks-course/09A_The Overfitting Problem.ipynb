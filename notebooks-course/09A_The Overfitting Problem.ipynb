{
 "cells": [
  {
   "attachments": {},
   "cell_type": "markdown",
   "id": "15c58755-3e1d-4514-b1ca-473f2b60e916",
   "metadata": {},
   "source": [
    "# The overfitting problem"
   ]
  },
  {
   "attachments": {},
   "cell_type": "markdown",
   "id": "888d9d1a-767f-4c91-b88a-762fd9fc329b",
   "metadata": {},
   "source": [
    "![](<src/09_Table_The Overfitting.png>)"
   ]
  },
  {
   "attachments": {},
   "cell_type": "markdown",
   "id": "4407f22f-45ed-46e5-9a45-9a04bf6945de",
   "metadata": {},
   "source": [
    "## Load the data"
   ]
  },
  {
   "cell_type": "code",
   "execution_count": 85,
   "id": "62f01b0c-8a0a-498a-9b29-a8a872d9abc2",
   "metadata": {},
   "outputs": [
    {
     "data": {
      "text/html": [
       "<div>\n",
       "<style scoped>\n",
       "    .dataframe tbody tr th:only-of-type {\n",
       "        vertical-align: middle;\n",
       "    }\n",
       "\n",
       "    .dataframe tbody tr th {\n",
       "        vertical-align: top;\n",
       "    }\n",
       "\n",
       "    .dataframe thead th {\n",
       "        text-align: right;\n",
       "    }\n",
       "</style>\n",
       "<table border=\"1\" class=\"dataframe\">\n",
       "  <thead>\n",
       "    <tr style=\"text-align: right;\">\n",
       "      <th></th>\n",
       "      <th>Close</th>\n",
       "      <th>High</th>\n",
       "      <th>Low</th>\n",
       "      <th>Open</th>\n",
       "      <th>Volume</th>\n",
       "      <th>change_tomorrow</th>\n",
       "      <th>change_tomorrow_direction</th>\n",
       "    </tr>\n",
       "    <tr>\n",
       "      <th>Price</th>\n",
       "      <th></th>\n",
       "      <th></th>\n",
       "      <th></th>\n",
       "      <th></th>\n",
       "      <th></th>\n",
       "      <th></th>\n",
       "      <th></th>\n",
       "    </tr>\n",
       "  </thead>\n",
       "  <tbody>\n",
       "    <tr>\n",
       "      <th>2016-12-01</th>\n",
       "      <td>59.200001</td>\n",
       "      <td>60.150002</td>\n",
       "      <td>58.939999</td>\n",
       "      <td>60.110001</td>\n",
       "      <td>34542100</td>\n",
       "      <td>0.084387</td>\n",
       "      <td>UP</td>\n",
       "    </tr>\n",
       "    <tr>\n",
       "      <th>2016-12-02</th>\n",
       "      <td>59.250000</td>\n",
       "      <td>59.470001</td>\n",
       "      <td>58.799999</td>\n",
       "      <td>59.080002</td>\n",
       "      <td>25515700</td>\n",
       "      <td>1.610763</td>\n",
       "      <td>UP</td>\n",
       "    </tr>\n",
       "    <tr>\n",
       "      <th>2016-12-05</th>\n",
       "      <td>60.220001</td>\n",
       "      <td>60.590000</td>\n",
       "      <td>59.560001</td>\n",
       "      <td>59.700001</td>\n",
       "      <td>23552700</td>\n",
       "      <td>-0.450376</td>\n",
       "      <td>DOWN</td>\n",
       "    </tr>\n",
       "    <tr>\n",
       "      <th>2016-12-06</th>\n",
       "      <td>59.950001</td>\n",
       "      <td>60.459999</td>\n",
       "      <td>59.799999</td>\n",
       "      <td>60.430000</td>\n",
       "      <td>19907000</td>\n",
       "      <td>2.313831</td>\n",
       "      <td>UP</td>\n",
       "    </tr>\n",
       "    <tr>\n",
       "      <th>2016-12-07</th>\n",
       "      <td>61.369999</td>\n",
       "      <td>61.380001</td>\n",
       "      <td>59.799999</td>\n",
       "      <td>60.009998</td>\n",
       "      <td>30809000</td>\n",
       "      <td>-0.590068</td>\n",
       "      <td>DOWN</td>\n",
       "    </tr>\n",
       "    <tr>\n",
       "      <th>...</th>\n",
       "      <td>...</td>\n",
       "      <td>...</td>\n",
       "      <td>...</td>\n",
       "      <td>...</td>\n",
       "      <td>...</td>\n",
       "      <td>...</td>\n",
       "      <td>...</td>\n",
       "    </tr>\n",
       "    <tr>\n",
       "      <th>2024-11-04</th>\n",
       "      <td>408.459991</td>\n",
       "      <td>410.420013</td>\n",
       "      <td>405.570007</td>\n",
       "      <td>409.799988</td>\n",
       "      <td>19672300</td>\n",
       "      <td>0.729111</td>\n",
       "      <td>UP</td>\n",
       "    </tr>\n",
       "    <tr>\n",
       "      <th>2024-11-05</th>\n",
       "      <td>411.459991</td>\n",
       "      <td>414.899994</td>\n",
       "      <td>408.079987</td>\n",
       "      <td>408.369995</td>\n",
       "      <td>17626000</td>\n",
       "      <td>2.075301</td>\n",
       "      <td>UP</td>\n",
       "    </tr>\n",
       "    <tr>\n",
       "      <th>2024-11-06</th>\n",
       "      <td>420.179993</td>\n",
       "      <td>420.450012</td>\n",
       "      <td>410.519989</td>\n",
       "      <td>412.420013</td>\n",
       "      <td>26681800</td>\n",
       "      <td>1.234046</td>\n",
       "      <td>UP</td>\n",
       "    </tr>\n",
       "    <tr>\n",
       "      <th>2024-11-07</th>\n",
       "      <td>425.429993</td>\n",
       "      <td>426.850006</td>\n",
       "      <td>419.880005</td>\n",
       "      <td>421.279999</td>\n",
       "      <td>19901800</td>\n",
       "      <td>-0.683955</td>\n",
       "      <td>DOWN</td>\n",
       "    </tr>\n",
       "    <tr>\n",
       "      <th>2024-11-08</th>\n",
       "      <td>422.540009</td>\n",
       "      <td>426.500000</td>\n",
       "      <td>421.779999</td>\n",
       "      <td>425.320007</td>\n",
       "      <td>16875500</td>\n",
       "      <td>-0.888284</td>\n",
       "      <td>DOWN</td>\n",
       "    </tr>\n",
       "  </tbody>\n",
       "</table>\n",
       "<p>1998 rows × 7 columns</p>\n",
       "</div>"
      ],
      "text/plain": [
       "                 Close        High         Low        Open    Volume  \\\n",
       "Price                                                                  \n",
       "2016-12-01   59.200001   60.150002   58.939999   60.110001  34542100   \n",
       "2016-12-02   59.250000   59.470001   58.799999   59.080002  25515700   \n",
       "2016-12-05   60.220001   60.590000   59.560001   59.700001  23552700   \n",
       "2016-12-06   59.950001   60.459999   59.799999   60.430000  19907000   \n",
       "2016-12-07   61.369999   61.380001   59.799999   60.009998  30809000   \n",
       "...                ...         ...         ...         ...       ...   \n",
       "2024-11-04  408.459991  410.420013  405.570007  409.799988  19672300   \n",
       "2024-11-05  411.459991  414.899994  408.079987  408.369995  17626000   \n",
       "2024-11-06  420.179993  420.450012  410.519989  412.420013  26681800   \n",
       "2024-11-07  425.429993  426.850006  419.880005  421.279999  19901800   \n",
       "2024-11-08  422.540009  426.500000  421.779999  425.320007  16875500   \n",
       "\n",
       "            change_tomorrow change_tomorrow_direction  \n",
       "Price                                                  \n",
       "2016-12-01         0.084387                        UP  \n",
       "2016-12-02         1.610763                        UP  \n",
       "2016-12-05        -0.450376                      DOWN  \n",
       "2016-12-06         2.313831                        UP  \n",
       "2016-12-07        -0.590068                      DOWN  \n",
       "...                     ...                       ...  \n",
       "2024-11-04         0.729111                        UP  \n",
       "2024-11-05         2.075301                        UP  \n",
       "2024-11-06         1.234046                        UP  \n",
       "2024-11-07        -0.683955                      DOWN  \n",
       "2024-11-08        -0.888284                      DOWN  \n",
       "\n",
       "[1998 rows x 7 columns]"
      ]
     },
     "execution_count": 85,
     "metadata": {},
     "output_type": "execute_result"
    }
   ],
   "source": [
    "import pandas as pd\n",
    "df = pd.read_excel('data/microsoft-linkedin-processed.xlsx' , index_col=0)\n",
    "df.index = pd.to_datetime(df.index)\n",
    "df"
   ]
  },
  {
   "attachments": {},
   "cell_type": "markdown",
   "id": "0916e425-b217-46c4-9c4a-2574bbb98976",
   "metadata": {},
   "source": [
    "## Machine Learning Model"
   ]
  },
  {
   "attachments": {},
   "cell_type": "markdown",
   "id": "815660e5-d35d-4e6f-b1c9-9f0025a5aaa6",
   "metadata": {},
   "source": [
    "### Separate the data\n",
    "\n",
    "1. Target: which variable do you want to predict?\n",
    "2. Explanatory: which variables will you use to calculate the prediction?"
   ]
  },
  {
   "cell_type": "code",
   "execution_count": 86,
   "id": "5dc4021a-5582-44c1-b70c-1fbfa818794b",
   "metadata": {},
   "outputs": [],
   "source": [
    "target = df.change_tomorrow\n",
    "explanatory = df[['Open','High','Low','Close','Volume']]"
   ]
  },
  {
   "attachments": {},
   "cell_type": "markdown",
   "id": "d54284ff-21fd-4b82-ba73-4cfc2a05b128",
   "metadata": {},
   "source": [
    "## Train test split"
   ]
  },
  {
   "attachments": {},
   "cell_type": "markdown",
   "id": "d793fd19-3d4f-49a6-aefe-df2ef736d021",
   "metadata": {},
   "source": [
    "### Split the dataset"
   ]
  },
  {
   "cell_type": "code",
   "execution_count": 87,
   "id": "7dedf4ea-a0ef-45f5-a4f1-d6c5d73ff31d",
   "metadata": {},
   "outputs": [
    {
     "data": {
      "text/plain": [
       "1998"
      ]
     },
     "execution_count": 87,
     "metadata": {},
     "output_type": "execute_result"
    }
   ],
   "source": [
    "n_days = len(df.index)\n",
    "n_days"
   ]
  },
  {
   "cell_type": "code",
   "execution_count": 88,
   "id": "14190cc7-2023-4f33-8872-676655ecb569",
   "metadata": {},
   "outputs": [
    {
     "data": {
      "text/plain": [
       "1398"
      ]
     },
     "execution_count": 88,
     "metadata": {},
     "output_type": "execute_result"
    }
   ],
   "source": [
    "n_days_split = int(n_days*0.7)\n",
    "n_days_split"
   ]
  },
  {
   "cell_type": "code",
   "execution_count": 89,
   "id": "05c918da-4612-4e60-aa83-eae0d366d644",
   "metadata": {},
   "outputs": [],
   "source": [
    "X_train, y_train = explanatory.iloc[:n_days_split], target.iloc[:n_days_split]\n",
    "X_test, y_test = explanatory.iloc[n_days_split:], target.iloc[n_days_split:]"
   ]
  },
  {
   "attachments": {},
   "cell_type": "markdown",
   "id": "1ccb5348-7e36-40a3-bbee-2e42e297a069",
   "metadata": {},
   "source": [
    "### Fit the model on train set"
   ]
  },
  {
   "cell_type": "code",
   "execution_count": 90,
   "id": "af2ffb2b-88b0-4824-b567-45694fe583e7",
   "metadata": {},
   "outputs": [],
   "source": [
    "from sklearn.tree import DecisionTreeRegressor"
   ]
  },
  {
   "cell_type": "code",
   "execution_count": 133,
   "id": "bc25c6af-5a9d-4560-8ac6-a3faad429e5e",
   "metadata": {},
   "outputs": [],
   "source": [
    "model_dt_split = DecisionTreeRegressor(max_depth=19, random_state=42)"
   ]
  },
  {
   "cell_type": "code",
   "execution_count": 134,
   "id": "34adce38-e52b-40dd-98e7-9f0145362b8e",
   "metadata": {},
   "outputs": [
    {
     "data": {
      "text/html": [
       "<style>#sk-container-id-9 {color: black;}#sk-container-id-9 pre{padding: 0;}#sk-container-id-9 div.sk-toggleable {background-color: white;}#sk-container-id-9 label.sk-toggleable__label {cursor: pointer;display: block;width: 100%;margin-bottom: 0;padding: 0.3em;box-sizing: border-box;text-align: center;}#sk-container-id-9 label.sk-toggleable__label-arrow:before {content: \"▸\";float: left;margin-right: 0.25em;color: #696969;}#sk-container-id-9 label.sk-toggleable__label-arrow:hover:before {color: black;}#sk-container-id-9 div.sk-estimator:hover label.sk-toggleable__label-arrow:before {color: black;}#sk-container-id-9 div.sk-toggleable__content {max-height: 0;max-width: 0;overflow: hidden;text-align: left;background-color: #f0f8ff;}#sk-container-id-9 div.sk-toggleable__content pre {margin: 0.2em;color: black;border-radius: 0.25em;background-color: #f0f8ff;}#sk-container-id-9 input.sk-toggleable__control:checked~div.sk-toggleable__content {max-height: 200px;max-width: 100%;overflow: auto;}#sk-container-id-9 input.sk-toggleable__control:checked~label.sk-toggleable__label-arrow:before {content: \"▾\";}#sk-container-id-9 div.sk-estimator input.sk-toggleable__control:checked~label.sk-toggleable__label {background-color: #d4ebff;}#sk-container-id-9 div.sk-label input.sk-toggleable__control:checked~label.sk-toggleable__label {background-color: #d4ebff;}#sk-container-id-9 input.sk-hidden--visually {border: 0;clip: rect(1px 1px 1px 1px);clip: rect(1px, 1px, 1px, 1px);height: 1px;margin: -1px;overflow: hidden;padding: 0;position: absolute;width: 1px;}#sk-container-id-9 div.sk-estimator {font-family: monospace;background-color: #f0f8ff;border: 1px dotted black;border-radius: 0.25em;box-sizing: border-box;margin-bottom: 0.5em;}#sk-container-id-9 div.sk-estimator:hover {background-color: #d4ebff;}#sk-container-id-9 div.sk-parallel-item::after {content: \"\";width: 100%;border-bottom: 1px solid gray;flex-grow: 1;}#sk-container-id-9 div.sk-label:hover label.sk-toggleable__label {background-color: #d4ebff;}#sk-container-id-9 div.sk-serial::before {content: \"\";position: absolute;border-left: 1px solid gray;box-sizing: border-box;top: 0;bottom: 0;left: 50%;z-index: 0;}#sk-container-id-9 div.sk-serial {display: flex;flex-direction: column;align-items: center;background-color: white;padding-right: 0.2em;padding-left: 0.2em;position: relative;}#sk-container-id-9 div.sk-item {position: relative;z-index: 1;}#sk-container-id-9 div.sk-parallel {display: flex;align-items: stretch;justify-content: center;background-color: white;position: relative;}#sk-container-id-9 div.sk-item::before, #sk-container-id-9 div.sk-parallel-item::before {content: \"\";position: absolute;border-left: 1px solid gray;box-sizing: border-box;top: 0;bottom: 0;left: 50%;z-index: -1;}#sk-container-id-9 div.sk-parallel-item {display: flex;flex-direction: column;z-index: 1;position: relative;background-color: white;}#sk-container-id-9 div.sk-parallel-item:first-child::after {align-self: flex-end;width: 50%;}#sk-container-id-9 div.sk-parallel-item:last-child::after {align-self: flex-start;width: 50%;}#sk-container-id-9 div.sk-parallel-item:only-child::after {width: 0;}#sk-container-id-9 div.sk-dashed-wrapped {border: 1px dashed gray;margin: 0 0.4em 0.5em 0.4em;box-sizing: border-box;padding-bottom: 0.4em;background-color: white;}#sk-container-id-9 div.sk-label label {font-family: monospace;font-weight: bold;display: inline-block;line-height: 1.2em;}#sk-container-id-9 div.sk-label-container {text-align: center;}#sk-container-id-9 div.sk-container {/* jupyter's `normalize.less` sets `[hidden] { display: none; }` but bootstrap.min.css set `[hidden] { display: none !important; }` so we also need the `!important` here to be able to override the default hidden behavior on the sphinx rendered scikit-learn.org. See: https://github.com/scikit-learn/scikit-learn/issues/21755 */display: inline-block !important;position: relative;}#sk-container-id-9 div.sk-text-repr-fallback {display: none;}</style><div id=\"sk-container-id-9\" class=\"sk-top-container\"><div class=\"sk-text-repr-fallback\"><pre>DecisionTreeRegressor(max_depth=19, random_state=42)</pre><b>In a Jupyter environment, please rerun this cell to show the HTML representation or trust the notebook. <br />On GitHub, the HTML representation is unable to render, please try loading this page with nbviewer.org.</b></div><div class=\"sk-container\" hidden><div class=\"sk-item\"><div class=\"sk-estimator sk-toggleable\"><input class=\"sk-toggleable__control sk-hidden--visually\" id=\"sk-estimator-id-9\" type=\"checkbox\" checked><label for=\"sk-estimator-id-9\" class=\"sk-toggleable__label sk-toggleable__label-arrow\">DecisionTreeRegressor</label><div class=\"sk-toggleable__content\"><pre>DecisionTreeRegressor(max_depth=19, random_state=42)</pre></div></div></div></div></div>"
      ],
      "text/plain": [
       "DecisionTreeRegressor(max_depth=19, random_state=42)"
      ]
     },
     "execution_count": 134,
     "metadata": {},
     "output_type": "execute_result"
    }
   ],
   "source": [
    "model_dt_split.fit(X=X_train, y=y_train)"
   ]
  },
  {
   "attachments": {},
   "cell_type": "markdown",
   "id": "69444552-f5ca-4194-a59c-4c4293f0a5fc",
   "metadata": {},
   "source": [
    "### Evaluate model"
   ]
  },
  {
   "attachments": {},
   "cell_type": "markdown",
   "id": "792b982b-2813-4cfe-b987-9a1f7eae3ae3",
   "metadata": {},
   "source": [
    "#### On test set"
   ]
  },
  {
   "cell_type": "code",
   "execution_count": 135,
   "id": "5215a66d-ec7f-43e4-9d28-f7b6aafc0765",
   "metadata": {},
   "outputs": [
    {
     "name": "stdout",
     "output_type": "stream",
     "text": [
      "Train rmse: 0.9973153794919618\n",
      "Test rmse: 3.9255615552269347\n"
     ]
    }
   ],
   "source": [
    "from sklearn.metrics import mean_squared_error\n",
    "\n",
    "y_pred_test = model_dt_split.predict(X=X_test)\n",
    "y_pred_train = model_dt_split.predict(X=X_train)\n",
    "\n",
    "train_error = mean_squared_error(y_true=y_train, y_pred=y_pred_train)\n",
    "test_error  = mean_squared_error(y_true=y_test,  y_pred=y_pred_test)\n",
    "\n",
    "print(f\"Train rmse: {train_error}\\nTest rmse: {test_error}\")"
   ]
  },
  {
   "attachments": {},
   "cell_type": "markdown",
   "id": "881d27f4-6344-4cee-855d-9a2735a852aa",
   "metadata": {},
   "source": [
    "#### On train set"
   ]
  },
  {
   "attachments": {},
   "cell_type": "markdown",
   "id": "32f4c9ba-ab10-4d00-8b45-bfda4b2298b8",
   "metadata": {},
   "source": [
    "## [ ] Backtesting"
   ]
  },
  {
   "cell_type": "code",
   "execution_count": 136,
   "id": "a6aa60da-4c9a-4485-aae7-91324eed16e2",
   "metadata": {},
   "outputs": [],
   "source": [
    "from backtesting import Backtest, Strategy"
   ]
  },
  {
   "attachments": {},
   "cell_type": "markdown",
   "id": "367a9244-7176-43d2-b784-7e7db33c43df",
   "metadata": {},
   "source": [
    "### Create the `Strategy`"
   ]
  },
  {
   "cell_type": "code",
   "execution_count": 144,
   "id": "05dec003-6544-4832-bec1-8195455191fd",
   "metadata": {},
   "outputs": [],
   "source": [
    "class Regression(Strategy):\n",
    "    limit_buy = 0\n",
    "    limit_sell = -0\n",
    "    \n",
    "    def init(self):\n",
    "        self.model = DecisionTreeRegressor(max_depth=5, random_state=42)\n",
    "        self.already_bought = False\n",
    "        self.model.fit(X=X_train, y=y_train)\n",
    "\n",
    "    def next(self):\n",
    "        explanatory_today = self.data.df.iloc[[-1], :]\n",
    "        forecast_tomorrow = self.model.predict(explanatory_today)[0]\n",
    "        \n",
    "        if forecast_tomorrow > self.limit_buy and self.already_bought == False:\n",
    "            self.buy()\n",
    "            self.already_bought = True\n",
    "        elif forecast_tomorrow < self.limit_sell and self.already_bought == True:\n",
    "            self.sell()\n",
    "            self.already_bought = False\n",
    "        else:\n",
    "            pass"
   ]
  },
  {
   "attachments": {},
   "cell_type": "markdown",
   "id": "10330a05-12bf-4c83-bf1b-3727fed50102",
   "metadata": {},
   "source": [
    "### Run the backtest on `test` data"
   ]
  },
  {
   "cell_type": "code",
   "execution_count": 145,
   "id": "d0e892ec-9924-461a-ad18-09f0a1512aac",
   "metadata": {},
   "outputs": [],
   "source": [
    "bt = Backtest(X_test, Regression,\n",
    "              cash=10000, commission=.002, exclusive_orders=True)"
   ]
  },
  {
   "cell_type": "code",
   "execution_count": 146,
   "id": "8f131c9c-3984-4d73-9e85-800d418287fc",
   "metadata": {},
   "outputs": [
    {
     "data": {
      "text/html": [
       "<div>\n",
       "<style scoped>\n",
       "    .dataframe tbody tr th:only-of-type {\n",
       "        vertical-align: middle;\n",
       "    }\n",
       "\n",
       "    .dataframe tbody tr th {\n",
       "        vertical-align: top;\n",
       "    }\n",
       "\n",
       "    .dataframe thead th {\n",
       "        text-align: right;\n",
       "    }\n",
       "</style>\n",
       "<table border=\"1\" class=\"dataframe\">\n",
       "  <thead>\n",
       "    <tr style=\"text-align: right;\">\n",
       "      <th></th>\n",
       "      <th>Out of Sample (Test)</th>\n",
       "    </tr>\n",
       "  </thead>\n",
       "  <tbody>\n",
       "    <tr>\n",
       "      <th>Start</th>\n",
       "      <td>2022-06-23 00:00:00</td>\n",
       "    </tr>\n",
       "    <tr>\n",
       "      <th>End</th>\n",
       "      <td>2024-11-08 00:00:00</td>\n",
       "    </tr>\n",
       "    <tr>\n",
       "      <th>Duration</th>\n",
       "      <td>869 days 00:00:00</td>\n",
       "    </tr>\n",
       "    <tr>\n",
       "      <th>Exposure Time [%]</th>\n",
       "      <td>37.666667</td>\n",
       "    </tr>\n",
       "    <tr>\n",
       "      <th>Equity Final [$]</th>\n",
       "      <td>11488.539568</td>\n",
       "    </tr>\n",
       "    <tr>\n",
       "      <th>Equity Peak [$]</th>\n",
       "      <td>12629.019304</td>\n",
       "    </tr>\n",
       "    <tr>\n",
       "      <th>Return [%]</th>\n",
       "      <td>14.885396</td>\n",
       "    </tr>\n",
       "  </tbody>\n",
       "</table>\n",
       "</div>"
      ],
      "text/plain": [
       "                  Out of Sample (Test)\n",
       "Start              2022-06-23 00:00:00\n",
       "End                2024-11-08 00:00:00\n",
       "Duration             869 days 00:00:00\n",
       "Exposure Time [%]            37.666667\n",
       "Equity Final [$]          11488.539568\n",
       "Equity Peak [$]           12629.019304\n",
       "Return [%]                   14.885396"
      ]
     },
     "execution_count": 146,
     "metadata": {},
     "output_type": "execute_result"
    }
   ],
   "source": [
    "results = bt.run(limit_buy=1, limit_sell=-5)\n",
    "\n",
    "df_results_test = results.to_frame(name='Values').loc[:'Return [%]']\\\n",
    "    .rename({'Values':'Out of Sample (Test)'}, axis=1)\n",
    "df_results_test"
   ]
  },
  {
   "attachments": {},
   "cell_type": "markdown",
   "id": "b766904b-9ac0-4b99-aede-f1c5bcd0ac47",
   "metadata": {},
   "source": [
    "### Run the backtest on `train` data"
   ]
  },
  {
   "cell_type": "code",
   "execution_count": 147,
   "id": "d12e8e0f-b56a-48e4-90d6-e16e61f6e4c6",
   "metadata": {},
   "outputs": [
    {
     "data": {
      "text/html": [
       "<div>\n",
       "<style scoped>\n",
       "    .dataframe tbody tr th:only-of-type {\n",
       "        vertical-align: middle;\n",
       "    }\n",
       "\n",
       "    .dataframe tbody tr th {\n",
       "        vertical-align: top;\n",
       "    }\n",
       "\n",
       "    .dataframe thead th {\n",
       "        text-align: right;\n",
       "    }\n",
       "</style>\n",
       "<table border=\"1\" class=\"dataframe\">\n",
       "  <thead>\n",
       "    <tr style=\"text-align: right;\">\n",
       "      <th></th>\n",
       "      <th>In Sample (Train)</th>\n",
       "    </tr>\n",
       "  </thead>\n",
       "  <tbody>\n",
       "    <tr>\n",
       "      <th>Start</th>\n",
       "      <td>2016-12-01 00:00:00</td>\n",
       "    </tr>\n",
       "    <tr>\n",
       "      <th>End</th>\n",
       "      <td>2022-06-22 00:00:00</td>\n",
       "    </tr>\n",
       "    <tr>\n",
       "      <th>Duration</th>\n",
       "      <td>2029 days 00:00:00</td>\n",
       "    </tr>\n",
       "    <tr>\n",
       "      <th>Exposure Time [%]</th>\n",
       "      <td>41.773963</td>\n",
       "    </tr>\n",
       "    <tr>\n",
       "      <th>Equity Final [$]</th>\n",
       "      <td>16409.986422</td>\n",
       "    </tr>\n",
       "    <tr>\n",
       "      <th>Equity Peak [$]</th>\n",
       "      <td>22339.285509</td>\n",
       "    </tr>\n",
       "    <tr>\n",
       "      <th>Return [%]</th>\n",
       "      <td>64.099864</td>\n",
       "    </tr>\n",
       "  </tbody>\n",
       "</table>\n",
       "</div>"
      ],
      "text/plain": [
       "                     In Sample (Train)\n",
       "Start              2016-12-01 00:00:00\n",
       "End                2022-06-22 00:00:00\n",
       "Duration            2029 days 00:00:00\n",
       "Exposure Time [%]            41.773963\n",
       "Equity Final [$]          16409.986422\n",
       "Equity Peak [$]           22339.285509\n",
       "Return [%]                   64.099864"
      ]
     },
     "execution_count": 147,
     "metadata": {},
     "output_type": "execute_result"
    }
   ],
   "source": [
    "bt = Backtest(X_train, Regression,\n",
    "              cash=10000, commission=.002, exclusive_orders=True)\n",
    "\n",
    "results = bt.run(limit_buy=1, limit_sell=-5)\n",
    "\n",
    "df_results_train = results.to_frame(name='Values').loc[:'Return [%]']\\\n",
    "    .rename({'Values':'In Sample (Train)'}, axis=1)\n",
    "df_results_train"
   ]
  },
  {
   "cell_type": "code",
   "execution_count": 148,
   "id": "80693767",
   "metadata": {},
   "outputs": [],
   "source": [
    "import matplotlib.pyplot as plt"
   ]
  },
  {
   "cell_type": "code",
   "execution_count": 149,
   "id": "feeb446d",
   "metadata": {},
   "outputs": [
    {
     "data": {
      "text/plain": [
       "<matplotlib.collections.PathCollection at 0x741acee87d00>"
      ]
     },
     "execution_count": 149,
     "metadata": {},
     "output_type": "execute_result"
    },
    {
     "data": {
      "image/png": "[encoded data removed]",
      "text/plain": [
       "<Figure size 640x480 with 1 Axes>"
      ]
     },
     "metadata": {},
     "output_type": "display_data"
    }
   ],
   "source": [
    "plt.scatter(y_train, y_pred_train, alpha=.2)"
   ]
  },
  {
   "cell_type": "code",
   "execution_count": 150,
   "id": "7ffa8817",
   "metadata": {},
   "outputs": [
    {
     "data": {
      "text/plain": [
       "<matplotlib.collections.PathCollection at 0x741acee7a0a0>"
      ]
     },
     "execution_count": 150,
     "metadata": {},
     "output_type": "execute_result"
    },
    {
     "data": {
      "image/png": "[encoded data removed]",
      "text/plain": [
       "<Figure size 640x480 with 1 Axes>"
      ]
     },
     "metadata": {},
     "output_type": "display_data"
    }
   ],
   "source": [
    "plt.scatter(y_test, y_pred_test, alpha=0.2)\n"
   ]
  },
  {
   "attachments": {},
   "cell_type": "markdown",
   "id": "ae5295ab-18f4-42dc-a88c-0d78a5d235bf",
   "metadata": {},
   "source": [
    "### Compare both backtests"
   ]
  },
  {
   "cell_type": "code",
   "execution_count": 151,
   "id": "585e5dce-1742-4b4c-a266-99487ef5e214",
   "metadata": {},
   "outputs": [
    {
     "data": {
      "text/html": [
       "<div>\n",
       "<style scoped>\n",
       "    .dataframe tbody tr th:only-of-type {\n",
       "        vertical-align: middle;\n",
       "    }\n",
       "\n",
       "    .dataframe tbody tr th {\n",
       "        vertical-align: top;\n",
       "    }\n",
       "\n",
       "    .dataframe thead th {\n",
       "        text-align: right;\n",
       "    }\n",
       "</style>\n",
       "<table border=\"1\" class=\"dataframe\">\n",
       "  <thead>\n",
       "    <tr style=\"text-align: right;\">\n",
       "      <th></th>\n",
       "      <th>Out of Sample (Test)</th>\n",
       "      <th>In Sample (Train)</th>\n",
       "    </tr>\n",
       "  </thead>\n",
       "  <tbody>\n",
       "    <tr>\n",
       "      <th>Start</th>\n",
       "      <td>2022-06-23 00:00:00</td>\n",
       "      <td>2016-12-01 00:00:00</td>\n",
       "    </tr>\n",
       "    <tr>\n",
       "      <th>End</th>\n",
       "      <td>2024-11-08 00:00:00</td>\n",
       "      <td>2022-06-22 00:00:00</td>\n",
       "    </tr>\n",
       "    <tr>\n",
       "      <th>Duration</th>\n",
       "      <td>869 days 00:00:00</td>\n",
       "      <td>2029 days 00:00:00</td>\n",
       "    </tr>\n",
       "    <tr>\n",
       "      <th>Exposure Time [%]</th>\n",
       "      <td>37.666667</td>\n",
       "      <td>41.773963</td>\n",
       "    </tr>\n",
       "    <tr>\n",
       "      <th>Equity Final [$]</th>\n",
       "      <td>11488.539568</td>\n",
       "      <td>16409.986422</td>\n",
       "    </tr>\n",
       "    <tr>\n",
       "      <th>Equity Peak [$]</th>\n",
       "      <td>12629.019304</td>\n",
       "      <td>22339.285509</td>\n",
       "    </tr>\n",
       "    <tr>\n",
       "      <th>Return [%]</th>\n",
       "      <td>14.885396</td>\n",
       "      <td>64.099864</td>\n",
       "    </tr>\n",
       "  </tbody>\n",
       "</table>\n",
       "</div>"
      ],
      "text/plain": [
       "                  Out of Sample (Test)    In Sample (Train)\n",
       "Start              2022-06-23 00:00:00  2016-12-01 00:00:00\n",
       "End                2024-11-08 00:00:00  2022-06-22 00:00:00\n",
       "Duration             869 days 00:00:00   2029 days 00:00:00\n",
       "Exposure Time [%]            37.666667            41.773963\n",
       "Equity Final [$]          11488.539568         16409.986422\n",
       "Equity Peak [$]           12629.019304         22339.285509\n",
       "Return [%]                   14.885396            64.099864"
      ]
     },
     "execution_count": 151,
     "metadata": {},
     "output_type": "execute_result"
    }
   ],
   "source": [
    "df_results = pd.concat([df_results_test, df_results_train], axis=1)\n",
    "df_results"
   ]
  },
  {
   "attachments": {},
   "cell_type": "markdown",
   "id": "b9e32097",
   "metadata": {},
   "source": [
    "## Practice to master the knowledge\n",
    "\n",
    "Work on the challenge with another dataset:\n",
    "\n",
    "1. Learn the <a>mental models</a> to solve the challenge faster.\n",
    "2. Complete the <a href=\"09D_The Overfitting Problem.ipynb\">notebook</a>."
   ]
  }
 ],
 "metadata": {
  "kernelspec": {
   "display_name": "venv",
   "language": "python",
   "name": "python3"
  },
  "language_info": {
   "codemirror_mode": {
    "name": "ipython",
    "version": 3
   },
   "file_extension": ".py",
   "mimetype": "text/x-python",
   "name": "python",
   "nbconvert_exporter": "python",
   "pygments_lexer": "ipython3",
   "version": "3.8.5"
  }
 },
 "nbformat": 4,
 "nbformat_minor": 5
}
