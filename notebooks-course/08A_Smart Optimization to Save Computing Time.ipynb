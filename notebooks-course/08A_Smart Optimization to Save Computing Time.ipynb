{
 "cells": [
  {
   "attachments": {},
   "cell_type": "markdown",
   "id": "18d33b8c-9e99-4a14-aff7-c98e9989f4ac",
   "metadata": {},
   "source": [
    "# Smart Optimization to Save Computing Time"
   ]
  },
  {
   "cell_type": "code",
   "execution_count": null,
   "id": "e6d8a85c-cce6-4310-bb6b-df37a887a857",
   "metadata": {},
   "outputs": [],
   "source": [
    "???"
   ]
  },
  {
   "attachments": {},
   "cell_type": "markdown",
   "id": "a049b23f-5dc7-42b4-81bf-f885710307d5",
   "metadata": {},
   "source": [
    "<table style=\"width:100%; height:90%\">\n",
    "      <tr>\n",
    "    <th>Grid Search</th>\n",
    "    <th>Smart Search</th>\n",
    "  </tr>\n",
    "  <tr>\n",
    "    <td><img src=\"src/07_Table_Optimize BG Default Defaults.png\" alt=\"Optimizing Limits' Parameters\" style=\"width:100%\"></td>\n",
    "    <td><img src=\"src/08_Table_Smart Optimization.png\" alt=\"Parametrize the Strategy\" style=\"width:100%\"></td>\n",
    "  </tr>\n",
    "</table>"
   ]
  },
  {
   "attachments": {},
   "cell_type": "markdown",
   "id": "0a1dfade-8726-4b47-9c2c-257db8522761",
   "metadata": {},
   "source": [
    "## Load the model"
   ]
  },
  {
   "cell_type": "code",
   "execution_count": 1,
   "id": "121ac0a7-5f7d-442f-9a73-59ec4735787f",
   "metadata": {},
   "outputs": [],
   "source": [
    "import pickle"
   ]
  },
  {
   "cell_type": "code",
   "execution_count": 2,
   "id": "752ed6b9-62c2-4394-957a-960f8b6b6c68",
   "metadata": {},
   "outputs": [
    {
     "name": "stderr",
     "output_type": "stream",
     "text": [
      "/home/remco/PythonDocuments/practical-python-for-algorithmic-trading-4403633/venv/lib/python3.8/site-packages/sklearn/base.py:348: InconsistentVersionWarning: Trying to unpickle estimator DecisionTreeRegressor from version 1.5.2 when using version 1.3.2. This might lead to breaking code or invalid results. Use at your own risk. For more info please refer to:\n",
      "https://scikit-learn.org/stable/model_persistence.html#security-maintainability-limitations\n",
      "  warnings.warn(\n"
     ]
    },
    {
     "data": {
      "text/html": [
       "<style>#sk-container-id-1 {color: black;}#sk-container-id-1 pre{padding: 0;}#sk-container-id-1 div.sk-toggleable {background-color: white;}#sk-container-id-1 label.sk-toggleable__label {cursor: pointer;display: block;width: 100%;margin-bottom: 0;padding: 0.3em;box-sizing: border-box;text-align: center;}#sk-container-id-1 label.sk-toggleable__label-arrow:before {content: \"▸\";float: left;margin-right: 0.25em;color: #696969;}#sk-container-id-1 label.sk-toggleable__label-arrow:hover:before {color: black;}#sk-container-id-1 div.sk-estimator:hover label.sk-toggleable__label-arrow:before {color: black;}#sk-container-id-1 div.sk-toggleable__content {max-height: 0;max-width: 0;overflow: hidden;text-align: left;background-color: #f0f8ff;}#sk-container-id-1 div.sk-toggleable__content pre {margin: 0.2em;color: black;border-radius: 0.25em;background-color: #f0f8ff;}#sk-container-id-1 input.sk-toggleable__control:checked~div.sk-toggleable__content {max-height: 200px;max-width: 100%;overflow: auto;}#sk-container-id-1 input.sk-toggleable__control:checked~label.sk-toggleable__label-arrow:before {content: \"▾\";}#sk-container-id-1 div.sk-estimator input.sk-toggleable__control:checked~label.sk-toggleable__label {background-color: #d4ebff;}#sk-container-id-1 div.sk-label input.sk-toggleable__control:checked~label.sk-toggleable__label {background-color: #d4ebff;}#sk-container-id-1 input.sk-hidden--visually {border: 0;clip: rect(1px 1px 1px 1px);clip: rect(1px, 1px, 1px, 1px);height: 1px;margin: -1px;overflow: hidden;padding: 0;position: absolute;width: 1px;}#sk-container-id-1 div.sk-estimator {font-family: monospace;background-color: #f0f8ff;border: 1px dotted black;border-radius: 0.25em;box-sizing: border-box;margin-bottom: 0.5em;}#sk-container-id-1 div.sk-estimator:hover {background-color: #d4ebff;}#sk-container-id-1 div.sk-parallel-item::after {content: \"\";width: 100%;border-bottom: 1px solid gray;flex-grow: 1;}#sk-container-id-1 div.sk-label:hover label.sk-toggleable__label {background-color: #d4ebff;}#sk-container-id-1 div.sk-serial::before {content: \"\";position: absolute;border-left: 1px solid gray;box-sizing: border-box;top: 0;bottom: 0;left: 50%;z-index: 0;}#sk-container-id-1 div.sk-serial {display: flex;flex-direction: column;align-items: center;background-color: white;padding-right: 0.2em;padding-left: 0.2em;position: relative;}#sk-container-id-1 div.sk-item {position: relative;z-index: 1;}#sk-container-id-1 div.sk-parallel {display: flex;align-items: stretch;justify-content: center;background-color: white;position: relative;}#sk-container-id-1 div.sk-item::before, #sk-container-id-1 div.sk-parallel-item::before {content: \"\";position: absolute;border-left: 1px solid gray;box-sizing: border-box;top: 0;bottom: 0;left: 50%;z-index: -1;}#sk-container-id-1 div.sk-parallel-item {display: flex;flex-direction: column;z-index: 1;position: relative;background-color: white;}#sk-container-id-1 div.sk-parallel-item:first-child::after {align-self: flex-end;width: 50%;}#sk-container-id-1 div.sk-parallel-item:last-child::after {align-self: flex-start;width: 50%;}#sk-container-id-1 div.sk-parallel-item:only-child::after {width: 0;}#sk-container-id-1 div.sk-dashed-wrapped {border: 1px dashed gray;margin: 0 0.4em 0.5em 0.4em;box-sizing: border-box;padding-bottom: 0.4em;background-color: white;}#sk-container-id-1 div.sk-label label {font-family: monospace;font-weight: bold;display: inline-block;line-height: 1.2em;}#sk-container-id-1 div.sk-label-container {text-align: center;}#sk-container-id-1 div.sk-container {/* jupyter's `normalize.less` sets `[hidden] { display: none; }` but bootstrap.min.css set `[hidden] { display: none !important; }` so we also need the `!important` here to be able to override the default hidden behavior on the sphinx rendered scikit-learn.org. See: https://github.com/scikit-learn/scikit-learn/issues/21755 */display: inline-block !important;position: relative;}#sk-container-id-1 div.sk-text-repr-fallback {display: none;}</style><div id=\"sk-container-id-1\" class=\"sk-top-container\"><div class=\"sk-text-repr-fallback\"><pre>DecisionTreeRegressor(max_depth=15)</pre><b>In a Jupyter environment, please rerun this cell to show the HTML representation or trust the notebook. <br />On GitHub, the HTML representation is unable to render, please try loading this page with nbviewer.org.</b></div><div class=\"sk-container\" hidden><div class=\"sk-item\"><div class=\"sk-estimator sk-toggleable\"><input class=\"sk-toggleable__control sk-hidden--visually\" id=\"sk-estimator-id-1\" type=\"checkbox\" checked><label for=\"sk-estimator-id-1\" class=\"sk-toggleable__label sk-toggleable__label-arrow\">DecisionTreeRegressor</label><div class=\"sk-toggleable__content\"><pre>DecisionTreeRegressor(max_depth=15)</pre></div></div></div></div></div>"
      ],
      "text/plain": [
       "DecisionTreeRegressor(max_depth=15)"
      ]
     },
     "execution_count": 2,
     "metadata": {},
     "output_type": "execute_result"
    }
   ],
   "source": [
    "import pickle\n",
    "\n",
    "with open('models/my_regression.pkl', 'rb') as f:\n",
    "    model_dt = pickle.load(f)\n",
    "\n",
    "model_dt"
   ]
  },
  {
   "attachments": {},
   "cell_type": "markdown",
   "id": "60ac3925-86b2-47e1-b5e3-c7abe24dc63e",
   "metadata": {},
   "source": [
    "## Load the data"
   ]
  },
  {
   "cell_type": "code",
   "execution_count": 3,
   "id": "228dadf8-2ab5-4f70-864d-ab1f94004983",
   "metadata": {},
   "outputs": [],
   "source": [
    "import pandas as pd\n",
    "df = pd.read_excel('data/microsoft-linkedin-processed.xlsx' , index_col=0)\n",
    "df.index = pd.to_datetime(df.index)"
   ]
  },
  {
   "attachments": {},
   "cell_type": "markdown",
   "id": "642b89a7-c7b1-462d-b228-05f27a9d7150",
   "metadata": {},
   "source": [
    "## Parametrize & optimize the investment strategy"
   ]
  },
  {
   "attachments": {},
   "cell_type": "markdown",
   "id": "af4c28f5-c156-4971-8ee1-26f08c70d496",
   "metadata": {},
   "source": [
    "### Create Strategy class"
   ]
  },
  {
   "cell_type": "code",
   "execution_count": 4,
   "id": "050d0952-da57-46dd-96e8-98a11b8e2d0a",
   "metadata": {},
   "outputs": [],
   "source": [
    "from backtesting import Strategy, Backtest"
   ]
  },
  {
   "cell_type": "code",
   "execution_count": 5,
   "id": "b755eb60-1e54-46f0-89fc-bc68b4b4d3ff",
   "metadata": {},
   "outputs": [],
   "source": [
    "class SimpleRegression(Strategy):\n",
    "    limit_buy = 1\n",
    "    limit_sell = -5\n",
    "    \n",
    "    def init(self):\n",
    "        self.model = model_dt\n",
    "        self.already_bought = False\n",
    "\n",
    "    def next(self):\n",
    "        explanatory_today = self.data.df.iloc[[-1], :]\n",
    "        forecast_tomorrow = self.model.predict(explanatory_today)[0]\n",
    "        \n",
    "        if forecast_tomorrow > self.limit_buy and self.already_bought == False:\n",
    "            self.buy()\n",
    "            self.already_bought = True\n",
    "        elif forecast_tomorrow < self.limit_sell and self.already_bought == True:\n",
    "            self.sell()\n",
    "            self.already_bought = False\n",
    "        else:\n",
    "            pass"
   ]
  },
  {
   "attachments": {},
   "cell_type": "markdown",
   "id": "9094d5ca-7cc2-44d1-bb72-ca9807dd2648",
   "metadata": {},
   "source": [
    "### Create `Backtest` class"
   ]
  },
  {
   "cell_type": "code",
   "execution_count": 6,
   "id": "0d3e439a-93c4-4605-8d8e-48dbfafc8abc",
   "metadata": {},
   "outputs": [],
   "source": [
    "from backtesting import Backtest"
   ]
  },
  {
   "cell_type": "code",
   "execution_count": 7,
   "id": "4474775e-ddf4-435e-a38f-f4d76a25f70e",
   "metadata": {},
   "outputs": [],
   "source": [
    "df_explanatory = df[['Open', 'High', 'Low', 'Close', 'Volume']].copy()"
   ]
  },
  {
   "cell_type": "code",
   "execution_count": 8,
   "id": "05414d32-8462-4778-b719-f19acb01915d",
   "metadata": {},
   "outputs": [],
   "source": [
    "bt = Backtest(df_explanatory, SimpleRegression,\n",
    "              cash=10000, commission=.002, exclusive_orders=True)"
   ]
  },
  {
   "cell_type": "code",
   "execution_count": 9,
   "id": "de05755a",
   "metadata": {},
   "outputs": [
    {
     "data": {
      "text/plain": [
       "665.2305757685085"
      ]
     },
     "execution_count": 9,
     "metadata": {},
     "output_type": "execute_result"
    }
   ],
   "source": [
    "results = bt.run()\n",
    "results[\"Return [%]\"]"
   ]
  },
  {
   "attachments": {},
   "cell_type": "markdown",
   "id": "4d1ca71d-422c-43db-b428-f0c6ad83c70a",
   "metadata": {},
   "source": [
    "### Optimize backtesting with multiple combinations"
   ]
  },
  {
   "cell_type": "code",
   "execution_count": 17,
   "id": "ba98fe7c",
   "metadata": {},
   "outputs": [
    {
     "ename": "RuntimeError",
     "evalue": "context has already been set",
     "output_type": "error",
     "traceback": [
      "\u001b[0;31m---------------------------------------------------------------------------\u001b[0m",
      "\u001b[0;31mRuntimeError\u001b[0m                              Traceback (most recent call last)",
      "Cell \u001b[0;32mIn[17], line 2\u001b[0m\n\u001b[1;32m      1\u001b[0m \u001b[38;5;28;01mimport\u001b[39;00m \u001b[38;5;21;01mmultiprocessing\u001b[39;00m \u001b[38;5;28;01mas\u001b[39;00m \u001b[38;5;21;01mmp\u001b[39;00m\n\u001b[0;32m----> 2\u001b[0m \u001b[43mmp\u001b[49m\u001b[38;5;241;43m.\u001b[39;49m\u001b[43mset_start_method\u001b[49m\u001b[43m(\u001b[49m\u001b[38;5;124;43m'\u001b[39;49m\u001b[38;5;124;43mfork\u001b[39;49m\u001b[38;5;124;43m'\u001b[39;49m\u001b[43m)\u001b[49m\n",
      "File \u001b[0;32m/usr/lib/python3.8/multiprocessing/context.py:243\u001b[0m, in \u001b[0;36mDefaultContext.set_start_method\u001b[0;34m(self, method, force)\u001b[0m\n\u001b[1;32m    241\u001b[0m \u001b[38;5;28;01mdef\u001b[39;00m \u001b[38;5;21mset_start_method\u001b[39m(\u001b[38;5;28mself\u001b[39m, method, force\u001b[38;5;241m=\u001b[39m\u001b[38;5;28;01mFalse\u001b[39;00m):\n\u001b[1;32m    242\u001b[0m     \u001b[38;5;28;01mif\u001b[39;00m \u001b[38;5;28mself\u001b[39m\u001b[38;5;241m.\u001b[39m_actual_context \u001b[38;5;129;01mis\u001b[39;00m \u001b[38;5;129;01mnot\u001b[39;00m \u001b[38;5;28;01mNone\u001b[39;00m \u001b[38;5;129;01mand\u001b[39;00m \u001b[38;5;129;01mnot\u001b[39;00m force:\n\u001b[0;32m--> 243\u001b[0m         \u001b[38;5;28;01mraise\u001b[39;00m \u001b[38;5;167;01mRuntimeError\u001b[39;00m(\u001b[38;5;124m'\u001b[39m\u001b[38;5;124mcontext has already been set\u001b[39m\u001b[38;5;124m'\u001b[39m)\n\u001b[1;32m    244\u001b[0m     \u001b[38;5;28;01mif\u001b[39;00m method \u001b[38;5;129;01mis\u001b[39;00m \u001b[38;5;28;01mNone\u001b[39;00m \u001b[38;5;129;01mand\u001b[39;00m force:\n\u001b[1;32m    245\u001b[0m         \u001b[38;5;28mself\u001b[39m\u001b[38;5;241m.\u001b[39m_actual_context \u001b[38;5;241m=\u001b[39m \u001b[38;5;28;01mNone\u001b[39;00m\n",
      "\u001b[0;31mRuntimeError\u001b[0m: context has already been set"
     ]
    }
   ],
   "source": [
    "import multiprocessing as mp\n",
    "mp.set_start_method('fork')"
   ]
  },
  {
   "cell_type": "code",
   "execution_count": 44,
   "id": "2a17e673-a212-4330-8f3e-297b8ea3c7b4",
   "metadata": {},
   "outputs": [
    {
     "name": "stderr",
     "output_type": "stream",
     "text": [
      "/home/remco/PythonDocuments/practical-python-for-algorithmic-trading-4403633/venv/lib/python3.8/site-packages/skopt/optimizer/optimizer.py:517: UserWarning: The objective has been evaluated at point [2, -4] before, using random point [0, -4]\n",
      "  warnings.warn(\n",
      "/home/remco/PythonDocuments/practical-python-for-algorithmic-trading-4403633/venv/lib/python3.8/site-packages/skopt/optimizer/optimizer.py:517: UserWarning: The objective has been evaluated at point [0, -4] before, using random point [0, -7]\n",
      "  warnings.warn(\n",
      "/home/remco/PythonDocuments/practical-python-for-algorithmic-trading-4403633/venv/lib/python3.8/site-packages/skopt/optimizer/optimizer.py:517: UserWarning: The objective has been evaluated at point [0, -4] before, using random point [4, -7]\n",
      "  warnings.warn(\n",
      "/home/remco/PythonDocuments/practical-python-for-algorithmic-trading-4403633/venv/lib/python3.8/site-packages/skopt/optimizer/optimizer.py:517: UserWarning: The objective has been evaluated at point [2, -4] before, using random point [5, -7]\n",
      "  warnings.warn(\n",
      "/home/remco/PythonDocuments/practical-python-for-algorithmic-trading-4403633/venv/lib/python3.8/site-packages/skopt/optimizer/optimizer.py:517: UserWarning: The objective has been evaluated at point [0, -4] before, using random point [6, -4]\n",
      "  warnings.warn(\n",
      "/home/remco/PythonDocuments/practical-python-for-algorithmic-trading-4403633/venv/lib/python3.8/site-packages/skopt/optimizer/optimizer.py:517: UserWarning: The objective has been evaluated at point [0, -4] before, using random point [7, -7]\n",
      "  warnings.warn(\n",
      "/home/remco/PythonDocuments/practical-python-for-algorithmic-trading-4403633/venv/lib/python3.8/site-packages/skopt/optimizer/optimizer.py:517: UserWarning: The objective has been evaluated at point [0, -4] before, using random point [0, 0]\n",
      "  warnings.warn(\n",
      "/home/remco/PythonDocuments/practical-python-for-algorithmic-trading-4403633/venv/lib/python3.8/site-packages/skopt/optimizer/optimizer.py:517: UserWarning: The objective has been evaluated at point [0, 0] before, using random point [0, -6]\n",
      "  warnings.warn(\n",
      "/home/remco/PythonDocuments/practical-python-for-algorithmic-trading-4403633/venv/lib/python3.8/site-packages/skopt/optimizer/optimizer.py:517: UserWarning: The objective has been evaluated at point [0, 0] before, using random point [7, -6]\n",
      "  warnings.warn(\n",
      "/home/remco/PythonDocuments/practical-python-for-algorithmic-trading-4403633/venv/lib/python3.8/site-packages/skopt/optimizer/optimizer.py:517: UserWarning: The objective has been evaluated at point [0, 0] before, using random point [0, -2]\n",
      "  warnings.warn(\n",
      "/home/remco/PythonDocuments/practical-python-for-algorithmic-trading-4403633/venv/lib/python3.8/site-packages/skopt/optimizer/optimizer.py:517: UserWarning: The objective has been evaluated at point [0, 0] before, using random point [6, -6]\n",
      "  warnings.warn(\n",
      "/home/remco/PythonDocuments/practical-python-for-algorithmic-trading-4403633/venv/lib/python3.8/site-packages/skopt/optimizer/optimizer.py:517: UserWarning: The objective has been evaluated at point [0, 0] before, using random point [4, -7]\n",
      "  warnings.warn(\n",
      "/home/remco/PythonDocuments/practical-python-for-algorithmic-trading-4403633/venv/lib/python3.8/site-packages/skopt/optimizer/optimizer.py:517: UserWarning: The objective has been evaluated at point [0, 0] before, using random point [0, 0]\n",
      "  warnings.warn(\n",
      "/home/remco/PythonDocuments/practical-python-for-algorithmic-trading-4403633/venv/lib/python3.8/site-packages/skopt/optimizer/optimizer.py:517: UserWarning: The objective has been evaluated at point [0, 0] before, using random point [7, -4]\n",
      "  warnings.warn(\n",
      "/home/remco/PythonDocuments/practical-python-for-algorithmic-trading-4403633/venv/lib/python3.8/site-packages/skopt/optimizer/optimizer.py:517: UserWarning: The objective has been evaluated at point [0, 0] before, using random point [6, -7]\n",
      "  warnings.warn(\n",
      "/home/remco/PythonDocuments/practical-python-for-algorithmic-trading-4403633/venv/lib/python3.8/site-packages/skopt/optimizer/optimizer.py:517: UserWarning: The objective has been evaluated at point [0, 0] before, using random point [0, -3]\n",
      "  warnings.warn(\n",
      "/home/remco/PythonDocuments/practical-python-for-algorithmic-trading-4403633/venv/lib/python3.8/site-packages/skopt/optimizer/optimizer.py:517: UserWarning: The objective has been evaluated at point [0, 0] before, using random point [6, 0]\n",
      "  warnings.warn(\n",
      "/home/remco/PythonDocuments/practical-python-for-algorithmic-trading-4403633/venv/lib/python3.8/site-packages/skopt/optimizer/optimizer.py:517: UserWarning: The objective has been evaluated at point [0, 0] before, using random point [4, -6]\n",
      "  warnings.warn(\n",
      "/home/remco/PythonDocuments/practical-python-for-algorithmic-trading-4403633/venv/lib/python3.8/site-packages/skopt/optimizer/optimizer.py:517: UserWarning: The objective has been evaluated at point [0, 0] before, using random point [0, -6]\n",
      "  warnings.warn(\n",
      "/home/remco/PythonDocuments/practical-python-for-algorithmic-trading-4403633/venv/lib/python3.8/site-packages/skopt/optimizer/optimizer.py:517: UserWarning: The objective has been evaluated at point [0, 0] before, using random point [7, 0]\n",
      "  warnings.warn(\n",
      "/home/remco/PythonDocuments/practical-python-for-algorithmic-trading-4403633/venv/lib/python3.8/site-packages/skopt/optimizer/optimizer.py:517: UserWarning: The objective has been evaluated at point [0, 0] before, using random point [6, -2]\n",
      "  warnings.warn(\n",
      "/home/remco/PythonDocuments/practical-python-for-algorithmic-trading-4403633/venv/lib/python3.8/site-packages/skopt/optimizer/optimizer.py:517: UserWarning: The objective has been evaluated at point [0, 0] before, using random point [6, -3]\n",
      "  warnings.warn(\n",
      "/home/remco/PythonDocuments/practical-python-for-algorithmic-trading-4403633/venv/lib/python3.8/site-packages/skopt/optimizer/optimizer.py:517: UserWarning: The objective has been evaluated at point [0, 0] before, using random point [6, -5]\n",
      "  warnings.warn(\n",
      "/home/remco/PythonDocuments/practical-python-for-algorithmic-trading-4403633/venv/lib/python3.8/site-packages/skopt/optimizer/optimizer.py:517: UserWarning: The objective has been evaluated at point [0, 0] before, using random point [1, -2]\n",
      "  warnings.warn(\n",
      "/home/remco/PythonDocuments/practical-python-for-algorithmic-trading-4403633/venv/lib/python3.8/site-packages/skopt/optimizer/optimizer.py:517: UserWarning: The objective has been evaluated at point [0, 0] before, using random point [6, -5]\n",
      "  warnings.warn(\n",
      "/home/remco/PythonDocuments/practical-python-for-algorithmic-trading-4403633/venv/lib/python3.8/site-packages/skopt/optimizer/optimizer.py:517: UserWarning: The objective has been evaluated at point [0, -1] before, using random point [1, -1]\n",
      "  warnings.warn(\n",
      "/home/remco/PythonDocuments/practical-python-for-algorithmic-trading-4403633/venv/lib/python3.8/site-packages/skopt/optimizer/optimizer.py:517: UserWarning: The objective has been evaluated at point [0, 0] before, using random point [1, 0]\n",
      "  warnings.warn(\n",
      "/home/remco/PythonDocuments/practical-python-for-algorithmic-trading-4403633/venv/lib/python3.8/site-packages/skopt/optimizer/optimizer.py:517: UserWarning: The objective has been evaluated at point [0, 0] before, using random point [6, 0]\n",
      "  warnings.warn(\n",
      "/home/remco/PythonDocuments/practical-python-for-algorithmic-trading-4403633/venv/lib/python3.8/site-packages/skopt/optimizer/optimizer.py:517: UserWarning: The objective has been evaluated at point [0, 0] before, using random point [7, -6]\n",
      "  warnings.warn(\n",
      "/home/remco/PythonDocuments/practical-python-for-algorithmic-trading-4403633/venv/lib/python3.8/site-packages/skopt/optimizer/optimizer.py:517: UserWarning: The objective has been evaluated at point [0, -1] before, using random point [7, -3]\n",
      "  warnings.warn(\n",
      "/home/remco/PythonDocuments/practical-python-for-algorithmic-trading-4403633/venv/lib/python3.8/site-packages/skopt/optimizer/optimizer.py:517: UserWarning: The objective has been evaluated at point [0, 0] before, using random point [7, 0]\n",
      "  warnings.warn(\n",
      "/home/remco/PythonDocuments/practical-python-for-algorithmic-trading-4403633/venv/lib/python3.8/site-packages/skopt/optimizer/optimizer.py:517: UserWarning: The objective has been evaluated at point [0, -1] before, using random point [0, -2]\n",
      "  warnings.warn(\n",
      "/home/remco/PythonDocuments/practical-python-for-algorithmic-trading-4403633/venv/lib/python3.8/site-packages/skopt/optimizer/optimizer.py:517: UserWarning: The objective has been evaluated at point [0, -1] before, using random point [2, 0]\n",
      "  warnings.warn(\n",
      "/home/remco/PythonDocuments/practical-python-for-algorithmic-trading-4403633/venv/lib/python3.8/site-packages/skopt/optimizer/optimizer.py:517: UserWarning: The objective has been evaluated at point [0, 0] before, using random point [1, -6]\n",
      "  warnings.warn(\n",
      "/home/remco/PythonDocuments/practical-python-for-algorithmic-trading-4403633/venv/lib/python3.8/site-packages/skopt/optimizer/optimizer.py:517: UserWarning: The objective has been evaluated at point [0, -1] before, using random point [6, -2]\n",
      "  warnings.warn(\n",
      "/home/remco/PythonDocuments/practical-python-for-algorithmic-trading-4403633/venv/lib/python3.8/site-packages/skopt/optimizer/optimizer.py:517: UserWarning: The objective has been evaluated at point [0, -1] before, using random point [1, -4]\n",
      "  warnings.warn(\n",
      "/home/remco/PythonDocuments/practical-python-for-algorithmic-trading-4403633/venv/lib/python3.8/site-packages/skopt/optimizer/optimizer.py:517: UserWarning: The objective has been evaluated at point [0, 0] before, using random point [0, -3]\n",
      "  warnings.warn(\n",
      "/home/remco/PythonDocuments/practical-python-for-algorithmic-trading-4403633/venv/lib/python3.8/site-packages/skopt/optimizer/optimizer.py:517: UserWarning: The objective has been evaluated at point [0, 0] before, using random point [2, -7]\n",
      "  warnings.warn(\n",
      "/home/remco/PythonDocuments/practical-python-for-algorithmic-trading-4403633/venv/lib/python3.8/site-packages/skopt/optimizer/optimizer.py:517: UserWarning: The objective has been evaluated at point [0, -1] before, using random point [2, -2]\n",
      "  warnings.warn(\n",
      "/home/remco/PythonDocuments/practical-python-for-algorithmic-trading-4403633/venv/lib/python3.8/site-packages/skopt/optimizer/optimizer.py:517: UserWarning: The objective has been evaluated at point [0, 0] before, using random point [0, -6]\n",
      "  warnings.warn(\n",
      "/home/remco/PythonDocuments/practical-python-for-algorithmic-trading-4403633/venv/lib/python3.8/site-packages/skopt/optimizer/optimizer.py:517: UserWarning: The objective has been evaluated at point [0, -1] before, using random point [5, -1]\n",
      "  warnings.warn(\n",
      "/home/remco/PythonDocuments/practical-python-for-algorithmic-trading-4403633/venv/lib/python3.8/site-packages/skopt/optimizer/optimizer.py:517: UserWarning: The objective has been evaluated at point [0, 0] before, using random point [0, -1]\n",
      "  warnings.warn(\n",
      "/home/remco/PythonDocuments/practical-python-for-algorithmic-trading-4403633/venv/lib/python3.8/site-packages/skopt/optimizer/optimizer.py:517: UserWarning: The objective has been evaluated at point [0, 0] before, using random point [4, -4]\n",
      "  warnings.warn(\n",
      "/home/remco/PythonDocuments/practical-python-for-algorithmic-trading-4403633/venv/lib/python3.8/site-packages/skopt/optimizer/optimizer.py:517: UserWarning: The objective has been evaluated at point [0, 0] before, using random point [7, -5]\n",
      "  warnings.warn(\n",
      "/home/remco/PythonDocuments/practical-python-for-algorithmic-trading-4403633/venv/lib/python3.8/site-packages/skopt/optimizer/optimizer.py:517: UserWarning: The objective has been evaluated at point [0, 0] before, using random point [0, -2]\n",
      "  warnings.warn(\n",
      "/home/remco/PythonDocuments/practical-python-for-algorithmic-trading-4403633/venv/lib/python3.8/site-packages/skopt/optimizer/optimizer.py:517: UserWarning: The objective has been evaluated at point [0, 0] before, using random point [2, -3]\n",
      "  warnings.warn(\n",
      "/home/remco/PythonDocuments/practical-python-for-algorithmic-trading-4403633/venv/lib/python3.8/site-packages/skopt/optimizer/optimizer.py:517: UserWarning: The objective has been evaluated at point [0, 0] before, using random point [3, -6]\n",
      "  warnings.warn(\n",
      "/home/remco/PythonDocuments/practical-python-for-algorithmic-trading-4403633/venv/lib/python3.8/site-packages/skopt/optimizer/optimizer.py:517: UserWarning: The objective has been evaluated at point [0, 0] before, using random point [5, 0]\n",
      "  warnings.warn(\n",
      "/home/remco/PythonDocuments/practical-python-for-algorithmic-trading-4403633/venv/lib/python3.8/site-packages/skopt/optimizer/optimizer.py:517: UserWarning: The objective has been evaluated at point [0, 0] before, using random point [2, -7]\n",
      "  warnings.warn(\n",
      "/home/remco/PythonDocuments/practical-python-for-algorithmic-trading-4403633/venv/lib/python3.8/site-packages/skopt/optimizer/optimizer.py:517: UserWarning: The objective has been evaluated at point [0, 0] before, using random point [4, -4]\n",
      "  warnings.warn(\n",
      "/home/remco/PythonDocuments/practical-python-for-algorithmic-trading-4403633/venv/lib/python3.8/site-packages/skopt/optimizer/optimizer.py:517: UserWarning: The objective has been evaluated at point [0, 0] before, using random point [6, -7]\n",
      "  warnings.warn(\n",
      "/home/remco/PythonDocuments/practical-python-for-algorithmic-trading-4403633/venv/lib/python3.8/site-packages/skopt/optimizer/optimizer.py:517: UserWarning: The objective has been evaluated at point [0, 0] before, using random point [5, -5]\n",
      "  warnings.warn(\n",
      "/home/remco/PythonDocuments/practical-python-for-algorithmic-trading-4403633/venv/lib/python3.8/site-packages/skopt/optimizer/optimizer.py:517: UserWarning: The objective has been evaluated at point [0, 0] before, using random point [7, -7]\n",
      "  warnings.warn(\n",
      "/home/remco/PythonDocuments/practical-python-for-algorithmic-trading-4403633/venv/lib/python3.8/site-packages/skopt/optimizer/optimizer.py:517: UserWarning: The objective has been evaluated at point [0, 0] before, using random point [7, -7]\n",
      "  warnings.warn(\n"
     ]
    }
   ],
   "source": [
    "stats_skopt, heatmap, optimize_result = bt.optimize(\n",
    "    limit_buy=[0,7],\n",
    "    limit_sell=[-7,0],\n",
    "    maximize='Return [%]',\n",
    "    method='skopt',\n",
    "    max_tries=500,\n",
    "    random_state=0,\n",
    "    return_heatmap=True,\n",
    "    return_optimization=True\n",
    "    )"
   ]
  },
  {
   "cell_type": "code",
   "execution_count": 49,
   "id": "a9d02ec8",
   "metadata": {},
   "outputs": [],
   "source": [
    "dff = heatmap.reset_index()\n",
    "dff = dff.pivot(index='limit_buy', columns='limit_sell', values='Return [%]')\n"
   ]
  },
  {
   "cell_type": "code",
   "execution_count": 34,
   "id": "657a6e4c",
   "metadata": {},
   "outputs": [],
   "source": [
    "import numpy as np"
   ]
  },
  {
   "cell_type": "code",
   "execution_count": 59,
   "id": "b4fcd581",
   "metadata": {},
   "outputs": [
    {
     "data": {
      "text/html": [
       "<style type=\"text/css\">\n",
       "#T_49d92_row0_col0 {\n",
       "  background-color: #023858;\n",
       "  color: #f1f1f1;\n",
       "}\n",
       "#T_49d92_row0_col1 {\n",
       "  background-color: #187cb6;\n",
       "  color: #f1f1f1;\n",
       "}\n",
       "#T_49d92_row0_col2 {\n",
       "  background-color: #b0c2de;\n",
       "  color: #000000;\n",
       "}\n",
       "#T_49d92_row0_col3 {\n",
       "  background-color: #e2dfee;\n",
       "  color: #000000;\n",
       "}\n",
       "#T_49d92_row0_col4 {\n",
       "  background-color: #f1ebf4;\n",
       "  color: #000000;\n",
       "}\n",
       "#T_49d92_row0_col5, #T_49d92_row1_col7, #T_49d92_row2_col5, #T_49d92_row3_col0, #T_49d92_row3_col3, #T_49d92_row3_col4, #T_49d92_row3_col5, #T_49d92_row4_col1, #T_49d92_row4_col2, #T_49d92_row4_col5, #T_49d92_row5_col2, #T_49d92_row5_col4, #T_49d92_row6_col1, #T_49d92_row7_col1 {\n",
       "  background-color: #000000;\n",
       "  color: #f1f1f1;\n",
       "  background: transparent;\n",
       "  color: transparent;\n",
       "}\n",
       "#T_49d92_row0_col6, #T_49d92_row1_col6, #T_49d92_row2_col3, #T_49d92_row2_col6, #T_49d92_row2_col7 {\n",
       "  background-color: #faf2f8;\n",
       "  color: #000000;\n",
       "}\n",
       "#T_49d92_row0_col7, #T_49d92_row1_col5, #T_49d92_row2_col2 {\n",
       "  background-color: #faf3f9;\n",
       "  color: #000000;\n",
       "}\n",
       "#T_49d92_row1_col0 {\n",
       "  background-color: #fcf4fa;\n",
       "  color: #000000;\n",
       "}\n",
       "#T_49d92_row1_col1, #T_49d92_row1_col4 {\n",
       "  background-color: #f6eff7;\n",
       "  color: #000000;\n",
       "}\n",
       "#T_49d92_row1_col2 {\n",
       "  background-color: #f4eef6;\n",
       "  color: #000000;\n",
       "}\n",
       "#T_49d92_row1_col3 {\n",
       "  background-color: #f8f1f8;\n",
       "  color: #000000;\n",
       "}\n",
       "#T_49d92_row2_col0, #T_49d92_row3_col1, #T_49d92_row4_col0, #T_49d92_row5_col0, #T_49d92_row5_col1, #T_49d92_row5_col3, #T_49d92_row6_col0, #T_49d92_row6_col2, #T_49d92_row6_col3, #T_49d92_row7_col0, #T_49d92_row7_col2, #T_49d92_row7_col3, #T_49d92_row7_col4, #T_49d92_row7_col5, #T_49d92_row7_col6, #T_49d92_row7_col7 {\n",
       "  background-color: #fff7fb;\n",
       "  color: #000000;\n",
       "}\n",
       "#T_49d92_row2_col1, #T_49d92_row3_col2, #T_49d92_row4_col3, #T_49d92_row5_col6, #T_49d92_row6_col4, #T_49d92_row6_col6 {\n",
       "  background-color: #fef6fb;\n",
       "  color: #000000;\n",
       "}\n",
       "#T_49d92_row2_col4 {\n",
       "  background-color: #f2ecf5;\n",
       "  color: #000000;\n",
       "}\n",
       "#T_49d92_row3_col6, #T_49d92_row4_col4, #T_49d92_row4_col6, #T_49d92_row5_col5, #T_49d92_row5_col7, #T_49d92_row6_col5, #T_49d92_row6_col7 {\n",
       "  background-color: #fef6fa;\n",
       "  color: #000000;\n",
       "}\n",
       "#T_49d92_row3_col7, #T_49d92_row4_col7 {\n",
       "  background-color: #fdf5fa;\n",
       "  color: #000000;\n",
       "}\n",
       "</style>\n",
       "<table id=\"T_49d92\">\n",
       "  <thead>\n",
       "    <tr>\n",
       "      <th class=\"index_name level0\" >limit_sell</th>\n",
       "      <th id=\"T_49d92_level0_col0\" class=\"col_heading level0 col0\" >0</th>\n",
       "      <th id=\"T_49d92_level0_col1\" class=\"col_heading level0 col1\" >-1</th>\n",
       "      <th id=\"T_49d92_level0_col2\" class=\"col_heading level0 col2\" >-2</th>\n",
       "      <th id=\"T_49d92_level0_col3\" class=\"col_heading level0 col3\" >-3</th>\n",
       "      <th id=\"T_49d92_level0_col4\" class=\"col_heading level0 col4\" >-4</th>\n",
       "      <th id=\"T_49d92_level0_col5\" class=\"col_heading level0 col5\" >-5</th>\n",
       "      <th id=\"T_49d92_level0_col6\" class=\"col_heading level0 col6\" >-6</th>\n",
       "      <th id=\"T_49d92_level0_col7\" class=\"col_heading level0 col7\" >-7</th>\n",
       "    </tr>\n",
       "    <tr>\n",
       "      <th class=\"index_name level0\" >limit_buy</th>\n",
       "      <th class=\"blank col0\" >&nbsp;</th>\n",
       "      <th class=\"blank col1\" >&nbsp;</th>\n",
       "      <th class=\"blank col2\" >&nbsp;</th>\n",
       "      <th class=\"blank col3\" >&nbsp;</th>\n",
       "      <th class=\"blank col4\" >&nbsp;</th>\n",
       "      <th class=\"blank col5\" >&nbsp;</th>\n",
       "      <th class=\"blank col6\" >&nbsp;</th>\n",
       "      <th class=\"blank col7\" >&nbsp;</th>\n",
       "    </tr>\n",
       "  </thead>\n",
       "  <tbody>\n",
       "    <tr>\n",
       "      <th id=\"T_49d92_level0_row0\" class=\"row_heading level0 row0\" >0</th>\n",
       "      <td id=\"T_49d92_row0_col0\" class=\"data row0 col0\" >21998</td>\n",
       "      <td id=\"T_49d92_row0_col1\" class=\"data row0 col1\" >15408</td>\n",
       "      <td id=\"T_49d92_row0_col2\" class=\"data row0 col2\" >7552</td>\n",
       "      <td id=\"T_49d92_row0_col3\" class=\"data row0 col3\" >3627</td>\n",
       "      <td id=\"T_49d92_row0_col4\" class=\"data row0 col4\" >1993</td>\n",
       "      <td id=\"T_49d92_row0_col5\" class=\"data row0 col5\" >nan</td>\n",
       "      <td id=\"T_49d92_row0_col6\" class=\"data row0 col6\" >742</td>\n",
       "      <td id=\"T_49d92_row0_col7\" class=\"data row0 col7\" >632</td>\n",
       "    </tr>\n",
       "    <tr>\n",
       "      <th id=\"T_49d92_level0_row1\" class=\"row_heading level0 row1\" >1</th>\n",
       "      <td id=\"T_49d92_row1_col0\" class=\"data row1 col0\" >340</td>\n",
       "      <td id=\"T_49d92_row1_col1\" class=\"data row1 col1\" >1277</td>\n",
       "      <td id=\"T_49d92_row1_col2\" class=\"data row1 col2\" >1537</td>\n",
       "      <td id=\"T_49d92_row1_col3\" class=\"data row1 col3\" >969</td>\n",
       "      <td id=\"T_49d92_row1_col4\" class=\"data row1 col4\" >1240</td>\n",
       "      <td id=\"T_49d92_row1_col5\" class=\"data row1 col5\" >665</td>\n",
       "      <td id=\"T_49d92_row1_col6\" class=\"data row1 col6\" >758</td>\n",
       "      <td id=\"T_49d92_row1_col7\" class=\"data row1 col7\" >nan</td>\n",
       "    </tr>\n",
       "    <tr>\n",
       "      <th id=\"T_49d92_level0_row2\" class=\"row_heading level0 row2\" >2</th>\n",
       "      <td id=\"T_49d92_row2_col0\" class=\"data row2 col0\" >-29</td>\n",
       "      <td id=\"T_49d92_row2_col1\" class=\"data row2 col1\" >50</td>\n",
       "      <td id=\"T_49d92_row2_col2\" class=\"data row2 col2\" >656</td>\n",
       "      <td id=\"T_49d92_row2_col3\" class=\"data row2 col3\" >698</td>\n",
       "      <td id=\"T_49d92_row2_col4\" class=\"data row2 col4\" >1766</td>\n",
       "      <td id=\"T_49d92_row2_col5\" class=\"data row2 col5\" >nan</td>\n",
       "      <td id=\"T_49d92_row2_col6\" class=\"data row2 col6\" >747</td>\n",
       "      <td id=\"T_49d92_row2_col7\" class=\"data row2 col7\" >684</td>\n",
       "    </tr>\n",
       "    <tr>\n",
       "      <th id=\"T_49d92_level0_row3\" class=\"row_heading level0 row3\" >3</th>\n",
       "      <td id=\"T_49d92_row3_col0\" class=\"data row3 col0\" >nan</td>\n",
       "      <td id=\"T_49d92_row3_col1\" class=\"data row3 col1\" >-75</td>\n",
       "      <td id=\"T_49d92_row3_col2\" class=\"data row3 col2\" >-3</td>\n",
       "      <td id=\"T_49d92_row3_col3\" class=\"data row3 col3\" >nan</td>\n",
       "      <td id=\"T_49d92_row3_col4\" class=\"data row3 col4\" >nan</td>\n",
       "      <td id=\"T_49d92_row3_col5\" class=\"data row3 col5\" >nan</td>\n",
       "      <td id=\"T_49d92_row3_col6\" class=\"data row3 col6\" >108</td>\n",
       "      <td id=\"T_49d92_row3_col7\" class=\"data row3 col7\" >223</td>\n",
       "    </tr>\n",
       "    <tr>\n",
       "      <th id=\"T_49d92_level0_row4\" class=\"row_heading level0 row4\" >4</th>\n",
       "      <td id=\"T_49d92_row4_col0\" class=\"data row4 col0\" >-81</td>\n",
       "      <td id=\"T_49d92_row4_col1\" class=\"data row4 col1\" >nan</td>\n",
       "      <td id=\"T_49d92_row4_col2\" class=\"data row4 col2\" >nan</td>\n",
       "      <td id=\"T_49d92_row4_col3\" class=\"data row4 col3\" >-1</td>\n",
       "      <td id=\"T_49d92_row4_col4\" class=\"data row4 col4\" >147</td>\n",
       "      <td id=\"T_49d92_row4_col5\" class=\"data row4 col5\" >nan</td>\n",
       "      <td id=\"T_49d92_row4_col6\" class=\"data row4 col6\" >100</td>\n",
       "      <td id=\"T_49d92_row4_col7\" class=\"data row4 col7\" >211</td>\n",
       "    </tr>\n",
       "    <tr>\n",
       "      <th id=\"T_49d92_level0_row5\" class=\"row_heading level0 row5\" >5</th>\n",
       "      <td id=\"T_49d92_row5_col0\" class=\"data row5 col0\" >-84</td>\n",
       "      <td id=\"T_49d92_row5_col1\" class=\"data row5 col1\" >-87</td>\n",
       "      <td id=\"T_49d92_row5_col2\" class=\"data row5 col2\" >nan</td>\n",
       "      <td id=\"T_49d92_row5_col3\" class=\"data row5 col3\" >-31</td>\n",
       "      <td id=\"T_49d92_row5_col4\" class=\"data row5 col4\" >nan</td>\n",
       "      <td id=\"T_49d92_row5_col5\" class=\"data row5 col5\" >96</td>\n",
       "      <td id=\"T_49d92_row5_col6\" class=\"data row5 col6\" >58</td>\n",
       "      <td id=\"T_49d92_row5_col7\" class=\"data row5 col7\" >119</td>\n",
       "    </tr>\n",
       "    <tr>\n",
       "      <th id=\"T_49d92_level0_row6\" class=\"row_heading level0 row6\" >6</th>\n",
       "      <td id=\"T_49d92_row6_col0\" class=\"data row6 col0\" >-100</td>\n",
       "      <td id=\"T_49d92_row6_col1\" class=\"data row6 col1\" >nan</td>\n",
       "      <td id=\"T_49d92_row6_col2\" class=\"data row6 col2\" >-100</td>\n",
       "      <td id=\"T_49d92_row6_col3\" class=\"data row6 col3\" >-100</td>\n",
       "      <td id=\"T_49d92_row6_col4\" class=\"data row6 col4\" >54</td>\n",
       "      <td id=\"T_49d92_row6_col5\" class=\"data row6 col5\" >88</td>\n",
       "      <td id=\"T_49d92_row6_col6\" class=\"data row6 col6\" >58</td>\n",
       "      <td id=\"T_49d92_row6_col7\" class=\"data row6 col7\" >119</td>\n",
       "    </tr>\n",
       "    <tr>\n",
       "      <th id=\"T_49d92_level0_row7\" class=\"row_heading level0 row7\" >7</th>\n",
       "      <td id=\"T_49d92_row7_col0\" class=\"data row7 col0\" >-100</td>\n",
       "      <td id=\"T_49d92_row7_col1\" class=\"data row7 col1\" >nan</td>\n",
       "      <td id=\"T_49d92_row7_col2\" class=\"data row7 col2\" >-100</td>\n",
       "      <td id=\"T_49d92_row7_col3\" class=\"data row7 col3\" >-100</td>\n",
       "      <td id=\"T_49d92_row7_col4\" class=\"data row7 col4\" >-100</td>\n",
       "      <td id=\"T_49d92_row7_col5\" class=\"data row7 col5\" >-100</td>\n",
       "      <td id=\"T_49d92_row7_col6\" class=\"data row7 col6\" >-100</td>\n",
       "      <td id=\"T_49d92_row7_col7\" class=\"data row7 col7\" >-100</td>\n",
       "    </tr>\n",
       "  </tbody>\n",
       "</table>\n"
      ],
      "text/plain": [
       "<pandas.io.formats.style.Styler at 0x7fba38d0e190>"
      ]
     },
     "execution_count": 59,
     "metadata": {},
     "output_type": "execute_result"
    }
   ],
   "source": [
    "dff.sort_index(axis=1, ascending=False) \\\n",
    "  .style.format(precision=0) \\\n",
    "  .background_gradient(vmin=np.nanmin(dff), vmax=np.nanmax(dff)) \\\n",
    "  .highlight_null(props='background:transparent; color:transparent')\n",
    "\n",
    "\n"
   ]
  },
  {
   "attachments": {},
   "cell_type": "markdown",
   "id": "5e6e67d5-05ab-4ef5-8167-99c4a3337a70",
   "metadata": {},
   "source": [
    "### Which are the best values for the parameters?"
   ]
  },
  {
   "cell_type": "code",
   "execution_count": null,
   "id": "1e546e57-c23e-457b-a009-bec16b86205e",
   "metadata": {},
   "outputs": [],
   "source": []
  },
  {
   "attachments": {},
   "cell_type": "markdown",
   "id": "3b7900be-d1dc-41a3-9092-ff0774aaf43e",
   "metadata": {},
   "source": [
    "### How to interpret smart optimization?"
   ]
  },
  {
   "attachments": {},
   "cell_type": "markdown",
   "id": "ec3e6dec-58ea-47b8-9f04-758513c84c19",
   "metadata": {},
   "source": [
    "#### Number of evaluations"
   ]
  },
  {
   "attachments": {},
   "cell_type": "markdown",
   "id": "9a564cda-47e8-45a6-ac08-f977cb04b650",
   "metadata": {},
   "source": [
    "https://kernc.github.io/backtesting.py/doc/examples/Parameter%20Heatmap%20&%20Optimization.html"
   ]
  },
  {
   "cell_type": "code",
   "execution_count": 60,
   "id": "430ddb7b-4999-412d-a33c-3ee6e60c7698",
   "metadata": {},
   "outputs": [
    {
     "data": {
      "image/png": "[encoded data removed]",
      "text/plain": [
       "<Figure size 400x400 with 5 Axes>"
      ]
     },
     "metadata": {},
     "output_type": "display_data"
    }
   ],
   "source": [
    "from skopt.plots import plot_evaluations\n",
    "\n",
    "_ = plot_evaluations(optimize_result, bins=10)"
   ]
  },
  {
   "attachments": {},
   "cell_type": "markdown",
   "id": "e76743bd-c27f-47c5-a310-a07a3645a7a4",
   "metadata": {},
   "source": [
    "#### Density"
   ]
  },
  {
   "cell_type": "code",
   "execution_count": 61,
   "id": "d5cdc2c0-bdad-4c49-930f-072eb9368cf1",
   "metadata": {},
   "outputs": [
    {
     "data": {
      "image/png": "[encoded data removed]",
      "text/plain": [
       "<Figure size 400x400 with 5 Axes>"
      ]
     },
     "metadata": {},
     "output_type": "display_data"
    }
   ],
   "source": [
    "from skopt.plots import plot_objective\n",
    "\n",
    "_ = plot_objective(optimize_result, n_points=10)"
   ]
  },
  {
   "attachments": {},
   "cell_type": "markdown",
   "id": "c8525ed2",
   "metadata": {},
   "source": [
    "## Practice to master the knowledge\n",
    "\n",
    "Work on the challenge with another dataset:\n",
    "\n",
    "1. Learn the <a>mental models</a> to solve the challenge faster.\n",
    "2. Complete the <a href=\"08C_Smart Optimization to Save Computing Time.ipynb\">notebook</a>."
   ]
  }
 ],
 "metadata": {
  "kernelspec": {
   "display_name": "venv",
   "language": "python",
   "name": "python3"
  },
  "language_info": {
   "codemirror_mode": {
    "name": "ipython",
    "version": 3
   },
   "file_extension": ".py",
   "mimetype": "text/x-python",
   "name": "python",
   "nbconvert_exporter": "python",
   "pygments_lexer": "ipython3",
   "version": "3.8.10"
  }
 },
 "nbformat": 4,
 "nbformat_minor": 5
}
