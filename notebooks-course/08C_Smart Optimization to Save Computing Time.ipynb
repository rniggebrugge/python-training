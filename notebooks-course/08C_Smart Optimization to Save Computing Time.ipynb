{
 "cells": [
  {
   "attachments": {},
   "cell_type": "markdown",
   "id": "c52ce656-02ee-4d26-a276-a4b5d2404c86",
   "metadata": {},
   "source": [
    "# Challenge: Optimization on Other Datasets"
   ]
  },
  {
   "attachments": {},
   "cell_type": "markdown",
   "id": "2a13e12c-8405-4393-9bbf-c1fe901f4ab8",
   "metadata": {},
   "source": [
    "## Download data from `yfinance`"
   ]
  },
  {
   "cell_type": "code",
   "execution_count": 1,
   "id": "c1ac0880-5f22-4a6c-ae95-e2ee4aa85cc7",
   "metadata": {},
   "outputs": [
    {
     "name": "stderr",
     "output_type": "stream",
     "text": [
      "[*********************100%***********************]  1 of 1 completed\n"
     ]
    },
    {
     "data": {
      "text/html": [
       "<div>\n",
       "<style scoped>\n",
       "    .dataframe tbody tr th:only-of-type {\n",
       "        vertical-align: middle;\n",
       "    }\n",
       "\n",
       "    .dataframe tbody tr th {\n",
       "        vertical-align: top;\n",
       "    }\n",
       "\n",
       "    .dataframe thead th {\n",
       "        text-align: right;\n",
       "    }\n",
       "</style>\n",
       "<table border=\"1\" class=\"dataframe\">\n",
       "  <thead>\n",
       "    <tr style=\"text-align: right;\">\n",
       "      <th>Price</th>\n",
       "      <th>Adj Close</th>\n",
       "      <th>Close</th>\n",
       "      <th>High</th>\n",
       "      <th>Low</th>\n",
       "      <th>Open</th>\n",
       "      <th>Volume</th>\n",
       "    </tr>\n",
       "    <tr>\n",
       "      <th>Date</th>\n",
       "      <th></th>\n",
       "      <th></th>\n",
       "      <th></th>\n",
       "      <th></th>\n",
       "      <th></th>\n",
       "      <th></th>\n",
       "    </tr>\n",
       "  </thead>\n",
       "  <tbody>\n",
       "    <tr>\n",
       "      <th>2019-04-18</th>\n",
       "      <td>62.000000</td>\n",
       "      <td>62.000000</td>\n",
       "      <td>66.000000</td>\n",
       "      <td>60.320999</td>\n",
       "      <td>65.000000</td>\n",
       "      <td>25764700</td>\n",
       "    </tr>\n",
       "    <tr>\n",
       "      <th>2019-04-22</th>\n",
       "      <td>65.699997</td>\n",
       "      <td>65.699997</td>\n",
       "      <td>68.900002</td>\n",
       "      <td>59.939999</td>\n",
       "      <td>61.000000</td>\n",
       "      <td>9949700</td>\n",
       "    </tr>\n",
       "    <tr>\n",
       "      <th>2019-04-23</th>\n",
       "      <td>69.000000</td>\n",
       "      <td>69.000000</td>\n",
       "      <td>74.168999</td>\n",
       "      <td>65.550003</td>\n",
       "      <td>66.870003</td>\n",
       "      <td>6786500</td>\n",
       "    </tr>\n",
       "    <tr>\n",
       "      <th>2019-04-24</th>\n",
       "      <td>63.200001</td>\n",
       "      <td>63.200001</td>\n",
       "      <td>71.500000</td>\n",
       "      <td>63.160000</td>\n",
       "      <td>71.400002</td>\n",
       "      <td>4973500</td>\n",
       "    </tr>\n",
       "    <tr>\n",
       "      <th>2019-04-25</th>\n",
       "      <td>65.000000</td>\n",
       "      <td>65.000000</td>\n",
       "      <td>66.849998</td>\n",
       "      <td>62.599998</td>\n",
       "      <td>64.739998</td>\n",
       "      <td>3863300</td>\n",
       "    </tr>\n",
       "    <tr>\n",
       "      <th>...</th>\n",
       "      <td>...</td>\n",
       "      <td>...</td>\n",
       "      <td>...</td>\n",
       "      <td>...</td>\n",
       "      <td>...</td>\n",
       "      <td>...</td>\n",
       "    </tr>\n",
       "    <tr>\n",
       "      <th>2024-11-20</th>\n",
       "      <td>78.860001</td>\n",
       "      <td>78.860001</td>\n",
       "      <td>79.239998</td>\n",
       "      <td>77.879997</td>\n",
       "      <td>77.879997</td>\n",
       "      <td>2318000</td>\n",
       "    </tr>\n",
       "    <tr>\n",
       "      <th>2024-11-21</th>\n",
       "      <td>81.199997</td>\n",
       "      <td>81.199997</td>\n",
       "      <td>81.650002</td>\n",
       "      <td>78.900002</td>\n",
       "      <td>78.959999</td>\n",
       "      <td>3962000</td>\n",
       "    </tr>\n",
       "    <tr>\n",
       "      <th>2024-11-22</th>\n",
       "      <td>85.879997</td>\n",
       "      <td>85.879997</td>\n",
       "      <td>86.000000</td>\n",
       "      <td>81.400002</td>\n",
       "      <td>81.400002</td>\n",
       "      <td>5636100</td>\n",
       "    </tr>\n",
       "    <tr>\n",
       "      <th>2024-11-25</th>\n",
       "      <td>89.029999</td>\n",
       "      <td>89.029999</td>\n",
       "      <td>92.800003</td>\n",
       "      <td>88.214996</td>\n",
       "      <td>88.300003</td>\n",
       "      <td>17383600</td>\n",
       "    </tr>\n",
       "    <tr>\n",
       "      <th>2024-11-26</th>\n",
       "      <td>83.410004</td>\n",
       "      <td>83.410004</td>\n",
       "      <td>85.000000</td>\n",
       "      <td>81.220001</td>\n",
       "      <td>84.019997</td>\n",
       "      <td>12818819</td>\n",
       "    </tr>\n",
       "  </tbody>\n",
       "</table>\n",
       "<p>1413 rows × 6 columns</p>\n",
       "</div>"
      ],
      "text/plain": [
       "Price       Adj Close      Close       High        Low       Open    Volume\n",
       "Date                                                                       \n",
       "2019-04-18  62.000000  62.000000  66.000000  60.320999  65.000000  25764700\n",
       "2019-04-22  65.699997  65.699997  68.900002  59.939999  61.000000   9949700\n",
       "2019-04-23  69.000000  69.000000  74.168999  65.550003  66.870003   6786500\n",
       "2019-04-24  63.200001  63.200001  71.500000  63.160000  71.400002   4973500\n",
       "2019-04-25  65.000000  65.000000  66.849998  62.599998  64.739998   3863300\n",
       "...               ...        ...        ...        ...        ...       ...\n",
       "2024-11-20  78.860001  78.860001  79.239998  77.879997  77.879997   2318000\n",
       "2024-11-21  81.199997  81.199997  81.650002  78.900002  78.959999   3962000\n",
       "2024-11-22  85.879997  85.879997  86.000000  81.400002  81.400002   5636100\n",
       "2024-11-25  89.029999  89.029999  92.800003  88.214996  88.300003  17383600\n",
       "2024-11-26  83.410004  83.410004  85.000000  81.220001  84.019997  12818819\n",
       "\n",
       "[1413 rows x 6 columns]"
      ]
     },
     "execution_count": 1,
     "metadata": {},
     "output_type": "execute_result"
    }
   ],
   "source": [
    "import yfinance as yf\n",
    "import pandas as pd\n",
    "import numpy as np\n",
    "\n",
    "ticker = 'ZM'\n",
    "df = yf.download(ticker)\n",
    "df.index = pd.to_datetime(df.index)\n",
    "df = df.droplevel('Ticker', axis=1)\n",
    "df"
   ]
  },
  {
   "attachments": {},
   "cell_type": "markdown",
   "id": "ff2baa5f-8848-4c76-9c0b-7c9b476ee223",
   "metadata": {},
   "source": [
    "## Preprocess the data"
   ]
  },
  {
   "attachments": {},
   "cell_type": "markdown",
   "id": "3f3979cb-8144-4d9a-b1ae-982a08c8f741",
   "metadata": {},
   "source": [
    "### Filter the date range\n",
    "\n",
    "- Since 1 year ago at least"
   ]
  },
  {
   "cell_type": "code",
   "execution_count": 2,
   "id": "ac0de2d4-4e40-464c-aae8-8a152a5e8722",
   "metadata": {},
   "outputs": [
    {
     "data": {
      "text/html": [
       "<div>\n",
       "<style scoped>\n",
       "    .dataframe tbody tr th:only-of-type {\n",
       "        vertical-align: middle;\n",
       "    }\n",
       "\n",
       "    .dataframe tbody tr th {\n",
       "        vertical-align: top;\n",
       "    }\n",
       "\n",
       "    .dataframe thead th {\n",
       "        text-align: right;\n",
       "    }\n",
       "</style>\n",
       "<table border=\"1\" class=\"dataframe\">\n",
       "  <thead>\n",
       "    <tr style=\"text-align: right;\">\n",
       "      <th>Price</th>\n",
       "      <th>Adj Close</th>\n",
       "      <th>Close</th>\n",
       "      <th>High</th>\n",
       "      <th>Low</th>\n",
       "      <th>Open</th>\n",
       "      <th>Volume</th>\n",
       "    </tr>\n",
       "    <tr>\n",
       "      <th>Date</th>\n",
       "      <th></th>\n",
       "      <th></th>\n",
       "      <th></th>\n",
       "      <th></th>\n",
       "      <th></th>\n",
       "      <th></th>\n",
       "    </tr>\n",
       "  </thead>\n",
       "  <tbody>\n",
       "    <tr>\n",
       "      <th>2020-01-02</th>\n",
       "      <td>68.720001</td>\n",
       "      <td>68.720001</td>\n",
       "      <td>69.235001</td>\n",
       "      <td>68.019997</td>\n",
       "      <td>68.800003</td>\n",
       "      <td>1315500</td>\n",
       "    </tr>\n",
       "    <tr>\n",
       "      <th>2020-01-03</th>\n",
       "      <td>67.279999</td>\n",
       "      <td>67.279999</td>\n",
       "      <td>68.680000</td>\n",
       "      <td>67.099998</td>\n",
       "      <td>67.620003</td>\n",
       "      <td>1127900</td>\n",
       "    </tr>\n",
       "    <tr>\n",
       "      <th>2020-01-06</th>\n",
       "      <td>70.320000</td>\n",
       "      <td>70.320000</td>\n",
       "      <td>70.495003</td>\n",
       "      <td>65.811996</td>\n",
       "      <td>66.629997</td>\n",
       "      <td>3151600</td>\n",
       "    </tr>\n",
       "    <tr>\n",
       "      <th>2020-01-07</th>\n",
       "      <td>71.900002</td>\n",
       "      <td>71.900002</td>\n",
       "      <td>72.838997</td>\n",
       "      <td>69.370003</td>\n",
       "      <td>70.290001</td>\n",
       "      <td>6985400</td>\n",
       "    </tr>\n",
       "    <tr>\n",
       "      <th>2020-01-08</th>\n",
       "      <td>72.550003</td>\n",
       "      <td>72.550003</td>\n",
       "      <td>73.290001</td>\n",
       "      <td>71.029999</td>\n",
       "      <td>71.809998</td>\n",
       "      <td>2482300</td>\n",
       "    </tr>\n",
       "    <tr>\n",
       "      <th>...</th>\n",
       "      <td>...</td>\n",
       "      <td>...</td>\n",
       "      <td>...</td>\n",
       "      <td>...</td>\n",
       "      <td>...</td>\n",
       "      <td>...</td>\n",
       "    </tr>\n",
       "    <tr>\n",
       "      <th>2024-11-20</th>\n",
       "      <td>78.860001</td>\n",
       "      <td>78.860001</td>\n",
       "      <td>79.239998</td>\n",
       "      <td>77.879997</td>\n",
       "      <td>77.879997</td>\n",
       "      <td>2318000</td>\n",
       "    </tr>\n",
       "    <tr>\n",
       "      <th>2024-11-21</th>\n",
       "      <td>81.199997</td>\n",
       "      <td>81.199997</td>\n",
       "      <td>81.650002</td>\n",
       "      <td>78.900002</td>\n",
       "      <td>78.959999</td>\n",
       "      <td>3962000</td>\n",
       "    </tr>\n",
       "    <tr>\n",
       "      <th>2024-11-22</th>\n",
       "      <td>85.879997</td>\n",
       "      <td>85.879997</td>\n",
       "      <td>86.000000</td>\n",
       "      <td>81.400002</td>\n",
       "      <td>81.400002</td>\n",
       "      <td>5636100</td>\n",
       "    </tr>\n",
       "    <tr>\n",
       "      <th>2024-11-25</th>\n",
       "      <td>89.029999</td>\n",
       "      <td>89.029999</td>\n",
       "      <td>92.800003</td>\n",
       "      <td>88.214996</td>\n",
       "      <td>88.300003</td>\n",
       "      <td>17383600</td>\n",
       "    </tr>\n",
       "    <tr>\n",
       "      <th>2024-11-26</th>\n",
       "      <td>83.410004</td>\n",
       "      <td>83.410004</td>\n",
       "      <td>85.000000</td>\n",
       "      <td>81.220001</td>\n",
       "      <td>84.019997</td>\n",
       "      <td>12818819</td>\n",
       "    </tr>\n",
       "  </tbody>\n",
       "</table>\n",
       "<p>1235 rows × 6 columns</p>\n",
       "</div>"
      ],
      "text/plain": [
       "Price       Adj Close      Close       High        Low       Open    Volume\n",
       "Date                                                                       \n",
       "2020-01-02  68.720001  68.720001  69.235001  68.019997  68.800003   1315500\n",
       "2020-01-03  67.279999  67.279999  68.680000  67.099998  67.620003   1127900\n",
       "2020-01-06  70.320000  70.320000  70.495003  65.811996  66.629997   3151600\n",
       "2020-01-07  71.900002  71.900002  72.838997  69.370003  70.290001   6985400\n",
       "2020-01-08  72.550003  72.550003  73.290001  71.029999  71.809998   2482300\n",
       "...               ...        ...        ...        ...        ...       ...\n",
       "2024-11-20  78.860001  78.860001  79.239998  77.879997  77.879997   2318000\n",
       "2024-11-21  81.199997  81.199997  81.650002  78.900002  78.959999   3962000\n",
       "2024-11-22  85.879997  85.879997  86.000000  81.400002  81.400002   5636100\n",
       "2024-11-25  89.029999  89.029999  92.800003  88.214996  88.300003  17383600\n",
       "2024-11-26  83.410004  83.410004  85.000000  81.220001  84.019997  12818819\n",
       "\n",
       "[1235 rows x 6 columns]"
      ]
     },
     "execution_count": 2,
     "metadata": {},
     "output_type": "execute_result"
    }
   ],
   "source": [
    "df = df.loc['2020-01-01':].copy()\n",
    "df"
   ]
  },
  {
   "attachments": {},
   "cell_type": "markdown",
   "id": "f519e27c-26ef-4d20-9e0f-52b387767351",
   "metadata": {},
   "source": [
    "### Create the target variable\n",
    "\n",
    "#### Percentage change\n",
    "\n",
    "- Percentage change on `Adj Close` for tomorrow"
   ]
  },
  {
   "cell_type": "code",
   "execution_count": 3,
   "id": "bf8b17d0-7b90-4ee5-83c7-1ad5be3ff290",
   "metadata": {},
   "outputs": [],
   "source": [
    "df['change_tomorrow'] = df['Adj Close'].pct_change(-1)\n",
    "df.change_tomorrow = df.change_tomorrow * -1\n",
    "df.change_tomorrow = df.change_tomorrow * 100"
   ]
  },
  {
   "attachments": {},
   "cell_type": "markdown",
   "id": "8caab272-5358-45b1-801b-fd156854bdf7",
   "metadata": {},
   "source": [
    "#### Remove rows with any missing data"
   ]
  },
  {
   "cell_type": "code",
   "execution_count": 4,
   "id": "68ca98e0-5a5e-4b28-b709-8a900d866c23",
   "metadata": {},
   "outputs": [
    {
     "data": {
      "text/html": [
       "<div>\n",
       "<style scoped>\n",
       "    .dataframe tbody tr th:only-of-type {\n",
       "        vertical-align: middle;\n",
       "    }\n",
       "\n",
       "    .dataframe tbody tr th {\n",
       "        vertical-align: top;\n",
       "    }\n",
       "\n",
       "    .dataframe thead th {\n",
       "        text-align: right;\n",
       "    }\n",
       "</style>\n",
       "<table border=\"1\" class=\"dataframe\">\n",
       "  <thead>\n",
       "    <tr style=\"text-align: right;\">\n",
       "      <th>Price</th>\n",
       "      <th>Adj Close</th>\n",
       "      <th>Close</th>\n",
       "      <th>High</th>\n",
       "      <th>Low</th>\n",
       "      <th>Open</th>\n",
       "      <th>Volume</th>\n",
       "      <th>change_tomorrow</th>\n",
       "    </tr>\n",
       "    <tr>\n",
       "      <th>Date</th>\n",
       "      <th></th>\n",
       "      <th></th>\n",
       "      <th></th>\n",
       "      <th></th>\n",
       "      <th></th>\n",
       "      <th></th>\n",
       "      <th></th>\n",
       "    </tr>\n",
       "  </thead>\n",
       "  <tbody>\n",
       "    <tr>\n",
       "      <th>2020-01-02</th>\n",
       "      <td>68.720001</td>\n",
       "      <td>68.720001</td>\n",
       "      <td>69.235001</td>\n",
       "      <td>68.019997</td>\n",
       "      <td>68.800003</td>\n",
       "      <td>1315500</td>\n",
       "      <td>-2.140313</td>\n",
       "    </tr>\n",
       "    <tr>\n",
       "      <th>2020-01-03</th>\n",
       "      <td>67.279999</td>\n",
       "      <td>67.279999</td>\n",
       "      <td>68.680000</td>\n",
       "      <td>67.099998</td>\n",
       "      <td>67.620003</td>\n",
       "      <td>1127900</td>\n",
       "      <td>4.323096</td>\n",
       "    </tr>\n",
       "    <tr>\n",
       "      <th>2020-01-06</th>\n",
       "      <td>70.320000</td>\n",
       "      <td>70.320000</td>\n",
       "      <td>70.495003</td>\n",
       "      <td>65.811996</td>\n",
       "      <td>66.629997</td>\n",
       "      <td>3151600</td>\n",
       "      <td>2.197499</td>\n",
       "    </tr>\n",
       "    <tr>\n",
       "      <th>2020-01-07</th>\n",
       "      <td>71.900002</td>\n",
       "      <td>71.900002</td>\n",
       "      <td>72.838997</td>\n",
       "      <td>69.370003</td>\n",
       "      <td>70.290001</td>\n",
       "      <td>6985400</td>\n",
       "      <td>0.895936</td>\n",
       "    </tr>\n",
       "    <tr>\n",
       "      <th>2020-01-08</th>\n",
       "      <td>72.550003</td>\n",
       "      <td>72.550003</td>\n",
       "      <td>73.290001</td>\n",
       "      <td>71.029999</td>\n",
       "      <td>71.809998</td>\n",
       "      <td>2482300</td>\n",
       "      <td>0.096392</td>\n",
       "    </tr>\n",
       "    <tr>\n",
       "      <th>...</th>\n",
       "      <td>...</td>\n",
       "      <td>...</td>\n",
       "      <td>...</td>\n",
       "      <td>...</td>\n",
       "      <td>...</td>\n",
       "      <td>...</td>\n",
       "      <td>...</td>\n",
       "    </tr>\n",
       "    <tr>\n",
       "      <th>2024-11-19</th>\n",
       "      <td>77.750000</td>\n",
       "      <td>77.750000</td>\n",
       "      <td>79.029999</td>\n",
       "      <td>77.495003</td>\n",
       "      <td>78.820000</td>\n",
       "      <td>4138400</td>\n",
       "      <td>1.407558</td>\n",
       "    </tr>\n",
       "    <tr>\n",
       "      <th>2024-11-20</th>\n",
       "      <td>78.860001</td>\n",
       "      <td>78.860001</td>\n",
       "      <td>79.239998</td>\n",
       "      <td>77.879997</td>\n",
       "      <td>77.879997</td>\n",
       "      <td>2318000</td>\n",
       "      <td>2.881769</td>\n",
       "    </tr>\n",
       "    <tr>\n",
       "      <th>2024-11-21</th>\n",
       "      <td>81.199997</td>\n",
       "      <td>81.199997</td>\n",
       "      <td>81.650002</td>\n",
       "      <td>78.900002</td>\n",
       "      <td>78.959999</td>\n",
       "      <td>3962000</td>\n",
       "      <td>5.449465</td>\n",
       "    </tr>\n",
       "    <tr>\n",
       "      <th>2024-11-22</th>\n",
       "      <td>85.879997</td>\n",
       "      <td>85.879997</td>\n",
       "      <td>86.000000</td>\n",
       "      <td>81.400002</td>\n",
       "      <td>81.400002</td>\n",
       "      <td>5636100</td>\n",
       "      <td>3.538135</td>\n",
       "    </tr>\n",
       "    <tr>\n",
       "      <th>2024-11-25</th>\n",
       "      <td>89.029999</td>\n",
       "      <td>89.029999</td>\n",
       "      <td>92.800003</td>\n",
       "      <td>88.214996</td>\n",
       "      <td>88.300003</td>\n",
       "      <td>17383600</td>\n",
       "      <td>-6.737795</td>\n",
       "    </tr>\n",
       "  </tbody>\n",
       "</table>\n",
       "<p>1234 rows × 7 columns</p>\n",
       "</div>"
      ],
      "text/plain": [
       "Price       Adj Close      Close       High        Low       Open    Volume  \\\n",
       "Date                                                                          \n",
       "2020-01-02  68.720001  68.720001  69.235001  68.019997  68.800003   1315500   \n",
       "2020-01-03  67.279999  67.279999  68.680000  67.099998  67.620003   1127900   \n",
       "2020-01-06  70.320000  70.320000  70.495003  65.811996  66.629997   3151600   \n",
       "2020-01-07  71.900002  71.900002  72.838997  69.370003  70.290001   6985400   \n",
       "2020-01-08  72.550003  72.550003  73.290001  71.029999  71.809998   2482300   \n",
       "...               ...        ...        ...        ...        ...       ...   \n",
       "2024-11-19  77.750000  77.750000  79.029999  77.495003  78.820000   4138400   \n",
       "2024-11-20  78.860001  78.860001  79.239998  77.879997  77.879997   2318000   \n",
       "2024-11-21  81.199997  81.199997  81.650002  78.900002  78.959999   3962000   \n",
       "2024-11-22  85.879997  85.879997  86.000000  81.400002  81.400002   5636100   \n",
       "2024-11-25  89.029999  89.029999  92.800003  88.214996  88.300003  17383600   \n",
       "\n",
       "Price       change_tomorrow  \n",
       "Date                         \n",
       "2020-01-02        -2.140313  \n",
       "2020-01-03         4.323096  \n",
       "2020-01-06         2.197499  \n",
       "2020-01-07         0.895936  \n",
       "2020-01-08         0.096392  \n",
       "...                     ...  \n",
       "2024-11-19         1.407558  \n",
       "2024-11-20         2.881769  \n",
       "2024-11-21         5.449465  \n",
       "2024-11-22         3.538135  \n",
       "2024-11-25        -6.737795  \n",
       "\n",
       "[1234 rows x 7 columns]"
      ]
     },
     "execution_count": 4,
     "metadata": {},
     "output_type": "execute_result"
    }
   ],
   "source": [
    "df = df.dropna().copy()\n",
    "df"
   ]
  },
  {
   "attachments": {},
   "cell_type": "markdown",
   "id": "238dfed1-bb4d-4514-95cb-53d3631a3b9d",
   "metadata": {},
   "source": [
    "## Compute Machine Learning model\n",
    "\n",
    "Proposal: Random Forest within `ensemble` module of `sklearn` library"
   ]
  },
  {
   "cell_type": "code",
   "execution_count": 5,
   "id": "6e7303e8-0f40-4bff-b3c7-4800510b67b5",
   "metadata": {},
   "outputs": [],
   "source": [
    "from sklearn.ensemble import RandomForestRegressor\n"
   ]
  },
  {
   "cell_type": "code",
   "execution_count": 6,
   "id": "41fc4963",
   "metadata": {},
   "outputs": [],
   "source": [
    "model_rf = RandomForestRegressor(max_depth=25)\n",
    "X = df[['Open','High','Low','Close','Volume','Adj Close']]\n",
    "y = df[\"change_tomorrow\"]\n"
   ]
  },
  {
   "attachments": {},
   "cell_type": "markdown",
   "id": "17e4a530-72b8-407d-bb2a-0038a01f47e2",
   "metadata": {},
   "source": [
    "## Parametrize & optimize the investment strategy"
   ]
  },
  {
   "cell_type": "code",
   "execution_count": 7,
   "id": "6816fc44",
   "metadata": {},
   "outputs": [
    {
     "data": {
      "text/html": [
       "<style>#sk-container-id-1 {color: black;}#sk-container-id-1 pre{padding: 0;}#sk-container-id-1 div.sk-toggleable {background-color: white;}#sk-container-id-1 label.sk-toggleable__label {cursor: pointer;display: block;width: 100%;margin-bottom: 0;padding: 0.3em;box-sizing: border-box;text-align: center;}#sk-container-id-1 label.sk-toggleable__label-arrow:before {content: \"▸\";float: left;margin-right: 0.25em;color: #696969;}#sk-container-id-1 label.sk-toggleable__label-arrow:hover:before {color: black;}#sk-container-id-1 div.sk-estimator:hover label.sk-toggleable__label-arrow:before {color: black;}#sk-container-id-1 div.sk-toggleable__content {max-height: 0;max-width: 0;overflow: hidden;text-align: left;background-color: #f0f8ff;}#sk-container-id-1 div.sk-toggleable__content pre {margin: 0.2em;color: black;border-radius: 0.25em;background-color: #f0f8ff;}#sk-container-id-1 input.sk-toggleable__control:checked~div.sk-toggleable__content {max-height: 200px;max-width: 100%;overflow: auto;}#sk-container-id-1 input.sk-toggleable__control:checked~label.sk-toggleable__label-arrow:before {content: \"▾\";}#sk-container-id-1 div.sk-estimator input.sk-toggleable__control:checked~label.sk-toggleable__label {background-color: #d4ebff;}#sk-container-id-1 div.sk-label input.sk-toggleable__control:checked~label.sk-toggleable__label {background-color: #d4ebff;}#sk-container-id-1 input.sk-hidden--visually {border: 0;clip: rect(1px 1px 1px 1px);clip: rect(1px, 1px, 1px, 1px);height: 1px;margin: -1px;overflow: hidden;padding: 0;position: absolute;width: 1px;}#sk-container-id-1 div.sk-estimator {font-family: monospace;background-color: #f0f8ff;border: 1px dotted black;border-radius: 0.25em;box-sizing: border-box;margin-bottom: 0.5em;}#sk-container-id-1 div.sk-estimator:hover {background-color: #d4ebff;}#sk-container-id-1 div.sk-parallel-item::after {content: \"\";width: 100%;border-bottom: 1px solid gray;flex-grow: 1;}#sk-container-id-1 div.sk-label:hover label.sk-toggleable__label {background-color: #d4ebff;}#sk-container-id-1 div.sk-serial::before {content: \"\";position: absolute;border-left: 1px solid gray;box-sizing: border-box;top: 0;bottom: 0;left: 50%;z-index: 0;}#sk-container-id-1 div.sk-serial {display: flex;flex-direction: column;align-items: center;background-color: white;padding-right: 0.2em;padding-left: 0.2em;position: relative;}#sk-container-id-1 div.sk-item {position: relative;z-index: 1;}#sk-container-id-1 div.sk-parallel {display: flex;align-items: stretch;justify-content: center;background-color: white;position: relative;}#sk-container-id-1 div.sk-item::before, #sk-container-id-1 div.sk-parallel-item::before {content: \"\";position: absolute;border-left: 1px solid gray;box-sizing: border-box;top: 0;bottom: 0;left: 50%;z-index: -1;}#sk-container-id-1 div.sk-parallel-item {display: flex;flex-direction: column;z-index: 1;position: relative;background-color: white;}#sk-container-id-1 div.sk-parallel-item:first-child::after {align-self: flex-end;width: 50%;}#sk-container-id-1 div.sk-parallel-item:last-child::after {align-self: flex-start;width: 50%;}#sk-container-id-1 div.sk-parallel-item:only-child::after {width: 0;}#sk-container-id-1 div.sk-dashed-wrapped {border: 1px dashed gray;margin: 0 0.4em 0.5em 0.4em;box-sizing: border-box;padding-bottom: 0.4em;background-color: white;}#sk-container-id-1 div.sk-label label {font-family: monospace;font-weight: bold;display: inline-block;line-height: 1.2em;}#sk-container-id-1 div.sk-label-container {text-align: center;}#sk-container-id-1 div.sk-container {/* jupyter's `normalize.less` sets `[hidden] { display: none; }` but bootstrap.min.css set `[hidden] { display: none !important; }` so we also need the `!important` here to be able to override the default hidden behavior on the sphinx rendered scikit-learn.org. See: https://github.com/scikit-learn/scikit-learn/issues/21755 */display: inline-block !important;position: relative;}#sk-container-id-1 div.sk-text-repr-fallback {display: none;}</style><div id=\"sk-container-id-1\" class=\"sk-top-container\"><div class=\"sk-text-repr-fallback\"><pre>RandomForestRegressor(max_depth=25)</pre><b>In a Jupyter environment, please rerun this cell to show the HTML representation or trust the notebook. <br />On GitHub, the HTML representation is unable to render, please try loading this page with nbviewer.org.</b></div><div class=\"sk-container\" hidden><div class=\"sk-item\"><div class=\"sk-estimator sk-toggleable\"><input class=\"sk-toggleable__control sk-hidden--visually\" id=\"sk-estimator-id-1\" type=\"checkbox\" checked><label for=\"sk-estimator-id-1\" class=\"sk-toggleable__label sk-toggleable__label-arrow\">RandomForestRegressor</label><div class=\"sk-toggleable__content\"><pre>RandomForestRegressor(max_depth=25)</pre></div></div></div></div></div>"
      ],
      "text/plain": [
       "RandomForestRegressor(max_depth=25)"
      ]
     },
     "execution_count": 7,
     "metadata": {},
     "output_type": "execute_result"
    }
   ],
   "source": [
    "model_rf.fit(X, y)"
   ]
  },
  {
   "attachments": {},
   "cell_type": "markdown",
   "id": "5fcdbf52-2078-4109-9e4a-177c4f0a108d",
   "metadata": {},
   "source": [
    "### Create Strategy class"
   ]
  },
  {
   "cell_type": "code",
   "execution_count": 8,
   "id": "a0270708",
   "metadata": {},
   "outputs": [
    {
     "name": "stdout",
     "output_type": "stream",
     "text": [
      "2.3540889997759806 / 1.534304076699264\n"
     ]
    }
   ],
   "source": [
    "predict = model_rf.predict(X)\n",
    "se = (predict-y).apply(lambda x: x*x)\n",
    "mse = se.mean()\n",
    "rmse = np.sqrt(mse)\n",
    "print(f\"{mse} / {rmse}\")\n"
   ]
  },
  {
   "cell_type": "code",
   "execution_count": 9,
   "id": "29d112d5",
   "metadata": {},
   "outputs": [],
   "source": [
    "from backtesting import Backtest, Strategy"
   ]
  },
  {
   "cell_type": "code",
   "execution_count": 10,
   "id": "d13729a7",
   "metadata": {},
   "outputs": [],
   "source": [
    "class SimpleRegression(Strategy):\n",
    "    limit_buy = 1\n",
    "    limit_sell = -5\n",
    "    divider = 10\n",
    "    \n",
    "    def init(self):\n",
    "        self.model = model_rf\n",
    "        self.already_bought = False\n",
    "        print(f\"buy above {self.limit_buy} , sell under{self.limit_sell}\")\n",
    "\n",
    "    def next(self):\n",
    "        explanatory_today = self.data.df.iloc[[-1], :]\n",
    "        forecast_tomorrow = self.model.predict(explanatory_today)\n",
    "        \n",
    "        if forecast_tomorrow > self.limit_buy/self.divider and self.already_bought == False:\n",
    "            self.buy()\n",
    "            self.already_bought = True\n",
    "        elif forecast_tomorrow < self.limit_sell/self.divider and self.already_bought == True:\n",
    "            self.sell()\n",
    "            self.already_bought = False\n",
    "        else:\n",
    "            pass"
   ]
  },
  {
   "cell_type": "code",
   "execution_count": 11,
   "id": "c390e158",
   "metadata": {},
   "outputs": [
    {
     "data": {
      "text/plain": [
       "0.815762442853524"
      ]
     },
     "execution_count": 11,
     "metadata": {},
     "output_type": "execute_result"
    }
   ],
   "source": [
    "model_rf.score(X,y)"
   ]
  },
  {
   "attachments": {},
   "cell_type": "markdown",
   "id": "6fd9cd4c-9243-4404-8ceb-6bf2428c863b",
   "metadata": {},
   "source": [
    "### Create `Backtest` class"
   ]
  },
  {
   "cell_type": "code",
   "execution_count": 12,
   "id": "58ba9a1b-5684-464b-ae71-dfe639169d14",
   "metadata": {},
   "outputs": [],
   "source": [
    "bt = Backtest(X, SimpleRegression, cash=10000,  commission=.002, exclusive_orders=True)\n",
    "\n"
   ]
  },
  {
   "attachments": {},
   "cell_type": "markdown",
   "id": "1bdb3f49-ac6c-461b-842d-3725cdb75338",
   "metadata": {},
   "source": [
    "### Optimize backtesting with multiple combinations"
   ]
  },
  {
   "cell_type": "code",
   "execution_count": 13,
   "id": "843ccf35-f8c6-4b7b-b8dc-aa36c60043ff",
   "metadata": {},
   "outputs": [],
   "source": [
    "import multiprocessing as mp\n",
    "try:\n",
    "  mp.set_start_method('fork')\n",
    "except:\n",
    "  pass"
   ]
  },
  {
   "attachments": {},
   "cell_type": "markdown",
   "id": "e20e689d-f4c5-43ec-b6c1-9db2f8c59ff0",
   "metadata": {},
   "source": [
    "### Which are the best values for the parameters?"
   ]
  },
  {
   "cell_type": "code",
   "execution_count": 14,
   "id": "86ece58d-9808-4a74-960b-9baf595c34bb",
   "metadata": {},
   "outputs": [
    {
     "name": "stdout",
     "output_type": "stream",
     "text": [
      "buy above 1 , sell under-5\n",
      "buy above 4 , sell under0\n",
      "buy above 2 , sell under-2\n",
      "buy above 3 , sell under-8\n",
      "buy above 6 , sell under-4\n",
      "buy above 5 , sell under-7\n",
      "buy above 2 , sell under-6\n",
      "buy above 3 , sell under-1\n",
      "buy above 6 , sell under-2\n",
      "buy above 1 , sell under-5\n",
      "buy above 6 , sell under-7\n",
      "buy above 1 , sell under-4\n",
      "buy above 3 , sell under-2\n",
      "buy above 8 , sell under-5\n",
      "buy above 4 , sell under-1\n",
      "buy above 7 , sell under-5\n",
      "buy above 3 , sell under-3\n",
      "buy above 2 , sell under-5\n",
      "buy above 5 , sell under0\n",
      "buy above 1 , sell under-1\n",
      "buy above 7 , sell under-6\n",
      "buy above 8 , sell under-2\n",
      "buy above 1 , sell under-3\n",
      "buy above 6 , sell under-6\n",
      "buy above 7 , sell under-7\n",
      "buy above 4 , sell under-4\n",
      "buy above 0 , sell under-7\n",
      "buy above 0 , sell under-8\n",
      "buy above 1 , sell under-8\n",
      "buy above 1 , sell under-7\n",
      "buy above 0 , sell under-4\n"
     ]
    },
    {
     "name": "stderr",
     "output_type": "stream",
     "text": [
      "/home/remco/Documents/python-training/venv/lib/python3.8/site-packages/skopt/optimizer/optimizer.py:517: UserWarning: The objective has been evaluated at point [0, -4] before, using random point [8, 0]\n",
      "  warnings.warn(\n"
     ]
    },
    {
     "name": "stdout",
     "output_type": "stream",
     "text": [
      "buy above 8 , sell under0\n"
     ]
    },
    {
     "name": "stderr",
     "output_type": "stream",
     "text": [
      "/home/remco/Documents/python-training/venv/lib/python3.8/site-packages/skopt/optimizer/optimizer.py:517: UserWarning: The objective has been evaluated at point [0, -4] before, using random point [8, -1]\n",
      "  warnings.warn(\n"
     ]
    },
    {
     "name": "stdout",
     "output_type": "stream",
     "text": [
      "buy above 8 , sell under-1\n"
     ]
    },
    {
     "name": "stderr",
     "output_type": "stream",
     "text": [
      "/home/remco/Documents/python-training/venv/lib/python3.8/site-packages/skopt/optimizer/optimizer.py:517: UserWarning: The objective has been evaluated at point [0, -4] before, using random point [1, -7]\n",
      "  warnings.warn(\n",
      "/home/remco/Documents/python-training/venv/lib/python3.8/site-packages/skopt/optimizer/optimizer.py:517: UserWarning: The objective has been evaluated at point [0, -4] before, using random point [6, -5]\n",
      "  warnings.warn(\n"
     ]
    },
    {
     "name": "stdout",
     "output_type": "stream",
     "text": [
      "buy above 6 , sell under-5\n"
     ]
    },
    {
     "name": "stderr",
     "output_type": "stream",
     "text": [
      "/home/remco/Documents/python-training/venv/lib/python3.8/site-packages/skopt/optimizer/optimizer.py:517: UserWarning: The objective has been evaluated at point [0, -4] before, using random point [1, -7]\n",
      "  warnings.warn(\n",
      "/home/remco/Documents/python-training/venv/lib/python3.8/site-packages/skopt/optimizer/optimizer.py:517: UserWarning: The objective has been evaluated at point [0, -4] before, using random point [0, -3]\n",
      "  warnings.warn(\n"
     ]
    },
    {
     "name": "stdout",
     "output_type": "stream",
     "text": [
      "buy above 0 , sell under-3\n",
      "buy above 0 , sell under-5\n",
      "buy above 0 , sell under-6\n"
     ]
    },
    {
     "name": "stderr",
     "output_type": "stream",
     "text": [
      "/home/remco/Documents/python-training/venv/lib/python3.8/site-packages/skopt/optimizer/optimizer.py:517: UserWarning: The objective has been evaluated at point [0, -6] before, using random point [5, 0]\n",
      "  warnings.warn(\n"
     ]
    },
    {
     "name": "stdout",
     "output_type": "stream",
     "text": [
      "buy above 0 , sell under0\n"
     ]
    },
    {
     "name": "stderr",
     "output_type": "stream",
     "text": [
      "/home/remco/Documents/python-training/venv/lib/python3.8/site-packages/skopt/optimizer/optimizer.py:517: UserWarning: The objective has been evaluated at point [0, 0] before, using random point [2, -4]\n",
      "  warnings.warn(\n"
     ]
    },
    {
     "name": "stdout",
     "output_type": "stream",
     "text": [
      "buy above 2 , sell under-4\n"
     ]
    },
    {
     "name": "stderr",
     "output_type": "stream",
     "text": [
      "/home/remco/Documents/python-training/venv/lib/python3.8/site-packages/skopt/optimizer/optimizer.py:517: UserWarning: The objective has been evaluated at point [0, 0] before, using random point [6, -3]\n",
      "  warnings.warn(\n"
     ]
    },
    {
     "name": "stdout",
     "output_type": "stream",
     "text": [
      "buy above 6 , sell under-3\n"
     ]
    },
    {
     "name": "stderr",
     "output_type": "stream",
     "text": [
      "/home/remco/Documents/python-training/venv/lib/python3.8/site-packages/skopt/optimizer/optimizer.py:517: UserWarning: The objective has been evaluated at point [0, -3] before, using random point [0, -1]\n",
      "  warnings.warn(\n"
     ]
    },
    {
     "name": "stdout",
     "output_type": "stream",
     "text": [
      "buy above 0 , sell under-1\n"
     ]
    },
    {
     "name": "stderr",
     "output_type": "stream",
     "text": [
      "/home/remco/Documents/python-training/venv/lib/python3.8/site-packages/skopt/optimizer/optimizer.py:517: UserWarning: The objective has been evaluated at point [0, 0] before, using random point [5, -3]\n",
      "  warnings.warn(\n"
     ]
    },
    {
     "name": "stdout",
     "output_type": "stream",
     "text": [
      "buy above 5 , sell under-3\n"
     ]
    },
    {
     "name": "stderr",
     "output_type": "stream",
     "text": [
      "/home/remco/Documents/python-training/venv/lib/python3.8/site-packages/skopt/optimizer/optimizer.py:517: UserWarning: The objective has been evaluated at point [0, -1] before, using random point [4, -1]\n",
      "  warnings.warn(\n",
      "/home/remco/Documents/python-training/venv/lib/python3.8/site-packages/skopt/optimizer/optimizer.py:517: UserWarning: The objective has been evaluated at point [0, -1] before, using random point [0, -7]\n",
      "  warnings.warn(\n",
      "/home/remco/Documents/python-training/venv/lib/python3.8/site-packages/skopt/optimizer/optimizer.py:517: UserWarning: The objective has been evaluated at point [0, 0] before, using random point [8, -3]\n",
      "  warnings.warn(\n"
     ]
    },
    {
     "name": "stdout",
     "output_type": "stream",
     "text": [
      "buy above 8 , sell under-3\n"
     ]
    },
    {
     "name": "stderr",
     "output_type": "stream",
     "text": [
      "/home/remco/Documents/python-training/venv/lib/python3.8/site-packages/skopt/optimizer/optimizer.py:517: UserWarning: The objective has been evaluated at point [0, -1] before, using random point [4, -7]\n",
      "  warnings.warn(\n"
     ]
    },
    {
     "name": "stdout",
     "output_type": "stream",
     "text": [
      "buy above 4 , sell under-7\n"
     ]
    },
    {
     "name": "stderr",
     "output_type": "stream",
     "text": [
      "/home/remco/Documents/python-training/venv/lib/python3.8/site-packages/skopt/optimizer/optimizer.py:517: UserWarning: The objective has been evaluated at point [0, 0] before, using random point [7, -2]\n",
      "  warnings.warn(\n"
     ]
    },
    {
     "name": "stdout",
     "output_type": "stream",
     "text": [
      "buy above 7 , sell under-2\n"
     ]
    },
    {
     "name": "stderr",
     "output_type": "stream",
     "text": [
      "/home/remco/Documents/python-training/venv/lib/python3.8/site-packages/skopt/optimizer/optimizer.py:517: UserWarning: The objective has been evaluated at point [0, 0] before, using random point [8, -3]\n",
      "  warnings.warn(\n",
      "/home/remco/Documents/python-training/venv/lib/python3.8/site-packages/skopt/optimizer/optimizer.py:517: UserWarning: The objective has been evaluated at point [0, 0] before, using random point [5, -1]\n",
      "  warnings.warn(\n"
     ]
    },
    {
     "name": "stdout",
     "output_type": "stream",
     "text": [
      "buy above 5 , sell under-1\n"
     ]
    },
    {
     "name": "stderr",
     "output_type": "stream",
     "text": [
      "/home/remco/Documents/python-training/venv/lib/python3.8/site-packages/skopt/optimizer/optimizer.py:517: UserWarning: The objective has been evaluated at point [0, 0] before, using random point [0, -3]\n",
      "  warnings.warn(\n",
      "/home/remco/Documents/python-training/venv/lib/python3.8/site-packages/skopt/optimizer/optimizer.py:517: UserWarning: The objective has been evaluated at point [0, 0] before, using random point [0, -5]\n",
      "  warnings.warn(\n",
      "/home/remco/Documents/python-training/venv/lib/python3.8/site-packages/skopt/optimizer/optimizer.py:517: UserWarning: The objective has been evaluated at point [0, 0] before, using random point [7, -6]\n",
      "  warnings.warn(\n",
      "/home/remco/Documents/python-training/venv/lib/python3.8/site-packages/skopt/optimizer/optimizer.py:517: UserWarning: The objective has been evaluated at point [0, -1] before, using random point [8, 0]\n",
      "  warnings.warn(\n",
      "/home/remco/Documents/python-training/venv/lib/python3.8/site-packages/skopt/optimizer/optimizer.py:517: UserWarning: The objective has been evaluated at point [0, 0] before, using random point [0, -5]\n",
      "  warnings.warn(\n",
      "/home/remco/Documents/python-training/venv/lib/python3.8/site-packages/skopt/optimizer/optimizer.py:517: UserWarning: The objective has been evaluated at point [0, -1] before, using random point [8, -7]\n",
      "  warnings.warn(\n"
     ]
    },
    {
     "name": "stdout",
     "output_type": "stream",
     "text": [
      "buy above 8 , sell under-7\n"
     ]
    },
    {
     "name": "stderr",
     "output_type": "stream",
     "text": [
      "/home/remco/Documents/python-training/venv/lib/python3.8/site-packages/skopt/optimizer/optimizer.py:517: UserWarning: The objective has been evaluated at point [0, 0] before, using random point [8, -1]\n",
      "  warnings.warn(\n",
      "/home/remco/Documents/python-training/venv/lib/python3.8/site-packages/skopt/optimizer/optimizer.py:517: UserWarning: The objective has been evaluated at point [0, -1] before, using random point [2, 0]\n",
      "  warnings.warn(\n"
     ]
    },
    {
     "name": "stdout",
     "output_type": "stream",
     "text": [
      "buy above 2 , sell under0\n"
     ]
    },
    {
     "name": "stderr",
     "output_type": "stream",
     "text": [
      "/home/remco/Documents/python-training/venv/lib/python3.8/site-packages/skopt/optimizer/optimizer.py:517: UserWarning: The objective has been evaluated at point [0, -1] before, using random point [4, 0]\n",
      "  warnings.warn(\n",
      "/home/remco/Documents/python-training/venv/lib/python3.8/site-packages/skopt/optimizer/optimizer.py:517: UserWarning: The objective has been evaluated at point [0, -1] before, using random point [2, -6]\n",
      "  warnings.warn(\n",
      "/home/remco/Documents/python-training/venv/lib/python3.8/site-packages/skopt/optimizer/optimizer.py:517: UserWarning: The objective has been evaluated at point [0, 0] before, using random point [5, -2]\n",
      "  warnings.warn(\n"
     ]
    },
    {
     "name": "stdout",
     "output_type": "stream",
     "text": [
      "buy above 5 , sell under-2\n"
     ]
    },
    {
     "name": "stderr",
     "output_type": "stream",
     "text": [
      "/home/remco/Documents/python-training/venv/lib/python3.8/site-packages/skopt/optimizer/optimizer.py:517: UserWarning: The objective has been evaluated at point [0, 0] before, using random point [3, -4]\n",
      "  warnings.warn(\n"
     ]
    },
    {
     "name": "stdout",
     "output_type": "stream",
     "text": [
      "buy above 3 , sell under-4\n"
     ]
    },
    {
     "name": "stderr",
     "output_type": "stream",
     "text": [
      "/home/remco/Documents/python-training/venv/lib/python3.8/site-packages/skopt/optimizer/optimizer.py:517: UserWarning: The objective has been evaluated at point [0, -1] before, using random point [0, -4]\n",
      "  warnings.warn(\n",
      "/home/remco/Documents/python-training/venv/lib/python3.8/site-packages/skopt/optimizer/optimizer.py:517: UserWarning: The objective has been evaluated at point [0, 0] before, using random point [0, -7]\n",
      "  warnings.warn(\n",
      "/home/remco/Documents/python-training/venv/lib/python3.8/site-packages/skopt/optimizer/optimizer.py:517: UserWarning: The objective has been evaluated at point [0, -1] before, using random point [2, -8]\n",
      "  warnings.warn(\n"
     ]
    },
    {
     "name": "stdout",
     "output_type": "stream",
     "text": [
      "buy above 2 , sell under-8\n"
     ]
    },
    {
     "name": "stderr",
     "output_type": "stream",
     "text": [
      "/home/remco/Documents/python-training/venv/lib/python3.8/site-packages/skopt/optimizer/optimizer.py:517: UserWarning: The objective has been evaluated at point [0, 0] before, using random point [3, -6]\n",
      "  warnings.warn(\n"
     ]
    },
    {
     "name": "stdout",
     "output_type": "stream",
     "text": [
      "buy above 3 , sell under-6\n"
     ]
    },
    {
     "name": "stderr",
     "output_type": "stream",
     "text": [
      "/home/remco/Documents/python-training/venv/lib/python3.8/site-packages/skopt/optimizer/optimizer.py:517: UserWarning: The objective has been evaluated at point [0, 0] before, using random point [7, -5]\n",
      "  warnings.warn(\n",
      "/home/remco/Documents/python-training/venv/lib/python3.8/site-packages/skopt/optimizer/optimizer.py:517: UserWarning: The objective has been evaluated at point [0, -1] before, using random point [6, -3]\n",
      "  warnings.warn(\n",
      "/home/remco/Documents/python-training/venv/lib/python3.8/site-packages/skopt/optimizer/optimizer.py:517: UserWarning: The objective has been evaluated at point [0, -1] before, using random point [1, -2]\n",
      "  warnings.warn(\n"
     ]
    },
    {
     "name": "stdout",
     "output_type": "stream",
     "text": [
      "buy above 1 , sell under-2\n"
     ]
    },
    {
     "name": "stderr",
     "output_type": "stream",
     "text": [
      "/home/remco/Documents/python-training/venv/lib/python3.8/site-packages/skopt/optimizer/optimizer.py:517: UserWarning: The objective has been evaluated at point [0, 0] before, using random point [4, -5]\n",
      "  warnings.warn(\n"
     ]
    },
    {
     "name": "stdout",
     "output_type": "stream",
     "text": [
      "buy above 4 , sell under-5\n"
     ]
    },
    {
     "name": "stderr",
     "output_type": "stream",
     "text": [
      "/home/remco/Documents/python-training/venv/lib/python3.8/site-packages/skopt/optimizer/optimizer.py:517: UserWarning: The objective has been evaluated at point [0, -1] before, using random point [8, -7]\n",
      "  warnings.warn(\n",
      "/home/remco/Documents/python-training/venv/lib/python3.8/site-packages/skopt/optimizer/optimizer.py:517: UserWarning: The objective has been evaluated at point [0, -1] before, using random point [0, -1]\n",
      "  warnings.warn(\n",
      "/home/remco/Documents/python-training/venv/lib/python3.8/site-packages/skopt/optimizer/optimizer.py:517: UserWarning: The objective has been evaluated at point [0, -1] before, using random point [3, -3]\n",
      "  warnings.warn(\n",
      "/home/remco/Documents/python-training/venv/lib/python3.8/site-packages/skopt/optimizer/optimizer.py:517: UserWarning: The objective has been evaluated at point [0, 0] before, using random point [2, -2]\n",
      "  warnings.warn(\n",
      "/home/remco/Documents/python-training/venv/lib/python3.8/site-packages/skopt/optimizer/optimizer.py:517: UserWarning: The objective has been evaluated at point [0, -1] before, using random point [3, -8]\n",
      "  warnings.warn(\n",
      "/home/remco/Documents/python-training/venv/lib/python3.8/site-packages/skopt/optimizer/optimizer.py:517: UserWarning: The objective has been evaluated at point [0, -1] before, using random point [4, -7]\n",
      "  warnings.warn(\n",
      "/home/remco/Documents/python-training/venv/lib/python3.8/site-packages/skopt/optimizer/optimizer.py:517: UserWarning: The objective has been evaluated at point [0, -1] before, using random point [8, 0]\n",
      "  warnings.warn(\n",
      "/home/remco/Documents/python-training/venv/lib/python3.8/site-packages/skopt/optimizer/optimizer.py:517: UserWarning: The objective has been evaluated at point [0, 0] before, using random point [7, 0]\n",
      "  warnings.warn(\n"
     ]
    },
    {
     "name": "stdout",
     "output_type": "stream",
     "text": [
      "buy above 7 , sell under0\n"
     ]
    },
    {
     "name": "stderr",
     "output_type": "stream",
     "text": [
      "/home/remco/Documents/python-training/venv/lib/python3.8/site-packages/skopt/optimizer/optimizer.py:517: UserWarning: The objective has been evaluated at point [0, 0] before, using random point [3, -4]\n",
      "  warnings.warn(\n",
      "/home/remco/Documents/python-training/venv/lib/python3.8/site-packages/skopt/optimizer/optimizer.py:517: UserWarning: The objective has been evaluated at point [0, -1] before, using random point [8, -8]\n",
      "  warnings.warn(\n"
     ]
    },
    {
     "name": "stdout",
     "output_type": "stream",
     "text": [
      "buy above 8 , sell under-8\n"
     ]
    },
    {
     "name": "stderr",
     "output_type": "stream",
     "text": [
      "/home/remco/Documents/python-training/venv/lib/python3.8/site-packages/skopt/optimizer/optimizer.py:517: UserWarning: The objective has been evaluated at point [0, 0] before, using random point [3, -4]\n",
      "  warnings.warn(\n",
      "/home/remco/Documents/python-training/venv/lib/python3.8/site-packages/skopt/optimizer/optimizer.py:517: UserWarning: The objective has been evaluated at point [0, 0] before, using random point [0, -5]\n",
      "  warnings.warn(\n",
      "/home/remco/Documents/python-training/venv/lib/python3.8/site-packages/skopt/optimizer/optimizer.py:517: UserWarning: The objective has been evaluated at point [0, -1] before, using random point [6, -6]\n",
      "  warnings.warn(\n",
      "/home/remco/Documents/python-training/venv/lib/python3.8/site-packages/skopt/optimizer/optimizer.py:517: UserWarning: The objective has been evaluated at point [0, 0] before, using random point [7, -6]\n",
      "  warnings.warn(\n",
      "/home/remco/Documents/python-training/venv/lib/python3.8/site-packages/skopt/optimizer/optimizer.py:517: UserWarning: The objective has been evaluated at point [0, -1] before, using random point [4, -7]\n",
      "  warnings.warn(\n",
      "/home/remco/Documents/python-training/venv/lib/python3.8/site-packages/skopt/optimizer/optimizer.py:517: UserWarning: The objective has been evaluated at point [0, -1] before, using random point [5, -4]\n",
      "  warnings.warn(\n"
     ]
    },
    {
     "name": "stdout",
     "output_type": "stream",
     "text": [
      "buy above 5 , sell under-4\n"
     ]
    },
    {
     "name": "stderr",
     "output_type": "stream",
     "text": [
      "/home/remco/Documents/python-training/venv/lib/python3.8/site-packages/skopt/optimizer/optimizer.py:517: UserWarning: The objective has been evaluated at point [0, -1] before, using random point [3, 0]\n",
      "  warnings.warn(\n"
     ]
    },
    {
     "name": "stdout",
     "output_type": "stream",
     "text": [
      "buy above 3 , sell under0\n"
     ]
    },
    {
     "name": "stderr",
     "output_type": "stream",
     "text": [
      "/home/remco/Documents/python-training/venv/lib/python3.8/site-packages/skopt/optimizer/optimizer.py:517: UserWarning: The objective has been evaluated at point [0, 0] before, using random point [2, -4]\n",
      "  warnings.warn(\n",
      "/home/remco/Documents/python-training/venv/lib/python3.8/site-packages/skopt/optimizer/optimizer.py:517: UserWarning: The objective has been evaluated at point [0, 0] before, using random point [7, -7]\n",
      "  warnings.warn(\n",
      "/home/remco/Documents/python-training/venv/lib/python3.8/site-packages/skopt/optimizer/optimizer.py:517: UserWarning: The objective has been evaluated at point [0, -1] before, using random point [6, -1]\n",
      "  warnings.warn(\n"
     ]
    },
    {
     "name": "stdout",
     "output_type": "stream",
     "text": [
      "buy above 6 , sell under-1\n"
     ]
    },
    {
     "name": "stderr",
     "output_type": "stream",
     "text": [
      "/home/remco/Documents/python-training/venv/lib/python3.8/site-packages/skopt/optimizer/optimizer.py:517: UserWarning: The objective has been evaluated at point [0, 0] before, using random point [3, -8]\n",
      "  warnings.warn(\n",
      "/home/remco/Documents/python-training/venv/lib/python3.8/site-packages/skopt/optimizer/optimizer.py:517: UserWarning: The objective has been evaluated at point [0, 0] before, using random point [6, -6]\n",
      "  warnings.warn(\n",
      "/home/remco/Documents/python-training/venv/lib/python3.8/site-packages/skopt/optimizer/optimizer.py:517: UserWarning: The objective has been evaluated at point [0, -1] before, using random point [2, 0]\n",
      "  warnings.warn(\n",
      "/home/remco/Documents/python-training/venv/lib/python3.8/site-packages/skopt/optimizer/optimizer.py:517: UserWarning: The objective has been evaluated at point [0, -1] before, using random point [2, -7]\n",
      "  warnings.warn(\n"
     ]
    },
    {
     "name": "stdout",
     "output_type": "stream",
     "text": [
      "buy above 2 , sell under-7\n"
     ]
    },
    {
     "name": "stderr",
     "output_type": "stream",
     "text": [
      "/home/remco/Documents/python-training/venv/lib/python3.8/site-packages/skopt/optimizer/optimizer.py:517: UserWarning: The objective has been evaluated at point [0, 0] before, using random point [6, 0]\n",
      "  warnings.warn(\n"
     ]
    },
    {
     "name": "stdout",
     "output_type": "stream",
     "text": [
      "buy above 6 , sell under0\n"
     ]
    },
    {
     "name": "stderr",
     "output_type": "stream",
     "text": [
      "/home/remco/Documents/python-training/venv/lib/python3.8/site-packages/skopt/optimizer/optimizer.py:517: UserWarning: The objective has been evaluated at point [0, -1] before, using random point [0, -7]\n",
      "  warnings.warn(\n",
      "/home/remco/Documents/python-training/venv/lib/python3.8/site-packages/skopt/optimizer/optimizer.py:517: UserWarning: The objective has been evaluated at point [0, -1] before, using random point [3, -2]\n",
      "  warnings.warn(\n",
      "/home/remco/Documents/python-training/venv/lib/python3.8/site-packages/skopt/optimizer/optimizer.py:517: UserWarning: The objective has been evaluated at point [0, -1] before, using random point [2, -7]\n",
      "  warnings.warn(\n",
      "/home/remco/Documents/python-training/venv/lib/python3.8/site-packages/skopt/optimizer/optimizer.py:517: UserWarning: The objective has been evaluated at point [0, 0] before, using random point [2, 0]\n",
      "  warnings.warn(\n",
      "/home/remco/Documents/python-training/venv/lib/python3.8/site-packages/skopt/optimizer/optimizer.py:517: UserWarning: The objective has been evaluated at point [0, 0] before, using random point [2, -8]\n",
      "  warnings.warn(\n",
      "/home/remco/Documents/python-training/venv/lib/python3.8/site-packages/skopt/optimizer/optimizer.py:517: UserWarning: The objective has been evaluated at point [0, 0] before, using random point [4, -4]\n",
      "  warnings.warn(\n",
      "/home/remco/Documents/python-training/venv/lib/python3.8/site-packages/skopt/optimizer/optimizer.py:517: UserWarning: The objective has been evaluated at point [0, -1] before, using random point [4, -2]\n",
      "  warnings.warn(\n"
     ]
    },
    {
     "name": "stdout",
     "output_type": "stream",
     "text": [
      "buy above 4 , sell under-2\n"
     ]
    },
    {
     "name": "stderr",
     "output_type": "stream",
     "text": [
      "/home/remco/Documents/python-training/venv/lib/python3.8/site-packages/skopt/optimizer/optimizer.py:517: UserWarning: The objective has been evaluated at point [0, 0] before, using random point [4, -4]\n",
      "  warnings.warn(\n",
      "/home/remco/Documents/python-training/venv/lib/python3.8/site-packages/skopt/optimizer/optimizer.py:517: UserWarning: The objective has been evaluated at point [0, -1] before, using random point [1, -5]\n",
      "  warnings.warn(\n",
      "/home/remco/Documents/python-training/venv/lib/python3.8/site-packages/skopt/optimizer/optimizer.py:517: UserWarning: The objective has been evaluated at point [0, 0] before, using random point [8, -3]\n",
      "  warnings.warn(\n",
      "/home/remco/Documents/python-training/venv/lib/python3.8/site-packages/skopt/optimizer/optimizer.py:517: UserWarning: The objective has been evaluated at point [0, -1] before, using random point [1, -6]\n",
      "  warnings.warn(\n"
     ]
    },
    {
     "name": "stdout",
     "output_type": "stream",
     "text": [
      "buy above 1 , sell under-6\n"
     ]
    },
    {
     "name": "stderr",
     "output_type": "stream",
     "text": [
      "/home/remco/Documents/python-training/venv/lib/python3.8/site-packages/skopt/optimizer/optimizer.py:517: UserWarning: The objective has been evaluated at point [0, -1] before, using random point [5, -1]\n",
      "  warnings.warn(\n",
      "/home/remco/Documents/python-training/venv/lib/python3.8/site-packages/skopt/optimizer/optimizer.py:517: UserWarning: The objective has been evaluated at point [0, -1] before, using random point [2, -1]\n",
      "  warnings.warn(\n"
     ]
    },
    {
     "name": "stdout",
     "output_type": "stream",
     "text": [
      "buy above 2 , sell under-1\n"
     ]
    },
    {
     "name": "stderr",
     "output_type": "stream",
     "text": [
      "/home/remco/Documents/python-training/venv/lib/python3.8/site-packages/skopt/optimizer/optimizer.py:517: UserWarning: The objective has been evaluated at point [0, -1] before, using random point [8, -1]\n",
      "  warnings.warn(\n",
      "/home/remco/Documents/python-training/venv/lib/python3.8/site-packages/skopt/optimizer/optimizer.py:517: UserWarning: The objective has been evaluated at point [0, -1] before, using random point [4, -3]\n",
      "  warnings.warn(\n"
     ]
    },
    {
     "name": "stdout",
     "output_type": "stream",
     "text": [
      "buy above 4 , sell under-3\n"
     ]
    },
    {
     "name": "stderr",
     "output_type": "stream",
     "text": [
      "/home/remco/Documents/python-training/venv/lib/python3.8/site-packages/skopt/optimizer/optimizer.py:517: UserWarning: The objective has been evaluated at point [0, -1] before, using random point [8, -5]\n",
      "  warnings.warn(\n",
      "/home/remco/Documents/python-training/venv/lib/python3.8/site-packages/skopt/optimizer/optimizer.py:517: UserWarning: The objective has been evaluated at point [0, 0] before, using random point [4, -7]\n",
      "  warnings.warn(\n",
      "/home/remco/Documents/python-training/venv/lib/python3.8/site-packages/skopt/optimizer/optimizer.py:517: UserWarning: The objective has been evaluated at point [0, -1] before, using random point [2, 0]\n",
      "  warnings.warn(\n",
      "/home/remco/Documents/python-training/venv/lib/python3.8/site-packages/skopt/optimizer/optimizer.py:517: UserWarning: The objective has been evaluated at point [0, -1] before, using random point [5, -1]\n",
      "  warnings.warn(\n",
      "/home/remco/Documents/python-training/venv/lib/python3.8/site-packages/skopt/optimizer/optimizer.py:517: UserWarning: The objective has been evaluated at point [0, 0] before, using random point [3, -5]\n",
      "  warnings.warn(\n"
     ]
    },
    {
     "name": "stdout",
     "output_type": "stream",
     "text": [
      "buy above 3 , sell under-5\n"
     ]
    },
    {
     "name": "stderr",
     "output_type": "stream",
     "text": [
      "/home/remco/Documents/python-training/venv/lib/python3.8/site-packages/skopt/optimizer/optimizer.py:517: UserWarning: The objective has been evaluated at point [0, 0] before, using random point [6, -3]\n",
      "  warnings.warn(\n",
      "/home/remco/Documents/python-training/venv/lib/python3.8/site-packages/skopt/optimizer/optimizer.py:517: UserWarning: The objective has been evaluated at point [0, -1] before, using random point [7, -6]\n",
      "  warnings.warn(\n",
      "/home/remco/Documents/python-training/venv/lib/python3.8/site-packages/skopt/optimizer/optimizer.py:517: UserWarning: The objective has been evaluated at point [0, -1] before, using random point [5, -4]\n",
      "  warnings.warn(\n",
      "/home/remco/Documents/python-training/venv/lib/python3.8/site-packages/skopt/optimizer/optimizer.py:517: UserWarning: The objective has been evaluated at point [0, -1] before, using random point [5, -5]\n",
      "  warnings.warn(\n"
     ]
    },
    {
     "name": "stdout",
     "output_type": "stream",
     "text": [
      "buy above 5 , sell under-5\n"
     ]
    },
    {
     "name": "stderr",
     "output_type": "stream",
     "text": [
      "/home/remco/Documents/python-training/venv/lib/python3.8/site-packages/skopt/optimizer/optimizer.py:517: UserWarning: The objective has been evaluated at point [0, 0] before, using random point [0, 0]\n",
      "  warnings.warn(\n",
      "/home/remco/Documents/python-training/venv/lib/python3.8/site-packages/skopt/optimizer/optimizer.py:517: UserWarning: The objective has been evaluated at point [0, 0] before, using random point [7, -7]\n",
      "  warnings.warn(\n",
      "/home/remco/Documents/python-training/venv/lib/python3.8/site-packages/skopt/optimizer/optimizer.py:517: UserWarning: The objective has been evaluated at point [0, 0] before, using random point [7, -3]\n",
      "  warnings.warn(\n"
     ]
    },
    {
     "name": "stdout",
     "output_type": "stream",
     "text": [
      "buy above 7 , sell under-3\n"
     ]
    },
    {
     "name": "stderr",
     "output_type": "stream",
     "text": [
      "/home/remco/Documents/python-training/venv/lib/python3.8/site-packages/skopt/optimizer/optimizer.py:517: UserWarning: The objective has been evaluated at point [0, 0] before, using random point [1, -7]\n",
      "  warnings.warn(\n"
     ]
    },
    {
     "name": "stdout",
     "output_type": "stream",
     "text": [
      "buy above 1 , sell under0\n"
     ]
    },
    {
     "name": "stderr",
     "output_type": "stream",
     "text": [
      "/home/remco/Documents/python-training/venv/lib/python3.8/site-packages/skopt/optimizer/optimizer.py:517: UserWarning: The objective has been evaluated at point [0, 0] before, using random point [3, -6]\n",
      "  warnings.warn(\n",
      "/home/remco/Documents/python-training/venv/lib/python3.8/site-packages/skopt/optimizer/optimizer.py:517: UserWarning: The objective has been evaluated at point [0, 0] before, using random point [4, -2]\n",
      "  warnings.warn(\n",
      "/home/remco/Documents/python-training/venv/lib/python3.8/site-packages/skopt/optimizer/optimizer.py:517: UserWarning: The objective has been evaluated at point [0, 0] before, using random point [6, -5]\n",
      "  warnings.warn(\n",
      "/home/remco/Documents/python-training/venv/lib/python3.8/site-packages/skopt/optimizer/optimizer.py:517: UserWarning: The objective has been evaluated at point [0, 0] before, using random point [6, -3]\n",
      "  warnings.warn(\n",
      "/home/remco/Documents/python-training/venv/lib/python3.8/site-packages/skopt/optimizer/optimizer.py:517: UserWarning: The objective has been evaluated at point [0, 0] before, using random point [7, -7]\n",
      "  warnings.warn(\n",
      "/home/remco/Documents/python-training/venv/lib/python3.8/site-packages/skopt/optimizer/optimizer.py:517: UserWarning: The objective has been evaluated at point [0, 0] before, using random point [7, -6]\n",
      "  warnings.warn(\n",
      "/home/remco/Documents/python-training/venv/lib/python3.8/site-packages/skopt/optimizer/optimizer.py:517: UserWarning: The objective has been evaluated at point [0, 0] before, using random point [7, -5]\n",
      "  warnings.warn(\n"
     ]
    },
    {
     "name": "stdout",
     "output_type": "stream",
     "text": [
      "buy above 0 , sell under-2\n"
     ]
    },
    {
     "name": "stderr",
     "output_type": "stream",
     "text": [
      "/home/remco/Documents/python-training/venv/lib/python3.8/site-packages/skopt/optimizer/optimizer.py:517: UserWarning: The objective has been evaluated at point [0, 0] before, using random point [6, -5]\n",
      "  warnings.warn(\n",
      "/home/remco/Documents/python-training/venv/lib/python3.8/site-packages/skopt/optimizer/optimizer.py:517: UserWarning: The objective has been evaluated at point [0, -2] before, using random point [3, -6]\n",
      "  warnings.warn(\n",
      "/home/remco/Documents/python-training/venv/lib/python3.8/site-packages/skopt/optimizer/optimizer.py:517: UserWarning: The objective has been evaluated at point [0, 0] before, using random point [2, -2]\n",
      "  warnings.warn(\n",
      "/home/remco/Documents/python-training/venv/lib/python3.8/site-packages/skopt/optimizer/optimizer.py:517: UserWarning: The objective has been evaluated at point [0, 0] before, using random point [8, -1]\n",
      "  warnings.warn(\n",
      "/home/remco/Documents/python-training/venv/lib/python3.8/site-packages/skopt/optimizer/optimizer.py:517: UserWarning: The objective has been evaluated at point [0, 0] before, using random point [4, 0]\n",
      "  warnings.warn(\n",
      "/home/remco/Documents/python-training/venv/lib/python3.8/site-packages/skopt/optimizer/optimizer.py:517: UserWarning: The objective has been evaluated at point [0, 0] before, using random point [1, -8]\n",
      "  warnings.warn(\n",
      "/home/remco/Documents/python-training/venv/lib/python3.8/site-packages/skopt/optimizer/optimizer.py:517: UserWarning: The objective has been evaluated at point [0, 0] before, using random point [0, 0]\n",
      "  warnings.warn(\n",
      "/home/remco/Documents/python-training/venv/lib/python3.8/site-packages/skopt/optimizer/optimizer.py:517: UserWarning: The objective has been evaluated at point [0, 0] before, using random point [7, -5]\n",
      "  warnings.warn(\n",
      "/home/remco/Documents/python-training/venv/lib/python3.8/site-packages/skopt/optimizer/optimizer.py:517: UserWarning: The objective has been evaluated at point [0, 0] before, using random point [0, -6]\n",
      "  warnings.warn(\n",
      "/home/remco/Documents/python-training/venv/lib/python3.8/site-packages/skopt/optimizer/optimizer.py:517: UserWarning: The objective has been evaluated at point [0, 0] before, using random point [2, -3]\n",
      "  warnings.warn(\n"
     ]
    },
    {
     "name": "stdout",
     "output_type": "stream",
     "text": [
      "buy above 2 , sell under-3\n"
     ]
    },
    {
     "name": "stderr",
     "output_type": "stream",
     "text": [
      "/home/remco/Documents/python-training/venv/lib/python3.8/site-packages/skopt/optimizer/optimizer.py:517: UserWarning: The objective has been evaluated at point [0, 0] before, using random point [1, -7]\n",
      "  warnings.warn(\n",
      "/home/remco/Documents/python-training/venv/lib/python3.8/site-packages/skopt/optimizer/optimizer.py:517: UserWarning: The objective has been evaluated at point [0, 0] before, using random point [3, -2]\n",
      "  warnings.warn(\n",
      "/home/remco/Documents/python-training/venv/lib/python3.8/site-packages/skopt/optimizer/optimizer.py:517: UserWarning: The objective has been evaluated at point [0, 0] before, using random point [7, -5]\n",
      "  warnings.warn(\n",
      "/home/remco/Documents/python-training/venv/lib/python3.8/site-packages/skopt/optimizer/optimizer.py:517: UserWarning: The objective has been evaluated at point [0, 0] before, using random point [8, 0]\n",
      "  warnings.warn(\n",
      "/home/remco/Documents/python-training/venv/lib/python3.8/site-packages/skopt/optimizer/optimizer.py:517: UserWarning: The objective has been evaluated at point [0, 0] before, using random point [7, -1]\n",
      "  warnings.warn(\n"
     ]
    },
    {
     "name": "stdout",
     "output_type": "stream",
     "text": [
      "buy above 7 , sell under-1\n"
     ]
    },
    {
     "name": "stderr",
     "output_type": "stream",
     "text": [
      "/home/remco/Documents/python-training/venv/lib/python3.8/site-packages/skopt/optimizer/optimizer.py:517: UserWarning: The objective has been evaluated at point [0, 0] before, using random point [5, -2]\n",
      "  warnings.warn(\n",
      "/home/remco/Documents/python-training/venv/lib/python3.8/site-packages/skopt/optimizer/optimizer.py:517: UserWarning: The objective has been evaluated at point [0, 0] before, using random point [3, -7]\n",
      "  warnings.warn(\n"
     ]
    },
    {
     "name": "stdout",
     "output_type": "stream",
     "text": [
      "buy above 3 , sell under-7\n"
     ]
    },
    {
     "name": "stderr",
     "output_type": "stream",
     "text": [
      "/home/remco/Documents/python-training/venv/lib/python3.8/site-packages/skopt/optimizer/optimizer.py:517: UserWarning: The objective has been evaluated at point [0, 0] before, using random point [1, -3]\n",
      "  warnings.warn(\n",
      "/home/remco/Documents/python-training/venv/lib/python3.8/site-packages/skopt/optimizer/optimizer.py:517: UserWarning: The objective has been evaluated at point [0, 0] before, using random point [8, -7]\n",
      "  warnings.warn(\n",
      "/home/remco/Documents/python-training/venv/lib/python3.8/site-packages/skopt/optimizer/optimizer.py:517: UserWarning: The objective has been evaluated at point [0, 0] before, using random point [2, -7]\n",
      "  warnings.warn(\n",
      "/home/remco/Documents/python-training/venv/lib/python3.8/site-packages/skopt/optimizer/optimizer.py:517: UserWarning: The objective has been evaluated at point [0, 0] before, using random point [7, -1]\n",
      "  warnings.warn(\n",
      "/home/remco/Documents/python-training/venv/lib/python3.8/site-packages/skopt/optimizer/optimizer.py:517: UserWarning: The objective has been evaluated at point [0, 0] before, using random point [4, -2]\n",
      "  warnings.warn(\n",
      "/home/remco/Documents/python-training/venv/lib/python3.8/site-packages/skopt/optimizer/optimizer.py:517: UserWarning: The objective has been evaluated at point [0, 0] before, using random point [1, -6]\n",
      "  warnings.warn(\n",
      "/home/remco/Documents/python-training/venv/lib/python3.8/site-packages/skopt/optimizer/optimizer.py:517: UserWarning: The objective has been evaluated at point [0, 0] before, using random point [7, -1]\n",
      "  warnings.warn(\n",
      "/home/remco/Documents/python-training/venv/lib/python3.8/site-packages/skopt/optimizer/optimizer.py:517: UserWarning: The objective has been evaluated at point [0, 0] before, using random point [7, -3]\n",
      "  warnings.warn(\n",
      "/home/remco/Documents/python-training/venv/lib/python3.8/site-packages/skopt/optimizer/optimizer.py:517: UserWarning: The objective has been evaluated at point [0, 0] before, using random point [1, 0]\n",
      "  warnings.warn(\n",
      "/home/remco/Documents/python-training/venv/lib/python3.8/site-packages/skopt/optimizer/optimizer.py:517: UserWarning: The objective has been evaluated at point [0, 0] before, using random point [0, -4]\n",
      "  warnings.warn(\n",
      "/home/remco/Documents/python-training/venv/lib/python3.8/site-packages/skopt/optimizer/optimizer.py:517: UserWarning: The objective has been evaluated at point [0, -2] before, using random point [7, -1]\n",
      "  warnings.warn(\n",
      "/home/remco/Documents/python-training/venv/lib/python3.8/site-packages/skopt/optimizer/optimizer.py:517: UserWarning: The objective has been evaluated at point [0, -1] before, using random point [4, -6]\n",
      "  warnings.warn(\n"
     ]
    },
    {
     "name": "stdout",
     "output_type": "stream",
     "text": [
      "buy above 4 , sell under-6\n"
     ]
    },
    {
     "name": "stderr",
     "output_type": "stream",
     "text": [
      "/home/remco/Documents/python-training/venv/lib/python3.8/site-packages/skopt/optimizer/optimizer.py:517: UserWarning: The objective has been evaluated at point [0, 0] before, using random point [3, -1]\n",
      "  warnings.warn(\n",
      "/home/remco/Documents/python-training/venv/lib/python3.8/site-packages/skopt/optimizer/optimizer.py:517: UserWarning: The objective has been evaluated at point [0, 0] before, using random point [6, -5]\n",
      "  warnings.warn(\n",
      "/home/remco/Documents/python-training/venv/lib/python3.8/site-packages/skopt/optimizer/optimizer.py:517: UserWarning: The objective has been evaluated at point [0, 0] before, using random point [5, -6]\n",
      "  warnings.warn(\n"
     ]
    },
    {
     "name": "stdout",
     "output_type": "stream",
     "text": [
      "buy above 5 , sell under-6\n"
     ]
    },
    {
     "name": "stderr",
     "output_type": "stream",
     "text": [
      "/home/remco/Documents/python-training/venv/lib/python3.8/site-packages/skopt/optimizer/optimizer.py:517: UserWarning: The objective has been evaluated at point [0, 0] before, using random point [6, -3]\n",
      "  warnings.warn(\n",
      "/home/remco/Documents/python-training/venv/lib/python3.8/site-packages/skopt/optimizer/optimizer.py:517: UserWarning: The objective has been evaluated at point [0, 0] before, using random point [4, 0]\n",
      "  warnings.warn(\n",
      "/home/remco/Documents/python-training/venv/lib/python3.8/site-packages/skopt/optimizer/optimizer.py:517: UserWarning: The objective has been evaluated at point [0, 0] before, using random point [2, -4]\n",
      "  warnings.warn(\n",
      "/home/remco/Documents/python-training/venv/lib/python3.8/site-packages/skopt/optimizer/optimizer.py:517: UserWarning: The objective has been evaluated at point [0, 0] before, using random point [8, -5]\n",
      "  warnings.warn(\n",
      "/home/remco/Documents/python-training/venv/lib/python3.8/site-packages/skopt/optimizer/optimizer.py:517: UserWarning: The objective has been evaluated at point [0, 0] before, using random point [1, 0]\n",
      "  warnings.warn(\n",
      "/home/remco/Documents/python-training/venv/lib/python3.8/site-packages/skopt/optimizer/optimizer.py:517: UserWarning: The objective has been evaluated at point [0, 0] before, using random point [2, -1]\n",
      "  warnings.warn(\n",
      "/home/remco/Documents/python-training/venv/lib/python3.8/site-packages/skopt/optimizer/optimizer.py:517: UserWarning: The objective has been evaluated at point [0, -2] before, using random point [1, -1]\n",
      "  warnings.warn(\n",
      "/home/remco/Documents/python-training/venv/lib/python3.8/site-packages/skopt/optimizer/optimizer.py:517: UserWarning: The objective has been evaluated at point [0, 0] before, using random point [5, -6]\n",
      "  warnings.warn(\n",
      "/home/remco/Documents/python-training/venv/lib/python3.8/site-packages/skopt/optimizer/optimizer.py:517: UserWarning: The objective has been evaluated at point [0, 0] before, using random point [7, -4]\n",
      "  warnings.warn(\n"
     ]
    },
    {
     "name": "stdout",
     "output_type": "stream",
     "text": [
      "buy above 7 , sell under-4\n"
     ]
    },
    {
     "name": "stderr",
     "output_type": "stream",
     "text": [
      "/home/remco/Documents/python-training/venv/lib/python3.8/site-packages/skopt/optimizer/optimizer.py:517: UserWarning: The objective has been evaluated at point [0, 0] before, using random point [0, -3]\n",
      "  warnings.warn(\n",
      "/home/remco/Documents/python-training/venv/lib/python3.8/site-packages/skopt/optimizer/optimizer.py:517: UserWarning: The objective has been evaluated at point [0, 0] before, using random point [6, -2]\n",
      "  warnings.warn(\n",
      "/home/remco/Documents/python-training/venv/lib/python3.8/site-packages/skopt/optimizer/optimizer.py:517: UserWarning: The objective has been evaluated at point [0, 0] before, using random point [2, -5]\n",
      "  warnings.warn(\n",
      "/home/remco/Documents/python-training/venv/lib/python3.8/site-packages/skopt/optimizer/optimizer.py:517: UserWarning: The objective has been evaluated at point [0, 0] before, using random point [4, -3]\n",
      "  warnings.warn(\n",
      "/home/remco/Documents/python-training/venv/lib/python3.8/site-packages/skopt/optimizer/optimizer.py:517: UserWarning: The objective has been evaluated at point [0, 0] before, using random point [2, -3]\n",
      "  warnings.warn(\n",
      "/home/remco/Documents/python-training/venv/lib/python3.8/site-packages/skopt/optimizer/optimizer.py:517: UserWarning: The objective has been evaluated at point [0, 0] before, using random point [4, -4]\n",
      "  warnings.warn(\n",
      "/home/remco/Documents/python-training/venv/lib/python3.8/site-packages/skopt/optimizer/optimizer.py:517: UserWarning: The objective has been evaluated at point [0, 0] before, using random point [7, -3]\n",
      "  warnings.warn(\n",
      "/home/remco/Documents/python-training/venv/lib/python3.8/site-packages/skopt/optimizer/optimizer.py:517: UserWarning: The objective has been evaluated at point [0, 0] before, using random point [1, -7]\n",
      "  warnings.warn(\n",
      "/home/remco/Documents/python-training/venv/lib/python3.8/site-packages/skopt/optimizer/optimizer.py:517: UserWarning: The objective has been evaluated at point [0, 0] before, using random point [6, -3]\n",
      "  warnings.warn(\n",
      "/home/remco/Documents/python-training/venv/lib/python3.8/site-packages/skopt/optimizer/optimizer.py:517: UserWarning: The objective has been evaluated at point [0, 0] before, using random point [5, -7]\n",
      "  warnings.warn(\n",
      "/home/remco/Documents/python-training/venv/lib/python3.8/site-packages/skopt/optimizer/optimizer.py:517: UserWarning: The objective has been evaluated at point [0, 0] before, using random point [0, 0]\n",
      "  warnings.warn(\n",
      "/home/remco/Documents/python-training/venv/lib/python3.8/site-packages/skopt/optimizer/optimizer.py:517: UserWarning: The objective has been evaluated at point [0, 0] before, using random point [4, -2]\n",
      "  warnings.warn(\n",
      "/home/remco/Documents/python-training/venv/lib/python3.8/site-packages/skopt/optimizer/optimizer.py:517: UserWarning: The objective has been evaluated at point [0, 0] before, using random point [5, -6]\n",
      "  warnings.warn(\n",
      "/home/remco/Documents/python-training/venv/lib/python3.8/site-packages/skopt/optimizer/optimizer.py:517: UserWarning: The objective has been evaluated at point [0, 0] before, using random point [2, 0]\n",
      "  warnings.warn(\n",
      "/home/remco/Documents/python-training/venv/lib/python3.8/site-packages/skopt/optimizer/optimizer.py:517: UserWarning: The objective has been evaluated at point [0, -2] before, using random point [5, -4]\n",
      "  warnings.warn(\n",
      "/home/remco/Documents/python-training/venv/lib/python3.8/site-packages/skopt/optimizer/optimizer.py:517: UserWarning: The objective has been evaluated at point [0, -2] before, using random point [8, -8]\n",
      "  warnings.warn(\n",
      "/home/remco/Documents/python-training/venv/lib/python3.8/site-packages/skopt/optimizer/optimizer.py:517: UserWarning: The objective has been evaluated at point [0, 0] before, using random point [6, -7]\n",
      "  warnings.warn(\n",
      "/home/remco/Documents/python-training/venv/lib/python3.8/site-packages/skopt/optimizer/optimizer.py:517: UserWarning: The objective has been evaluated at point [0, 0] before, using random point [3, -3]\n",
      "  warnings.warn(\n",
      "/home/remco/Documents/python-training/venv/lib/python3.8/site-packages/skopt/optimizer/optimizer.py:517: UserWarning: The objective has been evaluated at point [0, -1] before, using random point [3, -7]\n",
      "  warnings.warn(\n",
      "/home/remco/Documents/python-training/venv/lib/python3.8/site-packages/skopt/optimizer/optimizer.py:517: UserWarning: The objective has been evaluated at point [0, 0] before, using random point [8, -8]\n",
      "  warnings.warn(\n",
      "/home/remco/Documents/python-training/venv/lib/python3.8/site-packages/skopt/optimizer/optimizer.py:517: UserWarning: The objective has been evaluated at point [0, 0] before, using random point [7, 0]\n",
      "  warnings.warn(\n",
      "/home/remco/Documents/python-training/venv/lib/python3.8/site-packages/skopt/optimizer/optimizer.py:517: UserWarning: The objective has been evaluated at point [0, -2] before, using random point [1, -7]\n",
      "  warnings.warn(\n",
      "/home/remco/Documents/python-training/venv/lib/python3.8/site-packages/skopt/optimizer/optimizer.py:517: UserWarning: The objective has been evaluated at point [0, 0] before, using random point [6, -1]\n",
      "  warnings.warn(\n",
      "/home/remco/Documents/python-training/venv/lib/python3.8/site-packages/skopt/optimizer/optimizer.py:517: UserWarning: The objective has been evaluated at point [0, 0] before, using random point [5, -6]\n",
      "  warnings.warn(\n",
      "/home/remco/Documents/python-training/venv/lib/python3.8/site-packages/skopt/optimizer/optimizer.py:517: UserWarning: The objective has been evaluated at point [0, 0] before, using random point [1, -2]\n",
      "  warnings.warn(\n",
      "/home/remco/Documents/python-training/venv/lib/python3.8/site-packages/skopt/optimizer/optimizer.py:517: UserWarning: The objective has been evaluated at point [0, 0] before, using random point [6, 0]\n",
      "  warnings.warn(\n",
      "/home/remco/Documents/python-training/venv/lib/python3.8/site-packages/skopt/optimizer/optimizer.py:517: UserWarning: The objective has been evaluated at point [0, 0] before, using random point [5, -3]\n",
      "  warnings.warn(\n",
      "/home/remco/Documents/python-training/venv/lib/python3.8/site-packages/skopt/optimizer/optimizer.py:517: UserWarning: The objective has been evaluated at point [0, 0] before, using random point [0, -3]\n",
      "  warnings.warn(\n",
      "/home/remco/Documents/python-training/venv/lib/python3.8/site-packages/skopt/optimizer/optimizer.py:517: UserWarning: The objective has been evaluated at point [0, 0] before, using random point [1, 0]\n",
      "  warnings.warn(\n",
      "/home/remco/Documents/python-training/venv/lib/python3.8/site-packages/skopt/optimizer/optimizer.py:517: UserWarning: The objective has been evaluated at point [0, 0] before, using random point [5, -5]\n",
      "  warnings.warn(\n",
      "/home/remco/Documents/python-training/venv/lib/python3.8/site-packages/skopt/optimizer/optimizer.py:517: UserWarning: The objective has been evaluated at point [0, 0] before, using random point [1, -7]\n",
      "  warnings.warn(\n",
      "/home/remco/Documents/python-training/venv/lib/python3.8/site-packages/skopt/optimizer/optimizer.py:517: UserWarning: The objective has been evaluated at point [0, 0] before, using random point [3, -3]\n",
      "  warnings.warn(\n",
      "/home/remco/Documents/python-training/venv/lib/python3.8/site-packages/skopt/optimizer/optimizer.py:517: UserWarning: The objective has been evaluated at point [0, -2] before, using random point [3, -2]\n",
      "  warnings.warn(\n",
      "/home/remco/Documents/python-training/venv/lib/python3.8/site-packages/skopt/optimizer/optimizer.py:517: UserWarning: The objective has been evaluated at point [0, -2] before, using random point [1, -4]\n",
      "  warnings.warn(\n",
      "/home/remco/Documents/python-training/venv/lib/python3.8/site-packages/skopt/optimizer/optimizer.py:517: UserWarning: The objective has been evaluated at point [0, -2] before, using random point [3, -1]\n",
      "  warnings.warn(\n",
      "/home/remco/Documents/python-training/venv/lib/python3.8/site-packages/skopt/optimizer/optimizer.py:517: UserWarning: The objective has been evaluated at point [0, 0] before, using random point [0, -8]\n",
      "  warnings.warn(\n",
      "/home/remco/Documents/python-training/venv/lib/python3.8/site-packages/skopt/optimizer/optimizer.py:517: UserWarning: The objective has been evaluated at point [0, 0] before, using random point [6, -3]\n",
      "  warnings.warn(\n",
      "/home/remco/Documents/python-training/venv/lib/python3.8/site-packages/skopt/optimizer/optimizer.py:517: UserWarning: The objective has been evaluated at point [0, 0] before, using random point [6, -4]\n",
      "  warnings.warn(\n",
      "/home/remco/Documents/python-training/venv/lib/python3.8/site-packages/skopt/optimizer/optimizer.py:517: UserWarning: The objective has been evaluated at point [0, -2] before, using random point [4, -2]\n",
      "  warnings.warn(\n",
      "/home/remco/Documents/python-training/venv/lib/python3.8/site-packages/skopt/optimizer/optimizer.py:517: UserWarning: The objective has been evaluated at point [0, 0] before, using random point [7, 0]\n",
      "  warnings.warn(\n",
      "/home/remco/Documents/python-training/venv/lib/python3.8/site-packages/skopt/optimizer/optimizer.py:517: UserWarning: The objective has been evaluated at point [0, 0] before, using random point [4, -5]\n",
      "  warnings.warn(\n",
      "/home/remco/Documents/python-training/venv/lib/python3.8/site-packages/skopt/optimizer/optimizer.py:517: UserWarning: The objective has been evaluated at point [0, 0] before, using random point [2, -6]\n",
      "  warnings.warn(\n",
      "/home/remco/Documents/python-training/venv/lib/python3.8/site-packages/skopt/optimizer/optimizer.py:517: UserWarning: The objective has been evaluated at point [0, 0] before, using random point [3, -5]\n",
      "  warnings.warn(\n",
      "/home/remco/Documents/python-training/venv/lib/python3.8/site-packages/skopt/optimizer/optimizer.py:517: UserWarning: The objective has been evaluated at point [0, 0] before, using random point [4, -5]\n",
      "  warnings.warn(\n",
      "/home/remco/Documents/python-training/venv/lib/python3.8/site-packages/skopt/optimizer/optimizer.py:517: UserWarning: The objective has been evaluated at point [0, 0] before, using random point [6, -4]\n",
      "  warnings.warn(\n",
      "/home/remco/Documents/python-training/venv/lib/python3.8/site-packages/skopt/optimizer/optimizer.py:517: UserWarning: The objective has been evaluated at point [0, 0] before, using random point [5, -3]\n",
      "  warnings.warn(\n",
      "/home/remco/Documents/python-training/venv/lib/python3.8/site-packages/skopt/optimizer/optimizer.py:517: UserWarning: The objective has been evaluated at point [0, -2] before, using random point [3, -7]\n",
      "  warnings.warn(\n",
      "/home/remco/Documents/python-training/venv/lib/python3.8/site-packages/skopt/optimizer/optimizer.py:517: UserWarning: The objective has been evaluated at point [0, 0] before, using random point [2, -4]\n",
      "  warnings.warn(\n",
      "/home/remco/Documents/python-training/venv/lib/python3.8/site-packages/skopt/optimizer/optimizer.py:517: UserWarning: The objective has been evaluated at point [0, 0] before, using random point [0, -3]\n",
      "  warnings.warn(\n",
      "/home/remco/Documents/python-training/venv/lib/python3.8/site-packages/skopt/optimizer/optimizer.py:517: UserWarning: The objective has been evaluated at point [0, 0] before, using random point [1, -8]\n",
      "  warnings.warn(\n",
      "/home/remco/Documents/python-training/venv/lib/python3.8/site-packages/skopt/optimizer/optimizer.py:517: UserWarning: The objective has been evaluated at point [0, 0] before, using random point [3, -1]\n",
      "  warnings.warn(\n",
      "/home/remco/Documents/python-training/venv/lib/python3.8/site-packages/skopt/optimizer/optimizer.py:517: UserWarning: The objective has been evaluated at point [0, -2] before, using random point [6, -3]\n",
      "  warnings.warn(\n",
      "/home/remco/Documents/python-training/venv/lib/python3.8/site-packages/skopt/optimizer/optimizer.py:517: UserWarning: The objective has been evaluated at point [0, 0] before, using random point [6, -6]\n",
      "  warnings.warn(\n",
      "/home/remco/Documents/python-training/venv/lib/python3.8/site-packages/skopt/optimizer/optimizer.py:517: UserWarning: The objective has been evaluated at point [0, 0] before, using random point [2, -4]\n",
      "  warnings.warn(\n",
      "/home/remco/Documents/python-training/venv/lib/python3.8/site-packages/skopt/optimizer/optimizer.py:517: UserWarning: The objective has been evaluated at point [0, 0] before, using random point [3, -5]\n",
      "  warnings.warn(\n",
      "/home/remco/Documents/python-training/venv/lib/python3.8/site-packages/skopt/optimizer/optimizer.py:517: UserWarning: The objective has been evaluated at point [0, -2] before, using random point [5, 0]\n",
      "  warnings.warn(\n",
      "/home/remco/Documents/python-training/venv/lib/python3.8/site-packages/skopt/optimizer/optimizer.py:517: UserWarning: The objective has been evaluated at point [0, -2] before, using random point [4, -8]\n",
      "  warnings.warn(\n"
     ]
    },
    {
     "name": "stdout",
     "output_type": "stream",
     "text": [
      "buy above 4 , sell under-8\n"
     ]
    },
    {
     "name": "stderr",
     "output_type": "stream",
     "text": [
      "/home/remco/Documents/python-training/venv/lib/python3.8/site-packages/skopt/optimizer/optimizer.py:517: UserWarning: The objective has been evaluated at point [0, 0] before, using random point [8, -1]\n",
      "  warnings.warn(\n",
      "/home/remco/Documents/python-training/venv/lib/python3.8/site-packages/skopt/optimizer/optimizer.py:517: UserWarning: The objective has been evaluated at point [0, -2] before, using random point [7, -3]\n",
      "  warnings.warn(\n",
      "/home/remco/Documents/python-training/venv/lib/python3.8/site-packages/skopt/optimizer/optimizer.py:517: UserWarning: The objective has been evaluated at point [0, 0] before, using random point [5, -8]\n",
      "  warnings.warn(\n"
     ]
    },
    {
     "name": "stdout",
     "output_type": "stream",
     "text": [
      "buy above 5 , sell under-8\n"
     ]
    },
    {
     "name": "stderr",
     "output_type": "stream",
     "text": [
      "/home/remco/Documents/python-training/venv/lib/python3.8/site-packages/skopt/optimizer/optimizer.py:517: UserWarning: The objective has been evaluated at point [0, -2] before, using random point [7, -7]\n",
      "  warnings.warn(\n",
      "/home/remco/Documents/python-training/venv/lib/python3.8/site-packages/skopt/optimizer/optimizer.py:517: UserWarning: The objective has been evaluated at point [0, -2] before, using random point [6, -4]\n",
      "  warnings.warn(\n",
      "/home/remco/Documents/python-training/venv/lib/python3.8/site-packages/skopt/optimizer/optimizer.py:517: UserWarning: The objective has been evaluated at point [0, -2] before, using random point [7, -3]\n",
      "  warnings.warn(\n",
      "/home/remco/Documents/python-training/venv/lib/python3.8/site-packages/skopt/optimizer/optimizer.py:517: UserWarning: The objective has been evaluated at point [0, 0] before, using random point [5, -2]\n",
      "  warnings.warn(\n",
      "/home/remco/Documents/python-training/venv/lib/python3.8/site-packages/skopt/optimizer/optimizer.py:517: UserWarning: The objective has been evaluated at point [0, 0] before, using random point [5, -7]\n",
      "  warnings.warn(\n",
      "/home/remco/Documents/python-training/venv/lib/python3.8/site-packages/skopt/optimizer/optimizer.py:517: UserWarning: The objective has been evaluated at point [0, 0] before, using random point [0, -5]\n",
      "  warnings.warn(\n",
      "/home/remco/Documents/python-training/venv/lib/python3.8/site-packages/skopt/optimizer/optimizer.py:517: UserWarning: The objective has been evaluated at point [0, -2] before, using random point [2, -8]\n",
      "  warnings.warn(\n",
      "/home/remco/Documents/python-training/venv/lib/python3.8/site-packages/skopt/optimizer/optimizer.py:517: UserWarning: The objective has been evaluated at point [0, 0] before, using random point [8, -5]\n",
      "  warnings.warn(\n",
      "/home/remco/Documents/python-training/venv/lib/python3.8/site-packages/skopt/optimizer/optimizer.py:517: UserWarning: The objective has been evaluated at point [0, -2] before, using random point [6, -7]\n",
      "  warnings.warn(\n",
      "/home/remco/Documents/python-training/venv/lib/python3.8/site-packages/skopt/optimizer/optimizer.py:517: UserWarning: The objective has been evaluated at point [0, -2] before, using random point [3, 0]\n",
      "  warnings.warn(\n",
      "/home/remco/Documents/python-training/venv/lib/python3.8/site-packages/skopt/optimizer/optimizer.py:517: UserWarning: The objective has been evaluated at point [0, 0] before, using random point [0, -2]\n",
      "  warnings.warn(\n",
      "/home/remco/Documents/python-training/venv/lib/python3.8/site-packages/skopt/optimizer/optimizer.py:517: UserWarning: The objective has been evaluated at point [0, 0] before, using random point [2, -8]\n",
      "  warnings.warn(\n",
      "/home/remco/Documents/python-training/venv/lib/python3.8/site-packages/skopt/optimizer/optimizer.py:517: UserWarning: The objective has been evaluated at point [0, 0] before, using random point [2, -2]\n",
      "  warnings.warn(\n",
      "/home/remco/Documents/python-training/venv/lib/python3.8/site-packages/skopt/optimizer/optimizer.py:517: UserWarning: The objective has been evaluated at point [0, 0] before, using random point [1, -1]\n",
      "  warnings.warn(\n",
      "/home/remco/Documents/python-training/venv/lib/python3.8/site-packages/skopt/optimizer/optimizer.py:517: UserWarning: The objective has been evaluated at point [0, 0] before, using random point [5, -8]\n",
      "  warnings.warn(\n",
      "/home/remco/Documents/python-training/venv/lib/python3.8/site-packages/skopt/optimizer/optimizer.py:517: UserWarning: The objective has been evaluated at point [0, 0] before, using random point [2, 0]\n",
      "  warnings.warn(\n",
      "/home/remco/Documents/python-training/venv/lib/python3.8/site-packages/skopt/optimizer/optimizer.py:517: UserWarning: The objective has been evaluated at point [0, 0] before, using random point [5, 0]\n",
      "  warnings.warn(\n",
      "/home/remco/Documents/python-training/venv/lib/python3.8/site-packages/skopt/optimizer/optimizer.py:517: UserWarning: The objective has been evaluated at point [0, 0] before, using random point [3, 0]\n",
      "  warnings.warn(\n",
      "/home/remco/Documents/python-training/venv/lib/python3.8/site-packages/skopt/optimizer/optimizer.py:517: UserWarning: The objective has been evaluated at point [0, 0] before, using random point [2, -8]\n",
      "  warnings.warn(\n",
      "/home/remco/Documents/python-training/venv/lib/python3.8/site-packages/skopt/optimizer/optimizer.py:517: UserWarning: The objective has been evaluated at point [0, 0] before, using random point [3, 0]\n",
      "  warnings.warn(\n",
      "/home/remco/Documents/python-training/venv/lib/python3.8/site-packages/skopt/optimizer/optimizer.py:517: UserWarning: The objective has been evaluated at point [0, 0] before, using random point [6, -2]\n",
      "  warnings.warn(\n",
      "/home/remco/Documents/python-training/venv/lib/python3.8/site-packages/skopt/optimizer/optimizer.py:517: UserWarning: The objective has been evaluated at point [0, 0] before, using random point [4, -3]\n",
      "  warnings.warn(\n",
      "/home/remco/Documents/python-training/venv/lib/python3.8/site-packages/skopt/optimizer/optimizer.py:517: UserWarning: The objective has been evaluated at point [0, 0] before, using random point [4, -3]\n",
      "  warnings.warn(\n"
     ]
    },
    {
     "name": "stdout",
     "output_type": "stream",
     "text": [
      "buy above 0 , sell under0\n"
     ]
    }
   ],
   "source": [
    "stats_skopt, heatmap, optimize_result = bt.optimize(\n",
    "    limit_buy=[0,8],\n",
    "    limit_sell=[-8,0],\n",
    "    maximize='Return [%]',\n",
    "    method='skopt',\n",
    "    max_tries=500,\n",
    "    random_state=0,\n",
    "    return_heatmap=True,\n",
    "    return_optimization=True\n",
    "    )"
   ]
  },
  {
   "cell_type": "code",
   "execution_count": 16,
   "id": "f639f26c",
   "metadata": {},
   "outputs": [],
   "source": [
    "dff = heatmap.reset_index()\n",
    "dff = dff.pivot(index='limit_buy', columns='limit_sell', values='Return [%]')"
   ]
  },
  {
   "cell_type": "code",
   "execution_count": 17,
   "id": "85e42d81",
   "metadata": {},
   "outputs": [
    {
     "data": {
      "text/html": [
       "<style type=\"text/css\">\n",
       "#T_2e2aa_row0_col0 {\n",
       "  background-color: #023858;\n",
       "  color: #f1f1f1;\n",
       "}\n",
       "#T_2e2aa_row0_col1 {\n",
       "  background-color: #034e7b;\n",
       "  color: #f1f1f1;\n",
       "}\n",
       "#T_2e2aa_row0_col2 {\n",
       "  background-color: #045687;\n",
       "  color: #f1f1f1;\n",
       "}\n",
       "#T_2e2aa_row0_col3, #T_2e2aa_row1_col5 {\n",
       "  background-color: #0566a0;\n",
       "  color: #f1f1f1;\n",
       "}\n",
       "#T_2e2aa_row0_col4 {\n",
       "  background-color: #0569a5;\n",
       "  color: #f1f1f1;\n",
       "}\n",
       "#T_2e2aa_row0_col5 {\n",
       "  background-color: #0567a1;\n",
       "  color: #f1f1f1;\n",
       "}\n",
       "#T_2e2aa_row0_col6 {\n",
       "  background-color: #1c7fb8;\n",
       "  color: #f1f1f1;\n",
       "}\n",
       "#T_2e2aa_row0_col7 {\n",
       "  background-color: #62a2cb;\n",
       "  color: #f1f1f1;\n",
       "}\n",
       "#T_2e2aa_row0_col8, #T_2e2aa_row5_col0 {\n",
       "  background-color: #9fbad9;\n",
       "  color: #000000;\n",
       "}\n",
       "#T_2e2aa_row1_col0 {\n",
       "  background-color: #0d75b3;\n",
       "  color: #f1f1f1;\n",
       "}\n",
       "#T_2e2aa_row1_col1 {\n",
       "  background-color: #2685bb;\n",
       "  color: #f1f1f1;\n",
       "}\n",
       "#T_2e2aa_row1_col2, #T_2e2aa_row1_col6 {\n",
       "  background-color: #0c74b2;\n",
       "  color: #f1f1f1;\n",
       "}\n",
       "#T_2e2aa_row1_col3 {\n",
       "  background-color: #0570b0;\n",
       "  color: #f1f1f1;\n",
       "}\n",
       "#T_2e2aa_row1_col4 {\n",
       "  background-color: #056ead;\n",
       "  color: #f1f1f1;\n",
       "}\n",
       "#T_2e2aa_row1_col7 {\n",
       "  background-color: #509ac6;\n",
       "  color: #f1f1f1;\n",
       "}\n",
       "#T_2e2aa_row1_col8, #T_2e2aa_row4_col4, #T_2e2aa_row5_col6 {\n",
       "  background-color: #93b5d6;\n",
       "  color: #000000;\n",
       "}\n",
       "#T_2e2aa_row2_col0, #T_2e2aa_row2_col2 {\n",
       "  background-color: #75a9cf;\n",
       "  color: #f1f1f1;\n",
       "}\n",
       "#T_2e2aa_row2_col1 {\n",
       "  background-color: #89b1d4;\n",
       "  color: #000000;\n",
       "}\n",
       "#T_2e2aa_row2_col3 {\n",
       "  background-color: #60a1ca;\n",
       "  color: #f1f1f1;\n",
       "}\n",
       "#T_2e2aa_row2_col4 {\n",
       "  background-color: #5c9fc9;\n",
       "  color: #f1f1f1;\n",
       "}\n",
       "#T_2e2aa_row2_col5 {\n",
       "  background-color: #4094c3;\n",
       "  color: #f1f1f1;\n",
       "}\n",
       "#T_2e2aa_row2_col6 {\n",
       "  background-color: #69a5cc;\n",
       "  color: #f1f1f1;\n",
       "}\n",
       "#T_2e2aa_row2_col7, #T_2e2aa_row4_col6 {\n",
       "  background-color: #94b6d7;\n",
       "  color: #000000;\n",
       "}\n",
       "#T_2e2aa_row2_col8 {\n",
       "  background-color: #bdc8e1;\n",
       "  color: #000000;\n",
       "}\n",
       "#T_2e2aa_row3_col0, #T_2e2aa_row3_col1 {\n",
       "  background-color: #b3c3de;\n",
       "  color: #000000;\n",
       "}\n",
       "#T_2e2aa_row3_col2 {\n",
       "  background-color: #a9bfdc;\n",
       "  color: #000000;\n",
       "}\n",
       "#T_2e2aa_row3_col3, #T_2e2aa_row3_col6 {\n",
       "  background-color: #9ebad9;\n",
       "  color: #000000;\n",
       "}\n",
       "#T_2e2aa_row3_col4, #T_2e2aa_row5_col1 {\n",
       "  background-color: #9cb9d9;\n",
       "  color: #000000;\n",
       "}\n",
       "#T_2e2aa_row3_col5 {\n",
       "  background-color: #84b0d3;\n",
       "  color: #f1f1f1;\n",
       "}\n",
       "#T_2e2aa_row3_col7, #T_2e2aa_row6_col5 {\n",
       "  background-color: #bcc7e1;\n",
       "  color: #000000;\n",
       "}\n",
       "#T_2e2aa_row3_col8 {\n",
       "  background-color: #d7d6e9;\n",
       "  color: #000000;\n",
       "}\n",
       "#T_2e2aa_row4_col0, #T_2e2aa_row4_col1 {\n",
       "  background-color: #c4cbe3;\n",
       "  color: #000000;\n",
       "}\n",
       "#T_2e2aa_row4_col2 {\n",
       "  background-color: #b7c5df;\n",
       "  color: #000000;\n",
       "}\n",
       "#T_2e2aa_row4_col3 {\n",
       "  background-color: #a5bddb;\n",
       "  color: #000000;\n",
       "}\n",
       "#T_2e2aa_row4_col5 {\n",
       "  background-color: #79abd0;\n",
       "  color: #f1f1f1;\n",
       "}\n",
       "#T_2e2aa_row4_col7 {\n",
       "  background-color: #b4c4df;\n",
       "  color: #000000;\n",
       "}\n",
       "#T_2e2aa_row4_col8 {\n",
       "  background-color: #d4d4e8;\n",
       "  color: #000000;\n",
       "}\n",
       "#T_2e2aa_row5_col2 {\n",
       "  background-color: #96b6d7;\n",
       "  color: #000000;\n",
       "}\n",
       "#T_2e2aa_row5_col3 {\n",
       "  background-color: #99b8d8;\n",
       "  color: #000000;\n",
       "}\n",
       "#T_2e2aa_row5_col4 {\n",
       "  background-color: #91b5d6;\n",
       "  color: #000000;\n",
       "}\n",
       "#T_2e2aa_row5_col5 {\n",
       "  background-color: #78abd0;\n",
       "  color: #f1f1f1;\n",
       "}\n",
       "#T_2e2aa_row5_col7 {\n",
       "  background-color: #adc1dd;\n",
       "  color: #000000;\n",
       "}\n",
       "#T_2e2aa_row5_col8 {\n",
       "  background-color: #cdd0e5;\n",
       "  color: #000000;\n",
       "}\n",
       "#T_2e2aa_row6_col0 {\n",
       "  background-color: #e0dded;\n",
       "  color: #000000;\n",
       "}\n",
       "#T_2e2aa_row6_col1, #T_2e2aa_row7_col5 {\n",
       "  background-color: #dddbec;\n",
       "  color: #000000;\n",
       "}\n",
       "#T_2e2aa_row6_col2 {\n",
       "  background-color: #d9d8ea;\n",
       "  color: #000000;\n",
       "}\n",
       "#T_2e2aa_row6_col3, #T_2e2aa_row6_col6 {\n",
       "  background-color: #dad9ea;\n",
       "  color: #000000;\n",
       "}\n",
       "#T_2e2aa_row6_col4 {\n",
       "  background-color: #cacee5;\n",
       "  color: #000000;\n",
       "}\n",
       "#T_2e2aa_row6_col7 {\n",
       "  background-color: #dedcec;\n",
       "  color: #000000;\n",
       "}\n",
       "#T_2e2aa_row6_col8, #T_2e2aa_row7_col8, #T_2e2aa_row8_col4, #T_2e2aa_row8_col6 {\n",
       "  background-color: #000000;\n",
       "  color: #f1f1f1;\n",
       "  background: transparent;\n",
       "  color: transparent;\n",
       "}\n",
       "#T_2e2aa_row7_col0, #T_2e2aa_row7_col1, #T_2e2aa_row7_col2, #T_2e2aa_row7_col7 {\n",
       "  background-color: #f2ecf5;\n",
       "  color: #000000;\n",
       "}\n",
       "#T_2e2aa_row7_col3 {\n",
       "  background-color: #f3edf5;\n",
       "  color: #000000;\n",
       "}\n",
       "#T_2e2aa_row7_col4 {\n",
       "  background-color: #eae6f1;\n",
       "  color: #000000;\n",
       "}\n",
       "#T_2e2aa_row7_col6 {\n",
       "  background-color: #f0eaf4;\n",
       "  color: #000000;\n",
       "}\n",
       "#T_2e2aa_row8_col0, #T_2e2aa_row8_col1 {\n",
       "  background-color: #fdf5fa;\n",
       "  color: #000000;\n",
       "}\n",
       "#T_2e2aa_row8_col2 {\n",
       "  background-color: #fef6fa;\n",
       "  color: #000000;\n",
       "}\n",
       "#T_2e2aa_row8_col3 {\n",
       "  background-color: #fbf4f9;\n",
       "  color: #000000;\n",
       "}\n",
       "#T_2e2aa_row8_col5 {\n",
       "  background-color: #efe9f3;\n",
       "  color: #000000;\n",
       "}\n",
       "#T_2e2aa_row8_col7 {\n",
       "  background-color: #fbf3f9;\n",
       "  color: #000000;\n",
       "}\n",
       "#T_2e2aa_row8_col8 {\n",
       "  background-color: #fff7fb;\n",
       "  color: #000000;\n",
       "}\n",
       "</style>\n",
       "<table id=\"T_2e2aa\">\n",
       "  <thead>\n",
       "    <tr>\n",
       "      <th class=\"index_name level0\" >limit_sell</th>\n",
       "      <th id=\"T_2e2aa_level0_col0\" class=\"col_heading level0 col0\" >0</th>\n",
       "      <th id=\"T_2e2aa_level0_col1\" class=\"col_heading level0 col1\" >-1</th>\n",
       "      <th id=\"T_2e2aa_level0_col2\" class=\"col_heading level0 col2\" >-2</th>\n",
       "      <th id=\"T_2e2aa_level0_col3\" class=\"col_heading level0 col3\" >-3</th>\n",
       "      <th id=\"T_2e2aa_level0_col4\" class=\"col_heading level0 col4\" >-4</th>\n",
       "      <th id=\"T_2e2aa_level0_col5\" class=\"col_heading level0 col5\" >-5</th>\n",
       "      <th id=\"T_2e2aa_level0_col6\" class=\"col_heading level0 col6\" >-6</th>\n",
       "      <th id=\"T_2e2aa_level0_col7\" class=\"col_heading level0 col7\" >-7</th>\n",
       "      <th id=\"T_2e2aa_level0_col8\" class=\"col_heading level0 col8\" >-8</th>\n",
       "    </tr>\n",
       "    <tr>\n",
       "      <th class=\"index_name level0\" >limit_buy</th>\n",
       "      <th class=\"blank col0\" >&nbsp;</th>\n",
       "      <th class=\"blank col1\" >&nbsp;</th>\n",
       "      <th class=\"blank col2\" >&nbsp;</th>\n",
       "      <th class=\"blank col3\" >&nbsp;</th>\n",
       "      <th class=\"blank col4\" >&nbsp;</th>\n",
       "      <th class=\"blank col5\" >&nbsp;</th>\n",
       "      <th class=\"blank col6\" >&nbsp;</th>\n",
       "      <th class=\"blank col7\" >&nbsp;</th>\n",
       "      <th class=\"blank col8\" >&nbsp;</th>\n",
       "    </tr>\n",
       "  </thead>\n",
       "  <tbody>\n",
       "    <tr>\n",
       "      <th id=\"T_2e2aa_level0_row0\" class=\"row_heading level0 row0\" >0</th>\n",
       "      <td id=\"T_2e2aa_row0_col0\" class=\"data row0 col0\" >208777130324</td>\n",
       "      <td id=\"T_2e2aa_row0_col1\" class=\"data row0 col1\" >193469568399</td>\n",
       "      <td id=\"T_2e2aa_row0_col2\" class=\"data row0 col2\" >188328942267</td>\n",
       "      <td id=\"T_2e2aa_row0_col3\" class=\"data row0 col3\" >173811509131</td>\n",
       "      <td id=\"T_2e2aa_row0_col4\" class=\"data row0 col4\" >170142746751</td>\n",
       "      <td id=\"T_2e2aa_row0_col5\" class=\"data row0 col5\" >173270443278</td>\n",
       "      <td id=\"T_2e2aa_row0_col6\" class=\"data row0 col6\" >152296719038</td>\n",
       "      <td id=\"T_2e2aa_row0_col7\" class=\"data row0 col7\" >125171233404</td>\n",
       "      <td id=\"T_2e2aa_row0_col8\" class=\"data row0 col8\" >99184070133</td>\n",
       "    </tr>\n",
       "    <tr>\n",
       "      <th id=\"T_2e2aa_level0_row1\" class=\"row_heading level0 row1\" >1</th>\n",
       "      <td id=\"T_2e2aa_row1_col0\" class=\"data row1 col0\" >159880008003</td>\n",
       "      <td id=\"T_2e2aa_row1_col1\" class=\"data row1 col1\" >148095596452</td>\n",
       "      <td id=\"T_2e2aa_row1_col2\" class=\"data row1 col2\" >160599131380</td>\n",
       "      <td id=\"T_2e2aa_row1_col3\" class=\"data row1 col3\" >163122959338</td>\n",
       "      <td id=\"T_2e2aa_row1_col4\" class=\"data row1 col4\" >165002346599</td>\n",
       "      <td id=\"T_2e2aa_row1_col5\" class=\"data row1 col5\" >174113394686</td>\n",
       "      <td id=\"T_2e2aa_row1_col6\" class=\"data row1 col6\" >160223821270</td>\n",
       "      <td id=\"T_2e2aa_row1_col7\" class=\"data row1 col7\" >131686517600</td>\n",
       "      <td id=\"T_2e2aa_row1_col8\" class=\"data row1 col8\" >104346506405</td>\n",
       "    </tr>\n",
       "    <tr>\n",
       "      <th id=\"T_2e2aa_level0_row2\" class=\"row_heading level0 row2\" >2</th>\n",
       "      <td id=\"T_2e2aa_row2_col0\" class=\"data row2 col0\" >117693264441</td>\n",
       "      <td id=\"T_2e2aa_row2_col1\" class=\"data row2 col1\" >109028823573</td>\n",
       "      <td id=\"T_2e2aa_row2_col2\" class=\"data row2 col2\" >118247522393</td>\n",
       "      <td id=\"T_2e2aa_row2_col3\" class=\"data row2 col3\" >125484855868</td>\n",
       "      <td id=\"T_2e2aa_row2_col4\" class=\"data row2 col4\" >126846496303</td>\n",
       "      <td id=\"T_2e2aa_row2_col5\" class=\"data row2 col5\" >136995002007</td>\n",
       "      <td id=\"T_2e2aa_row2_col6\" class=\"data row2 col6\" >122306638944</td>\n",
       "      <td id=\"T_2e2aa_row2_col7\" class=\"data row2 col7\" >103778514741</td>\n",
       "      <td id=\"T_2e2aa_row2_col8\" class=\"data row2 col8\" >83575421453</td>\n",
       "    </tr>\n",
       "    <tr>\n",
       "      <th id=\"T_2e2aa_level0_row3\" class=\"row_heading level0 row3\" >3</th>\n",
       "      <td id=\"T_2e2aa_row3_col0\" class=\"data row3 col0\" >89223216934</td>\n",
       "      <td id=\"T_2e2aa_row3_col1\" class=\"data row3 col1\" >88859589146</td>\n",
       "      <td id=\"T_2e2aa_row3_col2\" class=\"data row3 col2\" >94082726220</td>\n",
       "      <td id=\"T_2e2aa_row3_col3\" class=\"data row3 col3\" >99879375545</td>\n",
       "      <td id=\"T_2e2aa_row3_col4\" class=\"data row3 col4\" >100102671738</td>\n",
       "      <td id=\"T_2e2aa_row3_col5\" class=\"data row3 col5\" >111072252823</td>\n",
       "      <td id=\"T_2e2aa_row3_col6\" class=\"data row3 col6\" >99326514368</td>\n",
       "      <td id=\"T_2e2aa_row3_col7\" class=\"data row3 col7\" >84277956448</td>\n",
       "      <td id=\"T_2e2aa_row3_col8\" class=\"data row3 col8\" >67871055940</td>\n",
       "    </tr>\n",
       "    <tr>\n",
       "      <th id=\"T_2e2aa_level0_row4\" class=\"row_heading level0 row4\" >4</th>\n",
       "      <td id=\"T_2e2aa_row4_col0\" class=\"data row4 col0\" >79857125497</td>\n",
       "      <td id=\"T_2e2aa_row4_col1\" class=\"data row4 col1\" >79524938404</td>\n",
       "      <td id=\"T_2e2aa_row4_col2\" class=\"data row4 col2\" >87035999616</td>\n",
       "      <td id=\"T_2e2aa_row4_col3\" class=\"data row4 col3\" >95891380397</td>\n",
       "      <td id=\"T_2e2aa_row4_col4\" class=\"data row4 col4\" >104638132560</td>\n",
       "      <td id=\"T_2e2aa_row4_col5\" class=\"data row4 col5\" >116086689015</td>\n",
       "      <td id=\"T_2e2aa_row4_col6\" class=\"data row4 col6\" >103960042513</td>\n",
       "      <td id=\"T_2e2aa_row4_col7\" class=\"data row4 col7\" >88208684017</td>\n",
       "      <td id=\"T_2e2aa_row4_col8\" class=\"data row4 col8\" >69521765223</td>\n",
       "    </tr>\n",
       "    <tr>\n",
       "      <th id=\"T_2e2aa_level0_row5\" class=\"row_heading level0 row5\" >5</th>\n",
       "      <td id=\"T_2e2aa_row5_col0\" class=\"data row5 col0\" >99152320967</td>\n",
       "      <td id=\"T_2e2aa_row5_col1\" class=\"data row5 col1\" >99917984942</td>\n",
       "      <td id=\"T_2e2aa_row5_col2\" class=\"data row5 col2\" >103097842974</td>\n",
       "      <td id=\"T_2e2aa_row5_col3\" class=\"data row5 col3\" >101406047803</td>\n",
       "      <td id=\"T_2e2aa_row5_col4\" class=\"data row5 col4\" >105206050791</td>\n",
       "      <td id=\"T_2e2aa_row5_col5\" class=\"data row5 col5\" >116710695430</td>\n",
       "      <td id=\"T_2e2aa_row5_col6\" class=\"data row5 col6\" >104504901217</td>\n",
       "      <td id=\"T_2e2aa_row5_col7\" class=\"data row5 col7\" >91907040441</td>\n",
       "      <td id=\"T_2e2aa_row5_col8\" class=\"data row5 col8\" >74613948189</td>\n",
       "    </tr>\n",
       "    <tr>\n",
       "      <th id=\"T_2e2aa_level0_row6\" class=\"row_heading level0 row6\" >6</th>\n",
       "      <td id=\"T_2e2aa_row6_col0\" class=\"data row6 col0\" >60776786392</td>\n",
       "      <td id=\"T_2e2aa_row6_col1\" class=\"data row6 col1\" >62763748580</td>\n",
       "      <td id=\"T_2e2aa_row6_col2\" class=\"data row6 col2\" >65444067981</td>\n",
       "      <td id=\"T_2e2aa_row6_col3\" class=\"data row6 col3\" >64848841099</td>\n",
       "      <td id=\"T_2e2aa_row6_col4\" class=\"data row6 col4\" >75982270342</td>\n",
       "      <td id=\"T_2e2aa_row6_col5\" class=\"data row6 col5\" >84294952348</td>\n",
       "      <td id=\"T_2e2aa_row6_col6\" class=\"data row6 col6\" >64931113157</td>\n",
       "      <td id=\"T_2e2aa_row6_col7\" class=\"data row6 col7\" >61851764780</td>\n",
       "      <td id=\"T_2e2aa_row6_col8\" class=\"data row6 col8\" >nan</td>\n",
       "    </tr>\n",
       "    <tr>\n",
       "      <th id=\"T_2e2aa_level0_row7\" class=\"row_heading level0 row7\" >7</th>\n",
       "      <td id=\"T_2e2aa_row7_col0\" class=\"data row7 col0\" >42750360902</td>\n",
       "      <td id=\"T_2e2aa_row7_col1\" class=\"data row7 col1\" >44033163807</td>\n",
       "      <td id=\"T_2e2aa_row7_col2\" class=\"data row7 col2\" >42806529513</td>\n",
       "      <td id=\"T_2e2aa_row7_col3\" class=\"data row7 col3\" >42216117990</td>\n",
       "      <td id=\"T_2e2aa_row7_col4\" class=\"data row7 col4\" >52409144977</td>\n",
       "      <td id=\"T_2e2aa_row7_col5\" class=\"data row7 col5\" >63110362904</td>\n",
       "      <td id=\"T_2e2aa_row7_col6\" class=\"data row7 col6\" >46028292282</td>\n",
       "      <td id=\"T_2e2aa_row7_col7\" class=\"data row7 col7\" >43788107598</td>\n",
       "      <td id=\"T_2e2aa_row7_col8\" class=\"data row7 col8\" >nan</td>\n",
       "    </tr>\n",
       "    <tr>\n",
       "      <th id=\"T_2e2aa_level0_row8\" class=\"row_heading level0 row8\" >8</th>\n",
       "      <td id=\"T_2e2aa_row8_col0\" class=\"data row8 col0\" >30863121857</td>\n",
       "      <td id=\"T_2e2aa_row8_col1\" class=\"data row8 col1\" >31103687388</td>\n",
       "      <td id=\"T_2e2aa_row8_col2\" class=\"data row8 col2\" >29190276554</td>\n",
       "      <td id=\"T_2e2aa_row8_col3\" class=\"data row8 col3\" >32034575042</td>\n",
       "      <td id=\"T_2e2aa_row8_col4\" class=\"data row8 col4\" >nan</td>\n",
       "      <td id=\"T_2e2aa_row8_col5\" class=\"data row8 col5\" >47103949488</td>\n",
       "      <td id=\"T_2e2aa_row8_col6\" class=\"data row8 col6\" >nan</td>\n",
       "      <td id=\"T_2e2aa_row8_col7\" class=\"data row8 col7\" >33083323399</td>\n",
       "      <td id=\"T_2e2aa_row8_col8\" class=\"data row8 col8\" >27772820200</td>\n",
       "    </tr>\n",
       "  </tbody>\n",
       "</table>\n"
      ],
      "text/plain": [
       "<pandas.io.formats.style.Styler at 0x7f909f800610>"
      ]
     },
     "execution_count": 17,
     "metadata": {},
     "output_type": "execute_result"
    }
   ],
   "source": [
    "dff.sort_index(axis=1, ascending=False) \\\n",
    "  .style.format(precision=0) \\\n",
    "  .background_gradient(vmin=np.nanmin(dff), vmax=np.nanmax(dff)) \\\n",
    "  .highlight_null(props='background:transparent; color:transparent')"
   ]
  },
  {
   "cell_type": "code",
   "execution_count": 18,
   "id": "45778735",
   "metadata": {},
   "outputs": [
    {
     "data": {
      "text/html": [
       "<div>\n",
       "<style scoped>\n",
       "    .dataframe tbody tr th:only-of-type {\n",
       "        vertical-align: middle;\n",
       "    }\n",
       "\n",
       "    .dataframe tbody tr th {\n",
       "        vertical-align: top;\n",
       "    }\n",
       "\n",
       "    .dataframe thead th {\n",
       "        text-align: right;\n",
       "    }\n",
       "</style>\n",
       "<table border=\"1\" class=\"dataframe\">\n",
       "  <thead>\n",
       "    <tr style=\"text-align: right;\">\n",
       "      <th>limit_sell</th>\n",
       "      <th>-8</th>\n",
       "      <th>-7</th>\n",
       "      <th>-6</th>\n",
       "      <th>-5</th>\n",
       "      <th>-4</th>\n",
       "      <th>-3</th>\n",
       "      <th>-2</th>\n",
       "      <th>-1</th>\n",
       "      <th>0</th>\n",
       "    </tr>\n",
       "    <tr>\n",
       "      <th>limit_buy</th>\n",
       "      <th></th>\n",
       "      <th></th>\n",
       "      <th></th>\n",
       "      <th></th>\n",
       "      <th></th>\n",
       "      <th></th>\n",
       "      <th></th>\n",
       "      <th></th>\n",
       "      <th></th>\n",
       "    </tr>\n",
       "  </thead>\n",
       "  <tbody>\n",
       "    <tr>\n",
       "      <th>0</th>\n",
       "      <td>9.918407e+10</td>\n",
       "      <td>1.251712e+11</td>\n",
       "      <td>1.522967e+11</td>\n",
       "      <td>1.732704e+11</td>\n",
       "      <td>1.701427e+11</td>\n",
       "      <td>1.738115e+11</td>\n",
       "      <td>1.883289e+11</td>\n",
       "      <td>1.934696e+11</td>\n",
       "      <td>2.087771e+11</td>\n",
       "    </tr>\n",
       "    <tr>\n",
       "      <th>1</th>\n",
       "      <td>1.043465e+11</td>\n",
       "      <td>1.316865e+11</td>\n",
       "      <td>1.602238e+11</td>\n",
       "      <td>1.741134e+11</td>\n",
       "      <td>1.650023e+11</td>\n",
       "      <td>1.631230e+11</td>\n",
       "      <td>1.605991e+11</td>\n",
       "      <td>1.480956e+11</td>\n",
       "      <td>1.598800e+11</td>\n",
       "    </tr>\n",
       "    <tr>\n",
       "      <th>2</th>\n",
       "      <td>8.357542e+10</td>\n",
       "      <td>1.037785e+11</td>\n",
       "      <td>1.223066e+11</td>\n",
       "      <td>1.369950e+11</td>\n",
       "      <td>1.268465e+11</td>\n",
       "      <td>1.254849e+11</td>\n",
       "      <td>1.182475e+11</td>\n",
       "      <td>1.090288e+11</td>\n",
       "      <td>1.176933e+11</td>\n",
       "    </tr>\n",
       "    <tr>\n",
       "      <th>3</th>\n",
       "      <td>6.787106e+10</td>\n",
       "      <td>8.427796e+10</td>\n",
       "      <td>9.932651e+10</td>\n",
       "      <td>1.110723e+11</td>\n",
       "      <td>1.001027e+11</td>\n",
       "      <td>9.987938e+10</td>\n",
       "      <td>9.408273e+10</td>\n",
       "      <td>8.885959e+10</td>\n",
       "      <td>8.922322e+10</td>\n",
       "    </tr>\n",
       "    <tr>\n",
       "      <th>4</th>\n",
       "      <td>6.952177e+10</td>\n",
       "      <td>8.820868e+10</td>\n",
       "      <td>1.039600e+11</td>\n",
       "      <td>1.160867e+11</td>\n",
       "      <td>1.046381e+11</td>\n",
       "      <td>9.589138e+10</td>\n",
       "      <td>8.703600e+10</td>\n",
       "      <td>7.952494e+10</td>\n",
       "      <td>7.985713e+10</td>\n",
       "    </tr>\n",
       "    <tr>\n",
       "      <th>5</th>\n",
       "      <td>7.461395e+10</td>\n",
       "      <td>9.190704e+10</td>\n",
       "      <td>1.045049e+11</td>\n",
       "      <td>1.167107e+11</td>\n",
       "      <td>1.052061e+11</td>\n",
       "      <td>1.014060e+11</td>\n",
       "      <td>1.030978e+11</td>\n",
       "      <td>9.991798e+10</td>\n",
       "      <td>9.915232e+10</td>\n",
       "    </tr>\n",
       "    <tr>\n",
       "      <th>6</th>\n",
       "      <td>NaN</td>\n",
       "      <td>6.185176e+10</td>\n",
       "      <td>6.493111e+10</td>\n",
       "      <td>8.429495e+10</td>\n",
       "      <td>7.598227e+10</td>\n",
       "      <td>6.484884e+10</td>\n",
       "      <td>6.544407e+10</td>\n",
       "      <td>6.276375e+10</td>\n",
       "      <td>6.077679e+10</td>\n",
       "    </tr>\n",
       "    <tr>\n",
       "      <th>7</th>\n",
       "      <td>NaN</td>\n",
       "      <td>4.378811e+10</td>\n",
       "      <td>4.602829e+10</td>\n",
       "      <td>6.311036e+10</td>\n",
       "      <td>5.240914e+10</td>\n",
       "      <td>4.221612e+10</td>\n",
       "      <td>4.280653e+10</td>\n",
       "      <td>4.403316e+10</td>\n",
       "      <td>4.275036e+10</td>\n",
       "    </tr>\n",
       "    <tr>\n",
       "      <th>8</th>\n",
       "      <td>2.777282e+10</td>\n",
       "      <td>3.308332e+10</td>\n",
       "      <td>NaN</td>\n",
       "      <td>4.710395e+10</td>\n",
       "      <td>NaN</td>\n",
       "      <td>3.203458e+10</td>\n",
       "      <td>2.919028e+10</td>\n",
       "      <td>3.110369e+10</td>\n",
       "      <td>3.086312e+10</td>\n",
       "    </tr>\n",
       "  </tbody>\n",
       "</table>\n",
       "</div>"
      ],
      "text/plain": [
       "limit_sell            -8            -7            -6            -5  \\\n",
       "limit_buy                                                            \n",
       "0           9.918407e+10  1.251712e+11  1.522967e+11  1.732704e+11   \n",
       "1           1.043465e+11  1.316865e+11  1.602238e+11  1.741134e+11   \n",
       "2           8.357542e+10  1.037785e+11  1.223066e+11  1.369950e+11   \n",
       "3           6.787106e+10  8.427796e+10  9.932651e+10  1.110723e+11   \n",
       "4           6.952177e+10  8.820868e+10  1.039600e+11  1.160867e+11   \n",
       "5           7.461395e+10  9.190704e+10  1.045049e+11  1.167107e+11   \n",
       "6                    NaN  6.185176e+10  6.493111e+10  8.429495e+10   \n",
       "7                    NaN  4.378811e+10  4.602829e+10  6.311036e+10   \n",
       "8           2.777282e+10  3.308332e+10           NaN  4.710395e+10   \n",
       "\n",
       "limit_sell            -4            -3            -2            -1  \\\n",
       "limit_buy                                                            \n",
       "0           1.701427e+11  1.738115e+11  1.883289e+11  1.934696e+11   \n",
       "1           1.650023e+11  1.631230e+11  1.605991e+11  1.480956e+11   \n",
       "2           1.268465e+11  1.254849e+11  1.182475e+11  1.090288e+11   \n",
       "3           1.001027e+11  9.987938e+10  9.408273e+10  8.885959e+10   \n",
       "4           1.046381e+11  9.589138e+10  8.703600e+10  7.952494e+10   \n",
       "5           1.052061e+11  1.014060e+11  1.030978e+11  9.991798e+10   \n",
       "6           7.598227e+10  6.484884e+10  6.544407e+10  6.276375e+10   \n",
       "7           5.240914e+10  4.221612e+10  4.280653e+10  4.403316e+10   \n",
       "8                    NaN  3.203458e+10  2.919028e+10  3.110369e+10   \n",
       "\n",
       "limit_sell             0  \n",
       "limit_buy                 \n",
       "0           2.087771e+11  \n",
       "1           1.598800e+11  \n",
       "2           1.176933e+11  \n",
       "3           8.922322e+10  \n",
       "4           7.985713e+10  \n",
       "5           9.915232e+10  \n",
       "6           6.077679e+10  \n",
       "7           4.275036e+10  \n",
       "8           3.086312e+10  "
      ]
     },
     "execution_count": 18,
     "metadata": {},
     "output_type": "execute_result"
    }
   ],
   "source": [
    "dff"
   ]
  },
  {
   "attachments": {},
   "cell_type": "markdown",
   "id": "49dc8ef8-2ff3-44a5-93cb-90299df2e778",
   "metadata": {},
   "source": [
    "### How to interpret smart optimization?"
   ]
  },
  {
   "attachments": {},
   "cell_type": "markdown",
   "id": "311409f6-0bb8-4b20-bd36-708762c0459b",
   "metadata": {},
   "source": [
    "#### Number of evaluations"
   ]
  },
  {
   "attachments": {},
   "cell_type": "markdown",
   "id": "cff7ec0d-953c-4ca3-b692-3bd502230222",
   "metadata": {},
   "source": [
    "https://kernc.github.io/backtesting.py/doc/examples/Parameter%20Heatmap%20&%20Optimization.html"
   ]
  },
  {
   "cell_type": "code",
   "execution_count": 19,
   "id": "87520764-bdc5-40a4-88e9-18ecb4b7c5cf",
   "metadata": {},
   "outputs": [
    {
     "data": {
      "image/png": "[encoded data removed]",
      "text/plain": [
       "<Figure size 400x400 with 5 Axes>"
      ]
     },
     "metadata": {},
     "output_type": "display_data"
    }
   ],
   "source": [
    "from skopt.plots import plot_evaluations\n",
    "\n",
    "_ = plot_evaluations(optimize_result, bins=10)"
   ]
  },
  {
   "attachments": {},
   "cell_type": "markdown",
   "id": "b21d1a57-0b26-4f28-ac9f-f4af932c8a44",
   "metadata": {},
   "source": [
    "#### Density"
   ]
  },
  {
   "cell_type": "code",
   "execution_count": 20,
   "id": "aaf34691-5cb8-471b-9669-aa6b05eee8f2",
   "metadata": {},
   "outputs": [
    {
     "data": {
      "image/png": "[encoded data removed]",
      "text/plain": [
       "<Figure size 400x400 with 5 Axes>"
      ]
     },
     "metadata": {},
     "output_type": "display_data"
    }
   ],
   "source": [
    "from skopt.plots import plot_objective\n",
    "\n",
    "_ = plot_objective(optimize_result, n_points=10)"
   ]
  },
  {
   "attachments": {},
   "cell_type": "markdown",
   "id": "e92ec39e",
   "metadata": {},
   "source": [
    "## How to solve the overfitting problem?\n",
    "\n",
    "> Backtest the investment strategy on a validation set.\n",
    "\n",
    "Next chapter → [The Overfitting Problem in Backtesting]()"
   ]
  },
  {
   "cell_type": "markdown",
   "id": "4d5aafe0",
   "metadata": {},
   "source": [
    "![](<src/09_Table_The Overfitting.png>)"
   ]
  }
 ],
 "metadata": {
  "kernelspec": {
   "display_name": "venv",
   "language": "python",
   "name": "python3"
  },
  "language_info": {
   "codemirror_mode": {
    "name": "ipython",
    "version": 3
   },
   "file_extension": ".py",
   "mimetype": "text/x-python",
   "name": "python",
   "nbconvert_exporter": "python",
   "pygments_lexer": "ipython3",
   "version": "3.8.5"
  }
 },
 "nbformat": 4,
 "nbformat_minor": 5
}
