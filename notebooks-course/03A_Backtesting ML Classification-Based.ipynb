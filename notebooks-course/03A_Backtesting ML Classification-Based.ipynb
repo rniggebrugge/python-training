{
 "cells": [
  {
   "attachments": {},
   "cell_type": "markdown",
   "id": "1834c01c-a4e3-4064-9d85-dd51ca17cd3f",
   "metadata": {},
   "source": [
    "# Backtesting ML Classification-Based"
   ]
  },
  {
   "cell_type": "code",
   "execution_count": null,
   "id": "65f1b18d",
   "metadata": {},
   "outputs": [],
   "source": [
    "???"
   ]
  },
  {
   "attachments": {},
   "cell_type": "markdown",
   "id": "314e88d0",
   "metadata": {},
   "source": [
    "![](src/res_classification.png)"
   ]
  },
  {
   "attachments": {},
   "cell_type": "markdown",
   "id": "61668305-195b-4fb6-9f8b-6b614f300f12",
   "metadata": {},
   "source": [
    "## Load the model"
   ]
  },
  {
   "cell_type": "code",
   "execution_count": 9,
   "id": "7b73033e-2f6e-4869-94ef-2d24be8e699e",
   "metadata": {},
   "outputs": [],
   "source": [
    "import pickle"
   ]
  },
  {
   "cell_type": "code",
   "execution_count": 10,
   "id": "36bff3f6-0edb-461a-a28c-4759b156ff98",
   "metadata": {},
   "outputs": [],
   "source": [
    "with open('models/model_dt_classifier.pkl', 'rb') as f:\n",
    "    my_model_dt = pickle.load(f)\n",
    "\n",
    "with open('models/model_dt_classification.pkl', 'rb') as f:\n",
    "    model_dt = pickle.load(f)"
   ]
  },
  {
   "cell_type": "code",
   "execution_count": 12,
   "id": "2a590efa",
   "metadata": {},
   "outputs": [
    {
     "data": {
      "text/html": [
       "<style>#sk-container-id-5 {color: black;}#sk-container-id-5 pre{padding: 0;}#sk-container-id-5 div.sk-toggleable {background-color: white;}#sk-container-id-5 label.sk-toggleable__label {cursor: pointer;display: block;width: 100%;margin-bottom: 0;padding: 0.3em;box-sizing: border-box;text-align: center;}#sk-container-id-5 label.sk-toggleable__label-arrow:before {content: \"▸\";float: left;margin-right: 0.25em;color: #696969;}#sk-container-id-5 label.sk-toggleable__label-arrow:hover:before {color: black;}#sk-container-id-5 div.sk-estimator:hover label.sk-toggleable__label-arrow:before {color: black;}#sk-container-id-5 div.sk-toggleable__content {max-height: 0;max-width: 0;overflow: hidden;text-align: left;background-color: #f0f8ff;}#sk-container-id-5 div.sk-toggleable__content pre {margin: 0.2em;color: black;border-radius: 0.25em;background-color: #f0f8ff;}#sk-container-id-5 input.sk-toggleable__control:checked~div.sk-toggleable__content {max-height: 200px;max-width: 100%;overflow: auto;}#sk-container-id-5 input.sk-toggleable__control:checked~label.sk-toggleable__label-arrow:before {content: \"▾\";}#sk-container-id-5 div.sk-estimator input.sk-toggleable__control:checked~label.sk-toggleable__label {background-color: #d4ebff;}#sk-container-id-5 div.sk-label input.sk-toggleable__control:checked~label.sk-toggleable__label {background-color: #d4ebff;}#sk-container-id-5 input.sk-hidden--visually {border: 0;clip: rect(1px 1px 1px 1px);clip: rect(1px, 1px, 1px, 1px);height: 1px;margin: -1px;overflow: hidden;padding: 0;position: absolute;width: 1px;}#sk-container-id-5 div.sk-estimator {font-family: monospace;background-color: #f0f8ff;border: 1px dotted black;border-radius: 0.25em;box-sizing: border-box;margin-bottom: 0.5em;}#sk-container-id-5 div.sk-estimator:hover {background-color: #d4ebff;}#sk-container-id-5 div.sk-parallel-item::after {content: \"\";width: 100%;border-bottom: 1px solid gray;flex-grow: 1;}#sk-container-id-5 div.sk-label:hover label.sk-toggleable__label {background-color: #d4ebff;}#sk-container-id-5 div.sk-serial::before {content: \"\";position: absolute;border-left: 1px solid gray;box-sizing: border-box;top: 0;bottom: 0;left: 50%;z-index: 0;}#sk-container-id-5 div.sk-serial {display: flex;flex-direction: column;align-items: center;background-color: white;padding-right: 0.2em;padding-left: 0.2em;position: relative;}#sk-container-id-5 div.sk-item {position: relative;z-index: 1;}#sk-container-id-5 div.sk-parallel {display: flex;align-items: stretch;justify-content: center;background-color: white;position: relative;}#sk-container-id-5 div.sk-item::before, #sk-container-id-5 div.sk-parallel-item::before {content: \"\";position: absolute;border-left: 1px solid gray;box-sizing: border-box;top: 0;bottom: 0;left: 50%;z-index: -1;}#sk-container-id-5 div.sk-parallel-item {display: flex;flex-direction: column;z-index: 1;position: relative;background-color: white;}#sk-container-id-5 div.sk-parallel-item:first-child::after {align-self: flex-end;width: 50%;}#sk-container-id-5 div.sk-parallel-item:last-child::after {align-self: flex-start;width: 50%;}#sk-container-id-5 div.sk-parallel-item:only-child::after {width: 0;}#sk-container-id-5 div.sk-dashed-wrapped {border: 1px dashed gray;margin: 0 0.4em 0.5em 0.4em;box-sizing: border-box;padding-bottom: 0.4em;background-color: white;}#sk-container-id-5 div.sk-label label {font-family: monospace;font-weight: bold;display: inline-block;line-height: 1.2em;}#sk-container-id-5 div.sk-label-container {text-align: center;}#sk-container-id-5 div.sk-container {/* jupyter's `normalize.less` sets `[hidden] { display: none; }` but bootstrap.min.css set `[hidden] { display: none !important; }` so we also need the `!important` here to be able to override the default hidden behavior on the sphinx rendered scikit-learn.org. See: https://github.com/scikit-learn/scikit-learn/issues/21755 */display: inline-block !important;position: relative;}#sk-container-id-5 div.sk-text-repr-fallback {display: none;}</style><div id=\"sk-container-id-5\" class=\"sk-top-container\"><div class=\"sk-text-repr-fallback\"><pre>DecisionTreeClassifier(max_depth=15)</pre><b>In a Jupyter environment, please rerun this cell to show the HTML representation or trust the notebook. <br />On GitHub, the HTML representation is unable to render, please try loading this page with nbviewer.org.</b></div><div class=\"sk-container\" hidden><div class=\"sk-item\"><div class=\"sk-estimator sk-toggleable\"><input class=\"sk-toggleable__control sk-hidden--visually\" id=\"sk-estimator-id-5\" type=\"checkbox\" checked><label for=\"sk-estimator-id-5\" class=\"sk-toggleable__label sk-toggleable__label-arrow\">DecisionTreeClassifier</label><div class=\"sk-toggleable__content\"><pre>DecisionTreeClassifier(max_depth=15)</pre></div></div></div></div></div>"
      ],
      "text/plain": [
       "DecisionTreeClassifier(max_depth=15)"
      ]
     },
     "execution_count": 12,
     "metadata": {},
     "output_type": "execute_result"
    }
   ],
   "source": [
    "model_dt"
   ]
  },
  {
   "attachments": {},
   "cell_type": "markdown",
   "id": "e7744eb0-9aab-4b3b-b9c2-62f1c6a47ad9",
   "metadata": {},
   "source": [
    "## Load the data"
   ]
  },
  {
   "cell_type": "code",
   "execution_count": null,
   "id": "27c084df-99c2-4c14-bb17-977c4c8f0ce6",
   "metadata": {},
   "outputs": [],
   "source": [
    "import pandas as pd\n",
    "\n",
    "df = pd.read_excel('data/Microsoft_LinkedIn_Processed.xlsx', index_col=0, parse_dates=['Date'])\n",
    "df"
   ]
  },
  {
   "attachments": {},
   "cell_type": "markdown",
   "id": "f6dd7c63-3fae-4de7-8c7f-968a966b0d84",
   "metadata": {},
   "source": [
    "## Backtesting.py Library"
   ]
  },
  {
   "attachments": {},
   "cell_type": "markdown",
   "id": "be593682-a169-4e9d-b402-9b92b456dd38",
   "metadata": {},
   "source": [
    "### Create your Strategy Class"
   ]
  },
  {
   "cell_type": "code",
   "execution_count": null,
   "id": "970f3a44",
   "metadata": {},
   "outputs": [],
   "source": [
    "from backtesting import Backtest, Strategy"
   ]
  },
  {
   "cell_type": "code",
   "execution_count": null,
   "id": "f26ef02a",
   "metadata": {},
   "outputs": [],
   "source": [
    "Backtest(???)"
   ]
  },
  {
   "attachments": {},
   "cell_type": "markdown",
   "id": "ca33bf67-3480-453f-989b-9cf9c74410bd",
   "metadata": {},
   "source": [
    "#### Simulate the prediction for the last observation"
   ]
  },
  {
   "cell_type": "code",
   "execution_count": null,
   "id": "8d76ace4-ad8a-4664-b41e-cc7521750481",
   "metadata": {},
   "outputs": [],
   "source": []
  },
  {
   "attachments": {},
   "cell_type": "markdown",
   "id": "d6458f0b-8870-425f-9035-54993f321639",
   "metadata": {},
   "source": [
    "#### Write the prediction process in the Strategy class"
   ]
  },
  {
   "cell_type": "code",
   "execution_count": null,
   "id": "0bc69f66-fb5f-4913-9e83-d5f43ac8b45b",
   "metadata": {},
   "outputs": [],
   "source": [
    "class ???(Strategy):\n",
    "    def init(self):\n",
    "        self.model = ???\n",
    "\n",
    "    def next(self):\n",
    "        explanatory_today = ???\n",
    "        forecast_tomorrow = ???\n",
    "        \n",
    "        # conditions to sell or buy"
   ]
  },
  {
   "attachments": {},
   "cell_type": "markdown",
   "id": "f82e9998-9458-4ea5-8760-aa8914d25c83",
   "metadata": {},
   "source": [
    "#### Calculate Purchase Recommendation"
   ]
  },
  {
   "attachments": {},
   "cell_type": "markdown",
   "id": "dbcd713b-1a6c-464b-94c3-864da2e215d6",
   "metadata": {},
   "source": [
    "##### Buy if it goes up"
   ]
  },
  {
   "cell_type": "code",
   "execution_count": null,
   "id": "d23fe4e0-52e9-44f9-bb5a-4c80f83de549",
   "metadata": {},
   "outputs": [],
   "source": []
  },
  {
   "attachments": {},
   "cell_type": "markdown",
   "id": "320bc188-067d-47b3-9d85-d6e37433209a",
   "metadata": {},
   "source": [
    "##### Buy if it goes and sell if down\n",
    "\n",
    "> You can only sell if you have already bought"
   ]
  },
  {
   "cell_type": "code",
   "execution_count": null,
   "id": "f4ffc4cb-ea68-4341-89e5-b132cb2399c1",
   "metadata": {},
   "outputs": [],
   "source": []
  },
  {
   "attachments": {},
   "cell_type": "markdown",
   "id": "e702e032-a716-49ea-ad87-490ed4518ff3",
   "metadata": {},
   "source": [
    "#### Add conditions to the strategy"
   ]
  },
  {
   "cell_type": "code",
   "execution_count": null,
   "id": "58bdac4e-096d-478d-9b2f-c17552d2a6bd",
   "metadata": {},
   "outputs": [],
   "source": []
  },
  {
   "attachments": {},
   "cell_type": "markdown",
   "id": "5a71cfae-bdd6-420f-8fce-30ab56f727d4",
   "metadata": {},
   "source": [
    "### Define initial conditions"
   ]
  },
  {
   "cell_type": "code",
   "execution_count": null,
   "id": "888bbeeb-0ae8-4914-8f4f-cc9bef8a8db5",
   "metadata": {},
   "outputs": [],
   "source": [
    "bt = Backtest(???, ???,\n",
    "              cash=???, commission=.002, exclusive_orders=True)"
   ]
  },
  {
   "cell_type": "code",
   "execution_count": null,
   "id": "9b4621c5",
   "metadata": {},
   "outputs": [],
   "source": []
  },
  {
   "attachments": {},
   "cell_type": "markdown",
   "id": "31cddd13",
   "metadata": {},
   "source": [
    "### Run backtesting"
   ]
  },
  {
   "cell_type": "code",
   "execution_count": null,
   "id": "5c51ad85",
   "metadata": {},
   "outputs": [],
   "source": []
  },
  {
   "attachments": {},
   "cell_type": "markdown",
   "id": "ab6e1b72-689d-4b91-8ec2-4d6d840d3c10",
   "metadata": {},
   "source": [
    "### Interpret backtesting results"
   ]
  },
  {
   "cell_type": "code",
   "execution_count": null,
   "id": "6aafb264-9f33-42e7-a567-610699f84217",
   "metadata": {},
   "outputs": [],
   "source": [
    "results.to_frame(name='Values').loc[:'Return [%]']"
   ]
  },
  {
   "attachments": {},
   "cell_type": "markdown",
   "id": "c8dfd6b8",
   "metadata": {},
   "source": [
    "## Practice to master the knowledge\n",
    "\n",
    "Work on the challenge with another dataset:\n",
    "\n",
    "1. Learn the <a>mental models</a> to solve the challenge faster.\n",
    "2. Complete the <a href=\"03C_Backtesting ML Classification-Based.ipynb\">notebook</a>."
   ]
  }
 ],
 "metadata": {
  "kernelspec": {
   "display_name": "venv",
   "language": "python",
   "name": "python3"
  },
  "language_info": {
   "codemirror_mode": {
    "name": "ipython",
    "version": 3
   },
   "file_extension": ".py",
   "mimetype": "text/x-python",
   "name": "python",
   "nbconvert_exporter": "python",
   "pygments_lexer": "ipython3",
   "version": "3.8.10"
  }
 },
 "nbformat": 4,
 "nbformat_minor": 5
}
