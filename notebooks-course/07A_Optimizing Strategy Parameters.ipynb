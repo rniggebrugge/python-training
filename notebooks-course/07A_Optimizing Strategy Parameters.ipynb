{
 "cells": [
  {
   "cell_type": "markdown",
   "id": "936616ad-372b-4f2f-ba8f-e90fec65e0f8",
   "metadata": {},
   "source": [
    "# Optimizing Strategy Parameters"
   ]
  },
  {
   "cell_type": "code",
   "execution_count": null,
   "id": "ead1d62f",
   "metadata": {},
   "outputs": [],
   "source": [
    "???"
   ]
  },
  {
   "cell_type": "markdown",
   "id": "823b881d-efa8-4c5d-9c90-f3ff89002ded",
   "metadata": {},
   "source": [
    "<table style=\"width:100%; height:90%\">\n",
    "      <tr>\n",
    "    <th>Parametrize the Strategy</th>\n",
    "    <th>Optimizing Limits' Parameters</th>\n",
    "  </tr>\n",
    "  <tr>\n",
    "    <td><img src=\"src/07_Code_Regression Strategy Limits X.png\" alt=\"Parametrize the Strategy\" style=\"width:100%\"></td>\n",
    "    <td><img src=\"src/07_Table_Optimize BG Default Defaults.png\" alt=\"Optimizing Limits' Parameters\" style=\"width:100%\"></td>\n",
    "  </tr>\n",
    "</table>"
   ]
  },
  {
   "cell_type": "markdown",
   "id": "9d28c9d8-36aa-4308-8237-e17b2c7a5818",
   "metadata": {
    "tags": []
   },
   "source": [
    "## Load the model"
   ]
  },
  {
   "cell_type": "code",
   "execution_count": 80,
   "id": "1a582652-bd6e-4a98-9cec-3a0164c19ff2",
   "metadata": {},
   "outputs": [
    {
     "name": "stderr",
     "output_type": "stream",
     "text": [
      "/home/remco/PythonDocuments/practical-python-for-algorithmic-trading-4403633/venv/lib/python3.8/site-packages/sklearn/base.py:348: InconsistentVersionWarning: Trying to unpickle estimator DecisionTreeRegressor from version 1.5.2 when using version 1.3.2. This might lead to breaking code or invalid results. Use at your own risk. For more info please refer to:\n",
      "https://scikit-learn.org/stable/model_persistence.html#security-maintainability-limitations\n",
      "  warnings.warn(\n"
     ]
    },
    {
     "data": {
      "text/html": [
       "<style>#sk-container-id-2 {color: black;}#sk-container-id-2 pre{padding: 0;}#sk-container-id-2 div.sk-toggleable {background-color: white;}#sk-container-id-2 label.sk-toggleable__label {cursor: pointer;display: block;width: 100%;margin-bottom: 0;padding: 0.3em;box-sizing: border-box;text-align: center;}#sk-container-id-2 label.sk-toggleable__label-arrow:before {content: \"▸\";float: left;margin-right: 0.25em;color: #696969;}#sk-container-id-2 label.sk-toggleable__label-arrow:hover:before {color: black;}#sk-container-id-2 div.sk-estimator:hover label.sk-toggleable__label-arrow:before {color: black;}#sk-container-id-2 div.sk-toggleable__content {max-height: 0;max-width: 0;overflow: hidden;text-align: left;background-color: #f0f8ff;}#sk-container-id-2 div.sk-toggleable__content pre {margin: 0.2em;color: black;border-radius: 0.25em;background-color: #f0f8ff;}#sk-container-id-2 input.sk-toggleable__control:checked~div.sk-toggleable__content {max-height: 200px;max-width: 100%;overflow: auto;}#sk-container-id-2 input.sk-toggleable__control:checked~label.sk-toggleable__label-arrow:before {content: \"▾\";}#sk-container-id-2 div.sk-estimator input.sk-toggleable__control:checked~label.sk-toggleable__label {background-color: #d4ebff;}#sk-container-id-2 div.sk-label input.sk-toggleable__control:checked~label.sk-toggleable__label {background-color: #d4ebff;}#sk-container-id-2 input.sk-hidden--visually {border: 0;clip: rect(1px 1px 1px 1px);clip: rect(1px, 1px, 1px, 1px);height: 1px;margin: -1px;overflow: hidden;padding: 0;position: absolute;width: 1px;}#sk-container-id-2 div.sk-estimator {font-family: monospace;background-color: #f0f8ff;border: 1px dotted black;border-radius: 0.25em;box-sizing: border-box;margin-bottom: 0.5em;}#sk-container-id-2 div.sk-estimator:hover {background-color: #d4ebff;}#sk-container-id-2 div.sk-parallel-item::after {content: \"\";width: 100%;border-bottom: 1px solid gray;flex-grow: 1;}#sk-container-id-2 div.sk-label:hover label.sk-toggleable__label {background-color: #d4ebff;}#sk-container-id-2 div.sk-serial::before {content: \"\";position: absolute;border-left: 1px solid gray;box-sizing: border-box;top: 0;bottom: 0;left: 50%;z-index: 0;}#sk-container-id-2 div.sk-serial {display: flex;flex-direction: column;align-items: center;background-color: white;padding-right: 0.2em;padding-left: 0.2em;position: relative;}#sk-container-id-2 div.sk-item {position: relative;z-index: 1;}#sk-container-id-2 div.sk-parallel {display: flex;align-items: stretch;justify-content: center;background-color: white;position: relative;}#sk-container-id-2 div.sk-item::before, #sk-container-id-2 div.sk-parallel-item::before {content: \"\";position: absolute;border-left: 1px solid gray;box-sizing: border-box;top: 0;bottom: 0;left: 50%;z-index: -1;}#sk-container-id-2 div.sk-parallel-item {display: flex;flex-direction: column;z-index: 1;position: relative;background-color: white;}#sk-container-id-2 div.sk-parallel-item:first-child::after {align-self: flex-end;width: 50%;}#sk-container-id-2 div.sk-parallel-item:last-child::after {align-self: flex-start;width: 50%;}#sk-container-id-2 div.sk-parallel-item:only-child::after {width: 0;}#sk-container-id-2 div.sk-dashed-wrapped {border: 1px dashed gray;margin: 0 0.4em 0.5em 0.4em;box-sizing: border-box;padding-bottom: 0.4em;background-color: white;}#sk-container-id-2 div.sk-label label {font-family: monospace;font-weight: bold;display: inline-block;line-height: 1.2em;}#sk-container-id-2 div.sk-label-container {text-align: center;}#sk-container-id-2 div.sk-container {/* jupyter's `normalize.less` sets `[hidden] { display: none; }` but bootstrap.min.css set `[hidden] { display: none !important; }` so we also need the `!important` here to be able to override the default hidden behavior on the sphinx rendered scikit-learn.org. See: https://github.com/scikit-learn/scikit-learn/issues/21755 */display: inline-block !important;position: relative;}#sk-container-id-2 div.sk-text-repr-fallback {display: none;}</style><div id=\"sk-container-id-2\" class=\"sk-top-container\"><div class=\"sk-text-repr-fallback\"><pre>DecisionTreeRegressor(max_depth=15)</pre><b>In a Jupyter environment, please rerun this cell to show the HTML representation or trust the notebook. <br />On GitHub, the HTML representation is unable to render, please try loading this page with nbviewer.org.</b></div><div class=\"sk-container\" hidden><div class=\"sk-item\"><div class=\"sk-estimator sk-toggleable\"><input class=\"sk-toggleable__control sk-hidden--visually\" id=\"sk-estimator-id-2\" type=\"checkbox\" checked><label for=\"sk-estimator-id-2\" class=\"sk-toggleable__label sk-toggleable__label-arrow\">DecisionTreeRegressor</label><div class=\"sk-toggleable__content\"><pre>DecisionTreeRegressor(max_depth=15)</pre></div></div></div></div></div>"
      ],
      "text/plain": [
       "DecisionTreeRegressor(max_depth=15)"
      ]
     },
     "execution_count": 80,
     "metadata": {},
     "output_type": "execute_result"
    }
   ],
   "source": [
    "import pickle\n",
    "\n",
    "with open('models/my_regression.pkl', 'rb') as f:\n",
    "    model_dt = pickle.load(f)\n",
    "\n",
    "model_dt"
   ]
  },
  {
   "cell_type": "markdown",
   "id": "621608eb-5a9c-46b2-a216-61c91e8cdefd",
   "metadata": {},
   "source": [
    "## Load the data"
   ]
  },
  {
   "cell_type": "code",
   "execution_count": 82,
   "id": "e498d5eb-8d12-4057-8af3-bd5bcc47b9eb",
   "metadata": {},
   "outputs": [],
   "source": [
    "import pandas as pd\n",
    "df = pd.read_excel('data/microsoft-linkedin-processed.xlsx' , index_col=0)\n",
    "df.index = pd.to_datetime(df.index)\n"
   ]
  },
  {
   "cell_type": "markdown",
   "id": "aaeddddb-fd3f-4e5e-bc2e-d22024048fda",
   "metadata": {},
   "source": [
    "# Simple Investment Strategy"
   ]
  },
  {
   "cell_type": "markdown",
   "id": "5410890e-48b3-4ae7-9c49-7671ace0ceac",
   "metadata": {},
   "source": [
    "### Create Strategy class"
   ]
  },
  {
   "cell_type": "code",
   "execution_count": 83,
   "id": "560945c7-52c0-48bf-b80e-aea52d8b75ea",
   "metadata": {},
   "outputs": [],
   "source": [
    "from backtesting import Strategy, Backtest"
   ]
  },
  {
   "cell_type": "code",
   "execution_count": 84,
   "id": "00d838c9-5351-453e-ad6e-7c7806828d5e",
   "metadata": {},
   "outputs": [],
   "source": [
    "class Regression(Strategy):\n",
    "    def init(self):\n",
    "        self.model = model_dt\n",
    "        self.already_bought = False\n",
    "\n",
    "    def next(self):\n",
    "        explanatory_today = self.data.df.iloc[[-1], :]\n",
    "        forecast_tomorrow = self.model.predict(explanatory_today)[0]\n",
    "        \n",
    "        if forecast_tomorrow > 0 and self.already_bought == False:\n",
    "            self.buy()\n",
    "            self.already_bought = True\n",
    "        elif forecast_tomorrow < 0 and self.already_bought == True:\n",
    "            self.sell()\n",
    "            self.already_bought = False\n",
    "        else:\n",
    "            pass"
   ]
  },
  {
   "cell_type": "markdown",
   "id": "4dd9e767-6501-4654-99db-ad9e8e5a0ac6",
   "metadata": {},
   "source": [
    "### Create Backtest class"
   ]
  },
  {
   "cell_type": "code",
   "execution_count": 86,
   "id": "6e114db4-d63f-4f1f-8ecc-4f5dc79c34d8",
   "metadata": {},
   "outputs": [],
   "source": [
    "df_explanatory = df[['Open', 'High', 'Low', 'Close', 'Volume']].copy()"
   ]
  },
  {
   "cell_type": "code",
   "execution_count": 22,
   "id": "6b0ce4af-c8a5-4a74-bf6a-4fca6388279d",
   "metadata": {},
   "outputs": [],
   "source": [
    "bt = Backtest(df_explanatory, Regression,\n",
    "              cash=10000, commission=.002, exclusive_orders=True)"
   ]
  },
  {
   "cell_type": "markdown",
   "id": "f9aa1f67-54ec-4e48-badb-7da089e6430e",
   "metadata": {},
   "source": [
    "### Run backtesting with specific values"
   ]
  },
  {
   "cell_type": "code",
   "execution_count": 23,
   "id": "187b0201-8a9b-48ed-8738-ff08bfcaef77",
   "metadata": {},
   "outputs": [],
   "source": [
    "results = bt.run()\n"
   ]
  },
  {
   "cell_type": "markdown",
   "id": "8c5cd0f5-71c9-4736-840f-c14568003e45",
   "metadata": {},
   "source": [
    "### Interpret backtesting results"
   ]
  },
  {
   "cell_type": "code",
   "execution_count": 24,
   "id": "8b733f2d-3afd-4541-a14b-c39cb00e24b2",
   "metadata": {},
   "outputs": [
    {
     "data": {
      "text/html": [
       "<div>\n",
       "<style scoped>\n",
       "    .dataframe tbody tr th:only-of-type {\n",
       "        vertical-align: middle;\n",
       "    }\n",
       "\n",
       "    .dataframe tbody tr th {\n",
       "        vertical-align: top;\n",
       "    }\n",
       "\n",
       "    .dataframe thead th {\n",
       "        text-align: right;\n",
       "    }\n",
       "</style>\n",
       "<table border=\"1\" class=\"dataframe\">\n",
       "  <thead>\n",
       "    <tr style=\"text-align: right;\">\n",
       "      <th></th>\n",
       "      <th>Values</th>\n",
       "    </tr>\n",
       "  </thead>\n",
       "  <tbody>\n",
       "    <tr>\n",
       "      <th>Start</th>\n",
       "      <td>2016-12-01 00:00:00</td>\n",
       "    </tr>\n",
       "    <tr>\n",
       "      <th>End</th>\n",
       "      <td>2024-11-08 00:00:00</td>\n",
       "    </tr>\n",
       "    <tr>\n",
       "      <th>Duration</th>\n",
       "      <td>2899 days 00:00:00</td>\n",
       "    </tr>\n",
       "    <tr>\n",
       "      <th>Exposure Time [%]</th>\n",
       "      <td>99.8999</td>\n",
       "    </tr>\n",
       "    <tr>\n",
       "      <th>Equity Final [$]</th>\n",
       "      <td>2209827.825089</td>\n",
       "    </tr>\n",
       "    <tr>\n",
       "      <th>Equity Peak [$]</th>\n",
       "      <td>2210399.19899</td>\n",
       "    </tr>\n",
       "    <tr>\n",
       "      <th>Return [%]</th>\n",
       "      <td>21998.278251</td>\n",
       "    </tr>\n",
       "  </tbody>\n",
       "</table>\n",
       "</div>"
      ],
      "text/plain": [
       "                                Values\n",
       "Start              2016-12-01 00:00:00\n",
       "End                2024-11-08 00:00:00\n",
       "Duration            2899 days 00:00:00\n",
       "Exposure Time [%]              99.8999\n",
       "Equity Final [$]        2209827.825089\n",
       "Equity Peak [$]          2210399.19899\n",
       "Return [%]                21998.278251"
      ]
     },
     "execution_count": 24,
     "metadata": {},
     "output_type": "execute_result"
    }
   ],
   "source": [
    "results.to_frame(name='Values').loc[:'Return [%]']"
   ]
  },
  {
   "cell_type": "markdown",
   "id": "ac5f94d8-1151-4dda-8678-4a561cf93f02",
   "metadata": {},
   "source": [
    "## Parametrize the Investment Strategy"
   ]
  },
  {
   "cell_type": "markdown",
   "id": "49ba32ac-753b-48e6-aff1-f9fd90b23b7c",
   "metadata": {},
   "source": [
    "### Create Strategy class"
   ]
  },
  {
   "cell_type": "code",
   "execution_count": 69,
   "id": "109aec77",
   "metadata": {},
   "outputs": [
    {
     "data": {
      "text/html": [
       "<div>\n",
       "<style scoped>\n",
       "    .dataframe tbody tr th:only-of-type {\n",
       "        vertical-align: middle;\n",
       "    }\n",
       "\n",
       "    .dataframe tbody tr th {\n",
       "        vertical-align: top;\n",
       "    }\n",
       "\n",
       "    .dataframe thead th {\n",
       "        text-align: right;\n",
       "    }\n",
       "</style>\n",
       "<table border=\"1\" class=\"dataframe\">\n",
       "  <thead>\n",
       "    <tr style=\"text-align: right;\">\n",
       "      <th></th>\n",
       "      <th>Open</th>\n",
       "      <th>High</th>\n",
       "      <th>Low</th>\n",
       "      <th>Close</th>\n",
       "      <th>Volume</th>\n",
       "    </tr>\n",
       "    <tr>\n",
       "      <th>Price</th>\n",
       "      <th></th>\n",
       "      <th></th>\n",
       "      <th></th>\n",
       "      <th></th>\n",
       "      <th></th>\n",
       "    </tr>\n",
       "  </thead>\n",
       "  <tbody>\n",
       "    <tr>\n",
       "      <th>2024-01-02</th>\n",
       "      <td>373.859985</td>\n",
       "      <td>375.899994</td>\n",
       "      <td>366.769989</td>\n",
       "      <td>370.869995</td>\n",
       "      <td>25258600</td>\n",
       "    </tr>\n",
       "    <tr>\n",
       "      <th>2024-01-03</th>\n",
       "      <td>369.010010</td>\n",
       "      <td>373.260010</td>\n",
       "      <td>368.510010</td>\n",
       "      <td>370.600006</td>\n",
       "      <td>23083500</td>\n",
       "    </tr>\n",
       "    <tr>\n",
       "      <th>2024-01-04</th>\n",
       "      <td>370.670013</td>\n",
       "      <td>373.100006</td>\n",
       "      <td>367.170013</td>\n",
       "      <td>367.940002</td>\n",
       "      <td>20901500</td>\n",
       "    </tr>\n",
       "    <tr>\n",
       "      <th>2024-01-05</th>\n",
       "      <td>368.970001</td>\n",
       "      <td>372.059998</td>\n",
       "      <td>366.500000</td>\n",
       "      <td>367.750000</td>\n",
       "      <td>20987000</td>\n",
       "    </tr>\n",
       "    <tr>\n",
       "      <th>2024-01-08</th>\n",
       "      <td>369.299988</td>\n",
       "      <td>375.200012</td>\n",
       "      <td>369.010010</td>\n",
       "      <td>374.690002</td>\n",
       "      <td>23134000</td>\n",
       "    </tr>\n",
       "    <tr>\n",
       "      <th>...</th>\n",
       "      <td>...</td>\n",
       "      <td>...</td>\n",
       "      <td>...</td>\n",
       "      <td>...</td>\n",
       "      <td>...</td>\n",
       "    </tr>\n",
       "    <tr>\n",
       "      <th>2024-11-04</th>\n",
       "      <td>409.799988</td>\n",
       "      <td>410.420013</td>\n",
       "      <td>405.570007</td>\n",
       "      <td>408.459991</td>\n",
       "      <td>19672300</td>\n",
       "    </tr>\n",
       "    <tr>\n",
       "      <th>2024-11-05</th>\n",
       "      <td>408.369995</td>\n",
       "      <td>414.899994</td>\n",
       "      <td>408.079987</td>\n",
       "      <td>411.459991</td>\n",
       "      <td>17626000</td>\n",
       "    </tr>\n",
       "    <tr>\n",
       "      <th>2024-11-06</th>\n",
       "      <td>412.420013</td>\n",
       "      <td>420.450012</td>\n",
       "      <td>410.519989</td>\n",
       "      <td>420.179993</td>\n",
       "      <td>26681800</td>\n",
       "    </tr>\n",
       "    <tr>\n",
       "      <th>2024-11-07</th>\n",
       "      <td>421.279999</td>\n",
       "      <td>426.850006</td>\n",
       "      <td>419.880005</td>\n",
       "      <td>425.429993</td>\n",
       "      <td>19901800</td>\n",
       "    </tr>\n",
       "    <tr>\n",
       "      <th>2024-11-08</th>\n",
       "      <td>425.320007</td>\n",
       "      <td>426.500000</td>\n",
       "      <td>421.779999</td>\n",
       "      <td>422.540009</td>\n",
       "      <td>16875500</td>\n",
       "    </tr>\n",
       "  </tbody>\n",
       "</table>\n",
       "<p>217 rows × 5 columns</p>\n",
       "</div>"
      ],
      "text/plain": [
       "                  Open        High         Low       Close    Volume\n",
       "Price                                                               \n",
       "2024-01-02  373.859985  375.899994  366.769989  370.869995  25258600\n",
       "2024-01-03  369.010010  373.260010  368.510010  370.600006  23083500\n",
       "2024-01-04  370.670013  373.100006  367.170013  367.940002  20901500\n",
       "2024-01-05  368.970001  372.059998  366.500000  367.750000  20987000\n",
       "2024-01-08  369.299988  375.200012  369.010010  374.690002  23134000\n",
       "...                ...         ...         ...         ...       ...\n",
       "2024-11-04  409.799988  410.420013  405.570007  408.459991  19672300\n",
       "2024-11-05  408.369995  414.899994  408.079987  411.459991  17626000\n",
       "2024-11-06  412.420013  420.450012  410.519989  420.179993  26681800\n",
       "2024-11-07  421.279999  426.850006  419.880005  425.429993  19901800\n",
       "2024-11-08  425.320007  426.500000  421.779999  422.540009  16875500\n",
       "\n",
       "[217 rows x 5 columns]"
      ]
     },
     "execution_count": 69,
     "metadata": {},
     "output_type": "execute_result"
    }
   ],
   "source": [
    "## split in test and train\n",
    "df_train = df_explanatory.loc[\"2016-12-01\":\"2023-12-31\",:].copy() \n",
    "df_test = df_explanatory.loc[\"2024-01-01\":,:].copy() \n",
    "df_test"
   ]
  },
  {
   "cell_type": "code",
   "execution_count": 70,
   "id": "42a55a4c-87b9-4f27-962b-998f0c4debad",
   "metadata": {},
   "outputs": [],
   "source": [
    "from backtesting import Strategy, Backtest"
   ]
  },
  {
   "cell_type": "code",
   "execution_count": 71,
   "id": "b630d898-f973-409a-94d1-8642df3badeb",
   "metadata": {},
   "outputs": [],
   "source": [
    "class Regression(Strategy):\n",
    "    limit_buy = 0\n",
    "    limit_sell = 0\n",
    "    \n",
    "    \n",
    "    def init(self):\n",
    "        self.model = model_dt\n",
    "        self.already_bought = False\n",
    "\n",
    "    def next(self):\n",
    "        explanatory_today = self.data.df.iloc[[-1], :]\n",
    "        forecast_tomorrow = self.model.predict(explanatory_today)[0]\n",
    "        \n",
    "        if forecast_tomorrow > self.limit_buy and self.already_bought == False:\n",
    "            self.buy()\n",
    "            self.already_bought = True\n",
    "        elif forecast_tomorrow < self.limit_sell and self.already_bought == True:\n",
    "            self.sell()\n",
    "            self.already_bought = False\n",
    "        else:\n",
    "            pass"
   ]
  },
  {
   "cell_type": "markdown",
   "id": "233d6ebf-d58a-4678-b0b9-f8dac7ccbda0",
   "metadata": {},
   "source": [
    "### Create Backtest class"
   ]
  },
  {
   "cell_type": "code",
   "execution_count": 72,
   "id": "f65f0045-6efc-4941-b075-f23d139ed1b8",
   "metadata": {},
   "outputs": [
    {
     "data": {
      "text/plain": [
       "21998.27825088909"
      ]
     },
     "execution_count": 72,
     "metadata": {},
     "output_type": "execute_result"
    }
   ],
   "source": [
    "bt = Backtest(df_explanatory, Regression,\n",
    "              cash=10000, commission=.002, exclusive_orders=True)\n",
    "results = bt.run()\n",
    "results[\"Return [%]\"]\n"
   ]
  },
  {
   "cell_type": "markdown",
   "id": "01e9306d-0303-49a5-a100-f5ea87a02823",
   "metadata": {},
   "source": [
    "## Optimize backtesting with multiple combinations"
   ]
  },
  {
   "cell_type": "code",
   "execution_count": 73,
   "id": "782bf3a7-b828-48ea-8e3c-df7bb7e05a0e",
   "metadata": {},
   "outputs": [
    {
     "data": {
      "text/plain": [
       "[0, 1, 2, 3, 4, 5, 6, 7, 8, 9]"
      ]
     },
     "execution_count": 73,
     "metadata": {},
     "output_type": "execute_result"
    }
   ],
   "source": [
    "list_limits_buy = list(range(0, 10, 1))\n",
    "list_limits_buy"
   ]
  },
  {
   "cell_type": "code",
   "execution_count": 74,
   "id": "4dbd2bcf-e15d-4389-80b5-77b1b0ceeca9",
   "metadata": {},
   "outputs": [
    {
     "data": {
      "text/plain": [
       "[0, -1, -2, -3, -4, -5, -6, -7, -8, -9]"
      ]
     },
     "execution_count": 74,
     "metadata": {},
     "output_type": "execute_result"
    }
   ],
   "source": [
    "list_limits_sell = list(range(0, -10, -1))\n",
    "list_limits_sell"
   ]
  },
  {
   "cell_type": "code",
   "execution_count": 75,
   "id": "5458b6f9-7238-478d-8e52-ee1137bc97b6",
   "metadata": {},
   "outputs": [
    {
     "name": "stdout",
     "output_type": "stream",
     "text": [
      "CPU times: user 3.65 s, sys: 79.7 ms, total: 3.73 s\n",
      "Wall time: 1min 40s\n"
     ]
    }
   ],
   "source": [
    "%%time\n",
    "\n",
    "results = bt.optimize(\n",
    "    limit_buy = list_limits_buy, limit_sell = list_limits_sell,\n",
    "        maximize='Return [%]', return_heatmap=True\n",
    ")"
   ]
  },
  {
   "cell_type": "code",
   "execution_count": 76,
   "id": "64343ec8",
   "metadata": {},
   "outputs": [
    {
     "data": {
      "text/plain": [
       "limit_buy  limit_sell\n",
       "0           0            21998.278251\n",
       "           -1            15408.117204\n",
       "           -2             7551.948918\n",
       "           -3             3626.654669\n",
       "           -4             1992.964989\n",
       "                             ...     \n",
       "9          -5             -100.000000\n",
       "           -6             -100.000000\n",
       "           -7             -100.000000\n",
       "           -8             -100.000000\n",
       "           -9             -100.000000\n",
       "Name: Return [%], Length: 100, dtype: float64"
      ]
     },
     "execution_count": 76,
     "metadata": {},
     "output_type": "execute_result"
    }
   ],
   "source": [
    "results[1]"
   ]
  },
  {
   "cell_type": "markdown",
   "id": "d42b0f04-395c-4547-8ab5-fb37ba973298",
   "metadata": {},
   "source": [
    "### [ ] Interpret optimization results"
   ]
  },
  {
   "cell_type": "code",
   "execution_count": 77,
   "id": "b888ba91",
   "metadata": {},
   "outputs": [
    {
     "data": {
      "text/html": [
       "<div>\n",
       "<style scoped>\n",
       "    .dataframe tbody tr th:only-of-type {\n",
       "        vertical-align: middle;\n",
       "    }\n",
       "\n",
       "    .dataframe tbody tr th {\n",
       "        vertical-align: top;\n",
       "    }\n",
       "\n",
       "    .dataframe thead th {\n",
       "        text-align: right;\n",
       "    }\n",
       "</style>\n",
       "<table border=\"1\" class=\"dataframe\">\n",
       "  <thead>\n",
       "    <tr style=\"text-align: right;\">\n",
       "      <th></th>\n",
       "      <th>limit_buy</th>\n",
       "      <th>limit_sell</th>\n",
       "      <th>Return [%]</th>\n",
       "    </tr>\n",
       "  </thead>\n",
       "  <tbody>\n",
       "    <tr>\n",
       "      <th>0</th>\n",
       "      <td>0</td>\n",
       "      <td>0</td>\n",
       "      <td>21998.278251</td>\n",
       "    </tr>\n",
       "    <tr>\n",
       "      <th>1</th>\n",
       "      <td>0</td>\n",
       "      <td>-1</td>\n",
       "      <td>15408.117204</td>\n",
       "    </tr>\n",
       "    <tr>\n",
       "      <th>2</th>\n",
       "      <td>0</td>\n",
       "      <td>-2</td>\n",
       "      <td>7551.948918</td>\n",
       "    </tr>\n",
       "    <tr>\n",
       "      <th>3</th>\n",
       "      <td>0</td>\n",
       "      <td>-3</td>\n",
       "      <td>3626.654669</td>\n",
       "    </tr>\n",
       "    <tr>\n",
       "      <th>4</th>\n",
       "      <td>0</td>\n",
       "      <td>-4</td>\n",
       "      <td>1992.964989</td>\n",
       "    </tr>\n",
       "    <tr>\n",
       "      <th>...</th>\n",
       "      <td>...</td>\n",
       "      <td>...</td>\n",
       "      <td>...</td>\n",
       "    </tr>\n",
       "    <tr>\n",
       "      <th>95</th>\n",
       "      <td>9</td>\n",
       "      <td>-5</td>\n",
       "      <td>-100.000000</td>\n",
       "    </tr>\n",
       "    <tr>\n",
       "      <th>96</th>\n",
       "      <td>9</td>\n",
       "      <td>-6</td>\n",
       "      <td>-100.000000</td>\n",
       "    </tr>\n",
       "    <tr>\n",
       "      <th>97</th>\n",
       "      <td>9</td>\n",
       "      <td>-7</td>\n",
       "      <td>-100.000000</td>\n",
       "    </tr>\n",
       "    <tr>\n",
       "      <th>98</th>\n",
       "      <td>9</td>\n",
       "      <td>-8</td>\n",
       "      <td>-100.000000</td>\n",
       "    </tr>\n",
       "    <tr>\n",
       "      <th>99</th>\n",
       "      <td>9</td>\n",
       "      <td>-9</td>\n",
       "      <td>-100.000000</td>\n",
       "    </tr>\n",
       "  </tbody>\n",
       "</table>\n",
       "<p>100 rows × 3 columns</p>\n",
       "</div>"
      ],
      "text/plain": [
       "    limit_buy  limit_sell    Return [%]\n",
       "0           0           0  21998.278251\n",
       "1           0          -1  15408.117204\n",
       "2           0          -2   7551.948918\n",
       "3           0          -3   3626.654669\n",
       "4           0          -4   1992.964989\n",
       "..        ...         ...           ...\n",
       "95          9          -5   -100.000000\n",
       "96          9          -6   -100.000000\n",
       "97          9          -7   -100.000000\n",
       "98          9          -8   -100.000000\n",
       "99          9          -9   -100.000000\n",
       "\n",
       "[100 rows x 3 columns]"
      ]
     },
     "execution_count": 77,
     "metadata": {},
     "output_type": "execute_result"
    }
   ],
   "source": [
    "dff = results[1].reset_index()\n",
    "dff"
   ]
  },
  {
   "cell_type": "code",
   "execution_count": 78,
   "id": "1e9929a6",
   "metadata": {},
   "outputs": [],
   "source": [
    "dff = dff.pivot(index=\"limit_buy\", columns=\"limit_sell\", values=\"Return [%]\")"
   ]
  },
  {
   "cell_type": "markdown",
   "id": "9e8eeb73-c0ee-4bd0-b54a-3104e961244c",
   "metadata": {},
   "source": [
    "### DataFrame heatmaps for better reporting"
   ]
  },
  {
   "cell_type": "code",
   "execution_count": 79,
   "id": "950fd7ce-1faf-4dd2-9dff-467f02558506",
   "metadata": {},
   "outputs": [
    {
     "data": {
      "text/html": [
       "<style type=\"text/css\">\n",
       "#T_88798_row0_col0 {\n",
       "  background-color: #023858;\n",
       "  color: #f1f1f1;\n",
       "}\n",
       "#T_88798_row0_col1 {\n",
       "  background-color: #187cb6;\n",
       "  color: #f1f1f1;\n",
       "}\n",
       "#T_88798_row0_col2 {\n",
       "  background-color: #b0c2de;\n",
       "  color: #000000;\n",
       "}\n",
       "#T_88798_row0_col3 {\n",
       "  background-color: #e2dfee;\n",
       "  color: #000000;\n",
       "}\n",
       "#T_88798_row0_col4 {\n",
       "  background-color: #f1ebf4;\n",
       "  color: #000000;\n",
       "}\n",
       "#T_88798_row0_col5, #T_88798_row1_col3 {\n",
       "  background-color: #f8f1f8;\n",
       "  color: #000000;\n",
       "}\n",
       "#T_88798_row0_col6, #T_88798_row1_col6, #T_88798_row1_col7, #T_88798_row2_col3, #T_88798_row2_col5, #T_88798_row2_col6, #T_88798_row2_col7 {\n",
       "  background-color: #faf2f8;\n",
       "  color: #000000;\n",
       "}\n",
       "#T_88798_row0_col7, #T_88798_row0_col8, #T_88798_row1_col5, #T_88798_row1_col8, #T_88798_row2_col2, #T_88798_row2_col8 {\n",
       "  background-color: #faf3f9;\n",
       "  color: #000000;\n",
       "}\n",
       "#T_88798_row0_col9, #T_88798_row1_col9, #T_88798_row2_col9 {\n",
       "  background-color: #fbf3f9;\n",
       "  color: #000000;\n",
       "}\n",
       "#T_88798_row1_col0, #T_88798_row3_col9, #T_88798_row4_col9, #T_88798_row5_col9, #T_88798_row6_col9 {\n",
       "  background-color: #fcf4fa;\n",
       "  color: #000000;\n",
       "}\n",
       "#T_88798_row1_col1, #T_88798_row1_col4 {\n",
       "  background-color: #f6eff7;\n",
       "  color: #000000;\n",
       "}\n",
       "#T_88798_row1_col2 {\n",
       "  background-color: #f4eef6;\n",
       "  color: #000000;\n",
       "}\n",
       "#T_88798_row2_col0, #T_88798_row3_col0, #T_88798_row3_col1, #T_88798_row4_col0, #T_88798_row4_col1, #T_88798_row4_col2, #T_88798_row5_col0, #T_88798_row5_col1, #T_88798_row5_col2, #T_88798_row5_col3, #T_88798_row6_col0, #T_88798_row6_col1, #T_88798_row6_col2, #T_88798_row6_col3, #T_88798_row7_col0, #T_88798_row7_col1, #T_88798_row7_col2, #T_88798_row7_col3, #T_88798_row7_col4, #T_88798_row7_col5, #T_88798_row7_col6, #T_88798_row7_col7, #T_88798_row7_col8, #T_88798_row8_col0, #T_88798_row8_col1, #T_88798_row8_col2, #T_88798_row8_col3, #T_88798_row8_col4, #T_88798_row8_col5, #T_88798_row8_col6, #T_88798_row8_col7, #T_88798_row8_col8, #T_88798_row9_col0, #T_88798_row9_col1, #T_88798_row9_col2, #T_88798_row9_col3, #T_88798_row9_col4, #T_88798_row9_col5, #T_88798_row9_col6, #T_88798_row9_col7, #T_88798_row9_col8, #T_88798_row9_col9 {\n",
       "  background-color: #fff7fb;\n",
       "  color: #000000;\n",
       "}\n",
       "#T_88798_row2_col1, #T_88798_row3_col2, #T_88798_row3_col3, #T_88798_row4_col3, #T_88798_row5_col4, #T_88798_row5_col6, #T_88798_row6_col4, #T_88798_row6_col6 {\n",
       "  background-color: #fef6fb;\n",
       "  color: #000000;\n",
       "}\n",
       "#T_88798_row2_col4 {\n",
       "  background-color: #f2ecf5;\n",
       "  color: #000000;\n",
       "}\n",
       "#T_88798_row3_col4, #T_88798_row3_col5, #T_88798_row3_col6, #T_88798_row4_col4, #T_88798_row4_col5, #T_88798_row4_col6, #T_88798_row5_col5, #T_88798_row5_col7, #T_88798_row5_col8, #T_88798_row6_col5, #T_88798_row6_col7, #T_88798_row6_col8 {\n",
       "  background-color: #fef6fa;\n",
       "  color: #000000;\n",
       "}\n",
       "#T_88798_row3_col7, #T_88798_row3_col8, #T_88798_row4_col7, #T_88798_row4_col8, #T_88798_row7_col9, #T_88798_row8_col9 {\n",
       "  background-color: #fdf5fa;\n",
       "  color: #000000;\n",
       "}\n",
       "</style>\n",
       "<table id=\"T_88798\">\n",
       "  <thead>\n",
       "    <tr>\n",
       "      <th class=\"index_name level0\" >limit_sell</th>\n",
       "      <th id=\"T_88798_level0_col0\" class=\"col_heading level0 col0\" >0</th>\n",
       "      <th id=\"T_88798_level0_col1\" class=\"col_heading level0 col1\" >-1</th>\n",
       "      <th id=\"T_88798_level0_col2\" class=\"col_heading level0 col2\" >-2</th>\n",
       "      <th id=\"T_88798_level0_col3\" class=\"col_heading level0 col3\" >-3</th>\n",
       "      <th id=\"T_88798_level0_col4\" class=\"col_heading level0 col4\" >-4</th>\n",
       "      <th id=\"T_88798_level0_col5\" class=\"col_heading level0 col5\" >-5</th>\n",
       "      <th id=\"T_88798_level0_col6\" class=\"col_heading level0 col6\" >-6</th>\n",
       "      <th id=\"T_88798_level0_col7\" class=\"col_heading level0 col7\" >-7</th>\n",
       "      <th id=\"T_88798_level0_col8\" class=\"col_heading level0 col8\" >-8</th>\n",
       "      <th id=\"T_88798_level0_col9\" class=\"col_heading level0 col9\" >-9</th>\n",
       "    </tr>\n",
       "    <tr>\n",
       "      <th class=\"index_name level0\" >limit_buy</th>\n",
       "      <th class=\"blank col0\" >&nbsp;</th>\n",
       "      <th class=\"blank col1\" >&nbsp;</th>\n",
       "      <th class=\"blank col2\" >&nbsp;</th>\n",
       "      <th class=\"blank col3\" >&nbsp;</th>\n",
       "      <th class=\"blank col4\" >&nbsp;</th>\n",
       "      <th class=\"blank col5\" >&nbsp;</th>\n",
       "      <th class=\"blank col6\" >&nbsp;</th>\n",
       "      <th class=\"blank col7\" >&nbsp;</th>\n",
       "      <th class=\"blank col8\" >&nbsp;</th>\n",
       "      <th class=\"blank col9\" >&nbsp;</th>\n",
       "    </tr>\n",
       "  </thead>\n",
       "  <tbody>\n",
       "    <tr>\n",
       "      <th id=\"T_88798_level0_row0\" class=\"row_heading level0 row0\" >0</th>\n",
       "      <td id=\"T_88798_row0_col0\" class=\"data row0 col0\" >21998</td>\n",
       "      <td id=\"T_88798_row0_col1\" class=\"data row0 col1\" >15408</td>\n",
       "      <td id=\"T_88798_row0_col2\" class=\"data row0 col2\" >7552</td>\n",
       "      <td id=\"T_88798_row0_col3\" class=\"data row0 col3\" >3627</td>\n",
       "      <td id=\"T_88798_row0_col4\" class=\"data row0 col4\" >1993</td>\n",
       "      <td id=\"T_88798_row0_col5\" class=\"data row0 col5\" >967</td>\n",
       "      <td id=\"T_88798_row0_col6\" class=\"data row0 col6\" >742</td>\n",
       "      <td id=\"T_88798_row0_col7\" class=\"data row0 col7\" >632</td>\n",
       "      <td id=\"T_88798_row0_col8\" class=\"data row0 col8\" >608</td>\n",
       "      <td id=\"T_88798_row0_col9\" class=\"data row0 col9\" >582</td>\n",
       "    </tr>\n",
       "    <tr>\n",
       "      <th id=\"T_88798_level0_row1\" class=\"row_heading level0 row1\" >1</th>\n",
       "      <td id=\"T_88798_row1_col0\" class=\"data row1 col0\" >340</td>\n",
       "      <td id=\"T_88798_row1_col1\" class=\"data row1 col1\" >1277</td>\n",
       "      <td id=\"T_88798_row1_col2\" class=\"data row1 col2\" >1537</td>\n",
       "      <td id=\"T_88798_row1_col3\" class=\"data row1 col3\" >969</td>\n",
       "      <td id=\"T_88798_row1_col4\" class=\"data row1 col4\" >1240</td>\n",
       "      <td id=\"T_88798_row1_col5\" class=\"data row1 col5\" >665</td>\n",
       "      <td id=\"T_88798_row1_col6\" class=\"data row1 col6\" >758</td>\n",
       "      <td id=\"T_88798_row1_col7\" class=\"data row1 col7\" >688</td>\n",
       "      <td id=\"T_88798_row1_col8\" class=\"data row1 col8\" >663</td>\n",
       "      <td id=\"T_88798_row1_col9\" class=\"data row1 col9\" >582</td>\n",
       "    </tr>\n",
       "    <tr>\n",
       "      <th id=\"T_88798_level0_row2\" class=\"row_heading level0 row2\" >2</th>\n",
       "      <td id=\"T_88798_row2_col0\" class=\"data row2 col0\" >-29</td>\n",
       "      <td id=\"T_88798_row2_col1\" class=\"data row2 col1\" >50</td>\n",
       "      <td id=\"T_88798_row2_col2\" class=\"data row2 col2\" >656</td>\n",
       "      <td id=\"T_88798_row2_col3\" class=\"data row2 col3\" >698</td>\n",
       "      <td id=\"T_88798_row2_col4\" class=\"data row2 col4\" >1766</td>\n",
       "      <td id=\"T_88798_row2_col5\" class=\"data row2 col5\" >735</td>\n",
       "      <td id=\"T_88798_row2_col6\" class=\"data row2 col6\" >747</td>\n",
       "      <td id=\"T_88798_row2_col7\" class=\"data row2 col7\" >684</td>\n",
       "      <td id=\"T_88798_row2_col8\" class=\"data row2 col8\" >659</td>\n",
       "      <td id=\"T_88798_row2_col9\" class=\"data row2 col9\" >578</td>\n",
       "    </tr>\n",
       "    <tr>\n",
       "      <th id=\"T_88798_level0_row3\" class=\"row_heading level0 row3\" >3</th>\n",
       "      <td id=\"T_88798_row3_col0\" class=\"data row3 col0\" >-75</td>\n",
       "      <td id=\"T_88798_row3_col1\" class=\"data row3 col1\" >-75</td>\n",
       "      <td id=\"T_88798_row3_col2\" class=\"data row3 col2\" >-3</td>\n",
       "      <td id=\"T_88798_row3_col3\" class=\"data row3 col3\" >22</td>\n",
       "      <td id=\"T_88798_row3_col4\" class=\"data row3 col4\" >109</td>\n",
       "      <td id=\"T_88798_row3_col5\" class=\"data row3 col5\" >105</td>\n",
       "      <td id=\"T_88798_row3_col6\" class=\"data row3 col6\" >108</td>\n",
       "      <td id=\"T_88798_row3_col7\" class=\"data row3 col7\" >223</td>\n",
       "      <td id=\"T_88798_row3_col8\" class=\"data row3 col8\" >266</td>\n",
       "      <td id=\"T_88798_row3_col9\" class=\"data row3 col9\" >368</td>\n",
       "    </tr>\n",
       "    <tr>\n",
       "      <th id=\"T_88798_level0_row4\" class=\"row_heading level0 row4\" >4</th>\n",
       "      <td id=\"T_88798_row4_col0\" class=\"data row4 col0\" >-81</td>\n",
       "      <td id=\"T_88798_row4_col1\" class=\"data row4 col1\" >-84</td>\n",
       "      <td id=\"T_88798_row4_col2\" class=\"data row4 col2\" >-18</td>\n",
       "      <td id=\"T_88798_row4_col3\" class=\"data row4 col3\" >-1</td>\n",
       "      <td id=\"T_88798_row4_col4\" class=\"data row4 col4\" >147</td>\n",
       "      <td id=\"T_88798_row4_col5\" class=\"data row4 col5\" >145</td>\n",
       "      <td id=\"T_88798_row4_col6\" class=\"data row4 col6\" >100</td>\n",
       "      <td id=\"T_88798_row4_col7\" class=\"data row4 col7\" >211</td>\n",
       "      <td id=\"T_88798_row4_col8\" class=\"data row4 col8\" >251</td>\n",
       "      <td id=\"T_88798_row4_col9\" class=\"data row4 col9\" >348</td>\n",
       "    </tr>\n",
       "    <tr>\n",
       "      <th id=\"T_88798_level0_row5\" class=\"row_heading level0 row5\" >5</th>\n",
       "      <td id=\"T_88798_row5_col0\" class=\"data row5 col0\" >-84</td>\n",
       "      <td id=\"T_88798_row5_col1\" class=\"data row5 col1\" >-87</td>\n",
       "      <td id=\"T_88798_row5_col2\" class=\"data row5 col2\" >-25</td>\n",
       "      <td id=\"T_88798_row5_col3\" class=\"data row5 col3\" >-31</td>\n",
       "      <td id=\"T_88798_row5_col4\" class=\"data row5 col4\" >64</td>\n",
       "      <td id=\"T_88798_row5_col5\" class=\"data row5 col5\" >96</td>\n",
       "      <td id=\"T_88798_row5_col6\" class=\"data row5 col6\" >58</td>\n",
       "      <td id=\"T_88798_row5_col7\" class=\"data row5 col7\" >119</td>\n",
       "      <td id=\"T_88798_row5_col8\" class=\"data row5 col8\" >149</td>\n",
       "      <td id=\"T_88798_row5_col9\" class=\"data row5 col9\" >348</td>\n",
       "    </tr>\n",
       "    <tr>\n",
       "      <th id=\"T_88798_level0_row6\" class=\"row_heading level0 row6\" >6</th>\n",
       "      <td id=\"T_88798_row6_col0\" class=\"data row6 col0\" >-100</td>\n",
       "      <td id=\"T_88798_row6_col1\" class=\"data row6 col1\" >-100</td>\n",
       "      <td id=\"T_88798_row6_col2\" class=\"data row6 col2\" >-100</td>\n",
       "      <td id=\"T_88798_row6_col3\" class=\"data row6 col3\" >-100</td>\n",
       "      <td id=\"T_88798_row6_col4\" class=\"data row6 col4\" >54</td>\n",
       "      <td id=\"T_88798_row6_col5\" class=\"data row6 col5\" >88</td>\n",
       "      <td id=\"T_88798_row6_col6\" class=\"data row6 col6\" >58</td>\n",
       "      <td id=\"T_88798_row6_col7\" class=\"data row6 col7\" >119</td>\n",
       "      <td id=\"T_88798_row6_col8\" class=\"data row6 col8\" >149</td>\n",
       "      <td id=\"T_88798_row6_col9\" class=\"data row6 col9\" >348</td>\n",
       "    </tr>\n",
       "    <tr>\n",
       "      <th id=\"T_88798_level0_row7\" class=\"row_heading level0 row7\" >7</th>\n",
       "      <td id=\"T_88798_row7_col0\" class=\"data row7 col0\" >-100</td>\n",
       "      <td id=\"T_88798_row7_col1\" class=\"data row7 col1\" >-100</td>\n",
       "      <td id=\"T_88798_row7_col2\" class=\"data row7 col2\" >-100</td>\n",
       "      <td id=\"T_88798_row7_col3\" class=\"data row7 col3\" >-100</td>\n",
       "      <td id=\"T_88798_row7_col4\" class=\"data row7 col4\" >-100</td>\n",
       "      <td id=\"T_88798_row7_col5\" class=\"data row7 col5\" >-100</td>\n",
       "      <td id=\"T_88798_row7_col6\" class=\"data row7 col6\" >-100</td>\n",
       "      <td id=\"T_88798_row7_col7\" class=\"data row7 col7\" >-100</td>\n",
       "      <td id=\"T_88798_row7_col8\" class=\"data row7 col8\" >-100</td>\n",
       "      <td id=\"T_88798_row7_col9\" class=\"data row7 col9\" >186</td>\n",
       "    </tr>\n",
       "    <tr>\n",
       "      <th id=\"T_88798_level0_row8\" class=\"row_heading level0 row8\" >8</th>\n",
       "      <td id=\"T_88798_row8_col0\" class=\"data row8 col0\" >-100</td>\n",
       "      <td id=\"T_88798_row8_col1\" class=\"data row8 col1\" >-100</td>\n",
       "      <td id=\"T_88798_row8_col2\" class=\"data row8 col2\" >-100</td>\n",
       "      <td id=\"T_88798_row8_col3\" class=\"data row8 col3\" >-100</td>\n",
       "      <td id=\"T_88798_row8_col4\" class=\"data row8 col4\" >-100</td>\n",
       "      <td id=\"T_88798_row8_col5\" class=\"data row8 col5\" >-100</td>\n",
       "      <td id=\"T_88798_row8_col6\" class=\"data row8 col6\" >-100</td>\n",
       "      <td id=\"T_88798_row8_col7\" class=\"data row8 col7\" >-100</td>\n",
       "      <td id=\"T_88798_row8_col8\" class=\"data row8 col8\" >-100</td>\n",
       "      <td id=\"T_88798_row8_col9\" class=\"data row8 col9\" >169</td>\n",
       "    </tr>\n",
       "    <tr>\n",
       "      <th id=\"T_88798_level0_row9\" class=\"row_heading level0 row9\" >9</th>\n",
       "      <td id=\"T_88798_row9_col0\" class=\"data row9 col0\" >-100</td>\n",
       "      <td id=\"T_88798_row9_col1\" class=\"data row9 col1\" >-100</td>\n",
       "      <td id=\"T_88798_row9_col2\" class=\"data row9 col2\" >-100</td>\n",
       "      <td id=\"T_88798_row9_col3\" class=\"data row9 col3\" >-100</td>\n",
       "      <td id=\"T_88798_row9_col4\" class=\"data row9 col4\" >-100</td>\n",
       "      <td id=\"T_88798_row9_col5\" class=\"data row9 col5\" >-100</td>\n",
       "      <td id=\"T_88798_row9_col6\" class=\"data row9 col6\" >-100</td>\n",
       "      <td id=\"T_88798_row9_col7\" class=\"data row9 col7\" >-100</td>\n",
       "      <td id=\"T_88798_row9_col8\" class=\"data row9 col8\" >-100</td>\n",
       "      <td id=\"T_88798_row9_col9\" class=\"data row9 col9\" >-100</td>\n",
       "    </tr>\n",
       "  </tbody>\n",
       "</table>\n"
      ],
      "text/plain": [
       "<pandas.io.formats.style.Styler at 0x7f47a289c370>"
      ]
     },
     "execution_count": 79,
     "metadata": {},
     "output_type": "execute_result"
    }
   ],
   "source": [
    "dff.sort_index(axis=1, ascending=False)\\\n",
    "  .style.format(precision=0)\\\n",
    "    .background_gradient(vmin=dff.values.min(), vmax=dff.values.max())"
   ]
  },
  {
   "cell_type": "markdown",
   "id": "41873d65",
   "metadata": {},
   "source": [
    "## Now on test data set"
   ]
  },
  {
   "cell_type": "markdown",
   "id": "71d41f36",
   "metadata": {},
   "source": [
    "Oh no, does not make sense. The model is already trained, with entire data set...."
   ]
  },
  {
   "cell_type": "markdown",
   "id": "b05ab062",
   "metadata": {},
   "source": [
    "## Plot predicted values against actual values"
   ]
  },
  {
   "cell_type": "code",
   "execution_count": null,
   "id": "2fd35820",
   "metadata": {},
   "outputs": [
    {
     "name": "stdout",
     "output_type": "stream",
     "text": [
      "1998\n"
     ]
    }
   ],
   "source": [
    "predictions = model_dt.predict(df_explanatory)\n"
   ]
  },
  {
   "cell_type": "code",
   "execution_count": 108,
   "id": "c460feb5",
   "metadata": {},
   "outputs": [],
   "source": [
    "import matplotlib.pyplot as plt\n"
   ]
  },
  {
   "cell_type": "code",
   "execution_count": 114,
   "id": "f190fa60",
   "metadata": {},
   "outputs": [
    {
     "data": {
      "text/plain": [
       "(-5.0, 5.0)"
      ]
     },
     "execution_count": 114,
     "metadata": {},
     "output_type": "execute_result"
    },
    {
     "data": {
      "image/png": "[encoded data removed]",
      "text/plain": [
       "<Figure size 640x480 with 1 Axes>"
      ]
     },
     "metadata": {},
     "output_type": "display_data"
    }
   ],
   "source": [
    "plt.scatter(df.change_tomorrow, predictions, s=3)\n",
    "plt.xlim(-5,5)\n",
    "plt.ylim(-5,5)"
   ]
  },
  {
   "cell_type": "code",
   "execution_count": null,
   "id": "6c442d41",
   "metadata": {},
   "outputs": [],
   "source": []
  }
 ],
 "metadata": {
  "kernelspec": {
   "display_name": "venv",
   "language": "python",
   "name": "python3"
  },
  "language_info": {
   "codemirror_mode": {
    "name": "ipython",
    "version": 3
   },
   "file_extension": ".py",
   "mimetype": "text/x-python",
   "name": "python",
   "nbconvert_exporter": "python",
   "pygments_lexer": "ipython3",
   "version": "3.8.10"
  }
 },
 "nbformat": 4,
 "nbformat_minor": 5
}
