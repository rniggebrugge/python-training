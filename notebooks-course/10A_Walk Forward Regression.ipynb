{
 "cells": [
  {
   "attachments": {},
   "cell_type": "markdown",
   "id": "eefba2db-9f60-42d8-a4f0-1e3c95efbcc1",
   "metadata": {
    "tags": []
   },
   "source": [
    "# Walk Forward: A Realistic Approach to Backtesting"
   ]
  },
  {
   "cell_type": "code",
   "execution_count": null,
   "id": "3d15e41b",
   "metadata": {},
   "outputs": [],
   "source": [
    "???"
   ]
  },
  {
   "attachments": {},
   "cell_type": "markdown",
   "id": "2cbbd389-c68c-4a3c-b37b-04ce831736ae",
   "metadata": {},
   "source": [
    "![](<src/10_Table_Validation Methods.png>)"
   ]
  },
  {
   "attachments": {},
   "cell_type": "markdown",
   "id": "bbaab23b-8ecd-4dd7-b234-bca3866046a6",
   "metadata": {},
   "source": [
    "## Load the data"
   ]
  },
  {
   "cell_type": "code",
   "execution_count": 10,
   "id": "ab861230-5583-46dd-afb6-ba432e1cb765",
   "metadata": {},
   "outputs": [
    {
     "data": {
      "text/html": [
       "<div>\n",
       "<style scoped>\n",
       "    .dataframe tbody tr th:only-of-type {\n",
       "        vertical-align: middle;\n",
       "    }\n",
       "\n",
       "    .dataframe tbody tr th {\n",
       "        vertical-align: top;\n",
       "    }\n",
       "\n",
       "    .dataframe thead th {\n",
       "        text-align: right;\n",
       "    }\n",
       "</style>\n",
       "<table border=\"1\" class=\"dataframe\">\n",
       "  <thead>\n",
       "    <tr style=\"text-align: right;\">\n",
       "      <th></th>\n",
       "      <th>Close</th>\n",
       "      <th>High</th>\n",
       "      <th>Low</th>\n",
       "      <th>Open</th>\n",
       "      <th>Volume</th>\n",
       "      <th>change_tomorrow</th>\n",
       "    </tr>\n",
       "    <tr>\n",
       "      <th>Price</th>\n",
       "      <th></th>\n",
       "      <th></th>\n",
       "      <th></th>\n",
       "      <th></th>\n",
       "      <th></th>\n",
       "      <th></th>\n",
       "    </tr>\n",
       "  </thead>\n",
       "  <tbody>\n",
       "    <tr>\n",
       "      <th>2016-12-01</th>\n",
       "      <td>59.200001</td>\n",
       "      <td>60.150002</td>\n",
       "      <td>58.939999</td>\n",
       "      <td>60.110001</td>\n",
       "      <td>34542100</td>\n",
       "      <td>0.084387</td>\n",
       "    </tr>\n",
       "    <tr>\n",
       "      <th>2016-12-02</th>\n",
       "      <td>59.250000</td>\n",
       "      <td>59.470001</td>\n",
       "      <td>58.799999</td>\n",
       "      <td>59.080002</td>\n",
       "      <td>25515700</td>\n",
       "      <td>1.610763</td>\n",
       "    </tr>\n",
       "    <tr>\n",
       "      <th>2016-12-05</th>\n",
       "      <td>60.220001</td>\n",
       "      <td>60.590000</td>\n",
       "      <td>59.560001</td>\n",
       "      <td>59.700001</td>\n",
       "      <td>23552700</td>\n",
       "      <td>-0.450376</td>\n",
       "    </tr>\n",
       "    <tr>\n",
       "      <th>2016-12-06</th>\n",
       "      <td>59.950001</td>\n",
       "      <td>60.459999</td>\n",
       "      <td>59.799999</td>\n",
       "      <td>60.430000</td>\n",
       "      <td>19907000</td>\n",
       "      <td>2.313831</td>\n",
       "    </tr>\n",
       "    <tr>\n",
       "      <th>2016-12-07</th>\n",
       "      <td>61.369999</td>\n",
       "      <td>61.380001</td>\n",
       "      <td>59.799999</td>\n",
       "      <td>60.009998</td>\n",
       "      <td>30809000</td>\n",
       "      <td>-0.590068</td>\n",
       "    </tr>\n",
       "    <tr>\n",
       "      <th>...</th>\n",
       "      <td>...</td>\n",
       "      <td>...</td>\n",
       "      <td>...</td>\n",
       "      <td>...</td>\n",
       "      <td>...</td>\n",
       "      <td>...</td>\n",
       "    </tr>\n",
       "    <tr>\n",
       "      <th>2024-11-04</th>\n",
       "      <td>408.459991</td>\n",
       "      <td>410.420013</td>\n",
       "      <td>405.570007</td>\n",
       "      <td>409.799988</td>\n",
       "      <td>19672300</td>\n",
       "      <td>0.729111</td>\n",
       "    </tr>\n",
       "    <tr>\n",
       "      <th>2024-11-05</th>\n",
       "      <td>411.459991</td>\n",
       "      <td>414.899994</td>\n",
       "      <td>408.079987</td>\n",
       "      <td>408.369995</td>\n",
       "      <td>17626000</td>\n",
       "      <td>2.075301</td>\n",
       "    </tr>\n",
       "    <tr>\n",
       "      <th>2024-11-06</th>\n",
       "      <td>420.179993</td>\n",
       "      <td>420.450012</td>\n",
       "      <td>410.519989</td>\n",
       "      <td>412.420013</td>\n",
       "      <td>26681800</td>\n",
       "      <td>1.234046</td>\n",
       "    </tr>\n",
       "    <tr>\n",
       "      <th>2024-11-07</th>\n",
       "      <td>425.429993</td>\n",
       "      <td>426.850006</td>\n",
       "      <td>419.880005</td>\n",
       "      <td>421.279999</td>\n",
       "      <td>19901800</td>\n",
       "      <td>-0.683955</td>\n",
       "    </tr>\n",
       "    <tr>\n",
       "      <th>2024-11-08</th>\n",
       "      <td>422.540009</td>\n",
       "      <td>426.500000</td>\n",
       "      <td>421.779999</td>\n",
       "      <td>425.320007</td>\n",
       "      <td>16875500</td>\n",
       "      <td>-0.888284</td>\n",
       "    </tr>\n",
       "  </tbody>\n",
       "</table>\n",
       "<p>1998 rows × 6 columns</p>\n",
       "</div>"
      ],
      "text/plain": [
       "                 Close        High         Low        Open    Volume  \\\n",
       "Price                                                                  \n",
       "2016-12-01   59.200001   60.150002   58.939999   60.110001  34542100   \n",
       "2016-12-02   59.250000   59.470001   58.799999   59.080002  25515700   \n",
       "2016-12-05   60.220001   60.590000   59.560001   59.700001  23552700   \n",
       "2016-12-06   59.950001   60.459999   59.799999   60.430000  19907000   \n",
       "2016-12-07   61.369999   61.380001   59.799999   60.009998  30809000   \n",
       "...                ...         ...         ...         ...       ...   \n",
       "2024-11-04  408.459991  410.420013  405.570007  409.799988  19672300   \n",
       "2024-11-05  411.459991  414.899994  408.079987  408.369995  17626000   \n",
       "2024-11-06  420.179993  420.450012  410.519989  412.420013  26681800   \n",
       "2024-11-07  425.429993  426.850006  419.880005  421.279999  19901800   \n",
       "2024-11-08  422.540009  426.500000  421.779999  425.320007  16875500   \n",
       "\n",
       "            change_tomorrow  \n",
       "Price                        \n",
       "2016-12-01         0.084387  \n",
       "2016-12-02         1.610763  \n",
       "2016-12-05        -0.450376  \n",
       "2016-12-06         2.313831  \n",
       "2016-12-07        -0.590068  \n",
       "...                     ...  \n",
       "2024-11-04         0.729111  \n",
       "2024-11-05         2.075301  \n",
       "2024-11-06         1.234046  \n",
       "2024-11-07        -0.683955  \n",
       "2024-11-08        -0.888284  \n",
       "\n",
       "[1998 rows x 6 columns]"
      ]
     },
     "execution_count": 10,
     "metadata": {},
     "output_type": "execute_result"
    }
   ],
   "source": [
    "import pandas as pd\n",
    "\n",
    "import pandas as pd\n",
    "df = pd.read_excel('data/microsoft-linkedin-processed.xlsx' , index_col=0)\n",
    "df.index = pd.to_datetime(df.index)\n",
    "\n",
    "# df = pd.read_excel('data/Microsoft_LinkedIn_Processed.xlsx', parse_dates=['Date'], index_col=0)\n",
    "df = df.drop(columns='change_tomorrow_direction')\n",
    "df"
   ]
  },
  {
   "attachments": {},
   "cell_type": "markdown",
   "id": "6727b5de-2ebf-4c69-b394-3d05b810c4e3",
   "metadata": {},
   "source": [
    "## Walk Forward Validation"
   ]
  },
  {
   "attachments": {},
   "cell_type": "markdown",
   "id": "4166d62a-ce20-4983-a6e1-a21104257369",
   "metadata": {},
   "source": [
    "### How `TimeSeriesSplit` works"
   ]
  },
  {
   "cell_type": "code",
   "execution_count": 11,
   "id": "beb195e5",
   "metadata": {},
   "outputs": [],
   "source": [
    "from sklearn.model_selection import TimeSeriesSplit"
   ]
  },
  {
   "cell_type": "code",
   "execution_count": 114,
   "id": "8c7e72a2",
   "metadata": {},
   "outputs": [],
   "source": [
    "ts = TimeSeriesSplit(test_size=200)"
   ]
  },
  {
   "cell_type": "code",
   "execution_count": 115,
   "id": "d8a46710",
   "metadata": {},
   "outputs": [],
   "source": [
    "list_df_train = []\n",
    "list_df_test = []\n",
    "\n",
    "for index_train, index_test in ts.split(df):\n",
    "    list_df_train.append(df.iloc[index_train])\n",
    "    list_df_test.append(df.iloc[index_test])\n"
   ]
  },
  {
   "attachments": {},
   "cell_type": "markdown",
   "id": "cb5a5fb3-4ef1-4f77-8466-6099e8538e56",
   "metadata": {},
   "source": [
    "## Machine Learning Model"
   ]
  },
  {
   "attachments": {},
   "cell_type": "markdown",
   "id": "8bbf358a-4cba-49b3-8123-e8efa2bd7242",
   "metadata": {},
   "source": [
    "### Separate the data\n",
    "\n",
    "1. Target: which variable do you want to predict?\n",
    "2. Explanatory: which variables will you use to calculate the prediction?"
   ]
  },
  {
   "cell_type": "code",
   "execution_count": 117,
   "id": "ef3796a9-334d-48b2-b516-0c1e9122dbbc",
   "metadata": {},
   "outputs": [],
   "source": [
    "y = df.change_tomorrow\n",
    "X = df[['Open','High','Low','Close','Volume']]"
   ]
  },
  {
   "cell_type": "code",
   "execution_count": null,
   "id": "dc340c09",
   "metadata": {},
   "outputs": [
    {
     "name": "stdout",
     "output_type": "stream",
     "text": [
      "                  Open        High         Low       Close    Volume\n",
      "Price                                                               \n",
      "2020-11-18  213.649994  215.169998  210.929993  211.080002  28372800\n",
      "2020-11-19  211.380005  213.029999  209.929993  212.419998  24792700\n",
      "2020-11-20  212.199997  213.289993  210.000000  210.389999  22843100\n",
      "********************************************************************************\n",
      "                  Open        High         Low       Close    Volume\n",
      "Price                                                               \n",
      "2021-09-07  301.010010  301.089996  298.200012  300.179993  17180400\n",
      "2021-09-08  299.779999  300.609985  297.470001  300.209991  15046800\n",
      "2021-09-09  300.820007  302.140015  297.000000  297.250000  19927000\n",
      "********************************************************************************\n",
      "                  Open        High         Low       Close    Volume\n",
      "Price                                                               \n",
      "2022-06-23  255.570007  259.369995  253.630005  258.859985  25861400\n",
      "2022-06-24  261.809998  267.980011  261.720001  267.700012  33923200\n",
      "2022-06-27  268.209991  268.299988  263.279999  264.890015  24615100\n",
      "********************************************************************************\n",
      "                  Open        High         Low       Close    Volume\n",
      "Price                                                               \n",
      "2023-04-11  285.750000  285.980011  281.640015  282.829987  27276600\n",
      "2023-04-12  284.790009  287.010010  281.959991  283.489990  27403400\n",
      "2023-04-13  283.589996  289.899994  283.170013  289.839996  24222700\n",
      "********************************************************************************\n",
      "                  Open        High         Low       Close    Volume\n",
      "Price                                                               \n",
      "2024-01-26  404.369995  406.170013  402.429993  403.929993  17803300\n",
      "2024-01-29  406.059998  409.980011  404.329987  409.720001  24510200\n",
      "2024-01-30  412.260010  413.049988  406.450012  408.589996  33477600\n",
      "********************************************************************************\n"
     ]
    }
   ],
   "source": [
    "list_df_train = []\n",
    "list_df_test = []\n",
    "\n",
    "for index_train, index_test in ts.split(y):\n",
    "    X_train, y_train = X.iloc[index_train], y.iloc[index_train]\n",
    "    X_test, y_test = X.iloc[index_test], y.iloc[index_test]\n"
   ]
  },
  {
   "cell_type": "code",
   "execution_count": null,
   "id": "cebaf0df",
   "metadata": {},
   "outputs": [],
   "source": []
  },
  {
   "attachments": {},
   "cell_type": "markdown",
   "id": "cc103240",
   "metadata": {},
   "source": [
    "### Simulate one computation of the ML model\n",
    "\n",
    "- Compute the model\n",
    "- Calculate predictions on the test set\n",
    "- Evaluate how good the model is"
   ]
  },
  {
   "cell_type": "code",
   "execution_count": 127,
   "id": "411f911f",
   "metadata": {},
   "outputs": [
    {
     "data": {
      "text/plain": [
       "1.8405433037825438"
      ]
     },
     "execution_count": 127,
     "metadata": {},
     "output_type": "execute_result"
    }
   ],
   "source": [
    "from sklearn.tree import DecisionTreeRegressor\n",
    "from sklearn.metrics import mean_squared_error\n",
    "\n",
    "model_dt = DecisionTreeRegressor(max_depth=15, random_state=42)\n",
    "model_dt.fit(X_train, y_train)\n",
    "\n",
    "y_pred = model_dt.predict(X_test)\n",
    "error_mse = mean_squared_error(y_test, y_pred)\n",
    "error_mse"
   ]
  },
  {
   "cell_type": "code",
   "execution_count": 128,
   "id": "e437bc6c",
   "metadata": {},
   "outputs": [
    {
     "name": "stdout",
     "output_type": "stream",
     "text": [
      "37.60386790948279\n",
      "7.6388686681750775\n",
      "5.651981628246065\n",
      "4.638096856714091\n",
      "1.8405433037825438\n"
     ]
    }
   ],
   "source": [
    "for index_train, index_test in ts.split(y):\n",
    "    X_train, y_train = X.iloc[index_train], y.iloc[index_train]\n",
    "    X_test, y_test = X.iloc[index_test], y.iloc[index_test]\n",
    "    model_dt.fit(X_train, y_train)\n",
    "    y_pred = model_dt.predict(X_test)\n",
    "    error_mse = mean_squared_error(y_test, y_pred)\n",
    "    print(error_mse)\n"
   ]
  },
  {
   "cell_type": "code",
   "execution_count": null,
   "id": "0a7904d8",
   "metadata": {},
   "outputs": [],
   "source": []
  },
  {
   "cell_type": "markdown",
   "id": "b57a760b",
   "metadata": {},
   "source": []
  },
  {
   "attachments": {},
   "cell_type": "markdown",
   "id": "1dcffb9d",
   "metadata": {},
   "source": [
    "### Add the procedure inside the for loop"
   ]
  },
  {
   "cell_type": "code",
   "execution_count": null,
   "id": "9d693c23",
   "metadata": {},
   "outputs": [],
   "source": [
    "model_dt = DecisionTreeRegressor(max_depth=15, random_state=42)\n",
    "\n",
    "error_mse_list = []\n",
    "\n",
    "for index_train, index_test in ts.split(df):\n",
    "    \n",
    "    ???"
   ]
  },
  {
   "cell_type": "code",
   "execution_count": null,
   "id": "691610ea-d8b3-4dac-8579-b3b632a62487",
   "metadata": {},
   "outputs": [],
   "source": []
  },
  {
   "attachments": {},
   "cell_type": "markdown",
   "id": "4b381ac4-c140-4150-9f95-3bff60adca2b",
   "metadata": {},
   "source": [
    "## Anchored Walk Forward evaluation in backtesting"
   ]
  },
  {
   "attachments": {},
   "cell_type": "markdown",
   "id": "9233cc82",
   "metadata": {},
   "source": [
    "![](<src/10_Table_Validation Methods.png>)"
   ]
  },
  {
   "attachments": {},
   "cell_type": "markdown",
   "id": "3e9a4d80-7db7-4f64-965f-36439ffa2fee",
   "metadata": {},
   "source": [
    "### Create a new strategy"
   ]
  },
  {
   "cell_type": "code",
   "execution_count": null,
   "id": "be4c0515",
   "metadata": {},
   "outputs": [],
   "source": [
    "from backtesting import Backtest, Strategy"
   ]
  },
  {
   "cell_type": "code",
   "execution_count": null,
   "id": "8ad91bb9",
   "metadata": {},
   "outputs": [],
   "source": [
    "bt = Backtest(df, ???, cash=10000, commission=.002, exclusive_orders=True)"
   ]
  },
  {
   "cell_type": "code",
   "execution_count": null,
   "id": "6ee2f5e0",
   "metadata": {},
   "outputs": [],
   "source": [
    "class Regression(Strategy):\n",
    "    limit_buy = 1\n",
    "    limit_sell = -5\n",
    "    \n",
    "    def init(self):\n",
    "        self.model = DecisionTreeRegressor(max_depth=15, random_state=42)\n",
    "        self.already_bought = False\n",
    "        \n",
    "        X_train = ???\n",
    "        y_train = ???\n",
    "        \n",
    "        self.model.fit(X=X_train, y=y_train)\n",
    "\n",
    "    def next(self):\n",
    "        explanatory_today = self.data.df.iloc[[-1], ???]\n",
    "        forecast_tomorrow = self.model.predict(explanatory_today)[0]\n",
    "        \n",
    "        if forecast_tomorrow > self.limit_buy and self.already_bought == False:\n",
    "            self.buy()\n",
    "            self.already_bought = True\n",
    "        elif forecast_tomorrow < self.limit_sell and self.already_bought == True:\n",
    "            self.sell()\n",
    "            self.already_bought = False\n",
    "        else:\n",
    "            pass"
   ]
  },
  {
   "cell_type": "code",
   "execution_count": null,
   "id": "00c0068b",
   "metadata": {},
   "outputs": [],
   "source": [
    "class WalkForwardAnchored(Regression):\n",
    "    def next(self):\n",
    "        \n",
    "        # we don't take any action and move on to the following day\n",
    "        if len(self.data) < ???:\n",
    "            return\n",
    "        \n",
    "        # we retrain the model each x days\n",
    "        if len(self.data) % ??? == 0:\n",
    "            X_train = self.data.df.iloc[:, :-1]\n",
    "            y_train = self.data.df.iloc[:, -1]\n",
    "\n",
    "            self.model.fit(X_train, y_train)\n",
    "\n",
    "            super().next()\n",
    "            \n",
    "        else:\n",
    "            \n",
    "            super().next()"
   ]
  },
  {
   "cell_type": "code",
   "execution_count": null,
   "id": "dd460401",
   "metadata": {},
   "outputs": [],
   "source": [
    "from backtesting import Backtest\n",
    "bt = Backtest(df, WalkForwardAnchored, cash=10000, commission=.002, exclusive_orders=True)"
   ]
  },
  {
   "cell_type": "code",
   "execution_count": null,
   "id": "55b7465f",
   "metadata": {},
   "outputs": [],
   "source": [
    "import multiprocessing as mp\n",
    "mp.set_start_method('fork')"
   ]
  },
  {
   "cell_type": "code",
   "execution_count": null,
   "id": "0eab0e5e-bc9d-4cfd-ae54-c4d788235a3b",
   "metadata": {},
   "outputs": [],
   "source": [
    "stats_skopt, heatmap, optimize_result = bt.optimize(\n",
    "    limit_buy = range(0, 6), limit_sell = range(-6, 0),\n",
    "    maximize='Return [%]',\n",
    "    max_tries=500,\n",
    "    random_state=42,\n",
    "    return_heatmap=True,\n",
    "    return_optimization=True,\n",
    "    method='skopt'\n",
    "    )\n",
    "\n",
    "dff = heatmap.reset_index()\n",
    "dff = dff.sort_values('Return [%]', ascending=False)\n",
    "dff"
   ]
  },
  {
   "attachments": {},
   "cell_type": "markdown",
   "id": "5e4bb005-9451-4b3a-ad1f-68677aa0070a",
   "metadata": {},
   "source": [
    "## Unanchored Walk Forward"
   ]
  },
  {
   "attachments": {},
   "cell_type": "markdown",
   "id": "927ec43c",
   "metadata": {},
   "source": [
    "### Create a library of strategies\n",
    "\n",
    "`strategies.py`"
   ]
  },
  {
   "attachments": {},
   "cell_type": "markdown",
   "id": "a217d7d6",
   "metadata": {},
   "source": [
    "### Create the unanchored walk forward class"
   ]
  },
  {
   "attachments": {},
   "cell_type": "markdown",
   "id": "2746c22f",
   "metadata": {},
   "source": [
    "![](<src/10_Table_Validation Methods.png>)"
   ]
  },
  {
   "attachments": {},
   "cell_type": "markdown",
   "id": "b73a4767",
   "metadata": {},
   "source": [
    "### Import the strategy and perform the backtest"
   ]
  },
  {
   "cell_type": "code",
   "execution_count": null,
   "id": "dbf7436c",
   "metadata": {},
   "outputs": [],
   "source": [
    "%load_ext autoreload\n",
    "%autoreload 2"
   ]
  },
  {
   "cell_type": "code",
   "execution_count": null,
   "id": "3b0396c5",
   "metadata": {},
   "outputs": [],
   "source": [
    "import strategies"
   ]
  },
  {
   "cell_type": "code",
   "execution_count": null,
   "id": "39fe79ef",
   "metadata": {},
   "outputs": [],
   "source": [
    "strategies.WalkForwardUnanchored"
   ]
  },
  {
   "cell_type": "code",
   "execution_count": null,
   "id": "8d439835-ecfb-45d3-a5c8-eb40a26b51d9",
   "metadata": {},
   "outputs": [],
   "source": [
    "bt_unanchored = Backtest(df, strategies.WalkForwardUnanchored, cash=10000, commission=.002, exclusive_orders=True)\n",
    "\n",
    "stats_skopt, heatmap, optimize_result = bt_unanchored.optimize(\n",
    "    limit_buy = range(0, 6), limit_sell = range(-6, 0),\n",
    "    maximize='Return [%]',\n",
    "    max_tries=500,\n",
    "    random_state=42,\n",
    "    return_heatmap=True,\n",
    "    return_optimization=True,\n",
    "    method='skopt'\n",
    "    )\n",
    "\n",
    "dff = heatmap.reset_index()\n",
    "dff = dff.sort_values('Return [%]', ascending=False)\n",
    "dff"
   ]
  },
  {
   "attachments": {},
   "cell_type": "markdown",
   "id": "7eee71ca",
   "metadata": {},
   "source": [
    "### Interpret the strategies' performance\n",
    "\n",
    "- Both anchored and unanchored backtesting"
   ]
  },
  {
   "cell_type": "code",
   "execution_count": null,
   "id": "fac2e415-0ec4-4dbf-bdf4-af19513ccb18",
   "metadata": {},
   "outputs": [],
   "source": []
  },
  {
   "attachments": {},
   "cell_type": "markdown",
   "id": "7e00e681",
   "metadata": {},
   "source": [
    "## Practice to master the knowledge\n",
    "\n",
    "Work on the challenge with another dataset:\n",
    "\n",
    "1. Learn the <a>mental models</a> to solve the challenge faster.\n",
    "2. Complete the <a href=\"10C_Walk Forward Regression.ipynb\">notebook</a>."
   ]
  }
 ],
 "metadata": {
  "kernelspec": {
   "display_name": "venv",
   "language": "python",
   "name": "python3"
  },
  "language_info": {
   "codemirror_mode": {
    "name": "ipython",
    "version": 3
   },
   "file_extension": ".py",
   "mimetype": "text/x-python",
   "name": "python",
   "nbconvert_exporter": "python",
   "pygments_lexer": "ipython3",
   "version": "3.8.5"
  }
 },
 "nbformat": 4,
 "nbformat_minor": 5
}
