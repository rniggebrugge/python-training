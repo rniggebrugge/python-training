{
 "cells": [
  {
   "attachments": {},
   "cell_type": "markdown",
   "id": "ab30d554-5b8c-4742-a3f2-4780875c67f8",
   "metadata": {},
   "source": [
    "# Challenge: Overfitting on Other Datasets"
   ]
  },
  {
   "attachments": {},
   "cell_type": "markdown",
   "id": "d0594980-9456-4a1b-88ad-ba2e56232600",
   "metadata": {},
   "source": [
    "## Download data from `yfinance`"
   ]
  },
  {
   "cell_type": "code",
   "execution_count": 18,
   "id": "972674d7-af41-44f1-839e-450246e53d17",
   "metadata": {},
   "outputs": [
    {
     "name": "stderr",
     "output_type": "stream",
     "text": [
      "[*********************100%***********************]  1 of 1 completed\n"
     ]
    },
    {
     "data": {
      "text/html": [
       "<div>\n",
       "<style scoped>\n",
       "    .dataframe tbody tr th:only-of-type {\n",
       "        vertical-align: middle;\n",
       "    }\n",
       "\n",
       "    .dataframe tbody tr th {\n",
       "        vertical-align: top;\n",
       "    }\n",
       "\n",
       "    .dataframe thead tr th {\n",
       "        text-align: left;\n",
       "    }\n",
       "\n",
       "    .dataframe thead tr:last-of-type th {\n",
       "        text-align: right;\n",
       "    }\n",
       "</style>\n",
       "<table border=\"1\" class=\"dataframe\">\n",
       "  <thead>\n",
       "    <tr>\n",
       "      <th>Price</th>\n",
       "      <th>Adj Close</th>\n",
       "      <th>Close</th>\n",
       "      <th>High</th>\n",
       "      <th>Low</th>\n",
       "      <th>Open</th>\n",
       "      <th>Volume</th>\n",
       "    </tr>\n",
       "    <tr>\n",
       "      <th>Ticker</th>\n",
       "      <th>CLSK</th>\n",
       "      <th>CLSK</th>\n",
       "      <th>CLSK</th>\n",
       "      <th>CLSK</th>\n",
       "      <th>CLSK</th>\n",
       "      <th>CLSK</th>\n",
       "    </tr>\n",
       "    <tr>\n",
       "      <th>Date</th>\n",
       "      <th></th>\n",
       "      <th></th>\n",
       "      <th></th>\n",
       "      <th></th>\n",
       "      <th></th>\n",
       "      <th></th>\n",
       "    </tr>\n",
       "  </thead>\n",
       "  <tbody>\n",
       "    <tr>\n",
       "      <th>2016-11-16</th>\n",
       "      <td>34.900002</td>\n",
       "      <td>34.900002</td>\n",
       "      <td>34.900002</td>\n",
       "      <td>34.900002</td>\n",
       "      <td>34.900002</td>\n",
       "      <td>40</td>\n",
       "    </tr>\n",
       "    <tr>\n",
       "      <th>2016-11-17</th>\n",
       "      <td>34.900002</td>\n",
       "      <td>34.900002</td>\n",
       "      <td>34.900002</td>\n",
       "      <td>34.900002</td>\n",
       "      <td>34.900002</td>\n",
       "      <td>0</td>\n",
       "    </tr>\n",
       "    <tr>\n",
       "      <th>2016-11-18</th>\n",
       "      <td>34.900002</td>\n",
       "      <td>34.900002</td>\n",
       "      <td>34.900002</td>\n",
       "      <td>34.900002</td>\n",
       "      <td>34.900002</td>\n",
       "      <td>0</td>\n",
       "    </tr>\n",
       "    <tr>\n",
       "      <th>2016-11-21</th>\n",
       "      <td>31.500000</td>\n",
       "      <td>31.500000</td>\n",
       "      <td>31.500000</td>\n",
       "      <td>31.500000</td>\n",
       "      <td>31.500000</td>\n",
       "      <td>160</td>\n",
       "    </tr>\n",
       "    <tr>\n",
       "      <th>2016-11-22</th>\n",
       "      <td>45.000000</td>\n",
       "      <td>45.000000</td>\n",
       "      <td>45.000000</td>\n",
       "      <td>45.000000</td>\n",
       "      <td>45.000000</td>\n",
       "      <td>10</td>\n",
       "    </tr>\n",
       "    <tr>\n",
       "      <th>...</th>\n",
       "      <td>...</td>\n",
       "      <td>...</td>\n",
       "      <td>...</td>\n",
       "      <td>...</td>\n",
       "      <td>...</td>\n",
       "      <td>...</td>\n",
       "    </tr>\n",
       "    <tr>\n",
       "      <th>2024-11-20</th>\n",
       "      <td>14.000000</td>\n",
       "      <td>14.000000</td>\n",
       "      <td>14.980000</td>\n",
       "      <td>13.320000</td>\n",
       "      <td>14.560000</td>\n",
       "      <td>49099900</td>\n",
       "    </tr>\n",
       "    <tr>\n",
       "      <th>2024-11-21</th>\n",
       "      <td>12.965000</td>\n",
       "      <td>12.965000</td>\n",
       "      <td>15.280000</td>\n",
       "      <td>12.600000</td>\n",
       "      <td>14.600000</td>\n",
       "      <td>62190600</td>\n",
       "    </tr>\n",
       "    <tr>\n",
       "      <th>2024-11-22</th>\n",
       "      <td>15.100000</td>\n",
       "      <td>15.100000</td>\n",
       "      <td>15.480000</td>\n",
       "      <td>12.860000</td>\n",
       "      <td>13.100000</td>\n",
       "      <td>49084900</td>\n",
       "    </tr>\n",
       "    <tr>\n",
       "      <th>2024-11-25</th>\n",
       "      <td>14.950000</td>\n",
       "      <td>14.950000</td>\n",
       "      <td>15.870000</td>\n",
       "      <td>14.510000</td>\n",
       "      <td>15.400000</td>\n",
       "      <td>42148400</td>\n",
       "    </tr>\n",
       "    <tr>\n",
       "      <th>2024-11-26</th>\n",
       "      <td>13.030000</td>\n",
       "      <td>13.030000</td>\n",
       "      <td>14.450000</td>\n",
       "      <td>13.010000</td>\n",
       "      <td>14.000000</td>\n",
       "      <td>36951900</td>\n",
       "    </tr>\n",
       "  </tbody>\n",
       "</table>\n",
       "<p>2020 rows × 6 columns</p>\n",
       "</div>"
      ],
      "text/plain": [
       "Price       Adj Close      Close       High        Low       Open    Volume\n",
       "Ticker           CLSK       CLSK       CLSK       CLSK       CLSK      CLSK\n",
       "Date                                                                       \n",
       "2016-11-16  34.900002  34.900002  34.900002  34.900002  34.900002        40\n",
       "2016-11-17  34.900002  34.900002  34.900002  34.900002  34.900002         0\n",
       "2016-11-18  34.900002  34.900002  34.900002  34.900002  34.900002         0\n",
       "2016-11-21  31.500000  31.500000  31.500000  31.500000  31.500000       160\n",
       "2016-11-22  45.000000  45.000000  45.000000  45.000000  45.000000        10\n",
       "...               ...        ...        ...        ...        ...       ...\n",
       "2024-11-20  14.000000  14.000000  14.980000  13.320000  14.560000  49099900\n",
       "2024-11-21  12.965000  12.965000  15.280000  12.600000  14.600000  62190600\n",
       "2024-11-22  15.100000  15.100000  15.480000  12.860000  13.100000  49084900\n",
       "2024-11-25  14.950000  14.950000  15.870000  14.510000  15.400000  42148400\n",
       "2024-11-26  13.030000  13.030000  14.450000  13.010000  14.000000  36951900\n",
       "\n",
       "[2020 rows x 6 columns]"
      ]
     },
     "execution_count": 18,
     "metadata": {},
     "output_type": "execute_result"
    }
   ],
   "source": [
    "import yfinance as yf\n",
    "\n",
    "ticker = 'CLSK'\n",
    "df = yf.download(ticker)\n",
    "df"
   ]
  },
  {
   "attachments": {},
   "cell_type": "markdown",
   "id": "53bfc2d7-c044-48a7-aa83-234c751be651",
   "metadata": {},
   "source": [
    "## Preprocess the data"
   ]
  },
  {
   "attachments": {},
   "cell_type": "markdown",
   "id": "a21b6503-58f5-4c46-844d-496fc9f523f5",
   "metadata": {},
   "source": [
    "### Filter the date range\n",
    "\n",
    "- Since 1 year ago at least"
   ]
  },
  {
   "cell_type": "code",
   "execution_count": 19,
   "id": "27a99a2a-65ef-4bce-aa6e-761e532ef65b",
   "metadata": {},
   "outputs": [],
   "source": [
    "df = df.loc['2020-01-01':].copy()"
   ]
  },
  {
   "attachments": {},
   "cell_type": "markdown",
   "id": "96f2148e-b519-4694-9033-7ece26520ddc",
   "metadata": {},
   "source": [
    "### Create the target variable\n",
    "\n",
    "#### Percentage change\n",
    "\n",
    "- Percentage change on `Adj Close` for tomorrow"
   ]
  },
  {
   "cell_type": "code",
   "execution_count": 20,
   "id": "76b43f65-bf8b-40e5-b8af-0df5f4fbe9d6",
   "metadata": {},
   "outputs": [],
   "source": [
    "df['change_tomorrow'] = df['Adj Close'].pct_change(-1)\n",
    "df.change_tomorrow = df.change_tomorrow * -1\n",
    "df.change_tomorrow = df.change_tomorrow * 100"
   ]
  },
  {
   "attachments": {},
   "cell_type": "markdown",
   "id": "e90a7218-3fa4-48e3-bf61-20a04eee45a7",
   "metadata": {},
   "source": [
    "#### Remove rows with any missing data"
   ]
  },
  {
   "cell_type": "code",
   "execution_count": 21,
   "id": "cb4a905c-6c69-4731-a4fa-54ef4dbf3e88",
   "metadata": {},
   "outputs": [
    {
     "data": {
      "text/html": [
       "<div>\n",
       "<style scoped>\n",
       "    .dataframe tbody tr th:only-of-type {\n",
       "        vertical-align: middle;\n",
       "    }\n",
       "\n",
       "    .dataframe tbody tr th {\n",
       "        vertical-align: top;\n",
       "    }\n",
       "\n",
       "    .dataframe thead th {\n",
       "        text-align: right;\n",
       "    }\n",
       "</style>\n",
       "<table border=\"1\" class=\"dataframe\">\n",
       "  <thead>\n",
       "    <tr style=\"text-align: right;\">\n",
       "      <th>Price</th>\n",
       "      <th>Adj Close</th>\n",
       "      <th>Close</th>\n",
       "      <th>High</th>\n",
       "      <th>Low</th>\n",
       "      <th>Open</th>\n",
       "      <th>Volume</th>\n",
       "      <th>change_tomorrow</th>\n",
       "    </tr>\n",
       "    <tr>\n",
       "      <th>Date</th>\n",
       "      <th></th>\n",
       "      <th></th>\n",
       "      <th></th>\n",
       "      <th></th>\n",
       "      <th></th>\n",
       "      <th></th>\n",
       "      <th></th>\n",
       "    </tr>\n",
       "  </thead>\n",
       "  <tbody>\n",
       "    <tr>\n",
       "      <th>2020-01-02</th>\n",
       "      <td>5.400</td>\n",
       "      <td>5.400</td>\n",
       "      <td>5.60</td>\n",
       "      <td>5.300</td>\n",
       "      <td>5.375</td>\n",
       "      <td>19600</td>\n",
       "      <td>-0.000000</td>\n",
       "    </tr>\n",
       "    <tr>\n",
       "      <th>2020-01-03</th>\n",
       "      <td>5.400</td>\n",
       "      <td>5.400</td>\n",
       "      <td>5.50</td>\n",
       "      <td>5.020</td>\n",
       "      <td>5.020</td>\n",
       "      <td>2900</td>\n",
       "      <td>-4.448743</td>\n",
       "    </tr>\n",
       "    <tr>\n",
       "      <th>2020-01-06</th>\n",
       "      <td>5.170</td>\n",
       "      <td>5.170</td>\n",
       "      <td>5.60</td>\n",
       "      <td>5.100</td>\n",
       "      <td>5.300</td>\n",
       "      <td>6300</td>\n",
       "      <td>-1.372552</td>\n",
       "    </tr>\n",
       "    <tr>\n",
       "      <th>2020-01-07</th>\n",
       "      <td>5.100</td>\n",
       "      <td>5.100</td>\n",
       "      <td>5.30</td>\n",
       "      <td>4.750</td>\n",
       "      <td>5.100</td>\n",
       "      <td>7700</td>\n",
       "      <td>3.773590</td>\n",
       "    </tr>\n",
       "    <tr>\n",
       "      <th>2020-01-08</th>\n",
       "      <td>5.300</td>\n",
       "      <td>5.300</td>\n",
       "      <td>5.40</td>\n",
       "      <td>4.930</td>\n",
       "      <td>5.000</td>\n",
       "      <td>6000</td>\n",
       "      <td>-6.000004</td>\n",
       "    </tr>\n",
       "    <tr>\n",
       "      <th>...</th>\n",
       "      <td>...</td>\n",
       "      <td>...</td>\n",
       "      <td>...</td>\n",
       "      <td>...</td>\n",
       "      <td>...</td>\n",
       "      <td>...</td>\n",
       "      <td>...</td>\n",
       "    </tr>\n",
       "    <tr>\n",
       "      <th>2024-11-19</th>\n",
       "      <td>14.120</td>\n",
       "      <td>14.120</td>\n",
       "      <td>14.40</td>\n",
       "      <td>12.835</td>\n",
       "      <td>13.260</td>\n",
       "      <td>35421400</td>\n",
       "      <td>-0.857142</td>\n",
       "    </tr>\n",
       "    <tr>\n",
       "      <th>2024-11-20</th>\n",
       "      <td>14.000</td>\n",
       "      <td>14.000</td>\n",
       "      <td>14.98</td>\n",
       "      <td>13.320</td>\n",
       "      <td>14.560</td>\n",
       "      <td>49099900</td>\n",
       "      <td>-7.983030</td>\n",
       "    </tr>\n",
       "    <tr>\n",
       "      <th>2024-11-21</th>\n",
       "      <td>12.965</td>\n",
       "      <td>12.965</td>\n",
       "      <td>15.28</td>\n",
       "      <td>12.600</td>\n",
       "      <td>14.600</td>\n",
       "      <td>62190600</td>\n",
       "      <td>14.139074</td>\n",
       "    </tr>\n",
       "    <tr>\n",
       "      <th>2024-11-22</th>\n",
       "      <td>15.100</td>\n",
       "      <td>15.100</td>\n",
       "      <td>15.48</td>\n",
       "      <td>12.860</td>\n",
       "      <td>13.100</td>\n",
       "      <td>49084900</td>\n",
       "      <td>-1.003348</td>\n",
       "    </tr>\n",
       "    <tr>\n",
       "      <th>2024-11-25</th>\n",
       "      <td>14.950</td>\n",
       "      <td>14.950</td>\n",
       "      <td>15.87</td>\n",
       "      <td>14.510</td>\n",
       "      <td>15.400</td>\n",
       "      <td>42148400</td>\n",
       "      <td>-14.735227</td>\n",
       "    </tr>\n",
       "  </tbody>\n",
       "</table>\n",
       "<p>1234 rows × 7 columns</p>\n",
       "</div>"
      ],
      "text/plain": [
       "Price       Adj Close   Close   High     Low    Open    Volume  \\\n",
       "Date                                                             \n",
       "2020-01-02      5.400   5.400   5.60   5.300   5.375     19600   \n",
       "2020-01-03      5.400   5.400   5.50   5.020   5.020      2900   \n",
       "2020-01-06      5.170   5.170   5.60   5.100   5.300      6300   \n",
       "2020-01-07      5.100   5.100   5.30   4.750   5.100      7700   \n",
       "2020-01-08      5.300   5.300   5.40   4.930   5.000      6000   \n",
       "...               ...     ...    ...     ...     ...       ...   \n",
       "2024-11-19     14.120  14.120  14.40  12.835  13.260  35421400   \n",
       "2024-11-20     14.000  14.000  14.98  13.320  14.560  49099900   \n",
       "2024-11-21     12.965  12.965  15.28  12.600  14.600  62190600   \n",
       "2024-11-22     15.100  15.100  15.48  12.860  13.100  49084900   \n",
       "2024-11-25     14.950  14.950  15.87  14.510  15.400  42148400   \n",
       "\n",
       "Price       change_tomorrow  \n",
       "Date                         \n",
       "2020-01-02        -0.000000  \n",
       "2020-01-03        -4.448743  \n",
       "2020-01-06        -1.372552  \n",
       "2020-01-07         3.773590  \n",
       "2020-01-08        -6.000004  \n",
       "...                     ...  \n",
       "2024-11-19        -0.857142  \n",
       "2024-11-20        -7.983030  \n",
       "2024-11-21        14.139074  \n",
       "2024-11-22        -1.003348  \n",
       "2024-11-25       -14.735227  \n",
       "\n",
       "[1234 rows x 7 columns]"
      ]
     },
     "execution_count": 21,
     "metadata": {},
     "output_type": "execute_result"
    }
   ],
   "source": [
    "df = df.dropna().copy()\n",
    "df = df.droplevel('Ticker', axis=1)\n",
    "df"
   ]
  },
  {
   "attachments": {},
   "cell_type": "markdown",
   "id": "e29ae486-480c-4a88-9bf3-9ba5e0e53f05",
   "metadata": {},
   "source": [
    "## Machine Learning modelling"
   ]
  },
  {
   "attachments": {},
   "cell_type": "markdown",
   "id": "6c2ffb1d-ffb7-427d-b2d0-6fc3dd3e98c1",
   "metadata": {},
   "source": [
    "### Feature selection\n",
    "\n",
    "1. Target: which variable do you want to predict?\n",
    "2. Explanatory: which variables will you use to calculate the prediction?"
   ]
  },
  {
   "cell_type": "code",
   "execution_count": 33,
   "id": "c36c1df6-10a7-4608-990e-2de157349247",
   "metadata": {},
   "outputs": [],
   "source": [
    "y = df.change_tomorrow\n",
    "X = df.drop(columns='change_tomorrow')"
   ]
  },
  {
   "attachments": {},
   "cell_type": "markdown",
   "id": "45b4e5fa-557b-4f24-99ab-87b0d621c4a1",
   "metadata": {},
   "source": [
    "### Train test split"
   ]
  },
  {
   "cell_type": "code",
   "execution_count": 34,
   "id": "412d4150",
   "metadata": {},
   "outputs": [],
   "source": [
    "from sklearn.model_selection import train_test_split"
   ]
  },
  {
   "attachments": {},
   "cell_type": "markdown",
   "id": "a7aa2cdd-2f08-44e1-b6f6-60dfbd733a43",
   "metadata": {},
   "source": [
    "### Fit the model on train set"
   ]
  },
  {
   "cell_type": "code",
   "execution_count": null,
   "id": "e0ccf439-68ef-4fb8-91c6-b65e1f507149",
   "metadata": {},
   "outputs": [],
   "source": []
  },
  {
   "attachments": {},
   "cell_type": "markdown",
   "id": "d05d93d3-0108-4db2-8147-446e4f7acbcd",
   "metadata": {},
   "source": [
    "### Evaluate model"
   ]
  },
  {
   "attachments": {},
   "cell_type": "markdown",
   "id": "40e3e723-01ae-426b-a07f-76e6a0e86085",
   "metadata": {},
   "source": [
    "#### On test set"
   ]
  },
  {
   "cell_type": "code",
   "execution_count": null,
   "id": "963194dc-7266-44fe-bf13-44f4db7e6cbc",
   "metadata": {},
   "outputs": [],
   "source": [
    "from sklearn.metrics import ???"
   ]
  },
  {
   "cell_type": "code",
   "execution_count": null,
   "id": "e30cccf3-470f-4d9f-a085-5cc3a6b4cf42",
   "metadata": {},
   "outputs": [],
   "source": []
  },
  {
   "attachments": {},
   "cell_type": "markdown",
   "id": "dd598a11-d599-4ed8-811a-e1970a89ec21",
   "metadata": {},
   "source": [
    "#### On train set"
   ]
  },
  {
   "cell_type": "code",
   "execution_count": null,
   "id": "0e46086e-056f-4f1d-b81a-c2870a774991",
   "metadata": {},
   "outputs": [],
   "source": []
  },
  {
   "attachments": {},
   "cell_type": "markdown",
   "id": "32f4c9ba-ab10-4d00-8b45-bfda4b2298b8",
   "metadata": {},
   "source": [
    "## Backtesting"
   ]
  },
  {
   "cell_type": "code",
   "execution_count": null,
   "id": "a6aa60da-4c9a-4485-aae7-91324eed16e2",
   "metadata": {},
   "outputs": [],
   "source": [
    "from backtesting import Backtest, Strategy"
   ]
  },
  {
   "attachments": {},
   "cell_type": "markdown",
   "id": "367a9244-7176-43d2-b784-7e7db33c43df",
   "metadata": {},
   "source": [
    "### Create the `Strategy`"
   ]
  },
  {
   "cell_type": "code",
   "execution_count": null,
   "id": "05dec003-6544-4832-bec1-8195455191fd",
   "metadata": {},
   "outputs": [],
   "source": [
    "class Regression(Strategy):\n",
    "    limit_buy = 1\n",
    "    limit_sell = -5\n",
    "    \n",
    "    def init(self):\n",
    "        self.model = DecisionTreeRegressor(max_depth=15, random_state=42)\n",
    "        self.already_bought = False\n",
    "        \n",
    "        ???\n",
    "\n",
    "    def next(self):\n",
    "        explanatory_today = self.data.df.iloc[[-1], :]\n",
    "        forecast_tomorrow = self.model.predict(explanatory_today)[0]\n",
    "        \n",
    "        if forecast_tomorrow > self.limit_buy and self.already_bought == False:\n",
    "            self.buy()\n",
    "            self.already_bought = True\n",
    "        elif forecast_tomorrow < self.limit_sell and self.already_bought == True:\n",
    "            self.sell()\n",
    "            self.already_bought = False\n",
    "        else:\n",
    "            pass"
   ]
  },
  {
   "attachments": {},
   "cell_type": "markdown",
   "id": "10330a05-12bf-4c83-bf1b-3727fed50102",
   "metadata": {},
   "source": [
    "### Run the backtest on `test` data"
   ]
  },
  {
   "cell_type": "code",
   "execution_count": null,
   "id": "d0e892ec-9924-461a-ad18-09f0a1512aac",
   "metadata": {},
   "outputs": [],
   "source": [
    "bt = Backtest(???, Regression,\n",
    "              cash=10000, commission=.002, exclusive_orders=True)"
   ]
  },
  {
   "cell_type": "code",
   "execution_count": null,
   "id": "8f131c9c-3984-4d73-9e85-800d418287fc",
   "metadata": {},
   "outputs": [],
   "source": [
    "results = bt.run(limit_buy=1, limit_sell=-5)\n",
    "\n",
    "df_results_test = results.to_frame(name='Values').loc[:'Return [%]']\\\n",
    "    .rename({'Values':'Out of Sample (Test)'}, axis=1)\n",
    "df_results_test"
   ]
  },
  {
   "attachments": {},
   "cell_type": "markdown",
   "id": "b766904b-9ac0-4b99-aede-f1c5bcd0ac47",
   "metadata": {},
   "source": [
    "### Run the backtest on `train` data"
   ]
  },
  {
   "cell_type": "code",
   "execution_count": null,
   "id": "d12e8e0f-b56a-48e4-90d6-e16e61f6e4c6",
   "metadata": {},
   "outputs": [],
   "source": [
    "bt = Backtest(???, Regression,\n",
    "              cash=10000, commission=.002, exclusive_orders=True)\n",
    "\n",
    "results = bt.run(limit_buy=1, limit_sell=-5)\n",
    "\n",
    "df_results_train = results.to_frame(name='Values').loc[:'Return [%]']\\\n",
    "    .rename({'Values':'In Sample (Train)'}, axis=1)\n",
    "df_results_train"
   ]
  },
  {
   "attachments": {},
   "cell_type": "markdown",
   "id": "ae5295ab-18f4-42dc-a88c-0d78a5d235bf",
   "metadata": {},
   "source": [
    "### Compare both backtests\n",
    "\n",
    "- HINT: Concatenate the previous `DataFrames`"
   ]
  },
  {
   "cell_type": "code",
   "execution_count": null,
   "id": "617d9aad-0ad9-46ca-93bb-fe26b8316602",
   "metadata": {},
   "outputs": [],
   "source": []
  },
  {
   "attachments": {},
   "cell_type": "markdown",
   "id": "a6c3bb3c",
   "metadata": {},
   "source": [
    "#### Plot both backtest reports"
   ]
  },
  {
   "cell_type": "code",
   "execution_count": null,
   "id": "ac284691",
   "metadata": {},
   "outputs": [],
   "source": []
  },
  {
   "attachments": {},
   "cell_type": "markdown",
   "id": "047811dc",
   "metadata": {},
   "source": [
    "## How to solve the overfitting problem?\n",
    "\n",
    "> Walk Forward Validation as a realistic approach to backtesting.\n",
    "\n",
    "Next tutorial → [Walk Forward Validation]()"
   ]
  },
  {
   "attachments": {},
   "cell_type": "markdown",
   "id": "7dbd7bd3",
   "metadata": {},
   "source": [
    "![](<src/10_Table_Validation Methods.png>)"
   ]
  }
 ],
 "metadata": {
  "kernelspec": {
   "display_name": "venv",
   "language": "python",
   "name": "python3"
  },
  "language_info": {
   "codemirror_mode": {
    "name": "ipython",
    "version": 3
   },
   "file_extension": ".py",
   "mimetype": "text/x-python",
   "name": "python",
   "nbconvert_exporter": "python",
   "pygments_lexer": "ipython3",
   "version": "3.8.5"
  }
 },
 "nbformat": 4,
 "nbformat_minor": 5
}
