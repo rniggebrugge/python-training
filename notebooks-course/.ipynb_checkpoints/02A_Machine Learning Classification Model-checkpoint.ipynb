{
 "cells": [
  {
   "cell_type": "markdown",
   "id": "dff3eddf-9859-424f-9330-8bde2323d8ee",
   "metadata": {},
   "source": [
    "# Machine Learning Classification Model"
   ]
  },
  {
   "cell_type": "code",
   "execution_count": null,
   "id": "ded2ed4a",
   "metadata": {},
   "outputs": [
    {
     "data": {
      "text/html": [
       "<div>\n",
       "<style scoped>\n",
       "    .dataframe tbody tr th:only-of-type {\n",
       "        vertical-align: middle;\n",
       "    }\n",
       "\n",
       "    .dataframe tbody tr th {\n",
       "        vertical-align: top;\n",
       "    }\n",
       "\n",
       "    .dataframe thead th {\n",
       "        text-align: right;\n",
       "    }\n",
       "</style>\n",
       "<table border=\"1\" class=\"dataframe\">\n",
       "  <thead>\n",
       "    <tr style=\"text-align: right;\">\n",
       "      <th></th>\n",
       "      <th>change_tomorrow_direction</th>\n",
       "      <th>prediction</th>\n",
       "    </tr>\n",
       "    <tr>\n",
       "      <th>Date</th>\n",
       "      <th></th>\n",
       "      <th></th>\n",
       "    </tr>\n",
       "  </thead>\n",
       "  <tbody>\n",
       "    <tr>\n",
       "      <th>2016-12-08</th>\n",
       "      <td>UP</td>\n",
       "      <td>UP</td>\n",
       "    </tr>\n",
       "    <tr>\n",
       "      <th>2016-12-09</th>\n",
       "      <td>UP</td>\n",
       "      <td>UP</td>\n",
       "    </tr>\n",
       "    <tr>\n",
       "      <th>...</th>\n",
       "      <td>...</td>\n",
       "      <td>...</td>\n",
       "    </tr>\n",
       "    <tr>\n",
       "      <th>2023-03-14</th>\n",
       "      <td>UP</td>\n",
       "      <td>DOWN</td>\n",
       "    </tr>\n",
       "    <tr>\n",
       "      <th>2023-03-15</th>\n",
       "      <td>UP</td>\n",
       "      <td>UP</td>\n",
       "    </tr>\n",
       "  </tbody>\n",
       "</table>\n",
       "<p>1576 rows × 2 columns</p>\n",
       "</div>"
      ],
      "text/plain": [
       "           change_tomorrow_direction prediction\n",
       "Date                                           \n",
       "2016-12-08                        UP         UP\n",
       "2016-12-09                        UP         UP\n",
       "...                              ...        ...\n",
       "2023-03-14                        UP       DOWN\n",
       "2023-03-15                        UP         UP\n",
       "\n",
       "[1576 rows x 2 columns]"
      ]
     },
     "metadata": {},
     "output_type": "display_data"
    }
   ],
   "source": [
    "???"
   ]
  },
  {
   "cell_type": "markdown",
   "id": "726ed1f5-8f2e-4e72-9e96-643fec7ca11a",
   "metadata": {},
   "source": [
    "## Load the data"
   ]
  },
  {
   "cell_type": "code",
   "execution_count": 25,
   "id": "797a9c1f",
   "metadata": {},
   "outputs": [
    {
     "data": {
      "text/html": [
       "<div>\n",
       "<style scoped>\n",
       "    .dataframe tbody tr th:only-of-type {\n",
       "        vertical-align: middle;\n",
       "    }\n",
       "\n",
       "    .dataframe tbody tr th {\n",
       "        vertical-align: top;\n",
       "    }\n",
       "\n",
       "    .dataframe thead th {\n",
       "        text-align: right;\n",
       "    }\n",
       "</style>\n",
       "<table border=\"1\" class=\"dataframe\">\n",
       "  <thead>\n",
       "    <tr style=\"text-align: right;\">\n",
       "      <th></th>\n",
       "      <th>Close</th>\n",
       "      <th>High</th>\n",
       "      <th>Low</th>\n",
       "      <th>Open</th>\n",
       "      <th>Volume</th>\n",
       "      <th>change_tomorrow</th>\n",
       "      <th>change_tomorrow_direction</th>\n",
       "    </tr>\n",
       "    <tr>\n",
       "      <th>Price</th>\n",
       "      <th></th>\n",
       "      <th></th>\n",
       "      <th></th>\n",
       "      <th></th>\n",
       "      <th></th>\n",
       "      <th></th>\n",
       "      <th></th>\n",
       "    </tr>\n",
       "  </thead>\n",
       "  <tbody>\n",
       "    <tr>\n",
       "      <th>2016-12-01</th>\n",
       "      <td>59.200001</td>\n",
       "      <td>60.150002</td>\n",
       "      <td>58.939999</td>\n",
       "      <td>60.110001</td>\n",
       "      <td>34542100</td>\n",
       "      <td>0.084387</td>\n",
       "      <td>UP</td>\n",
       "    </tr>\n",
       "    <tr>\n",
       "      <th>2016-12-02</th>\n",
       "      <td>59.250000</td>\n",
       "      <td>59.470001</td>\n",
       "      <td>58.799999</td>\n",
       "      <td>59.080002</td>\n",
       "      <td>25515700</td>\n",
       "      <td>1.610763</td>\n",
       "      <td>UP</td>\n",
       "    </tr>\n",
       "    <tr>\n",
       "      <th>2016-12-05</th>\n",
       "      <td>60.220001</td>\n",
       "      <td>60.590000</td>\n",
       "      <td>59.560001</td>\n",
       "      <td>59.700001</td>\n",
       "      <td>23552700</td>\n",
       "      <td>-0.450376</td>\n",
       "      <td>DOWN</td>\n",
       "    </tr>\n",
       "    <tr>\n",
       "      <th>2016-12-06</th>\n",
       "      <td>59.950001</td>\n",
       "      <td>60.459999</td>\n",
       "      <td>59.799999</td>\n",
       "      <td>60.430000</td>\n",
       "      <td>19907000</td>\n",
       "      <td>2.313831</td>\n",
       "      <td>UP</td>\n",
       "    </tr>\n",
       "    <tr>\n",
       "      <th>2016-12-07</th>\n",
       "      <td>61.369999</td>\n",
       "      <td>61.380001</td>\n",
       "      <td>59.799999</td>\n",
       "      <td>60.009998</td>\n",
       "      <td>30809000</td>\n",
       "      <td>-0.590068</td>\n",
       "      <td>DOWN</td>\n",
       "    </tr>\n",
       "    <tr>\n",
       "      <th>...</th>\n",
       "      <td>...</td>\n",
       "      <td>...</td>\n",
       "      <td>...</td>\n",
       "      <td>...</td>\n",
       "      <td>...</td>\n",
       "      <td>...</td>\n",
       "      <td>...</td>\n",
       "    </tr>\n",
       "    <tr>\n",
       "      <th>2024-11-04</th>\n",
       "      <td>408.459991</td>\n",
       "      <td>410.420013</td>\n",
       "      <td>405.570007</td>\n",
       "      <td>409.799988</td>\n",
       "      <td>19672300</td>\n",
       "      <td>0.729111</td>\n",
       "      <td>UP</td>\n",
       "    </tr>\n",
       "    <tr>\n",
       "      <th>2024-11-05</th>\n",
       "      <td>411.459991</td>\n",
       "      <td>414.899994</td>\n",
       "      <td>408.079987</td>\n",
       "      <td>408.369995</td>\n",
       "      <td>17626000</td>\n",
       "      <td>2.075301</td>\n",
       "      <td>UP</td>\n",
       "    </tr>\n",
       "    <tr>\n",
       "      <th>2024-11-06</th>\n",
       "      <td>420.179993</td>\n",
       "      <td>420.450012</td>\n",
       "      <td>410.519989</td>\n",
       "      <td>412.420013</td>\n",
       "      <td>26681800</td>\n",
       "      <td>1.234046</td>\n",
       "      <td>UP</td>\n",
       "    </tr>\n",
       "    <tr>\n",
       "      <th>2024-11-07</th>\n",
       "      <td>425.429993</td>\n",
       "      <td>426.850006</td>\n",
       "      <td>419.880005</td>\n",
       "      <td>421.279999</td>\n",
       "      <td>19901800</td>\n",
       "      <td>-0.683955</td>\n",
       "      <td>DOWN</td>\n",
       "    </tr>\n",
       "    <tr>\n",
       "      <th>2024-11-08</th>\n",
       "      <td>422.540009</td>\n",
       "      <td>426.500000</td>\n",
       "      <td>421.779999</td>\n",
       "      <td>425.320007</td>\n",
       "      <td>16875500</td>\n",
       "      <td>-0.888284</td>\n",
       "      <td>DOWN</td>\n",
       "    </tr>\n",
       "  </tbody>\n",
       "</table>\n",
       "<p>1998 rows × 7 columns</p>\n",
       "</div>"
      ],
      "text/plain": [
       "                 Close        High         Low        Open    Volume  \\\n",
       "Price                                                                  \n",
       "2016-12-01   59.200001   60.150002   58.939999   60.110001  34542100   \n",
       "2016-12-02   59.250000   59.470001   58.799999   59.080002  25515700   \n",
       "2016-12-05   60.220001   60.590000   59.560001   59.700001  23552700   \n",
       "2016-12-06   59.950001   60.459999   59.799999   60.430000  19907000   \n",
       "2016-12-07   61.369999   61.380001   59.799999   60.009998  30809000   \n",
       "...                ...         ...         ...         ...       ...   \n",
       "2024-11-04  408.459991  410.420013  405.570007  409.799988  19672300   \n",
       "2024-11-05  411.459991  414.899994  408.079987  408.369995  17626000   \n",
       "2024-11-06  420.179993  420.450012  410.519989  412.420013  26681800   \n",
       "2024-11-07  425.429993  426.850006  419.880005  421.279999  19901800   \n",
       "2024-11-08  422.540009  426.500000  421.779999  425.320007  16875500   \n",
       "\n",
       "            change_tomorrow change_tomorrow_direction  \n",
       "Price                                                  \n",
       "2016-12-01         0.084387                        UP  \n",
       "2016-12-02         1.610763                        UP  \n",
       "2016-12-05        -0.450376                      DOWN  \n",
       "2016-12-06         2.313831                        UP  \n",
       "2016-12-07        -0.590068                      DOWN  \n",
       "...                     ...                       ...  \n",
       "2024-11-04         0.729111                        UP  \n",
       "2024-11-05         2.075301                        UP  \n",
       "2024-11-06         1.234046                        UP  \n",
       "2024-11-07        -0.683955                      DOWN  \n",
       "2024-11-08        -0.888284                      DOWN  \n",
       "\n",
       "[1998 rows x 7 columns]"
      ]
     },
     "execution_count": 25,
     "metadata": {},
     "output_type": "execute_result"
    }
   ],
   "source": [
    "import pandas as pd\n",
    "import numpy as np\n",
    "\n",
    "df = pd.read_excel('data/microsoft-linkedin-processed.xlsx',  index_col=0)\n",
    "df.index = pd.Series(df.index).apply(lambda d: d.split(\" \")[0])\n",
    "df"
   ]
  },
  {
   "cell_type": "markdown",
   "id": "71e77503-0b0d-4041-895b-f0a07a595b81",
   "metadata": {},
   "source": [
    "## Machine Learning Model"
   ]
  },
  {
   "cell_type": "markdown",
   "id": "bf95e298-19ea-4094-b3c5-bc755e69fdc3",
   "metadata": {},
   "source": [
    "### Separate the data\n",
    "\n",
    "1. Target: which variable do you want to predict?\n",
    "2. Explanatory: which variables will you use to calculate the prediction?"
   ]
  },
  {
   "cell_type": "code",
   "execution_count": 26,
   "id": "e7c57eb8-61ef-4c1b-ad8e-4b9a22a201c3",
   "metadata": {},
   "outputs": [
    {
     "data": {
      "text/html": [
       "<div>\n",
       "<style scoped>\n",
       "    .dataframe tbody tr th:only-of-type {\n",
       "        vertical-align: middle;\n",
       "    }\n",
       "\n",
       "    .dataframe tbody tr th {\n",
       "        vertical-align: top;\n",
       "    }\n",
       "\n",
       "    .dataframe thead th {\n",
       "        text-align: right;\n",
       "    }\n",
       "</style>\n",
       "<table border=\"1\" class=\"dataframe\">\n",
       "  <thead>\n",
       "    <tr style=\"text-align: right;\">\n",
       "      <th></th>\n",
       "      <th>Close</th>\n",
       "      <th>High</th>\n",
       "      <th>Low</th>\n",
       "      <th>Open</th>\n",
       "      <th>Volume</th>\n",
       "    </tr>\n",
       "    <tr>\n",
       "      <th>Price</th>\n",
       "      <th></th>\n",
       "      <th></th>\n",
       "      <th></th>\n",
       "      <th></th>\n",
       "      <th></th>\n",
       "    </tr>\n",
       "  </thead>\n",
       "  <tbody>\n",
       "    <tr>\n",
       "      <th>2016-12-01</th>\n",
       "      <td>59.200001</td>\n",
       "      <td>60.150002</td>\n",
       "      <td>58.939999</td>\n",
       "      <td>60.110001</td>\n",
       "      <td>34542100</td>\n",
       "    </tr>\n",
       "    <tr>\n",
       "      <th>2016-12-02</th>\n",
       "      <td>59.250000</td>\n",
       "      <td>59.470001</td>\n",
       "      <td>58.799999</td>\n",
       "      <td>59.080002</td>\n",
       "      <td>25515700</td>\n",
       "    </tr>\n",
       "    <tr>\n",
       "      <th>2016-12-05</th>\n",
       "      <td>60.220001</td>\n",
       "      <td>60.590000</td>\n",
       "      <td>59.560001</td>\n",
       "      <td>59.700001</td>\n",
       "      <td>23552700</td>\n",
       "    </tr>\n",
       "    <tr>\n",
       "      <th>2016-12-06</th>\n",
       "      <td>59.950001</td>\n",
       "      <td>60.459999</td>\n",
       "      <td>59.799999</td>\n",
       "      <td>60.430000</td>\n",
       "      <td>19907000</td>\n",
       "    </tr>\n",
       "    <tr>\n",
       "      <th>2016-12-07</th>\n",
       "      <td>61.369999</td>\n",
       "      <td>61.380001</td>\n",
       "      <td>59.799999</td>\n",
       "      <td>60.009998</td>\n",
       "      <td>30809000</td>\n",
       "    </tr>\n",
       "    <tr>\n",
       "      <th>...</th>\n",
       "      <td>...</td>\n",
       "      <td>...</td>\n",
       "      <td>...</td>\n",
       "      <td>...</td>\n",
       "      <td>...</td>\n",
       "    </tr>\n",
       "    <tr>\n",
       "      <th>2024-11-04</th>\n",
       "      <td>408.459991</td>\n",
       "      <td>410.420013</td>\n",
       "      <td>405.570007</td>\n",
       "      <td>409.799988</td>\n",
       "      <td>19672300</td>\n",
       "    </tr>\n",
       "    <tr>\n",
       "      <th>2024-11-05</th>\n",
       "      <td>411.459991</td>\n",
       "      <td>414.899994</td>\n",
       "      <td>408.079987</td>\n",
       "      <td>408.369995</td>\n",
       "      <td>17626000</td>\n",
       "    </tr>\n",
       "    <tr>\n",
       "      <th>2024-11-06</th>\n",
       "      <td>420.179993</td>\n",
       "      <td>420.450012</td>\n",
       "      <td>410.519989</td>\n",
       "      <td>412.420013</td>\n",
       "      <td>26681800</td>\n",
       "    </tr>\n",
       "    <tr>\n",
       "      <th>2024-11-07</th>\n",
       "      <td>425.429993</td>\n",
       "      <td>426.850006</td>\n",
       "      <td>419.880005</td>\n",
       "      <td>421.279999</td>\n",
       "      <td>19901800</td>\n",
       "    </tr>\n",
       "    <tr>\n",
       "      <th>2024-11-08</th>\n",
       "      <td>422.540009</td>\n",
       "      <td>426.500000</td>\n",
       "      <td>421.779999</td>\n",
       "      <td>425.320007</td>\n",
       "      <td>16875500</td>\n",
       "    </tr>\n",
       "  </tbody>\n",
       "</table>\n",
       "<p>1998 rows × 5 columns</p>\n",
       "</div>"
      ],
      "text/plain": [
       "                 Close        High         Low        Open    Volume\n",
       "Price                                                               \n",
       "2016-12-01   59.200001   60.150002   58.939999   60.110001  34542100\n",
       "2016-12-02   59.250000   59.470001   58.799999   59.080002  25515700\n",
       "2016-12-05   60.220001   60.590000   59.560001   59.700001  23552700\n",
       "2016-12-06   59.950001   60.459999   59.799999   60.430000  19907000\n",
       "2016-12-07   61.369999   61.380001   59.799999   60.009998  30809000\n",
       "...                ...         ...         ...         ...       ...\n",
       "2024-11-04  408.459991  410.420013  405.570007  409.799988  19672300\n",
       "2024-11-05  411.459991  414.899994  408.079987  408.369995  17626000\n",
       "2024-11-06  420.179993  420.450012  410.519989  412.420013  26681800\n",
       "2024-11-07  425.429993  426.850006  419.880005  421.279999  19901800\n",
       "2024-11-08  422.540009  426.500000  421.779999  425.320007  16875500\n",
       "\n",
       "[1998 rows x 5 columns]"
      ]
     },
     "execution_count": 26,
     "metadata": {},
     "output_type": "execute_result"
    }
   ],
   "source": [
    "target = df.change_tomorrow_direction\n",
    "explanatory = df.drop(columns=[\"change_tomorrow\",\"change_tomorrow_direction\"])\n",
    "explanatory"
   ]
  },
  {
   "cell_type": "markdown",
   "id": "9fc0cfb0-881f-464c-bcde-10bf38b12e19",
   "metadata": {},
   "source": [
    "### Compute the model\n",
    "\n",
    "The following Python code will compute the numbers of the mathematical equation that we will use to calculate if the ticker goes UP or DOWN."
   ]
  },
  {
   "cell_type": "code",
   "execution_count": 27,
   "id": "08435c91-8c18-40c7-ab0c-cb0a403250bf",
   "metadata": {},
   "outputs": [],
   "source": [
    "from sklearn.tree import DecisionTreeClassifier"
   ]
  },
  {
   "cell_type": "code",
   "execution_count": 31,
   "id": "342d70c7-c4ab-410d-bf5a-05929b7f5b43",
   "metadata": {},
   "outputs": [
    {
     "data": {
      "text/html": [
       "<style>#sk-container-id-2 {color: black;}#sk-container-id-2 pre{padding: 0;}#sk-container-id-2 div.sk-toggleable {background-color: white;}#sk-container-id-2 label.sk-toggleable__label {cursor: pointer;display: block;width: 100%;margin-bottom: 0;padding: 0.3em;box-sizing: border-box;text-align: center;}#sk-container-id-2 label.sk-toggleable__label-arrow:before {content: \"▸\";float: left;margin-right: 0.25em;color: #696969;}#sk-container-id-2 label.sk-toggleable__label-arrow:hover:before {color: black;}#sk-container-id-2 div.sk-estimator:hover label.sk-toggleable__label-arrow:before {color: black;}#sk-container-id-2 div.sk-toggleable__content {max-height: 0;max-width: 0;overflow: hidden;text-align: left;background-color: #f0f8ff;}#sk-container-id-2 div.sk-toggleable__content pre {margin: 0.2em;color: black;border-radius: 0.25em;background-color: #f0f8ff;}#sk-container-id-2 input.sk-toggleable__control:checked~div.sk-toggleable__content {max-height: 200px;max-width: 100%;overflow: auto;}#sk-container-id-2 input.sk-toggleable__control:checked~label.sk-toggleable__label-arrow:before {content: \"▾\";}#sk-container-id-2 div.sk-estimator input.sk-toggleable__control:checked~label.sk-toggleable__label {background-color: #d4ebff;}#sk-container-id-2 div.sk-label input.sk-toggleable__control:checked~label.sk-toggleable__label {background-color: #d4ebff;}#sk-container-id-2 input.sk-hidden--visually {border: 0;clip: rect(1px 1px 1px 1px);clip: rect(1px, 1px, 1px, 1px);height: 1px;margin: -1px;overflow: hidden;padding: 0;position: absolute;width: 1px;}#sk-container-id-2 div.sk-estimator {font-family: monospace;background-color: #f0f8ff;border: 1px dotted black;border-radius: 0.25em;box-sizing: border-box;margin-bottom: 0.5em;}#sk-container-id-2 div.sk-estimator:hover {background-color: #d4ebff;}#sk-container-id-2 div.sk-parallel-item::after {content: \"\";width: 100%;border-bottom: 1px solid gray;flex-grow: 1;}#sk-container-id-2 div.sk-label:hover label.sk-toggleable__label {background-color: #d4ebff;}#sk-container-id-2 div.sk-serial::before {content: \"\";position: absolute;border-left: 1px solid gray;box-sizing: border-box;top: 0;bottom: 0;left: 50%;z-index: 0;}#sk-container-id-2 div.sk-serial {display: flex;flex-direction: column;align-items: center;background-color: white;padding-right: 0.2em;padding-left: 0.2em;position: relative;}#sk-container-id-2 div.sk-item {position: relative;z-index: 1;}#sk-container-id-2 div.sk-parallel {display: flex;align-items: stretch;justify-content: center;background-color: white;position: relative;}#sk-container-id-2 div.sk-item::before, #sk-container-id-2 div.sk-parallel-item::before {content: \"\";position: absolute;border-left: 1px solid gray;box-sizing: border-box;top: 0;bottom: 0;left: 50%;z-index: -1;}#sk-container-id-2 div.sk-parallel-item {display: flex;flex-direction: column;z-index: 1;position: relative;background-color: white;}#sk-container-id-2 div.sk-parallel-item:first-child::after {align-self: flex-end;width: 50%;}#sk-container-id-2 div.sk-parallel-item:last-child::after {align-self: flex-start;width: 50%;}#sk-container-id-2 div.sk-parallel-item:only-child::after {width: 0;}#sk-container-id-2 div.sk-dashed-wrapped {border: 1px dashed gray;margin: 0 0.4em 0.5em 0.4em;box-sizing: border-box;padding-bottom: 0.4em;background-color: white;}#sk-container-id-2 div.sk-label label {font-family: monospace;font-weight: bold;display: inline-block;line-height: 1.2em;}#sk-container-id-2 div.sk-label-container {text-align: center;}#sk-container-id-2 div.sk-container {/* jupyter's `normalize.less` sets `[hidden] { display: none; }` but bootstrap.min.css set `[hidden] { display: none !important; }` so we also need the `!important` here to be able to override the default hidden behavior on the sphinx rendered scikit-learn.org. See: https://github.com/scikit-learn/scikit-learn/issues/21755 */display: inline-block !important;position: relative;}#sk-container-id-2 div.sk-text-repr-fallback {display: none;}</style><div id=\"sk-container-id-2\" class=\"sk-top-container\"><div class=\"sk-text-repr-fallback\"><pre>DecisionTreeClassifier(max_depth=5)</pre><b>In a Jupyter environment, please rerun this cell to show the HTML representation or trust the notebook. <br />On GitHub, the HTML representation is unable to render, please try loading this page with nbviewer.org.</b></div><div class=\"sk-container\" hidden><div class=\"sk-item\"><div class=\"sk-estimator sk-toggleable\"><input class=\"sk-toggleable__control sk-hidden--visually\" id=\"sk-estimator-id-2\" type=\"checkbox\" checked><label for=\"sk-estimator-id-2\" class=\"sk-toggleable__label sk-toggleable__label-arrow\">DecisionTreeClassifier</label><div class=\"sk-toggleable__content\"><pre>DecisionTreeClassifier(max_depth=5)</pre></div></div></div></div></div>"
      ],
      "text/plain": [
       "DecisionTreeClassifier(max_depth=5)"
      ]
     },
     "execution_count": 31,
     "metadata": {},
     "output_type": "execute_result"
    }
   ],
   "source": [
    "model_dt = DecisionTreeClassifier(max_depth=5)\n",
    "model_dt.fit(X=explanatory, y=target)"
   ]
  },
  {
   "cell_type": "markdown",
   "id": "63cfdcf3-cf2a-4d4c-99e8-f31dfe43a1f9",
   "metadata": {},
   "source": [
    "### Visualize the model"
   ]
  },
  {
   "cell_type": "code",
   "execution_count": 32,
   "id": "688cdc2d-33f1-4b69-afad-daf9850e5cbf",
   "metadata": {},
   "outputs": [
    {
     "data": {
      "image/png": "[encoded data removed]",
      "text/plain": [
       "<Figure size 640x480 with 1 Axes>"
      ]
     },
     "metadata": {},
     "output_type": "display_data"
    }
   ],
   "source": [
    "from sklearn.tree import plot_tree\n",
    "\n",
    "plot_tree(decision_tree=model_dt, feature_names=model_dt.feature_names_in_);"
   ]
  },
  {
   "cell_type": "markdown",
   "id": "2400ea55-6f2d-4901-af7b-fea9e9c1c8ac",
   "metadata": {},
   "source": [
    "### Calculate the predictions"
   ]
  },
  {
   "cell_type": "code",
   "execution_count": 34,
   "id": "bedb0726-f054-4bca-ba61-06262d415e30",
   "metadata": {},
   "outputs": [
    {
     "data": {
      "text/plain": [
       "array(['DOWN', 'DOWN', 'DOWN', ..., 'UP', 'UP', 'UP'], dtype=object)"
      ]
     },
     "execution_count": 34,
     "metadata": {},
     "output_type": "execute_result"
    }
   ],
   "source": [
    "model_dt.predict(X=explanatory)"
   ]
  },
  {
   "cell_type": "code",
   "execution_count": 66,
   "id": "26bf0635-5688-4b0a-b3d9-6f5d6bc36f2b",
   "metadata": {},
   "outputs": [
    {
     "data": {
      "text/html": [
       "<div>\n",
       "<style scoped>\n",
       "    .dataframe tbody tr th:only-of-type {\n",
       "        vertical-align: middle;\n",
       "    }\n",
       "\n",
       "    .dataframe tbody tr th {\n",
       "        vertical-align: top;\n",
       "    }\n",
       "\n",
       "    .dataframe thead th {\n",
       "        text-align: right;\n",
       "    }\n",
       "</style>\n",
       "<table border=\"1\" class=\"dataframe\">\n",
       "  <thead>\n",
       "    <tr style=\"text-align: right;\">\n",
       "      <th></th>\n",
       "      <th>change_tomorrow_direction</th>\n",
       "      <th>prediction</th>\n",
       "    </tr>\n",
       "    <tr>\n",
       "      <th>Date</th>\n",
       "      <th></th>\n",
       "      <th></th>\n",
       "    </tr>\n",
       "  </thead>\n",
       "  <tbody>\n",
       "    <tr>\n",
       "      <th>2016-12-08</th>\n",
       "      <td>UP</td>\n",
       "      <td>UP</td>\n",
       "    </tr>\n",
       "    <tr>\n",
       "      <th>2016-12-09</th>\n",
       "      <td>UP</td>\n",
       "      <td>UP</td>\n",
       "    </tr>\n",
       "    <tr>\n",
       "      <th>...</th>\n",
       "      <td>...</td>\n",
       "      <td>...</td>\n",
       "    </tr>\n",
       "    <tr>\n",
       "      <th>2023-03-14</th>\n",
       "      <td>UP</td>\n",
       "      <td>DOWN</td>\n",
       "    </tr>\n",
       "    <tr>\n",
       "      <th>2023-03-15</th>\n",
       "      <td>UP</td>\n",
       "      <td>UP</td>\n",
       "    </tr>\n",
       "  </tbody>\n",
       "</table>\n",
       "<p>1576 rows × 2 columns</p>\n",
       "</div>"
      ],
      "text/plain": [
       "           change_tomorrow_direction prediction\n",
       "Date                                           \n",
       "2016-12-08                        UP         UP\n",
       "2016-12-09                        UP         UP\n",
       "...                              ...        ...\n",
       "2023-03-14                        UP       DOWN\n",
       "2023-03-15                        UP         UP\n",
       "\n",
       "[1576 rows x 2 columns]"
      ]
     },
     "execution_count": 66,
     "metadata": {},
     "output_type": "execute_result"
    }
   ],
   "source": [
    "df_predictions = df[['change_tomorrow_direction']].copy()\n",
    "df_predictions['prediction'] = ???\n",
    "df_predictions"
   ]
  },
  {
   "cell_type": "markdown",
   "id": "c9283287-67e8-4f24-a051-9a02d6324372",
   "metadata": {},
   "source": [
    "### Evaluate the model: compare predictions with the reality"
   ]
  },
  {
   "cell_type": "code",
   "execution_count": null,
   "id": "125006dc-629c-4b8b-b467-92ad9c20fa6d",
   "metadata": {},
   "outputs": [],
   "source": []
  },
  {
   "cell_type": "markdown",
   "id": "cf7b5699-2309-44b1-8b26-039ab54fc1e3",
   "metadata": {},
   "source": [
    "## Save the model into a file\n",
    "\n",
    "- We'll write the numbers of the Decision Tree's mathematical equation into a file."
   ]
  },
  {
   "cell_type": "code",
   "execution_count": 73,
   "id": "47d6620b-6c85-49b3-acfe-d5ad5b202cfa",
   "metadata": {},
   "outputs": [],
   "source": [
    "import ???"
   ]
  },
  {
   "cell_type": "code",
   "execution_count": 74,
   "id": "20db632c-098e-4c62-ad4b-53a0a9019161",
   "metadata": {},
   "outputs": [],
   "source": [
    "with open('???.pkl', 'wb') as f:\n",
    "    pickle.dump(model_dt, f)"
   ]
  }
 ],
 "metadata": {
  "kernelspec": {
   "display_name": "Python 3 (ipykernel)",
   "language": "python",
   "name": "python3"
  },
  "language_info": {
   "codemirror_mode": {
    "name": "ipython",
    "version": 3
   },
   "file_extension": ".py",
   "mimetype": "text/x-python",
   "name": "python",
   "nbconvert_exporter": "python",
   "pygments_lexer": "ipython3",
   "version": "3.8.10"
  }
 },
 "nbformat": 4,
 "nbformat_minor": 5
}
