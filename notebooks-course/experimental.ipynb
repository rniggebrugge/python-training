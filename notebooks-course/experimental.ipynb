{
 "cells": [
  {
   "cell_type": "markdown",
   "metadata": {},
   "source": [
    "## import modules"
   ]
  },
  {
   "cell_type": "code",
   "execution_count": 158,
   "metadata": {},
   "outputs": [],
   "source": [
    "import yfinance as yf\n",
    "import pandas as pd\n",
    "import numpy as np"
   ]
  },
  {
   "cell_type": "code",
   "execution_count": 159,
   "metadata": {},
   "outputs": [
    {
     "name": "stderr",
     "output_type": "stream",
     "text": [
      "[*********************100%***********************]  1 of 1 completed\n"
     ]
    },
    {
     "data": {
      "text/html": [
       "<div>\n",
       "<style scoped>\n",
       "    .dataframe tbody tr th:only-of-type {\n",
       "        vertical-align: middle;\n",
       "    }\n",
       "\n",
       "    .dataframe tbody tr th {\n",
       "        vertical-align: top;\n",
       "    }\n",
       "\n",
       "    .dataframe thead tr th {\n",
       "        text-align: left;\n",
       "    }\n",
       "</style>\n",
       "<table border=\"1\" class=\"dataframe\">\n",
       "  <thead>\n",
       "    <tr>\n",
       "      <th>Price</th>\n",
       "      <th>Close</th>\n",
       "      <th>High</th>\n",
       "      <th>Low</th>\n",
       "      <th>Open</th>\n",
       "      <th>Volume</th>\n",
       "    </tr>\n",
       "    <tr>\n",
       "      <th>Ticker</th>\n",
       "      <th>MSFT</th>\n",
       "      <th>MSFT</th>\n",
       "      <th>MSFT</th>\n",
       "      <th>MSFT</th>\n",
       "      <th>MSFT</th>\n",
       "    </tr>\n",
       "  </thead>\n",
       "  <tbody>\n",
       "    <tr>\n",
       "      <th>1986-03-13</th>\n",
       "      <td>0.097222</td>\n",
       "      <td>0.101563</td>\n",
       "      <td>0.088542</td>\n",
       "      <td>0.088542</td>\n",
       "      <td>1031788800</td>\n",
       "    </tr>\n",
       "    <tr>\n",
       "      <th>1986-03-14</th>\n",
       "      <td>0.100694</td>\n",
       "      <td>0.102431</td>\n",
       "      <td>0.097222</td>\n",
       "      <td>0.097222</td>\n",
       "      <td>308160000</td>\n",
       "    </tr>\n",
       "    <tr>\n",
       "      <th>1986-03-17</th>\n",
       "      <td>0.102431</td>\n",
       "      <td>0.103299</td>\n",
       "      <td>0.100694</td>\n",
       "      <td>0.100694</td>\n",
       "      <td>133171200</td>\n",
       "    </tr>\n",
       "  </tbody>\n",
       "</table>\n",
       "</div>"
      ],
      "text/plain": [
       "Price          Close      High       Low      Open      Volume\n",
       "Ticker          MSFT      MSFT      MSFT      MSFT        MSFT\n",
       "1986-03-13  0.097222  0.101563  0.088542  0.088542  1031788800\n",
       "1986-03-14  0.100694  0.102431  0.097222  0.097222   308160000\n",
       "1986-03-17  0.102431  0.103299  0.100694  0.100694   133171200"
      ]
     },
     "execution_count": 159,
     "metadata": {},
     "output_type": "execute_result"
    }
   ],
   "source": [
    "ticker = \"MSFT\"\n",
    "df = yf.download(ticker)\n",
    "df.drop(columns=\"Adj Close\", inplace=True)\n",
    "df.index = [d.strftime(\"%Y-%m-%d\") for d in df.index]\n",
    "df.head(3)"
   ]
  },
  {
   "cell_type": "code",
   "execution_count": 160,
   "metadata": {},
   "outputs": [],
   "source": [
    "df[\"change_tomorrow\"] = df[\"Close\"].pct_change(-1)*100\n",
    "# df.drop(columns=\"change_tomorrow\", inplace=True)\n"
   ]
  },
  {
   "cell_type": "code",
   "execution_count": 161,
   "metadata": {},
   "outputs": [
    {
     "data": {
      "text/html": [
       "<div>\n",
       "<style scoped>\n",
       "    .dataframe tbody tr th:only-of-type {\n",
       "        vertical-align: middle;\n",
       "    }\n",
       "\n",
       "    .dataframe tbody tr th {\n",
       "        vertical-align: top;\n",
       "    }\n",
       "\n",
       "    .dataframe thead tr th {\n",
       "        text-align: left;\n",
       "    }\n",
       "</style>\n",
       "<table border=\"1\" class=\"dataframe\">\n",
       "  <thead>\n",
       "    <tr>\n",
       "      <th>Price</th>\n",
       "      <th>Close</th>\n",
       "      <th>High</th>\n",
       "      <th>Low</th>\n",
       "      <th>Open</th>\n",
       "      <th>Volume</th>\n",
       "      <th>change_tomorrow</th>\n",
       "    </tr>\n",
       "    <tr>\n",
       "      <th>Ticker</th>\n",
       "      <th>MSFT</th>\n",
       "      <th>MSFT</th>\n",
       "      <th>MSFT</th>\n",
       "      <th>MSFT</th>\n",
       "      <th>MSFT</th>\n",
       "      <th></th>\n",
       "    </tr>\n",
       "  </thead>\n",
       "  <tbody>\n",
       "    <tr>\n",
       "      <th>1986-03-13</th>\n",
       "      <td>0.097222</td>\n",
       "      <td>0.101563</td>\n",
       "      <td>0.088542</td>\n",
       "      <td>0.088542</td>\n",
       "      <td>1031788800</td>\n",
       "      <td>-3.448071</td>\n",
       "    </tr>\n",
       "    <tr>\n",
       "      <th>1986-03-14</th>\n",
       "      <td>0.100694</td>\n",
       "      <td>0.102431</td>\n",
       "      <td>0.097222</td>\n",
       "      <td>0.097222</td>\n",
       "      <td>308160000</td>\n",
       "      <td>-1.695774</td>\n",
       "    </tr>\n",
       "    <tr>\n",
       "      <th>1986-03-17</th>\n",
       "      <td>0.102431</td>\n",
       "      <td>0.103299</td>\n",
       "      <td>0.100694</td>\n",
       "      <td>0.100694</td>\n",
       "      <td>133171200</td>\n",
       "      <td>2.609539</td>\n",
       "    </tr>\n",
       "    <tr>\n",
       "      <th>1986-03-18</th>\n",
       "      <td>0.099826</td>\n",
       "      <td>0.103299</td>\n",
       "      <td>0.098958</td>\n",
       "      <td>0.102431</td>\n",
       "      <td>67766400</td>\n",
       "      <td>1.769803</td>\n",
       "    </tr>\n",
       "    <tr>\n",
       "      <th>1986-03-19</th>\n",
       "      <td>0.098090</td>\n",
       "      <td>0.100694</td>\n",
       "      <td>0.097222</td>\n",
       "      <td>0.099826</td>\n",
       "      <td>47894400</td>\n",
       "      <td>2.727102</td>\n",
       "    </tr>\n",
       "    <tr>\n",
       "      <th>...</th>\n",
       "      <td>...</td>\n",
       "      <td>...</td>\n",
       "      <td>...</td>\n",
       "      <td>...</td>\n",
       "      <td>...</td>\n",
       "      <td>...</td>\n",
       "    </tr>\n",
       "    <tr>\n",
       "      <th>2024-11-04</th>\n",
       "      <td>408.459991</td>\n",
       "      <td>410.420013</td>\n",
       "      <td>405.570007</td>\n",
       "      <td>409.799988</td>\n",
       "      <td>19672300</td>\n",
       "      <td>-0.729111</td>\n",
       "    </tr>\n",
       "    <tr>\n",
       "      <th>2024-11-05</th>\n",
       "      <td>411.459991</td>\n",
       "      <td>414.899994</td>\n",
       "      <td>408.079987</td>\n",
       "      <td>408.369995</td>\n",
       "      <td>17626000</td>\n",
       "      <td>-2.075301</td>\n",
       "    </tr>\n",
       "    <tr>\n",
       "      <th>2024-11-06</th>\n",
       "      <td>420.179993</td>\n",
       "      <td>420.450012</td>\n",
       "      <td>410.519989</td>\n",
       "      <td>412.420013</td>\n",
       "      <td>26681800</td>\n",
       "      <td>-1.234046</td>\n",
       "    </tr>\n",
       "    <tr>\n",
       "      <th>2024-11-07</th>\n",
       "      <td>425.429993</td>\n",
       "      <td>426.850006</td>\n",
       "      <td>419.880005</td>\n",
       "      <td>421.279999</td>\n",
       "      <td>19901800</td>\n",
       "      <td>0.683955</td>\n",
       "    </tr>\n",
       "    <tr>\n",
       "      <th>2024-11-08</th>\n",
       "      <td>422.540009</td>\n",
       "      <td>426.500000</td>\n",
       "      <td>421.779999</td>\n",
       "      <td>425.320007</td>\n",
       "      <td>16891400</td>\n",
       "      <td>1.083706</td>\n",
       "    </tr>\n",
       "  </tbody>\n",
       "</table>\n",
       "<p>9744 rows × 6 columns</p>\n",
       "</div>"
      ],
      "text/plain": [
       "Price            Close        High         Low        Open      Volume  \\\n",
       "Ticker            MSFT        MSFT        MSFT        MSFT        MSFT   \n",
       "1986-03-13    0.097222    0.101563    0.088542    0.088542  1031788800   \n",
       "1986-03-14    0.100694    0.102431    0.097222    0.097222   308160000   \n",
       "1986-03-17    0.102431    0.103299    0.100694    0.100694   133171200   \n",
       "1986-03-18    0.099826    0.103299    0.098958    0.102431    67766400   \n",
       "1986-03-19    0.098090    0.100694    0.097222    0.099826    47894400   \n",
       "...                ...         ...         ...         ...         ...   \n",
       "2024-11-04  408.459991  410.420013  405.570007  409.799988    19672300   \n",
       "2024-11-05  411.459991  414.899994  408.079987  408.369995    17626000   \n",
       "2024-11-06  420.179993  420.450012  410.519989  412.420013    26681800   \n",
       "2024-11-07  425.429993  426.850006  419.880005  421.279999    19901800   \n",
       "2024-11-08  422.540009  426.500000  421.779999  425.320007    16891400   \n",
       "\n",
       "Price      change_tomorrow  \n",
       "Ticker                      \n",
       "1986-03-13       -3.448071  \n",
       "1986-03-14       -1.695774  \n",
       "1986-03-17        2.609539  \n",
       "1986-03-18        1.769803  \n",
       "1986-03-19        2.727102  \n",
       "...                    ...  \n",
       "2024-11-04       -0.729111  \n",
       "2024-11-05       -2.075301  \n",
       "2024-11-06       -1.234046  \n",
       "2024-11-07        0.683955  \n",
       "2024-11-08        1.083706  \n",
       "\n",
       "[9744 rows x 6 columns]"
      ]
     },
     "execution_count": 161,
     "metadata": {},
     "output_type": "execute_result"
    }
   ],
   "source": [
    "df = df.dropna().copy()\n",
    "df"
   ]
  },
  {
   "cell_type": "code",
   "execution_count": 162,
   "metadata": {},
   "outputs": [
    {
     "data": {
      "text/html": [
       "<div>\n",
       "<style scoped>\n",
       "    .dataframe tbody tr th:only-of-type {\n",
       "        vertical-align: middle;\n",
       "    }\n",
       "\n",
       "    .dataframe tbody tr th {\n",
       "        vertical-align: top;\n",
       "    }\n",
       "\n",
       "    .dataframe thead tr th {\n",
       "        text-align: left;\n",
       "    }\n",
       "</style>\n",
       "<table border=\"1\" class=\"dataframe\">\n",
       "  <thead>\n",
       "    <tr>\n",
       "      <th>Price</th>\n",
       "      <th>Close</th>\n",
       "      <th>High</th>\n",
       "      <th>Low</th>\n",
       "      <th>Open</th>\n",
       "      <th>Volume</th>\n",
       "      <th>change_tomorrow</th>\n",
       "      <th>change_tomorrow_direction</th>\n",
       "    </tr>\n",
       "    <tr>\n",
       "      <th>Ticker</th>\n",
       "      <th>MSFT</th>\n",
       "      <th>MSFT</th>\n",
       "      <th>MSFT</th>\n",
       "      <th>MSFT</th>\n",
       "      <th>MSFT</th>\n",
       "      <th></th>\n",
       "      <th></th>\n",
       "    </tr>\n",
       "  </thead>\n",
       "  <tbody>\n",
       "    <tr>\n",
       "      <th>1986-03-13</th>\n",
       "      <td>0.097222</td>\n",
       "      <td>0.101563</td>\n",
       "      <td>0.088542</td>\n",
       "      <td>0.088542</td>\n",
       "      <td>1031788800</td>\n",
       "      <td>-3.448071</td>\n",
       "      <td>0</td>\n",
       "    </tr>\n",
       "    <tr>\n",
       "      <th>1986-03-14</th>\n",
       "      <td>0.100694</td>\n",
       "      <td>0.102431</td>\n",
       "      <td>0.097222</td>\n",
       "      <td>0.097222</td>\n",
       "      <td>308160000</td>\n",
       "      <td>-1.695774</td>\n",
       "      <td>0</td>\n",
       "    </tr>\n",
       "    <tr>\n",
       "      <th>1986-03-17</th>\n",
       "      <td>0.102431</td>\n",
       "      <td>0.103299</td>\n",
       "      <td>0.100694</td>\n",
       "      <td>0.100694</td>\n",
       "      <td>133171200</td>\n",
       "      <td>2.609539</td>\n",
       "      <td>1</td>\n",
       "    </tr>\n",
       "    <tr>\n",
       "      <th>1986-03-18</th>\n",
       "      <td>0.099826</td>\n",
       "      <td>0.103299</td>\n",
       "      <td>0.098958</td>\n",
       "      <td>0.102431</td>\n",
       "      <td>67766400</td>\n",
       "      <td>1.769803</td>\n",
       "      <td>1</td>\n",
       "    </tr>\n",
       "    <tr>\n",
       "      <th>1986-03-19</th>\n",
       "      <td>0.098090</td>\n",
       "      <td>0.100694</td>\n",
       "      <td>0.097222</td>\n",
       "      <td>0.099826</td>\n",
       "      <td>47894400</td>\n",
       "      <td>2.727102</td>\n",
       "      <td>1</td>\n",
       "    </tr>\n",
       "    <tr>\n",
       "      <th>...</th>\n",
       "      <td>...</td>\n",
       "      <td>...</td>\n",
       "      <td>...</td>\n",
       "      <td>...</td>\n",
       "      <td>...</td>\n",
       "      <td>...</td>\n",
       "      <td>...</td>\n",
       "    </tr>\n",
       "    <tr>\n",
       "      <th>2024-11-04</th>\n",
       "      <td>408.459991</td>\n",
       "      <td>410.420013</td>\n",
       "      <td>405.570007</td>\n",
       "      <td>409.799988</td>\n",
       "      <td>19672300</td>\n",
       "      <td>-0.729111</td>\n",
       "      <td>0</td>\n",
       "    </tr>\n",
       "    <tr>\n",
       "      <th>2024-11-05</th>\n",
       "      <td>411.459991</td>\n",
       "      <td>414.899994</td>\n",
       "      <td>408.079987</td>\n",
       "      <td>408.369995</td>\n",
       "      <td>17626000</td>\n",
       "      <td>-2.075301</td>\n",
       "      <td>0</td>\n",
       "    </tr>\n",
       "    <tr>\n",
       "      <th>2024-11-06</th>\n",
       "      <td>420.179993</td>\n",
       "      <td>420.450012</td>\n",
       "      <td>410.519989</td>\n",
       "      <td>412.420013</td>\n",
       "      <td>26681800</td>\n",
       "      <td>-1.234046</td>\n",
       "      <td>0</td>\n",
       "    </tr>\n",
       "    <tr>\n",
       "      <th>2024-11-07</th>\n",
       "      <td>425.429993</td>\n",
       "      <td>426.850006</td>\n",
       "      <td>419.880005</td>\n",
       "      <td>421.279999</td>\n",
       "      <td>19901800</td>\n",
       "      <td>0.683955</td>\n",
       "      <td>1</td>\n",
       "    </tr>\n",
       "    <tr>\n",
       "      <th>2024-11-08</th>\n",
       "      <td>422.540009</td>\n",
       "      <td>426.500000</td>\n",
       "      <td>421.779999</td>\n",
       "      <td>425.320007</td>\n",
       "      <td>16891400</td>\n",
       "      <td>1.083706</td>\n",
       "      <td>1</td>\n",
       "    </tr>\n",
       "  </tbody>\n",
       "</table>\n",
       "<p>9744 rows × 7 columns</p>\n",
       "</div>"
      ],
      "text/plain": [
       "Price            Close        High         Low        Open      Volume  \\\n",
       "Ticker            MSFT        MSFT        MSFT        MSFT        MSFT   \n",
       "1986-03-13    0.097222    0.101563    0.088542    0.088542  1031788800   \n",
       "1986-03-14    0.100694    0.102431    0.097222    0.097222   308160000   \n",
       "1986-03-17    0.102431    0.103299    0.100694    0.100694   133171200   \n",
       "1986-03-18    0.099826    0.103299    0.098958    0.102431    67766400   \n",
       "1986-03-19    0.098090    0.100694    0.097222    0.099826    47894400   \n",
       "...                ...         ...         ...         ...         ...   \n",
       "2024-11-04  408.459991  410.420013  405.570007  409.799988    19672300   \n",
       "2024-11-05  411.459991  414.899994  408.079987  408.369995    17626000   \n",
       "2024-11-06  420.179993  420.450012  410.519989  412.420013    26681800   \n",
       "2024-11-07  425.429993  426.850006  419.880005  421.279999    19901800   \n",
       "2024-11-08  422.540009  426.500000  421.779999  425.320007    16891400   \n",
       "\n",
       "Price      change_tomorrow change_tomorrow_direction  \n",
       "Ticker                                                \n",
       "1986-03-13       -3.448071                         0  \n",
       "1986-03-14       -1.695774                         0  \n",
       "1986-03-17        2.609539                         1  \n",
       "1986-03-18        1.769803                         1  \n",
       "1986-03-19        2.727102                         1  \n",
       "...                    ...                       ...  \n",
       "2024-11-04       -0.729111                         0  \n",
       "2024-11-05       -2.075301                         0  \n",
       "2024-11-06       -1.234046                         0  \n",
       "2024-11-07        0.683955                         1  \n",
       "2024-11-08        1.083706                         1  \n",
       "\n",
       "[9744 rows x 7 columns]"
      ]
     },
     "execution_count": 162,
     "metadata": {},
     "output_type": "execute_result"
    }
   ],
   "source": [
    "df[\"change_tomorrow_direction\"] = df.change_tomorrow.apply(lambda v: 1 if v>0 else 0)\n",
    "df"
   ]
  },
  {
   "cell_type": "code",
   "execution_count": 165,
   "metadata": {},
   "outputs": [
    {
     "data": {
      "text/plain": [
       "<Axes: >"
      ]
     },
     "execution_count": 165,
     "metadata": {},
     "output_type": "execute_result"
    },
    {
     "data": {
      "image/png": "[encoded data removed]",
      "text/plain": [
       "<Figure size 640x480 with 1 Axes>"
      ]
     },
     "metadata": {},
     "output_type": "display_data"
    }
   ],
   "source": [
    "df[[\"Open\",\"Close\"]].plot()"
   ]
  },
  {
   "cell_type": "markdown",
   "metadata": {},
   "source": [
    "## Normalizing the columns to have all values between -1 and 1"
   ]
  },
  {
   "cell_type": "code",
   "execution_count": 166,
   "metadata": {},
   "outputs": [],
   "source": [
    "def normalize_column(column):\n",
    "    try:\n",
    "        max_val = column.max()\n",
    "        min_val = column.min()\n",
    "        abs_max = max(abs(max_val), abs(min_val))\n",
    "        return column/abs_max\n",
    "    except:\n",
    "        return column"
   ]
  },
  {
   "cell_type": "code",
   "execution_count": 167,
   "metadata": {},
   "outputs": [],
   "source": [
    "df_normal = df.apply(normalize_column)"
   ]
  },
  {
   "cell_type": "code",
   "execution_count": 168,
   "metadata": {},
   "outputs": [
    {
     "data": {
      "text/plain": [
       "<Axes: >"
      ]
     },
     "execution_count": 168,
     "metadata": {},
     "output_type": "execute_result"
    },
    {
     "data": {
      "image/png": "[encoded data removed]",
      "text/plain": [
       "<Figure size 640x480 with 1 Axes>"
      ]
     },
     "metadata": {},
     "output_type": "display_data"
    }
   ],
   "source": [
    "df_normal[[\"Volume\",\"Close\"]].plot()"
   ]
  },
  {
   "cell_type": "markdown",
   "metadata": {},
   "source": [
    "## Training the model, all data"
   ]
  },
  {
   "cell_type": "code",
   "execution_count": 169,
   "metadata": {},
   "outputs": [],
   "source": [
    "target = df.change_tomorrow_direction\n",
    "training_date = df.drop(columns=[\"change_tomorrow\",\"change_tomorrow_direction\"])"
   ]
  },
  {
   "cell_type": "code",
   "execution_count": 170,
   "metadata": {},
   "outputs": [],
   "source": [
    "from sklearn.tree import DecisionTreeClassifier"
   ]
  },
  {
   "cell_type": "code",
   "execution_count": 171,
   "metadata": {},
   "outputs": [
    {
     "data": {
      "text/html": [
       "<style>#sk-container-id-11 {color: black;}#sk-container-id-11 pre{padding: 0;}#sk-container-id-11 div.sk-toggleable {background-color: white;}#sk-container-id-11 label.sk-toggleable__label {cursor: pointer;display: block;width: 100%;margin-bottom: 0;padding: 0.3em;box-sizing: border-box;text-align: center;}#sk-container-id-11 label.sk-toggleable__label-arrow:before {content: \"▸\";float: left;margin-right: 0.25em;color: #696969;}#sk-container-id-11 label.sk-toggleable__label-arrow:hover:before {color: black;}#sk-container-id-11 div.sk-estimator:hover label.sk-toggleable__label-arrow:before {color: black;}#sk-container-id-11 div.sk-toggleable__content {max-height: 0;max-width: 0;overflow: hidden;text-align: left;background-color: #f0f8ff;}#sk-container-id-11 div.sk-toggleable__content pre {margin: 0.2em;color: black;border-radius: 0.25em;background-color: #f0f8ff;}#sk-container-id-11 input.sk-toggleable__control:checked~div.sk-toggleable__content {max-height: 200px;max-width: 100%;overflow: auto;}#sk-container-id-11 input.sk-toggleable__control:checked~label.sk-toggleable__label-arrow:before {content: \"▾\";}#sk-container-id-11 div.sk-estimator input.sk-toggleable__control:checked~label.sk-toggleable__label {background-color: #d4ebff;}#sk-container-id-11 div.sk-label input.sk-toggleable__control:checked~label.sk-toggleable__label {background-color: #d4ebff;}#sk-container-id-11 input.sk-hidden--visually {border: 0;clip: rect(1px 1px 1px 1px);clip: rect(1px, 1px, 1px, 1px);height: 1px;margin: -1px;overflow: hidden;padding: 0;position: absolute;width: 1px;}#sk-container-id-11 div.sk-estimator {font-family: monospace;background-color: #f0f8ff;border: 1px dotted black;border-radius: 0.25em;box-sizing: border-box;margin-bottom: 0.5em;}#sk-container-id-11 div.sk-estimator:hover {background-color: #d4ebff;}#sk-container-id-11 div.sk-parallel-item::after {content: \"\";width: 100%;border-bottom: 1px solid gray;flex-grow: 1;}#sk-container-id-11 div.sk-label:hover label.sk-toggleable__label {background-color: #d4ebff;}#sk-container-id-11 div.sk-serial::before {content: \"\";position: absolute;border-left: 1px solid gray;box-sizing: border-box;top: 0;bottom: 0;left: 50%;z-index: 0;}#sk-container-id-11 div.sk-serial {display: flex;flex-direction: column;align-items: center;background-color: white;padding-right: 0.2em;padding-left: 0.2em;position: relative;}#sk-container-id-11 div.sk-item {position: relative;z-index: 1;}#sk-container-id-11 div.sk-parallel {display: flex;align-items: stretch;justify-content: center;background-color: white;position: relative;}#sk-container-id-11 div.sk-item::before, #sk-container-id-11 div.sk-parallel-item::before {content: \"\";position: absolute;border-left: 1px solid gray;box-sizing: border-box;top: 0;bottom: 0;left: 50%;z-index: -1;}#sk-container-id-11 div.sk-parallel-item {display: flex;flex-direction: column;z-index: 1;position: relative;background-color: white;}#sk-container-id-11 div.sk-parallel-item:first-child::after {align-self: flex-end;width: 50%;}#sk-container-id-11 div.sk-parallel-item:last-child::after {align-self: flex-start;width: 50%;}#sk-container-id-11 div.sk-parallel-item:only-child::after {width: 0;}#sk-container-id-11 div.sk-dashed-wrapped {border: 1px dashed gray;margin: 0 0.4em 0.5em 0.4em;box-sizing: border-box;padding-bottom: 0.4em;background-color: white;}#sk-container-id-11 div.sk-label label {font-family: monospace;font-weight: bold;display: inline-block;line-height: 1.2em;}#sk-container-id-11 div.sk-label-container {text-align: center;}#sk-container-id-11 div.sk-container {/* jupyter's `normalize.less` sets `[hidden] { display: none; }` but bootstrap.min.css set `[hidden] { display: none !important; }` so we also need the `!important` here to be able to override the default hidden behavior on the sphinx rendered scikit-learn.org. See: https://github.com/scikit-learn/scikit-learn/issues/21755 */display: inline-block !important;position: relative;}#sk-container-id-11 div.sk-text-repr-fallback {display: none;}</style><div id=\"sk-container-id-11\" class=\"sk-top-container\"><div class=\"sk-text-repr-fallback\"><pre>DecisionTreeClassifier(max_depth=6)</pre><b>In a Jupyter environment, please rerun this cell to show the HTML representation or trust the notebook. <br />On GitHub, the HTML representation is unable to render, please try loading this page with nbviewer.org.</b></div><div class=\"sk-container\" hidden><div class=\"sk-item\"><div class=\"sk-estimator sk-toggleable\"><input class=\"sk-toggleable__control sk-hidden--visually\" id=\"sk-estimator-id-11\" type=\"checkbox\" checked><label for=\"sk-estimator-id-11\" class=\"sk-toggleable__label sk-toggleable__label-arrow\">DecisionTreeClassifier</label><div class=\"sk-toggleable__content\"><pre>DecisionTreeClassifier(max_depth=6)</pre></div></div></div></div></div>"
      ],
      "text/plain": [
       "DecisionTreeClassifier(max_depth=6)"
      ]
     },
     "execution_count": 171,
     "metadata": {},
     "output_type": "execute_result"
    }
   ],
   "source": [
    "model_dt = DecisionTreeClassifier(max_depth=6)\n",
    "model_dt.fit(X=training_date, y=target)"
   ]
  },
  {
   "cell_type": "code",
   "execution_count": 172,
   "metadata": {},
   "outputs": [
    {
     "data": {
      "text/plain": [
       "[Text(0.40922619047619047, 0.9285714285714286, 'x[0] <= 2.518\\ngini = 0.499\\nsamples = 9744\\nvalue = [5130, 4614]'),\n",
       " Text(0.1636904761904762, 0.7857142857142857, 'x[4] <= 3038400.0\\ngini = 0.488\\nsamples = 1701\\nvalue = [984, 717]'),\n",
       " Text(0.15178571428571427, 0.6428571428571429, 'gini = 0.0\\nsamples = 5\\nvalue = [0, 5]'),\n",
       " Text(0.17559523809523808, 0.6428571428571429, 'x[0] <= 0.344\\ngini = 0.487\\nsamples = 1696\\nvalue = [984, 712]'),\n",
       " Text(0.09523809523809523, 0.5, 'x[4] <= 47008800.0\\ngini = 0.461\\nsamples = 367\\nvalue = [235, 132]'),\n",
       " Text(0.047619047619047616, 0.35714285714285715, 'x[3] <= 0.101\\ngini = 0.49\\nsamples = 189\\nvalue = [108, 81]'),\n",
       " Text(0.023809523809523808, 0.21428571428571427, 'x[0] <= 0.099\\ngini = 0.331\\nsamples = 43\\nvalue = [34, 9]'),\n",
       " Text(0.011904761904761904, 0.07142857142857142, 'gini = 0.42\\nsamples = 30\\nvalue = [21, 9]'),\n",
       " Text(0.03571428571428571, 0.07142857142857142, 'gini = 0.0\\nsamples = 13\\nvalue = [13, 0]'),\n",
       " Text(0.07142857142857142, 0.21428571428571427, 'x[4] <= 21866400.0\\ngini = 0.5\\nsamples = 146\\nvalue = [74, 72]'),\n",
       " Text(0.05952380952380952, 0.07142857142857142, 'gini = 0.473\\nsamples = 78\\nvalue = [48, 30]'),\n",
       " Text(0.08333333333333333, 0.07142857142857142, 'gini = 0.472\\nsamples = 68\\nvalue = [26, 42]'),\n",
       " Text(0.14285714285714285, 0.35714285714285715, 'x[1] <= 0.106\\ngini = 0.409\\nsamples = 178\\nvalue = [127, 51]'),\n",
       " Text(0.11904761904761904, 0.21428571428571427, 'x[3] <= 0.098\\ngini = 0.444\\nsamples = 9\\nvalue = [3, 6]'),\n",
       " Text(0.10714285714285714, 0.07142857142857142, 'gini = 0.375\\nsamples = 4\\nvalue = [3, 1]'),\n",
       " Text(0.13095238095238096, 0.07142857142857142, 'gini = 0.0\\nsamples = 5\\nvalue = [0, 5]'),\n",
       " Text(0.16666666666666666, 0.21428571428571427, 'x[4] <= 55310400.0\\ngini = 0.391\\nsamples = 169\\nvalue = [124, 45]'),\n",
       " Text(0.15476190476190477, 0.07142857142857142, 'gini = 0.1\\nsamples = 19\\nvalue = [18, 1]'),\n",
       " Text(0.17857142857142858, 0.07142857142857142, 'gini = 0.415\\nsamples = 150\\nvalue = [106, 44]'),\n",
       " Text(0.25595238095238093, 0.5, 'x[0] <= 0.349\\ngini = 0.492\\nsamples = 1329\\nvalue = [749, 580]'),\n",
       " Text(0.2261904761904762, 0.35714285714285715, 'x[1] <= 0.362\\ngini = 0.457\\nsamples = 34\\nvalue = [12, 22]'),\n",
       " Text(0.21428571428571427, 0.21428571428571427, 'x[4] <= 80157600.0\\ngini = 0.43\\nsamples = 32\\nvalue = [10, 22]'),\n",
       " Text(0.20238095238095238, 0.07142857142857142, 'gini = 0.496\\nsamples = 22\\nvalue = [10, 12]'),\n",
       " Text(0.2261904761904762, 0.07142857142857142, 'gini = 0.0\\nsamples = 10\\nvalue = [0, 10]'),\n",
       " Text(0.23809523809523808, 0.21428571428571427, 'gini = 0.0\\nsamples = 2\\nvalue = [2, 0]'),\n",
       " Text(0.2857142857142857, 0.35714285714285715, 'x[3] <= 0.366\\ngini = 0.49\\nsamples = 1295\\nvalue = [737, 558]'),\n",
       " Text(0.2619047619047619, 0.21428571428571427, 'x[1] <= 0.379\\ngini = 0.44\\nsamples = 101\\nvalue = [68, 33]'),\n",
       " Text(0.25, 0.07142857142857142, 'gini = 0.427\\nsamples = 97\\nvalue = [67, 30]'),\n",
       " Text(0.27380952380952384, 0.07142857142857142, 'gini = 0.375\\nsamples = 4\\nvalue = [1, 3]'),\n",
       " Text(0.30952380952380953, 0.21428571428571427, 'x[0] <= 0.371\\ngini = 0.493\\nsamples = 1194\\nvalue = [669, 525]'),\n",
       " Text(0.2976190476190476, 0.07142857142857142, 'gini = 0.478\\nsamples = 43\\nvalue = [17, 26]'),\n",
       " Text(0.32142857142857145, 0.07142857142857142, 'gini = 0.491\\nsamples = 1151\\nvalue = [652, 499]'),\n",
       " Text(0.6547619047619048, 0.7857142857142857, 'x[4] <= 43766250.0\\ngini = 0.5\\nsamples = 8043\\nvalue = [4146, 3897]'),\n",
       " Text(0.4851190476190476, 0.6428571428571429, 'x[0] <= 2.686\\ngini = 0.498\\nsamples = 3503\\nvalue = [1872, 1631]'),\n",
       " Text(0.39880952380952384, 0.5, 'x[4] <= 34408000.0\\ngini = 0.467\\nsamples = 78\\nvalue = [29, 49]'),\n",
       " Text(0.36904761904761907, 0.35714285714285715, 'x[4] <= 31600000.0\\ngini = 0.312\\nsamples = 31\\nvalue = [6, 25]'),\n",
       " Text(0.35714285714285715, 0.21428571428571427, 'x[4] <= 31083200.0\\ngini = 0.386\\nsamples = 23\\nvalue = [6, 17]'),\n",
       " Text(0.34523809523809523, 0.07142857142857142, 'gini = 0.308\\nsamples = 21\\nvalue = [4, 17]'),\n",
       " Text(0.36904761904761907, 0.07142857142857142, 'gini = 0.0\\nsamples = 2\\nvalue = [2, 0]'),\n",
       " Text(0.38095238095238093, 0.21428571428571427, 'gini = 0.0\\nsamples = 8\\nvalue = [0, 8]'),\n",
       " Text(0.42857142857142855, 0.35714285714285715, 'x[4] <= 36488000.0\\ngini = 0.5\\nsamples = 47\\nvalue = [23, 24]'),\n",
       " Text(0.40476190476190477, 0.21428571428571427, 'x[3] <= 2.66\\ngini = 0.337\\nsamples = 14\\nvalue = [11, 3]'),\n",
       " Text(0.39285714285714285, 0.07142857142857142, 'gini = 0.26\\nsamples = 13\\nvalue = [11, 2]'),\n",
       " Text(0.4166666666666667, 0.07142857142857142, 'gini = 0.0\\nsamples = 1\\nvalue = [0, 1]'),\n",
       " Text(0.4523809523809524, 0.21428571428571427, 'x[1] <= 2.684\\ngini = 0.463\\nsamples = 33\\nvalue = [12, 21]'),\n",
       " Text(0.44047619047619047, 0.07142857142857142, 'gini = 0.494\\nsamples = 27\\nvalue = [12, 15]'),\n",
       " Text(0.4642857142857143, 0.07142857142857142, 'gini = 0.0\\nsamples = 6\\nvalue = [0, 6]'),\n",
       " Text(0.5714285714285714, 0.5, 'x[0] <= 233.525\\ngini = 0.497\\nsamples = 3425\\nvalue = [1843, 1582]'),\n",
       " Text(0.5238095238095238, 0.35714285714285715, 'x[1] <= 75.84\\ngini = 0.495\\nsamples = 2558\\nvalue = [1410, 1148]'),\n",
       " Text(0.5, 0.21428571428571427, 'x[0] <= 29.755\\ngini = 0.498\\nsamples = 1811\\nvalue = [959, 852]'),\n",
       " Text(0.4880952380952381, 0.07142857142857142, 'gini = 0.491\\nsamples = 632\\nvalue = [358, 274]'),\n",
       " Text(0.5119047619047619, 0.07142857142857142, 'gini = 0.5\\nsamples = 1179\\nvalue = [601, 578]'),\n",
       " Text(0.5476190476190477, 0.21428571428571427, 'x[4] <= 32676750.0\\ngini = 0.478\\nsamples = 747\\nvalue = [451, 296]'),\n",
       " Text(0.5357142857142857, 0.07142857142857142, 'gini = 0.489\\nsamples = 590\\nvalue = [339, 251]'),\n",
       " Text(0.5595238095238095, 0.07142857142857142, 'gini = 0.409\\nsamples = 157\\nvalue = [112, 45]'),\n",
       " Text(0.6190476190476191, 0.35714285714285715, 'x[4] <= 28805100.0\\ngini = 0.5\\nsamples = 867\\nvalue = [433, 434]'),\n",
       " Text(0.5952380952380952, 0.21428571428571427, 'x[4] <= 28273600.0\\ngini = 0.499\\nsamples = 661\\nvalue = [348, 313]'),\n",
       " Text(0.5833333333333334, 0.07142857142857142, 'gini = 0.499\\nsamples = 643\\nvalue = [333, 310]'),\n",
       " Text(0.6071428571428571, 0.07142857142857142, 'gini = 0.278\\nsamples = 18\\nvalue = [15, 3]'),\n",
       " Text(0.6428571428571429, 0.21428571428571427, 'x[4] <= 43268950.0\\ngini = 0.485\\nsamples = 206\\nvalue = [85, 121]'),\n",
       " Text(0.6309523809523809, 0.07142857142857142, 'gini = 0.48\\nsamples = 200\\nvalue = [80, 120]'),\n",
       " Text(0.6547619047619048, 0.07142857142857142, 'gini = 0.278\\nsamples = 6\\nvalue = [5, 1]'),\n",
       " Text(0.8244047619047619, 0.6428571428571429, 'x[0] <= 25.24\\ngini = 0.5\\nsamples = 4540\\nvalue = [2274, 2266]'),\n",
       " Text(0.7440476190476191, 0.5, 'x[2] <= 24.778\\ngini = 0.498\\nsamples = 1705\\nvalue = [902, 803]'),\n",
       " Text(0.7142857142857143, 0.35714285714285715, 'x[1] <= 24.765\\ngini = 0.499\\nsamples = 1621\\nvalue = [843, 778]'),\n",
       " Text(0.6904761904761905, 0.21428571428571427, 'x[3] <= 23.865\\ngini = 0.498\\nsamples = 1469\\nvalue = [779, 690]'),\n",
       " Text(0.6785714285714286, 0.07142857142857142, 'gini = 0.499\\nsamples = 1352\\nvalue = [702, 650]'),\n",
       " Text(0.7023809523809523, 0.07142857142857142, 'gini = 0.45\\nsamples = 117\\nvalue = [77, 40]'),\n",
       " Text(0.7380952380952381, 0.21428571428571427, 'x[3] <= 23.998\\ngini = 0.488\\nsamples = 152\\nvalue = [64, 88]'),\n",
       " Text(0.7261904761904762, 0.07142857142857142, 'gini = 0.219\\nsamples = 8\\nvalue = [7, 1]'),\n",
       " Text(0.75, 0.07142857142857142, 'gini = 0.478\\nsamples = 144\\nvalue = [57, 87]'),\n",
       " Text(0.7738095238095238, 0.35714285714285715, 'x[4] <= 52484750.0\\ngini = 0.418\\nsamples = 84\\nvalue = [59, 25]'),\n",
       " Text(0.7619047619047619, 0.21428571428571427, 'gini = 0.0\\nsamples = 11\\nvalue = [11, 0]'),\n",
       " Text(0.7857142857142857, 0.21428571428571427, 'x[3] <= 25.55\\ngini = 0.45\\nsamples = 73\\nvalue = [48, 25]'),\n",
       " Text(0.7738095238095238, 0.07142857142857142, 'gini = 0.477\\nsamples = 61\\nvalue = [37, 24]'),\n",
       " Text(0.7976190476190477, 0.07142857142857142, 'gini = 0.153\\nsamples = 12\\nvalue = [11, 1]'),\n",
       " Text(0.9047619047619048, 0.5, 'x[0] <= 25.382\\ngini = 0.499\\nsamples = 2835\\nvalue = [1372, 1463]'),\n",
       " Text(0.8571428571428571, 0.35714285714285715, 'x[4] <= 77302152.0\\ngini = 0.431\\nsamples = 54\\nvalue = [17, 37]'),\n",
       " Text(0.8333333333333334, 0.21428571428571427, 'x[1] <= 25.84\\ngini = 0.48\\nsamples = 40\\nvalue = [16, 24]'),\n",
       " Text(0.8214285714285714, 0.07142857142857142, 'gini = 0.456\\nsamples = 37\\nvalue = [13, 24]'),\n",
       " Text(0.8452380952380952, 0.07142857142857142, 'gini = 0.0\\nsamples = 3\\nvalue = [3, 0]'),\n",
       " Text(0.8809523809523809, 0.21428571428571427, 'x[3] <= 24.372\\ngini = 0.133\\nsamples = 14\\nvalue = [1, 13]'),\n",
       " Text(0.8690476190476191, 0.07142857142857142, 'gini = 0.5\\nsamples = 2\\nvalue = [1, 1]'),\n",
       " Text(0.8928571428571429, 0.07142857142857142, 'gini = 0.0\\nsamples = 12\\nvalue = [0, 12]'),\n",
       " Text(0.9523809523809523, 0.35714285714285715, 'x[4] <= 43915800.0\\ngini = 0.5\\nsamples = 2781\\nvalue = [1355, 1426]'),\n",
       " Text(0.9285714285714286, 0.21428571428571427, 'x[0] <= 31.29\\ngini = 0.332\\nsamples = 19\\nvalue = [4, 15]'),\n",
       " Text(0.9166666666666666, 0.07142857142857142, 'gini = 0.426\\nsamples = 13\\nvalue = [4, 9]'),\n",
       " Text(0.9404761904761905, 0.07142857142857142, 'gini = 0.0\\nsamples = 6\\nvalue = [0, 6]'),\n",
       " Text(0.9761904761904762, 0.21428571428571427, 'x[0] <= 25.415\\ngini = 0.5\\nsamples = 2762\\nvalue = [1351, 1411]'),\n",
       " Text(0.9642857142857143, 0.07142857142857142, 'gini = 0.278\\nsamples = 12\\nvalue = [10, 2]'),\n",
       " Text(0.9880952380952381, 0.07142857142857142, 'gini = 0.5\\nsamples = 2750\\nvalue = [1341, 1409]')]"
      ]
     },
     "execution_count": 172,
     "metadata": {},
     "output_type": "execute_result"
    },
    {
     "data": {
      "image/png": "[encoded data removed]",
      "text/plain": [
       "<Figure size 640x480 with 1 Axes>"
      ]
     },
     "metadata": {},
     "output_type": "display_data"
    }
   ],
   "source": [
    "from sklearn.tree import plot_tree\n",
    "plot_tree(decision_tree=model_dt)"
   ]
  },
  {
   "cell_type": "code",
   "execution_count": 175,
   "metadata": {},
   "outputs": [],
   "source": [
    "prediction = model_dt.predict(X=training_date)\n"
   ]
  },
  {
   "cell_type": "code",
   "execution_count": 176,
   "metadata": {},
   "outputs": [
    {
     "data": {
      "text/html": [
       "<div>\n",
       "<style scoped>\n",
       "    .dataframe tbody tr th:only-of-type {\n",
       "        vertical-align: middle;\n",
       "    }\n",
       "\n",
       "    .dataframe tbody tr th {\n",
       "        vertical-align: top;\n",
       "    }\n",
       "\n",
       "    .dataframe thead tr th {\n",
       "        text-align: left;\n",
       "    }\n",
       "</style>\n",
       "<table border=\"1\" class=\"dataframe\">\n",
       "  <thead>\n",
       "    <tr>\n",
       "      <th>Price</th>\n",
       "      <th>Close</th>\n",
       "      <th>High</th>\n",
       "      <th>Low</th>\n",
       "      <th>Open</th>\n",
       "      <th>Volume</th>\n",
       "      <th>change_tomorrow</th>\n",
       "      <th>change_tomorrow_direction</th>\n",
       "      <th>prediction</th>\n",
       "    </tr>\n",
       "    <tr>\n",
       "      <th>Ticker</th>\n",
       "      <th>MSFT</th>\n",
       "      <th>MSFT</th>\n",
       "      <th>MSFT</th>\n",
       "      <th>MSFT</th>\n",
       "      <th>MSFT</th>\n",
       "      <th></th>\n",
       "      <th></th>\n",
       "      <th></th>\n",
       "    </tr>\n",
       "  </thead>\n",
       "  <tbody>\n",
       "    <tr>\n",
       "      <th>2024-10-30</th>\n",
       "      <td>432.529999</td>\n",
       "      <td>438.500000</td>\n",
       "      <td>432.100006</td>\n",
       "      <td>437.440002</td>\n",
       "      <td>29749100</td>\n",
       "      <td>6.442720</td>\n",
       "      <td>1</td>\n",
       "      <td>1</td>\n",
       "    </tr>\n",
       "    <tr>\n",
       "      <th>2024-10-31</th>\n",
       "      <td>406.350006</td>\n",
       "      <td>416.160004</td>\n",
       "      <td>406.299988</td>\n",
       "      <td>415.359985</td>\n",
       "      <td>53971000</td>\n",
       "      <td>-0.979601</td>\n",
       "      <td>0</td>\n",
       "      <td>1</td>\n",
       "    </tr>\n",
       "    <tr>\n",
       "      <th>2024-11-01</th>\n",
       "      <td>410.369995</td>\n",
       "      <td>415.500000</td>\n",
       "      <td>407.500000</td>\n",
       "      <td>409.010010</td>\n",
       "      <td>24230400</td>\n",
       "      <td>0.467611</td>\n",
       "      <td>1</td>\n",
       "      <td>0</td>\n",
       "    </tr>\n",
       "    <tr>\n",
       "      <th>2024-11-04</th>\n",
       "      <td>408.459991</td>\n",
       "      <td>410.420013</td>\n",
       "      <td>405.570007</td>\n",
       "      <td>409.799988</td>\n",
       "      <td>19672300</td>\n",
       "      <td>-0.729111</td>\n",
       "      <td>0</td>\n",
       "      <td>0</td>\n",
       "    </tr>\n",
       "    <tr>\n",
       "      <th>2024-11-05</th>\n",
       "      <td>411.459991</td>\n",
       "      <td>414.899994</td>\n",
       "      <td>408.079987</td>\n",
       "      <td>408.369995</td>\n",
       "      <td>17626000</td>\n",
       "      <td>-2.075301</td>\n",
       "      <td>0</td>\n",
       "      <td>0</td>\n",
       "    </tr>\n",
       "    <tr>\n",
       "      <th>2024-11-06</th>\n",
       "      <td>420.179993</td>\n",
       "      <td>420.450012</td>\n",
       "      <td>410.519989</td>\n",
       "      <td>412.420013</td>\n",
       "      <td>26681800</td>\n",
       "      <td>-1.234046</td>\n",
       "      <td>0</td>\n",
       "      <td>0</td>\n",
       "    </tr>\n",
       "    <tr>\n",
       "      <th>2024-11-07</th>\n",
       "      <td>425.429993</td>\n",
       "      <td>426.850006</td>\n",
       "      <td>419.880005</td>\n",
       "      <td>421.279999</td>\n",
       "      <td>19901800</td>\n",
       "      <td>0.683955</td>\n",
       "      <td>1</td>\n",
       "      <td>0</td>\n",
       "    </tr>\n",
       "    <tr>\n",
       "      <th>2024-11-08</th>\n",
       "      <td>422.540009</td>\n",
       "      <td>426.500000</td>\n",
       "      <td>421.779999</td>\n",
       "      <td>425.320007</td>\n",
       "      <td>16891400</td>\n",
       "      <td>1.083706</td>\n",
       "      <td>1</td>\n",
       "      <td>0</td>\n",
       "    </tr>\n",
       "  </tbody>\n",
       "</table>\n",
       "</div>"
      ],
      "text/plain": [
       "Price            Close        High         Low        Open    Volume  \\\n",
       "Ticker            MSFT        MSFT        MSFT        MSFT      MSFT   \n",
       "2024-10-30  432.529999  438.500000  432.100006  437.440002  29749100   \n",
       "2024-10-31  406.350006  416.160004  406.299988  415.359985  53971000   \n",
       "2024-11-01  410.369995  415.500000  407.500000  409.010010  24230400   \n",
       "2024-11-04  408.459991  410.420013  405.570007  409.799988  19672300   \n",
       "2024-11-05  411.459991  414.899994  408.079987  408.369995  17626000   \n",
       "2024-11-06  420.179993  420.450012  410.519989  412.420013  26681800   \n",
       "2024-11-07  425.429993  426.850006  419.880005  421.279999  19901800   \n",
       "2024-11-08  422.540009  426.500000  421.779999  425.320007  16891400   \n",
       "\n",
       "Price      change_tomorrow change_tomorrow_direction prediction  \n",
       "Ticker                                                           \n",
       "2024-10-30        6.442720                         1          1  \n",
       "2024-10-31       -0.979601                         0          1  \n",
       "2024-11-01        0.467611                         1          0  \n",
       "2024-11-04       -0.729111                         0          0  \n",
       "2024-11-05       -2.075301                         0          0  \n",
       "2024-11-06       -1.234046                         0          0  \n",
       "2024-11-07        0.683955                         1          0  \n",
       "2024-11-08        1.083706                         1          0  "
      ]
     },
     "execution_count": 176,
     "metadata": {},
     "output_type": "execute_result"
    }
   ],
   "source": [
    "df[\"prediction\"]=prediction\n",
    "df.tail(8)\n"
   ]
  },
  {
   "cell_type": "code",
   "execution_count": 177,
   "metadata": {},
   "outputs": [
    {
     "data": {
      "text/plain": [
       "0.5523399014778325"
      ]
     },
     "execution_count": 177,
     "metadata": {},
     "output_type": "execute_result"
    }
   ],
   "source": [
    "correct_prediction = df.prediction == df.change_tomorrow_direction\n",
    "correct_prediction.sum()/len(correct_prediction)"
   ]
  },
  {
   "cell_type": "markdown",
   "metadata": {},
   "source": [
    "## Now let's work with test and training sets"
   ]
  },
  {
   "cell_type": "code",
   "execution_count": 178,
   "metadata": {},
   "outputs": [],
   "source": [
    "from sklearn.model_selection import train_test_split\n"
   ]
  },
  {
   "cell_type": "code",
   "execution_count": 179,
   "metadata": {},
   "outputs": [],
   "source": [
    "X = df.drop(columns=[\"change_tomorrow\",\"change_tomorrow_direction\",\"prediction\"])\n",
    "y = df.change_tomorrow_direction"
   ]
  },
  {
   "cell_type": "code",
   "execution_count": 180,
   "metadata": {},
   "outputs": [
    {
     "name": "stdout",
     "output_type": "stream",
     "text": [
      "8769\n",
      "975\n",
      "8769\n",
      "975\n"
     ]
    }
   ],
   "source": [
    "X_train, X_test, y_train, y_test = train_test_split(X, y, test_size=0.1)\n",
    "print(len(X_train))\n",
    "print(len(X_test))\n",
    "print(len(y_train))\n",
    "print(len(y_test))"
   ]
  },
  {
   "cell_type": "code",
   "execution_count": 181,
   "metadata": {},
   "outputs": [
    {
     "data": {
      "text/html": [
       "<style>#sk-container-id-12 {color: black;}#sk-container-id-12 pre{padding: 0;}#sk-container-id-12 div.sk-toggleable {background-color: white;}#sk-container-id-12 label.sk-toggleable__label {cursor: pointer;display: block;width: 100%;margin-bottom: 0;padding: 0.3em;box-sizing: border-box;text-align: center;}#sk-container-id-12 label.sk-toggleable__label-arrow:before {content: \"▸\";float: left;margin-right: 0.25em;color: #696969;}#sk-container-id-12 label.sk-toggleable__label-arrow:hover:before {color: black;}#sk-container-id-12 div.sk-estimator:hover label.sk-toggleable__label-arrow:before {color: black;}#sk-container-id-12 div.sk-toggleable__content {max-height: 0;max-width: 0;overflow: hidden;text-align: left;background-color: #f0f8ff;}#sk-container-id-12 div.sk-toggleable__content pre {margin: 0.2em;color: black;border-radius: 0.25em;background-color: #f0f8ff;}#sk-container-id-12 input.sk-toggleable__control:checked~div.sk-toggleable__content {max-height: 200px;max-width: 100%;overflow: auto;}#sk-container-id-12 input.sk-toggleable__control:checked~label.sk-toggleable__label-arrow:before {content: \"▾\";}#sk-container-id-12 div.sk-estimator input.sk-toggleable__control:checked~label.sk-toggleable__label {background-color: #d4ebff;}#sk-container-id-12 div.sk-label input.sk-toggleable__control:checked~label.sk-toggleable__label {background-color: #d4ebff;}#sk-container-id-12 input.sk-hidden--visually {border: 0;clip: rect(1px 1px 1px 1px);clip: rect(1px, 1px, 1px, 1px);height: 1px;margin: -1px;overflow: hidden;padding: 0;position: absolute;width: 1px;}#sk-container-id-12 div.sk-estimator {font-family: monospace;background-color: #f0f8ff;border: 1px dotted black;border-radius: 0.25em;box-sizing: border-box;margin-bottom: 0.5em;}#sk-container-id-12 div.sk-estimator:hover {background-color: #d4ebff;}#sk-container-id-12 div.sk-parallel-item::after {content: \"\";width: 100%;border-bottom: 1px solid gray;flex-grow: 1;}#sk-container-id-12 div.sk-label:hover label.sk-toggleable__label {background-color: #d4ebff;}#sk-container-id-12 div.sk-serial::before {content: \"\";position: absolute;border-left: 1px solid gray;box-sizing: border-box;top: 0;bottom: 0;left: 50%;z-index: 0;}#sk-container-id-12 div.sk-serial {display: flex;flex-direction: column;align-items: center;background-color: white;padding-right: 0.2em;padding-left: 0.2em;position: relative;}#sk-container-id-12 div.sk-item {position: relative;z-index: 1;}#sk-container-id-12 div.sk-parallel {display: flex;align-items: stretch;justify-content: center;background-color: white;position: relative;}#sk-container-id-12 div.sk-item::before, #sk-container-id-12 div.sk-parallel-item::before {content: \"\";position: absolute;border-left: 1px solid gray;box-sizing: border-box;top: 0;bottom: 0;left: 50%;z-index: -1;}#sk-container-id-12 div.sk-parallel-item {display: flex;flex-direction: column;z-index: 1;position: relative;background-color: white;}#sk-container-id-12 div.sk-parallel-item:first-child::after {align-self: flex-end;width: 50%;}#sk-container-id-12 div.sk-parallel-item:last-child::after {align-self: flex-start;width: 50%;}#sk-container-id-12 div.sk-parallel-item:only-child::after {width: 0;}#sk-container-id-12 div.sk-dashed-wrapped {border: 1px dashed gray;margin: 0 0.4em 0.5em 0.4em;box-sizing: border-box;padding-bottom: 0.4em;background-color: white;}#sk-container-id-12 div.sk-label label {font-family: monospace;font-weight: bold;display: inline-block;line-height: 1.2em;}#sk-container-id-12 div.sk-label-container {text-align: center;}#sk-container-id-12 div.sk-container {/* jupyter's `normalize.less` sets `[hidden] { display: none; }` but bootstrap.min.css set `[hidden] { display: none !important; }` so we also need the `!important` here to be able to override the default hidden behavior on the sphinx rendered scikit-learn.org. See: https://github.com/scikit-learn/scikit-learn/issues/21755 */display: inline-block !important;position: relative;}#sk-container-id-12 div.sk-text-repr-fallback {display: none;}</style><div id=\"sk-container-id-12\" class=\"sk-top-container\"><div class=\"sk-text-repr-fallback\"><pre>DecisionTreeClassifier(max_depth=1)</pre><b>In a Jupyter environment, please rerun this cell to show the HTML representation or trust the notebook. <br />On GitHub, the HTML representation is unable to render, please try loading this page with nbviewer.org.</b></div><div class=\"sk-container\" hidden><div class=\"sk-item\"><div class=\"sk-estimator sk-toggleable\"><input class=\"sk-toggleable__control sk-hidden--visually\" id=\"sk-estimator-id-12\" type=\"checkbox\" checked><label for=\"sk-estimator-id-12\" class=\"sk-toggleable__label sk-toggleable__label-arrow\">DecisionTreeClassifier</label><div class=\"sk-toggleable__content\"><pre>DecisionTreeClassifier(max_depth=1)</pre></div></div></div></div></div>"
      ],
      "text/plain": [
       "DecisionTreeClassifier(max_depth=1)"
      ]
     },
     "execution_count": 181,
     "metadata": {},
     "output_type": "execute_result"
    }
   ],
   "source": [
    "model_dt_2 = DecisionTreeClassifier(max_depth=1)\n",
    "model_dt_2.fit(X=X_train,y=y_train)\n"
   ]
  },
  {
   "cell_type": "code",
   "execution_count": 182,
   "metadata": {},
   "outputs": [
    {
     "name": "stdout",
     "output_type": "stream",
     "text": [
      "0.5263998175390581\n"
     ]
    }
   ],
   "source": [
    "train_prediction = model_dt_2.predict(X_train)\n",
    "correct = train_prediction==y_train\n",
    "print(correct.sum()/len(correct))"
   ]
  },
  {
   "cell_type": "code",
   "execution_count": 183,
   "metadata": {},
   "outputs": [
    {
     "name": "stdout",
     "output_type": "stream",
     "text": [
      "0.5271794871794871\n"
     ]
    }
   ],
   "source": [
    "test_prediction = model_dt_2.predict(X_test)\n",
    "correct = test_prediction==y_test\n",
    "print(correct.sum()/len(correct))"
   ]
  },
  {
   "cell_type": "code",
   "execution_count": 184,
   "metadata": {},
   "outputs": [
    {
     "data": {
      "text/plain": [
       "[Text(0.5, 0.75, 'x[0] <= 2.518\\ngini = 0.499\\nsamples = 8769\\nvalue = [4616, 4153]'),\n",
       " Text(0.25, 0.25, 'gini = 0.486\\nsamples = 1514\\nvalue = [885, 629]'),\n",
       " Text(0.75, 0.25, 'gini = 0.5\\nsamples = 7255\\nvalue = [3731, 3524]')]"
      ]
     },
     "execution_count": 184,
     "metadata": {},
     "output_type": "execute_result"
    },
    {
     "data": {
      "image/png": "[encoded data removed]",
      "text/plain": [
       "<Figure size 640x480 with 1 Axes>"
      ]
     },
     "metadata": {},
     "output_type": "display_data"
    }
   ],
   "source": [
    "plot_tree(decision_tree=model_dt_2)"
   ]
  },
  {
   "cell_type": "markdown",
   "metadata": {},
   "source": [
    "## Can I set up a neural network?"
   ]
  },
  {
   "cell_type": "markdown",
   "metadata": {},
   "source": []
  },
  {
   "cell_type": "code",
   "execution_count": 187,
   "metadata": {},
   "outputs": [],
   "source": [
    "import tensorflow as tf\n",
    "from tensorflow import keras\n"
   ]
  },
  {
   "cell_type": "code",
   "execution_count": 208,
   "metadata": {},
   "outputs": [],
   "source": [
    "model_nn = keras.Sequential([\n",
    "    keras.layers.Dense(64, activation='relu', input_shape=(X_train.shape[1],)),\n",
    "    keras.layers.Dense(48, activation='relu'),\n",
    "    keras.layers.Dense(128, activation='relu'),\n",
    "    keras.layers.Dense(32, activation='relu'),\n",
    "    keras.layers.Dense(16, activation='relu'),\n",
    "    keras.layers.Dense(1, activation='sigmoid')\n",
    "])\n"
   ]
  },
  {
   "cell_type": "code",
   "execution_count": 209,
   "metadata": {},
   "outputs": [],
   "source": [
    "model_nn.compile(optimizer='adam', loss='binary_crossentropy', metrics=['accuracy'])\n"
   ]
  },
  {
   "cell_type": "code",
   "execution_count": 210,
   "metadata": {},
   "outputs": [
    {
     "name": "stdout",
     "output_type": "stream",
     "text": [
      "Epoch 1/30\n",
      "275/275 [==============================] - 2s 4ms/step - loss: 43639.9766 - accuracy: 0.5050 - val_loss: 25538.4414 - val_accuracy: 0.5272\n",
      "Epoch 2/30\n",
      "275/275 [==============================] - 1s 3ms/step - loss: 14964.4854 - accuracy: 0.5072 - val_loss: 35606.3164 - val_accuracy: 0.5272\n",
      "Epoch 3/30\n",
      "275/275 [==============================] - 1s 3ms/step - loss: 12124.7090 - accuracy: 0.5052 - val_loss: 4797.0840 - val_accuracy: 0.5272\n",
      "Epoch 4/30\n",
      "275/275 [==============================] - 1s 3ms/step - loss: 5684.7720 - accuracy: 0.5103 - val_loss: 6764.8511 - val_accuracy: 0.4728\n",
      "Epoch 5/30\n",
      "275/275 [==============================] - 1s 3ms/step - loss: 3651.7285 - accuracy: 0.5079 - val_loss: 686.6920 - val_accuracy: 0.4728\n",
      "Epoch 6/30\n",
      "275/275 [==============================] - 1s 3ms/step - loss: 2300.3933 - accuracy: 0.5074 - val_loss: 3719.7700 - val_accuracy: 0.4728\n",
      "Epoch 7/30\n",
      "275/275 [==============================] - 1s 3ms/step - loss: 2018.9904 - accuracy: 0.5009 - val_loss: 291.9815 - val_accuracy: 0.5272\n",
      "Epoch 8/30\n",
      "275/275 [==============================] - 1s 3ms/step - loss: 872.4437 - accuracy: 0.5093 - val_loss: 758.7180 - val_accuracy: 0.5272\n",
      "Epoch 9/30\n",
      "275/275 [==============================] - 1s 3ms/step - loss: 1158.1996 - accuracy: 0.4907 - val_loss: 272.0366 - val_accuracy: 0.4728\n",
      "Epoch 10/30\n",
      "275/275 [==============================] - 1s 3ms/step - loss: 1099.7406 - accuracy: 0.5004 - val_loss: 249.7757 - val_accuracy: 0.5272\n",
      "Epoch 11/30\n",
      "275/275 [==============================] - 1s 3ms/step - loss: 482.1959 - accuracy: 0.5082 - val_loss: 102.8410 - val_accuracy: 0.4728\n",
      "Epoch 12/30\n",
      "275/275 [==============================] - 1s 3ms/step - loss: 94.3640 - accuracy: 0.4945 - val_loss: 945.0779 - val_accuracy: 0.4728\n",
      "Epoch 13/30\n",
      "275/275 [==============================] - 1s 3ms/step - loss: 1504.1777 - accuracy: 0.4960 - val_loss: 153.2888 - val_accuracy: 0.4728\n",
      "Epoch 14/30\n",
      "275/275 [==============================] - 1s 3ms/step - loss: 91.6162 - accuracy: 0.5085 - val_loss: 13.8258 - val_accuracy: 0.5272\n",
      "Epoch 15/30\n",
      "275/275 [==============================] - 1s 3ms/step - loss: 1.9538 - accuracy: 0.5216 - val_loss: 0.6924 - val_accuracy: 0.5272\n",
      "Epoch 16/30\n",
      "275/275 [==============================] - 1s 3ms/step - loss: 0.6922 - accuracy: 0.5264 - val_loss: 0.6921 - val_accuracy: 0.5272\n",
      "Epoch 17/30\n",
      "275/275 [==============================] - 1s 3ms/step - loss: 0.6920 - accuracy: 0.5264 - val_loss: 0.6918 - val_accuracy: 0.5272\n",
      "Epoch 18/30\n",
      "275/275 [==============================] - 1s 3ms/step - loss: 0.6918 - accuracy: 0.5264 - val_loss: 0.6917 - val_accuracy: 0.5272\n",
      "Epoch 19/30\n",
      "275/275 [==============================] - 1s 3ms/step - loss: 0.6918 - accuracy: 0.5264 - val_loss: 0.6917 - val_accuracy: 0.5272\n",
      "Epoch 20/30\n",
      "275/275 [==============================] - 1s 3ms/step - loss: 0.6918 - accuracy: 0.5264 - val_loss: 0.6917 - val_accuracy: 0.5272\n",
      "Epoch 21/30\n",
      "275/275 [==============================] - 1s 3ms/step - loss: 0.6918 - accuracy: 0.5264 - val_loss: 0.6917 - val_accuracy: 0.5272\n",
      "Epoch 22/30\n",
      "275/275 [==============================] - 1s 3ms/step - loss: 0.6918 - accuracy: 0.5264 - val_loss: 0.6917 - val_accuracy: 0.5272\n",
      "Epoch 23/30\n",
      "275/275 [==============================] - 1s 3ms/step - loss: 0.6918 - accuracy: 0.5264 - val_loss: 0.6917 - val_accuracy: 0.5272\n",
      "Epoch 24/30\n",
      "275/275 [==============================] - 1s 3ms/step - loss: 0.6918 - accuracy: 0.5264 - val_loss: 0.6917 - val_accuracy: 0.5272\n",
      "Epoch 25/30\n",
      "275/275 [==============================] - 1s 3ms/step - loss: 0.6918 - accuracy: 0.5264 - val_loss: 0.6917 - val_accuracy: 0.5272\n",
      "Epoch 26/30\n",
      "275/275 [==============================] - 1s 3ms/step - loss: 0.6918 - accuracy: 0.5264 - val_loss: 0.6917 - val_accuracy: 0.5272\n",
      "Epoch 27/30\n",
      "275/275 [==============================] - 1s 3ms/step - loss: 0.6918 - accuracy: 0.5264 - val_loss: 0.6917 - val_accuracy: 0.5272\n",
      "Epoch 28/30\n",
      "275/275 [==============================] - 1s 3ms/step - loss: 0.6918 - accuracy: 0.5264 - val_loss: 0.6917 - val_accuracy: 0.5272\n",
      "Epoch 29/30\n",
      "275/275 [==============================] - 1s 3ms/step - loss: 0.6918 - accuracy: 0.5264 - val_loss: 0.6917 - val_accuracy: 0.5272\n",
      "Epoch 30/30\n",
      "275/275 [==============================] - 1s 4ms/step - loss: 0.6918 - accuracy: 0.5264 - val_loss: 0.6917 - val_accuracy: 0.5272\n"
     ]
    },
    {
     "data": {
      "text/plain": [
       "<keras.src.callbacks.History at 0x7ffa977364f0>"
      ]
     },
     "execution_count": 210,
     "metadata": {},
     "output_type": "execute_result"
    }
   ],
   "source": [
    "model_nn.fit(X_train, y_train, epochs=30, batch_size=32, validation_data=(X_test, y_test))\n"
   ]
  },
  {
   "cell_type": "code",
   "execution_count": 212,
   "metadata": {},
   "outputs": [
    {
     "name": "stdout",
     "output_type": "stream",
     "text": [
      "275/275 [==============================] - 1s 3ms/step - loss: 0.6918 - accuracy: 0.5264\n",
      "31/31 [==============================] - 0s 3ms/step - loss: 0.6917 - accuracy: 0.5272\n",
      "Train accuracy: 0.5263997912406921\n",
      "Test accuracy: 0.527179479598999\n"
     ]
    }
   ],
   "source": [
    "train_loss, train_accuracy = model_nn.evaluate(X_train, y_train)\n",
    "test_loss, test_accuracy = model_nn.evaluate(X_test, y_test)\n",
    "print(f'Train accuracy: {train_accuracy}')\n",
    "print(f'Test accuracy: {test_accuracy}')\n"
   ]
  },
  {
   "cell_type": "code",
   "execution_count": null,
   "metadata": {},
   "outputs": [],
   "source": []
  }
 ],
 "metadata": {
  "kernelspec": {
   "display_name": "venv",
   "language": "python",
   "name": "python3"
  },
  "language_info": {
   "codemirror_mode": {
    "name": "ipython",
    "version": 3
   },
   "file_extension": ".py",
   "mimetype": "text/x-python",
   "name": "python",
   "nbconvert_exporter": "python",
   "pygments_lexer": "ipython3",
   "version": "3.8.10"
  }
 },
 "nbformat": 4,
 "nbformat_minor": 2
}
